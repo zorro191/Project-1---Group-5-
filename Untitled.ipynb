{
 "cells": [
  {
   "cell_type": "code",
   "execution_count": 1,
   "metadata": {},
   "outputs": [],
   "source": [
    "%matplotlib notebook"
   ]
  },
  {
   "cell_type": "code",
   "execution_count": null,
   "metadata": {},
   "outputs": [],
   "source": [
    "# Dependencies and Setup\n",
    "import matplotlib.pyplot as plt\n",
    "import pandas as pd\n",
    "import numpy as np\n",
    "from iso3166 import countries\n",
    "import plotly.express as px\n",
    "import plotly.graph_objects as go\n"
   ]
  },
  {
   "cell_type": "code",
   "execution_count": null,
   "metadata": {},
   "outputs": [],
   "source": [
    "#read \n",
    "job_postings = pd.read_csv('Resources/job_postings.csv')\n",
    "job_postings.head()"
   ]
  },
  {
   "cell_type": "code",
   "execution_count": null,
   "metadata": {},
   "outputs": [],
   "source": [
    "#verify that columns and rows \n",
    "job_postings.shape"
   ]
  },
  {
   "cell_type": "code",
   "execution_count": null,
   "metadata": {},
   "outputs": [],
   "source": [
    "#drop if the job posting is fraudulent\n",
    "#job_postings = job_postings[~job_postings['fraudulent'].isin(['1'])]\n",
    "#job_postings.head()"
   ]
  },
  {
   "cell_type": "code",
   "execution_count": null,
   "metadata": {},
   "outputs": [],
   "source": [
    "#verify that fraudulent data has been dropped\n",
    "job_postings.shape"
   ]
  },
  {
   "cell_type": "code",
   "execution_count": null,
   "metadata": {},
   "outputs": [],
   "source": [
    "# dropping null value rows in location to avoid errors \n",
    "job_postings = job_postings[pd.notnull(job_postings['location'])]\n",
    "\n",
    "#verify that null data has been dropped\n",
    "job_postings.shape\n"
   ]
  },
  {
   "cell_type": "code",
   "execution_count": null,
   "metadata": {},
   "outputs": [],
   "source": [
    "# new data frame with split value columns \n",
    "df2 = job_postings[\"location\"].str.split(\" \", n = 2, expand = True) \n",
    "df2.head"
   ]
  },
  {
   "cell_type": "code",
   "execution_count": null,
   "metadata": {},
   "outputs": [],
   "source": [
    "#display names of new columns\n",
    "list(df2.columns) \n",
    "df2"
   ]
  },
  {
   "cell_type": "code",
   "execution_count": null,
   "metadata": {},
   "outputs": [],
   "source": [
    "# change names of new columns\n",
    "df2.rename(columns={0:\"Country\", 1:\"State\", 2:\"City\"}, inplace=True)"
   ]
  },
  {
   "cell_type": "code",
   "execution_count": null,
   "metadata": {},
   "outputs": [],
   "source": [
    "# add columns from df2 to the job postings data \n",
    "job_postings['City'], job_postings['State'], job_postings['Country'] = df2['City'], df2['State'], df2['Country']\n",
    "job_postings"
   ]
  },
  {
   "cell_type": "code",
   "execution_count": null,
   "metadata": {},
   "outputs": [],
   "source": [
    "# drop the location column \n",
    "job_postings.drop('location', axis=1, inplace=True)"
   ]
  },
  {
   "cell_type": "code",
   "execution_count": null,
   "metadata": {},
   "outputs": [],
   "source": [
    "job_postings.columns\n"
   ]
  },
  {
   "cell_type": "code",
   "execution_count": null,
   "metadata": {
    "scrolled": true
   },
   "outputs": [],
   "source": [
    "job_postings[(job_postings.Country == \"US\")]\n"
   ]
  },
  {
   "cell_type": "code",
   "execution_count": null,
   "metadata": {
    "scrolled": true
   },
   "outputs": [],
   "source": [
    "state_fraud = job_postings[(job_postings.Country.isin([\"US\", \"US,\"])) & (job_postings.State.isin([\"NY,\", \"CA,\", \"TX,\"]))][[\"fraudulent\", \"State\", \"City\"]]"
   ]
  },
  {
   "cell_type": "code",
   "execution_count": null,
   "metadata": {},
   "outputs": [],
   "source": [
    "job_postings.Country.value_counts()"
   ]
  },
  {
   "cell_type": "code",
   "execution_count": null,
   "metadata": {},
   "outputs": [],
   "source": []
  },
  {
   "cell_type": "code",
   "execution_count": null,
   "metadata": {},
   "outputs": [],
   "source": [
    "state_fraud_counts = pd.DataFrame(state_fraud.groupby([\"State\", \"fraudulent\"]).count())\n",
    "state_fraud_counts.reset_index(inplace = True)\n",
    "state_fraud_counts.columns = [\"State\", \"Fraudulent\", \"Count\"]\n",
    "state_fraud_counts"
   ]
  },
  {
   "cell_type": "code",
   "execution_count": null,
   "metadata": {},
   "outputs": [],
   "source": [
    "labels = state_fraud_counts.State.unique() \n",
    "fraud_counts = state_fraud_counts[state_fraud_counts.Fraudulent == 1][\"Count\"]\n",
    "valid_counts = state_fraud_counts[state_fraud_counts.Fraudulent == 0][\"Count\"]\n",
    "print(labels)\n",
    "print(fraud_Counts)\n",
    "print(valid_counts)"
   ]
  },
  {
   "cell_type": "code",
   "execution_count": null,
   "metadata": {},
   "outputs": [],
   "source": [
    "N = 3\n",
    "#menMeans = (1908, 1191, 823)\n",
    "#womenMeans = (143, 68, 152)\n",
    "menMeans = (valid_counts)\n",
    "womenMeans = (fraud_counts)\n",
    "\n",
    "ind = np.arange(N)    # the x locations for the groups\n",
    "width = 0.35       # the width of the bars: can also be len(x) sequence\n",
    "\n",
    "p1 = plt.bar(ind, menMeans, width,)\n",
    "p2 = plt.bar(ind, womenMeans, width,\n",
    "             bottom=menMeans,)\n",
    "\n",
    "plt.ylabel('Jobs')\n",
    "plt.title('Jobs by state')\n",
    "plt.xticks(ind, ('CA', 'NY', 'TX'))\n",
    "plt.yticks(np.arange(0, 2200, 200))\n",
    "plt.legend((p1[0], p2[0]), ('Real', 'Fraudulent'))\n",
    "\n",
    "plt.show()"
   ]
  },
  {
   "cell_type": "code",
   "execution_count": null,
   "metadata": {},
   "outputs": [],
   "source": []
  },
  {
   "cell_type": "code",
   "execution_count": null,
   "metadata": {},
   "outputs": [],
   "source": [
    "# remove underscores from columns\n",
    "job_postings.columns = job_postings.columns.str.replace('_', ' ')\n",
    "# uppercase all columns titles\n",
    "job_postings.columns = job_postings.columns.str.upper()\n",
    "job_postings"
   ]
  },
  {
   "cell_type": "code",
   "execution_count": null,
   "metadata": {},
   "outputs": [],
   "source": [
    "# remove , in the Country and State columns\n",
    "job_postings['COUNTRY'] = job_postings['COUNTRY'].str.replace(',', '').astype(str)\n",
    "job_postings['STATE'] = job_postings['STATE'].str.replace(',', '').astype(str)\n",
    "job_postings"
   ]
  },
  {
   "cell_type": "code",
   "execution_count": null,
   "metadata": {},
   "outputs": [],
   "source": [
    "# counting all the nans in each column\n",
    "job_postings.isnull().sum(axis = 0)"
   ]
  },
  {
   "cell_type": "code",
   "execution_count": null,
   "metadata": {},
   "outputs": [],
   "source": [
    "# save dataframe csv file with no index to folder jupyter notebook is working out of\n",
    "job_postings.to_csv('job_postings_clean.csv', index = False)"
   ]
  },
  {
   "cell_type": "code",
   "execution_count": null,
   "metadata": {},
   "outputs": [],
   "source": [
    "#count = job_postings.groupby(['COUNTRY']).count()\n",
    "country_groupby = job_postings.groupby(\"COUNTRY\")\n",
    "country_list = country_groupby[\"COUNTRY\"].first()\n"
   ]
  },
  {
   "cell_type": "code",
   "execution_count": null,
   "metadata": {},
   "outputs": [],
   "source": [
    "country_groups = country_groupby.groups\n",
    "\n",
    "country_counts = []\n",
    "\n",
    "for i in country_list:\n",
    "    country_counts.append(len(country_groups[i]))\n",
    "    "
   ]
  },
  {
   "cell_type": "code",
   "execution_count": null,
   "metadata": {},
   "outputs": [],
   "source": [
    "country_job_df = pd.DataFrame({\"Country\": country_list, \"Job Count\": country_counts})"
   ]
  },
  {
   "cell_type": "code",
   "execution_count": null,
   "metadata": {},
   "outputs": [],
   "source": [
    "country_job_df"
   ]
  },
  {
   "cell_type": "code",
   "execution_count": null,
   "metadata": {},
   "outputs": [],
   "source": [
    "countries.get('us')\n",
    "three_letters_list = []\n",
    "country_name = []\n",
    "for i in country_job_df['Country']:\n",
    "    three_letters_list.append(countries.get(i)[2])\n",
    "    country_name.append(countries.get(i)[0])\n",
    "    \n"
   ]
  },
  {
   "cell_type": "code",
   "execution_count": null,
   "metadata": {
    "scrolled": true
   },
   "outputs": [],
   "source": [
    "country_job_df[\"three letter country\"] = three_letters_list\n",
    "country_job_df[\"country name\"] = country_name\n",
    "country_job_df"
   ]
  },
  {
   "cell_type": "code",
   "execution_count": null,
   "metadata": {
    "scrolled": false
   },
   "outputs": [],
   "source": [
    "\n",
    "fig = px.choropleth(country_job_df, locations=\"three letter country\",\n",
    "                    color=\"Job Count\", # lifeExp is a column of gapminder\n",
    "                    hover_name=\"country name\", # column to add to hover information\n",
    "                    color_continuous_scale=px.colors.sequential.Aggrnyl)\n",
    "fig.show()"
   ]
  },
  {
   "cell_type": "code",
   "execution_count": null,
   "metadata": {},
   "outputs": [],
   "source": [
    "df2"
   ]
  },
  {
   "cell_type": "code",
   "execution_count": null,
   "metadata": {},
   "outputs": [],
   "source": [
    "us_df = df2[df2[\"Country\"] == \"US,\"]\n",
    "us_df"
   ]
  },
  {
   "cell_type": "code",
   "execution_count": null,
   "metadata": {},
   "outputs": [],
   "source": [
    "us_df['Country'] = us_df['Country'].str.replace(',', '').astype(str)\n",
    "us_df['State'] = us_df['State'].str.replace(',', '').astype(str)\n",
    "us_df"
   ]
  },
  {
   "cell_type": "code",
   "execution_count": null,
   "metadata": {},
   "outputs": [],
   "source": [
    "us_groupby = us_df.groupby(\"State\")\n",
    "us_list = us_groupby[\"State\"].first()\n",
    "us_list"
   ]
  },
  {
   "cell_type": "code",
   "execution_count": null,
   "metadata": {},
   "outputs": [],
   "source": [
    "state_groups = us_groupby.groups\n",
    "\n",
    "state_counts = []\n",
    "\n",
    "for i in us_list:\n",
    "    state_counts.append(len(state_groups[i]))\n",
    "state_counts\n",
    "    "
   ]
  },
  {
   "cell_type": "code",
   "execution_count": null,
   "metadata": {},
   "outputs": [],
   "source": [
    "state_counts_df = pd.DataFrame({\"States\":us_list,\"Job Count\":state_counts})\n",
    "us_df = df2[df2[\"Country\"] == \"US,\"]\n",
    "us_df"
   ]
  },
  {
   "cell_type": "code",
   "execution_count": null,
   "metadata": {
    "scrolled": false
   },
   "outputs": [],
   "source": [
    "fig = go.Figure(data=go.Choropleth(\n",
    "    locations=state_counts_df['States'], # Spatial coordinates\n",
    "    z = state_counts_df['Job Count'].astype(float), # Data to be color-coded\n",
    "    locationmode = 'USA-states', # set of locations match entries in `locations`\n",
    "    colorscale = 'greens',\n",
    "    colorbar_title = \"Job Count\",\n",
    "))\n",
    "\n",
    "fig.update_layout(\n",
    "    title_text = 'Jobs Per State',\n",
    "    geo_scope='usa', # limite map scope to USA\n",
    ")\n",
    "\n",
    "fig.show()"
   ]
  },
  {
   "cell_type": "code",
   "execution_count": null,
   "metadata": {},
   "outputs": [],
   "source": [
    "ca_count = state_counts_df[state_counts_df['States'] == \"CA\"]['Job Count'][0]\n",
    "tx_count = state_counts_df[state_counts_df['States'] == \"TX\"]['Job Count'][0]\n",
    "ny_count = state_counts_df[state_counts_df['States'] == \"NY\"]['Job Count'][0]\n"
   ]
  },
  {
   "cell_type": "code",
   "execution_count": null,
   "metadata": {},
   "outputs": [],
   "source": [
    "fig = px.choropleth(locations=[\"CA\", \"TX\", \"NY\"], locationmode=\"USA-states\", color=[ca_count,tx_count,ny_count], scope=\"usa\")\n",
    "fig.show()"
   ]
  },
  {
   "cell_type": "code",
   "execution_count": null,
   "metadata": {},
   "outputs": [],
   "source": []
  },
  {
   "cell_type": "code",
   "execution_count": null,
   "metadata": {
    "slideshow": {
     "slide_type": "notes"
    }
   },
   "outputs": [],
   "source": []
  }
 ],
 "metadata": {
  "celltoolbar": "Slideshow",
  "kernelspec": {
   "display_name": "Python 3",
   "language": "python",
   "name": "python3"
  },
  "language_info": {
   "codemirror_mode": {
    "name": "ipython",
    "version": 3
   },
   "file_extension": ".py",
   "mimetype": "text/x-python",
   "name": "python",
   "nbconvert_exporter": "python",
   "pygments_lexer": "ipython3",
   "version": "3.7.4"
  }
 },
 "nbformat": 4,
 "nbformat_minor": 2
}
