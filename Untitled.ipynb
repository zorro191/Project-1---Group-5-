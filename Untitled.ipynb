{
 "cells": [
  {
   "cell_type": "code",
   "execution_count": 1,
   "metadata": {},
   "outputs": [],
   "source": [
    "%matplotlib notebook"
   ]
  },
  {
   "cell_type": "code",
   "execution_count": 2,
   "metadata": {},
   "outputs": [],
   "source": [
    "# Dependencies and Setup\n",
    "import matplotlib.pyplot as plt\n",
    "import pandas as pd\n",
    "import numpy as np\n",
    "from iso3166 import countries\n",
    "import plotly.express as px\n",
    "import plotly.graph_objects as go\n"
   ]
  },
  {
   "cell_type": "code",
   "execution_count": 3,
   "metadata": {},
   "outputs": [
    {
     "data": {
      "text/html": [
       "<div>\n",
       "<style scoped>\n",
       "    .dataframe tbody tr th:only-of-type {\n",
       "        vertical-align: middle;\n",
       "    }\n",
       "\n",
       "    .dataframe tbody tr th {\n",
       "        vertical-align: top;\n",
       "    }\n",
       "\n",
       "    .dataframe thead th {\n",
       "        text-align: right;\n",
       "    }\n",
       "</style>\n",
       "<table border=\"1\" class=\"dataframe\">\n",
       "  <thead>\n",
       "    <tr style=\"text-align: right;\">\n",
       "      <th></th>\n",
       "      <th>job_id</th>\n",
       "      <th>title</th>\n",
       "      <th>location</th>\n",
       "      <th>department</th>\n",
       "      <th>salary_range</th>\n",
       "      <th>company_profile</th>\n",
       "      <th>description</th>\n",
       "      <th>requirements</th>\n",
       "      <th>benefits</th>\n",
       "      <th>telecommuting</th>\n",
       "      <th>has_company_logo</th>\n",
       "      <th>has_questions</th>\n",
       "      <th>employment_type</th>\n",
       "      <th>required_experience</th>\n",
       "      <th>required_education</th>\n",
       "      <th>industry</th>\n",
       "      <th>function</th>\n",
       "      <th>fraudulent</th>\n",
       "    </tr>\n",
       "  </thead>\n",
       "  <tbody>\n",
       "    <tr>\n",
       "      <td>0</td>\n",
       "      <td>1</td>\n",
       "      <td>Marketing Intern</td>\n",
       "      <td>US, NY, New York</td>\n",
       "      <td>Marketing</td>\n",
       "      <td>NaN</td>\n",
       "      <td>We're Food52, and we've created a groundbreaki...</td>\n",
       "      <td>Food52, a fast-growing, James Beard Award-winn...</td>\n",
       "      <td>Experience with content management systems a m...</td>\n",
       "      <td>NaN</td>\n",
       "      <td>0</td>\n",
       "      <td>1</td>\n",
       "      <td>0</td>\n",
       "      <td>Other</td>\n",
       "      <td>Internship</td>\n",
       "      <td>NaN</td>\n",
       "      <td>NaN</td>\n",
       "      <td>Marketing</td>\n",
       "      <td>0</td>\n",
       "    </tr>\n",
       "    <tr>\n",
       "      <td>1</td>\n",
       "      <td>2</td>\n",
       "      <td>Customer Service - Cloud Video Production</td>\n",
       "      <td>NZ, , Auckland</td>\n",
       "      <td>Success</td>\n",
       "      <td>NaN</td>\n",
       "      <td>90 Seconds, the worlds Cloud Video Production ...</td>\n",
       "      <td>Organised - Focused - Vibrant - Awesome!Do you...</td>\n",
       "      <td>What we expect from you:Your key responsibilit...</td>\n",
       "      <td>What you will get from usThrough being part of...</td>\n",
       "      <td>0</td>\n",
       "      <td>1</td>\n",
       "      <td>0</td>\n",
       "      <td>Full-time</td>\n",
       "      <td>Not Applicable</td>\n",
       "      <td>NaN</td>\n",
       "      <td>Marketing and Advertising</td>\n",
       "      <td>Customer Service</td>\n",
       "      <td>0</td>\n",
       "    </tr>\n",
       "    <tr>\n",
       "      <td>2</td>\n",
       "      <td>3</td>\n",
       "      <td>Commissioning Machinery Assistant (CMA)</td>\n",
       "      <td>US, IA, Wever</td>\n",
       "      <td>NaN</td>\n",
       "      <td>NaN</td>\n",
       "      <td>Valor Services provides Workforce Solutions th...</td>\n",
       "      <td>Our client, located in Houston, is actively se...</td>\n",
       "      <td>Implement pre-commissioning and commissioning ...</td>\n",
       "      <td>NaN</td>\n",
       "      <td>0</td>\n",
       "      <td>1</td>\n",
       "      <td>0</td>\n",
       "      <td>NaN</td>\n",
       "      <td>NaN</td>\n",
       "      <td>NaN</td>\n",
       "      <td>NaN</td>\n",
       "      <td>NaN</td>\n",
       "      <td>0</td>\n",
       "    </tr>\n",
       "    <tr>\n",
       "      <td>3</td>\n",
       "      <td>4</td>\n",
       "      <td>Account Executive - Washington DC</td>\n",
       "      <td>US, DC, Washington</td>\n",
       "      <td>Sales</td>\n",
       "      <td>NaN</td>\n",
       "      <td>Our passion for improving quality of life thro...</td>\n",
       "      <td>THE COMPANY: ESRI – Environmental Systems Rese...</td>\n",
       "      <td>EDUCATION: Bachelor’s or Master’s in GIS, busi...</td>\n",
       "      <td>Our culture is anything but corporate—we have ...</td>\n",
       "      <td>0</td>\n",
       "      <td>1</td>\n",
       "      <td>0</td>\n",
       "      <td>Full-time</td>\n",
       "      <td>Mid-Senior level</td>\n",
       "      <td>Bachelor's Degree</td>\n",
       "      <td>Computer Software</td>\n",
       "      <td>Sales</td>\n",
       "      <td>0</td>\n",
       "    </tr>\n",
       "    <tr>\n",
       "      <td>4</td>\n",
       "      <td>5</td>\n",
       "      <td>Bill Review Manager</td>\n",
       "      <td>US, FL, Fort Worth</td>\n",
       "      <td>NaN</td>\n",
       "      <td>NaN</td>\n",
       "      <td>SpotSource Solutions LLC is a Global Human Cap...</td>\n",
       "      <td>JOB TITLE: Itemization Review ManagerLOCATION:...</td>\n",
       "      <td>QUALIFICATIONS:RN license in the State of Texa...</td>\n",
       "      <td>Full Benefits Offered</td>\n",
       "      <td>0</td>\n",
       "      <td>1</td>\n",
       "      <td>1</td>\n",
       "      <td>Full-time</td>\n",
       "      <td>Mid-Senior level</td>\n",
       "      <td>Bachelor's Degree</td>\n",
       "      <td>Hospital &amp; Health Care</td>\n",
       "      <td>Health Care Provider</td>\n",
       "      <td>0</td>\n",
       "    </tr>\n",
       "  </tbody>\n",
       "</table>\n",
       "</div>"
      ],
      "text/plain": [
       "   job_id                                      title            location  \\\n",
       "0       1                           Marketing Intern    US, NY, New York   \n",
       "1       2  Customer Service - Cloud Video Production      NZ, , Auckland   \n",
       "2       3    Commissioning Machinery Assistant (CMA)       US, IA, Wever   \n",
       "3       4          Account Executive - Washington DC  US, DC, Washington   \n",
       "4       5                        Bill Review Manager  US, FL, Fort Worth   \n",
       "\n",
       "  department salary_range                                    company_profile  \\\n",
       "0  Marketing          NaN  We're Food52, and we've created a groundbreaki...   \n",
       "1    Success          NaN  90 Seconds, the worlds Cloud Video Production ...   \n",
       "2        NaN          NaN  Valor Services provides Workforce Solutions th...   \n",
       "3      Sales          NaN  Our passion for improving quality of life thro...   \n",
       "4        NaN          NaN  SpotSource Solutions LLC is a Global Human Cap...   \n",
       "\n",
       "                                         description  \\\n",
       "0  Food52, a fast-growing, James Beard Award-winn...   \n",
       "1  Organised - Focused - Vibrant - Awesome!Do you...   \n",
       "2  Our client, located in Houston, is actively se...   \n",
       "3  THE COMPANY: ESRI – Environmental Systems Rese...   \n",
       "4  JOB TITLE: Itemization Review ManagerLOCATION:...   \n",
       "\n",
       "                                        requirements  \\\n",
       "0  Experience with content management systems a m...   \n",
       "1  What we expect from you:Your key responsibilit...   \n",
       "2  Implement pre-commissioning and commissioning ...   \n",
       "3  EDUCATION: Bachelor’s or Master’s in GIS, busi...   \n",
       "4  QUALIFICATIONS:RN license in the State of Texa...   \n",
       "\n",
       "                                            benefits  telecommuting  \\\n",
       "0                                                NaN              0   \n",
       "1  What you will get from usThrough being part of...              0   \n",
       "2                                                NaN              0   \n",
       "3  Our culture is anything but corporate—we have ...              0   \n",
       "4                              Full Benefits Offered              0   \n",
       "\n",
       "   has_company_logo  has_questions employment_type required_experience  \\\n",
       "0                 1              0           Other          Internship   \n",
       "1                 1              0       Full-time      Not Applicable   \n",
       "2                 1              0             NaN                 NaN   \n",
       "3                 1              0       Full-time    Mid-Senior level   \n",
       "4                 1              1       Full-time    Mid-Senior level   \n",
       "\n",
       "  required_education                   industry              function  \\\n",
       "0                NaN                        NaN             Marketing   \n",
       "1                NaN  Marketing and Advertising      Customer Service   \n",
       "2                NaN                        NaN                   NaN   \n",
       "3  Bachelor's Degree          Computer Software                 Sales   \n",
       "4  Bachelor's Degree     Hospital & Health Care  Health Care Provider   \n",
       "\n",
       "   fraudulent  \n",
       "0           0  \n",
       "1           0  \n",
       "2           0  \n",
       "3           0  \n",
       "4           0  "
      ]
     },
     "execution_count": 3,
     "metadata": {},
     "output_type": "execute_result"
    }
   ],
   "source": [
    "#read \n",
    "job_postings = pd.read_csv('Resources/job_postings.csv')\n",
    "job_postings.head()"
   ]
  },
  {
   "cell_type": "code",
   "execution_count": 4,
   "metadata": {},
   "outputs": [
    {
     "data": {
      "text/plain": [
       "(17880, 18)"
      ]
     },
     "execution_count": 4,
     "metadata": {},
     "output_type": "execute_result"
    }
   ],
   "source": [
    "#verify that columns and rows \n",
    "job_postings.shape"
   ]
  },
  {
   "cell_type": "code",
   "execution_count": 5,
   "metadata": {},
   "outputs": [],
   "source": [
    "#drop if the job posting is fraudulent\n",
    "#job_postings = job_postings[~job_postings['fraudulent'].isin(['1'])]\n",
    "#job_postings.head()"
   ]
  },
  {
   "cell_type": "code",
   "execution_count": 6,
   "metadata": {},
   "outputs": [
    {
     "data": {
      "text/plain": [
       "(17880, 18)"
      ]
     },
     "execution_count": 6,
     "metadata": {},
     "output_type": "execute_result"
    }
   ],
   "source": [
    "#verify that fraudulent data has been dropped\n",
    "job_postings.shape"
   ]
  },
  {
   "cell_type": "code",
   "execution_count": 7,
   "metadata": {},
   "outputs": [
    {
     "data": {
      "text/plain": [
       "(17534, 18)"
      ]
     },
     "execution_count": 7,
     "metadata": {},
     "output_type": "execute_result"
    }
   ],
   "source": [
    "# dropping null value rows in location to avoid errors \n",
    "job_postings = job_postings[pd.notnull(job_postings['location'])]\n",
    "\n",
    "#verify that null data has been dropped\n",
    "job_postings.shape\n"
   ]
  },
  {
   "cell_type": "code",
   "execution_count": 8,
   "metadata": {},
   "outputs": [
    {
     "data": {
      "text/plain": [
       "<bound method NDFrame.head of          0    1             2\n",
       "0      US,  NY,      New York\n",
       "1      NZ,    ,      Auckland\n",
       "2      US,  IA,         Wever\n",
       "3      US,  DC,    Washington\n",
       "4      US,  FL,    Fort Worth\n",
       "...    ...  ...           ...\n",
       "17875  CA,  ON,       Toronto\n",
       "17876  US,  PA,  Philadelphia\n",
       "17877  US,  TX,       Houston\n",
       "17878  NG,  LA,         Lagos\n",
       "17879  NZ,   N,    Wellington\n",
       "\n",
       "[17534 rows x 3 columns]>"
      ]
     },
     "execution_count": 8,
     "metadata": {},
     "output_type": "execute_result"
    }
   ],
   "source": [
    "# new data frame with split value columns \n",
    "df2 = job_postings[\"location\"].str.split(\" \", n = 2, expand = True) \n",
    "df2.head"
   ]
  },
  {
   "cell_type": "code",
   "execution_count": 9,
   "metadata": {},
   "outputs": [
    {
     "data": {
      "text/html": [
       "<div>\n",
       "<style scoped>\n",
       "    .dataframe tbody tr th:only-of-type {\n",
       "        vertical-align: middle;\n",
       "    }\n",
       "\n",
       "    .dataframe tbody tr th {\n",
       "        vertical-align: top;\n",
       "    }\n",
       "\n",
       "    .dataframe thead th {\n",
       "        text-align: right;\n",
       "    }\n",
       "</style>\n",
       "<table border=\"1\" class=\"dataframe\">\n",
       "  <thead>\n",
       "    <tr style=\"text-align: right;\">\n",
       "      <th></th>\n",
       "      <th>0</th>\n",
       "      <th>1</th>\n",
       "      <th>2</th>\n",
       "    </tr>\n",
       "  </thead>\n",
       "  <tbody>\n",
       "    <tr>\n",
       "      <td>0</td>\n",
       "      <td>US,</td>\n",
       "      <td>NY,</td>\n",
       "      <td>New York</td>\n",
       "    </tr>\n",
       "    <tr>\n",
       "      <td>1</td>\n",
       "      <td>NZ,</td>\n",
       "      <td>,</td>\n",
       "      <td>Auckland</td>\n",
       "    </tr>\n",
       "    <tr>\n",
       "      <td>2</td>\n",
       "      <td>US,</td>\n",
       "      <td>IA,</td>\n",
       "      <td>Wever</td>\n",
       "    </tr>\n",
       "    <tr>\n",
       "      <td>3</td>\n",
       "      <td>US,</td>\n",
       "      <td>DC,</td>\n",
       "      <td>Washington</td>\n",
       "    </tr>\n",
       "    <tr>\n",
       "      <td>4</td>\n",
       "      <td>US,</td>\n",
       "      <td>FL,</td>\n",
       "      <td>Fort Worth</td>\n",
       "    </tr>\n",
       "    <tr>\n",
       "      <td>...</td>\n",
       "      <td>...</td>\n",
       "      <td>...</td>\n",
       "      <td>...</td>\n",
       "    </tr>\n",
       "    <tr>\n",
       "      <td>17875</td>\n",
       "      <td>CA,</td>\n",
       "      <td>ON,</td>\n",
       "      <td>Toronto</td>\n",
       "    </tr>\n",
       "    <tr>\n",
       "      <td>17876</td>\n",
       "      <td>US,</td>\n",
       "      <td>PA,</td>\n",
       "      <td>Philadelphia</td>\n",
       "    </tr>\n",
       "    <tr>\n",
       "      <td>17877</td>\n",
       "      <td>US,</td>\n",
       "      <td>TX,</td>\n",
       "      <td>Houston</td>\n",
       "    </tr>\n",
       "    <tr>\n",
       "      <td>17878</td>\n",
       "      <td>NG,</td>\n",
       "      <td>LA,</td>\n",
       "      <td>Lagos</td>\n",
       "    </tr>\n",
       "    <tr>\n",
       "      <td>17879</td>\n",
       "      <td>NZ,</td>\n",
       "      <td>N,</td>\n",
       "      <td>Wellington</td>\n",
       "    </tr>\n",
       "  </tbody>\n",
       "</table>\n",
       "<p>17534 rows × 3 columns</p>\n",
       "</div>"
      ],
      "text/plain": [
       "         0    1             2\n",
       "0      US,  NY,      New York\n",
       "1      NZ,    ,      Auckland\n",
       "2      US,  IA,         Wever\n",
       "3      US,  DC,    Washington\n",
       "4      US,  FL,    Fort Worth\n",
       "...    ...  ...           ...\n",
       "17875  CA,  ON,       Toronto\n",
       "17876  US,  PA,  Philadelphia\n",
       "17877  US,  TX,       Houston\n",
       "17878  NG,  LA,         Lagos\n",
       "17879  NZ,   N,    Wellington\n",
       "\n",
       "[17534 rows x 3 columns]"
      ]
     },
     "execution_count": 9,
     "metadata": {},
     "output_type": "execute_result"
    }
   ],
   "source": [
    "#display names of new columns\n",
    "list(df2.columns) \n",
    "df2"
   ]
  },
  {
   "cell_type": "code",
   "execution_count": 10,
   "metadata": {},
   "outputs": [],
   "source": [
    "# change names of new columns\n",
    "df2.rename(columns={0:\"Country\", 1:\"State\", 2:\"City\"}, inplace=True)"
   ]
  },
  {
   "cell_type": "code",
   "execution_count": 11,
   "metadata": {},
   "outputs": [
    {
     "data": {
      "text/html": [
       "<div>\n",
       "<style scoped>\n",
       "    .dataframe tbody tr th:only-of-type {\n",
       "        vertical-align: middle;\n",
       "    }\n",
       "\n",
       "    .dataframe tbody tr th {\n",
       "        vertical-align: top;\n",
       "    }\n",
       "\n",
       "    .dataframe thead th {\n",
       "        text-align: right;\n",
       "    }\n",
       "</style>\n",
       "<table border=\"1\" class=\"dataframe\">\n",
       "  <thead>\n",
       "    <tr style=\"text-align: right;\">\n",
       "      <th></th>\n",
       "      <th>job_id</th>\n",
       "      <th>title</th>\n",
       "      <th>location</th>\n",
       "      <th>department</th>\n",
       "      <th>salary_range</th>\n",
       "      <th>company_profile</th>\n",
       "      <th>description</th>\n",
       "      <th>requirements</th>\n",
       "      <th>benefits</th>\n",
       "      <th>telecommuting</th>\n",
       "      <th>...</th>\n",
       "      <th>has_questions</th>\n",
       "      <th>employment_type</th>\n",
       "      <th>required_experience</th>\n",
       "      <th>required_education</th>\n",
       "      <th>industry</th>\n",
       "      <th>function</th>\n",
       "      <th>fraudulent</th>\n",
       "      <th>City</th>\n",
       "      <th>State</th>\n",
       "      <th>Country</th>\n",
       "    </tr>\n",
       "  </thead>\n",
       "  <tbody>\n",
       "    <tr>\n",
       "      <td>0</td>\n",
       "      <td>1</td>\n",
       "      <td>Marketing Intern</td>\n",
       "      <td>US, NY, New York</td>\n",
       "      <td>Marketing</td>\n",
       "      <td>NaN</td>\n",
       "      <td>We're Food52, and we've created a groundbreaki...</td>\n",
       "      <td>Food52, a fast-growing, James Beard Award-winn...</td>\n",
       "      <td>Experience with content management systems a m...</td>\n",
       "      <td>NaN</td>\n",
       "      <td>0</td>\n",
       "      <td>...</td>\n",
       "      <td>0</td>\n",
       "      <td>Other</td>\n",
       "      <td>Internship</td>\n",
       "      <td>NaN</td>\n",
       "      <td>NaN</td>\n",
       "      <td>Marketing</td>\n",
       "      <td>0</td>\n",
       "      <td>New York</td>\n",
       "      <td>NY,</td>\n",
       "      <td>US,</td>\n",
       "    </tr>\n",
       "    <tr>\n",
       "      <td>1</td>\n",
       "      <td>2</td>\n",
       "      <td>Customer Service - Cloud Video Production</td>\n",
       "      <td>NZ, , Auckland</td>\n",
       "      <td>Success</td>\n",
       "      <td>NaN</td>\n",
       "      <td>90 Seconds, the worlds Cloud Video Production ...</td>\n",
       "      <td>Organised - Focused - Vibrant - Awesome!Do you...</td>\n",
       "      <td>What we expect from you:Your key responsibilit...</td>\n",
       "      <td>What you will get from usThrough being part of...</td>\n",
       "      <td>0</td>\n",
       "      <td>...</td>\n",
       "      <td>0</td>\n",
       "      <td>Full-time</td>\n",
       "      <td>Not Applicable</td>\n",
       "      <td>NaN</td>\n",
       "      <td>Marketing and Advertising</td>\n",
       "      <td>Customer Service</td>\n",
       "      <td>0</td>\n",
       "      <td>Auckland</td>\n",
       "      <td>,</td>\n",
       "      <td>NZ,</td>\n",
       "    </tr>\n",
       "    <tr>\n",
       "      <td>2</td>\n",
       "      <td>3</td>\n",
       "      <td>Commissioning Machinery Assistant (CMA)</td>\n",
       "      <td>US, IA, Wever</td>\n",
       "      <td>NaN</td>\n",
       "      <td>NaN</td>\n",
       "      <td>Valor Services provides Workforce Solutions th...</td>\n",
       "      <td>Our client, located in Houston, is actively se...</td>\n",
       "      <td>Implement pre-commissioning and commissioning ...</td>\n",
       "      <td>NaN</td>\n",
       "      <td>0</td>\n",
       "      <td>...</td>\n",
       "      <td>0</td>\n",
       "      <td>NaN</td>\n",
       "      <td>NaN</td>\n",
       "      <td>NaN</td>\n",
       "      <td>NaN</td>\n",
       "      <td>NaN</td>\n",
       "      <td>0</td>\n",
       "      <td>Wever</td>\n",
       "      <td>IA,</td>\n",
       "      <td>US,</td>\n",
       "    </tr>\n",
       "    <tr>\n",
       "      <td>3</td>\n",
       "      <td>4</td>\n",
       "      <td>Account Executive - Washington DC</td>\n",
       "      <td>US, DC, Washington</td>\n",
       "      <td>Sales</td>\n",
       "      <td>NaN</td>\n",
       "      <td>Our passion for improving quality of life thro...</td>\n",
       "      <td>THE COMPANY: ESRI – Environmental Systems Rese...</td>\n",
       "      <td>EDUCATION: Bachelor’s or Master’s in GIS, busi...</td>\n",
       "      <td>Our culture is anything but corporate—we have ...</td>\n",
       "      <td>0</td>\n",
       "      <td>...</td>\n",
       "      <td>0</td>\n",
       "      <td>Full-time</td>\n",
       "      <td>Mid-Senior level</td>\n",
       "      <td>Bachelor's Degree</td>\n",
       "      <td>Computer Software</td>\n",
       "      <td>Sales</td>\n",
       "      <td>0</td>\n",
       "      <td>Washington</td>\n",
       "      <td>DC,</td>\n",
       "      <td>US,</td>\n",
       "    </tr>\n",
       "    <tr>\n",
       "      <td>4</td>\n",
       "      <td>5</td>\n",
       "      <td>Bill Review Manager</td>\n",
       "      <td>US, FL, Fort Worth</td>\n",
       "      <td>NaN</td>\n",
       "      <td>NaN</td>\n",
       "      <td>SpotSource Solutions LLC is a Global Human Cap...</td>\n",
       "      <td>JOB TITLE: Itemization Review ManagerLOCATION:...</td>\n",
       "      <td>QUALIFICATIONS:RN license in the State of Texa...</td>\n",
       "      <td>Full Benefits Offered</td>\n",
       "      <td>0</td>\n",
       "      <td>...</td>\n",
       "      <td>1</td>\n",
       "      <td>Full-time</td>\n",
       "      <td>Mid-Senior level</td>\n",
       "      <td>Bachelor's Degree</td>\n",
       "      <td>Hospital &amp; Health Care</td>\n",
       "      <td>Health Care Provider</td>\n",
       "      <td>0</td>\n",
       "      <td>Fort Worth</td>\n",
       "      <td>FL,</td>\n",
       "      <td>US,</td>\n",
       "    </tr>\n",
       "    <tr>\n",
       "      <td>...</td>\n",
       "      <td>...</td>\n",
       "      <td>...</td>\n",
       "      <td>...</td>\n",
       "      <td>...</td>\n",
       "      <td>...</td>\n",
       "      <td>...</td>\n",
       "      <td>...</td>\n",
       "      <td>...</td>\n",
       "      <td>...</td>\n",
       "      <td>...</td>\n",
       "      <td>...</td>\n",
       "      <td>...</td>\n",
       "      <td>...</td>\n",
       "      <td>...</td>\n",
       "      <td>...</td>\n",
       "      <td>...</td>\n",
       "      <td>...</td>\n",
       "      <td>...</td>\n",
       "      <td>...</td>\n",
       "      <td>...</td>\n",
       "      <td>...</td>\n",
       "    </tr>\n",
       "    <tr>\n",
       "      <td>17875</td>\n",
       "      <td>17876</td>\n",
       "      <td>Account Director - Distribution</td>\n",
       "      <td>CA, ON, Toronto</td>\n",
       "      <td>Sales</td>\n",
       "      <td>NaN</td>\n",
       "      <td>Vend is looking for some awesome new talent to...</td>\n",
       "      <td>Just in case this is the first time you’ve vis...</td>\n",
       "      <td>To ace this role you:Will eat comprehensive St...</td>\n",
       "      <td>What can you expect from us?We have an open cu...</td>\n",
       "      <td>0</td>\n",
       "      <td>...</td>\n",
       "      <td>1</td>\n",
       "      <td>Full-time</td>\n",
       "      <td>Mid-Senior level</td>\n",
       "      <td>NaN</td>\n",
       "      <td>Computer Software</td>\n",
       "      <td>Sales</td>\n",
       "      <td>0</td>\n",
       "      <td>Toronto</td>\n",
       "      <td>ON,</td>\n",
       "      <td>CA,</td>\n",
       "    </tr>\n",
       "    <tr>\n",
       "      <td>17876</td>\n",
       "      <td>17877</td>\n",
       "      <td>Payroll Accountant</td>\n",
       "      <td>US, PA, Philadelphia</td>\n",
       "      <td>Accounting</td>\n",
       "      <td>NaN</td>\n",
       "      <td>WebLinc is the e-commerce platform and service...</td>\n",
       "      <td>The Payroll Accountant will focus primarily on...</td>\n",
       "      <td>- B.A. or B.S. in Accounting- Desire to have f...</td>\n",
       "      <td>Health &amp;amp; WellnessMedical planPrescription ...</td>\n",
       "      <td>0</td>\n",
       "      <td>...</td>\n",
       "      <td>1</td>\n",
       "      <td>Full-time</td>\n",
       "      <td>Mid-Senior level</td>\n",
       "      <td>Bachelor's Degree</td>\n",
       "      <td>Internet</td>\n",
       "      <td>Accounting/Auditing</td>\n",
       "      <td>0</td>\n",
       "      <td>Philadelphia</td>\n",
       "      <td>PA,</td>\n",
       "      <td>US,</td>\n",
       "    </tr>\n",
       "    <tr>\n",
       "      <td>17877</td>\n",
       "      <td>17878</td>\n",
       "      <td>Project Cost Control Staff Engineer - Cost Con...</td>\n",
       "      <td>US, TX, Houston</td>\n",
       "      <td>NaN</td>\n",
       "      <td>NaN</td>\n",
       "      <td>We Provide Full Time Permanent Positions for m...</td>\n",
       "      <td>Experienced Project Cost Control Staff Enginee...</td>\n",
       "      <td>At least 12 years professional experience.Abil...</td>\n",
       "      <td>NaN</td>\n",
       "      <td>0</td>\n",
       "      <td>...</td>\n",
       "      <td>0</td>\n",
       "      <td>Full-time</td>\n",
       "      <td>NaN</td>\n",
       "      <td>NaN</td>\n",
       "      <td>NaN</td>\n",
       "      <td>NaN</td>\n",
       "      <td>0</td>\n",
       "      <td>Houston</td>\n",
       "      <td>TX,</td>\n",
       "      <td>US,</td>\n",
       "    </tr>\n",
       "    <tr>\n",
       "      <td>17878</td>\n",
       "      <td>17879</td>\n",
       "      <td>Graphic Designer</td>\n",
       "      <td>NG, LA, Lagos</td>\n",
       "      <td>NaN</td>\n",
       "      <td>NaN</td>\n",
       "      <td>NaN</td>\n",
       "      <td>Nemsia Studios is looking for an experienced v...</td>\n",
       "      <td>1. Must be fluent in the latest versions of Co...</td>\n",
       "      <td>Competitive salary (compensation will be based...</td>\n",
       "      <td>0</td>\n",
       "      <td>...</td>\n",
       "      <td>1</td>\n",
       "      <td>Contract</td>\n",
       "      <td>Not Applicable</td>\n",
       "      <td>Professional</td>\n",
       "      <td>Graphic Design</td>\n",
       "      <td>Design</td>\n",
       "      <td>0</td>\n",
       "      <td>Lagos</td>\n",
       "      <td>LA,</td>\n",
       "      <td>NG,</td>\n",
       "    </tr>\n",
       "    <tr>\n",
       "      <td>17879</td>\n",
       "      <td>17880</td>\n",
       "      <td>Web Application Developers</td>\n",
       "      <td>NZ, N, Wellington</td>\n",
       "      <td>Engineering</td>\n",
       "      <td>NaN</td>\n",
       "      <td>Vend is looking for some awesome new talent to...</td>\n",
       "      <td>Who are we?Vend is an award winning web based ...</td>\n",
       "      <td>We want to hear from you if:You have an in-dep...</td>\n",
       "      <td>NaN</td>\n",
       "      <td>0</td>\n",
       "      <td>...</td>\n",
       "      <td>1</td>\n",
       "      <td>Full-time</td>\n",
       "      <td>Mid-Senior level</td>\n",
       "      <td>NaN</td>\n",
       "      <td>Computer Software</td>\n",
       "      <td>Engineering</td>\n",
       "      <td>0</td>\n",
       "      <td>Wellington</td>\n",
       "      <td>N,</td>\n",
       "      <td>NZ,</td>\n",
       "    </tr>\n",
       "  </tbody>\n",
       "</table>\n",
       "<p>17534 rows × 21 columns</p>\n",
       "</div>"
      ],
      "text/plain": [
       "       job_id                                              title  \\\n",
       "0           1                                   Marketing Intern   \n",
       "1           2          Customer Service - Cloud Video Production   \n",
       "2           3            Commissioning Machinery Assistant (CMA)   \n",
       "3           4                  Account Executive - Washington DC   \n",
       "4           5                                Bill Review Manager   \n",
       "...       ...                                                ...   \n",
       "17875   17876                   Account Director - Distribution    \n",
       "17876   17877                                 Payroll Accountant   \n",
       "17877   17878  Project Cost Control Staff Engineer - Cost Con...   \n",
       "17878   17879                                   Graphic Designer   \n",
       "17879   17880                         Web Application Developers   \n",
       "\n",
       "                   location   department salary_range  \\\n",
       "0          US, NY, New York    Marketing          NaN   \n",
       "1            NZ, , Auckland      Success          NaN   \n",
       "2             US, IA, Wever          NaN          NaN   \n",
       "3        US, DC, Washington        Sales          NaN   \n",
       "4        US, FL, Fort Worth          NaN          NaN   \n",
       "...                     ...          ...          ...   \n",
       "17875       CA, ON, Toronto        Sales          NaN   \n",
       "17876  US, PA, Philadelphia   Accounting          NaN   \n",
       "17877       US, TX, Houston          NaN          NaN   \n",
       "17878         NG, LA, Lagos          NaN          NaN   \n",
       "17879     NZ, N, Wellington  Engineering          NaN   \n",
       "\n",
       "                                         company_profile  \\\n",
       "0      We're Food52, and we've created a groundbreaki...   \n",
       "1      90 Seconds, the worlds Cloud Video Production ...   \n",
       "2      Valor Services provides Workforce Solutions th...   \n",
       "3      Our passion for improving quality of life thro...   \n",
       "4      SpotSource Solutions LLC is a Global Human Cap...   \n",
       "...                                                  ...   \n",
       "17875  Vend is looking for some awesome new talent to...   \n",
       "17876  WebLinc is the e-commerce platform and service...   \n",
       "17877  We Provide Full Time Permanent Positions for m...   \n",
       "17878                                                NaN   \n",
       "17879  Vend is looking for some awesome new talent to...   \n",
       "\n",
       "                                             description  \\\n",
       "0      Food52, a fast-growing, James Beard Award-winn...   \n",
       "1      Organised - Focused - Vibrant - Awesome!Do you...   \n",
       "2      Our client, located in Houston, is actively se...   \n",
       "3      THE COMPANY: ESRI – Environmental Systems Rese...   \n",
       "4      JOB TITLE: Itemization Review ManagerLOCATION:...   \n",
       "...                                                  ...   \n",
       "17875  Just in case this is the first time you’ve vis...   \n",
       "17876  The Payroll Accountant will focus primarily on...   \n",
       "17877  Experienced Project Cost Control Staff Enginee...   \n",
       "17878  Nemsia Studios is looking for an experienced v...   \n",
       "17879  Who are we?Vend is an award winning web based ...   \n",
       "\n",
       "                                            requirements  \\\n",
       "0      Experience with content management systems a m...   \n",
       "1      What we expect from you:Your key responsibilit...   \n",
       "2      Implement pre-commissioning and commissioning ...   \n",
       "3      EDUCATION: Bachelor’s or Master’s in GIS, busi...   \n",
       "4      QUALIFICATIONS:RN license in the State of Texa...   \n",
       "...                                                  ...   \n",
       "17875  To ace this role you:Will eat comprehensive St...   \n",
       "17876  - B.A. or B.S. in Accounting- Desire to have f...   \n",
       "17877  At least 12 years professional experience.Abil...   \n",
       "17878  1. Must be fluent in the latest versions of Co...   \n",
       "17879  We want to hear from you if:You have an in-dep...   \n",
       "\n",
       "                                                benefits  telecommuting  ...  \\\n",
       "0                                                    NaN              0  ...   \n",
       "1      What you will get from usThrough being part of...              0  ...   \n",
       "2                                                    NaN              0  ...   \n",
       "3      Our culture is anything but corporate—we have ...              0  ...   \n",
       "4                                  Full Benefits Offered              0  ...   \n",
       "...                                                  ...            ...  ...   \n",
       "17875  What can you expect from us?We have an open cu...              0  ...   \n",
       "17876  Health &amp; WellnessMedical planPrescription ...              0  ...   \n",
       "17877                                                NaN              0  ...   \n",
       "17878  Competitive salary (compensation will be based...              0  ...   \n",
       "17879                                                NaN              0  ...   \n",
       "\n",
       "       has_questions  employment_type required_experience required_education  \\\n",
       "0                  0            Other          Internship                NaN   \n",
       "1                  0        Full-time      Not Applicable                NaN   \n",
       "2                  0              NaN                 NaN                NaN   \n",
       "3                  0        Full-time    Mid-Senior level  Bachelor's Degree   \n",
       "4                  1        Full-time    Mid-Senior level  Bachelor's Degree   \n",
       "...              ...              ...                 ...                ...   \n",
       "17875              1        Full-time    Mid-Senior level                NaN   \n",
       "17876              1        Full-time    Mid-Senior level  Bachelor's Degree   \n",
       "17877              0        Full-time                 NaN                NaN   \n",
       "17878              1         Contract      Not Applicable       Professional   \n",
       "17879              1        Full-time    Mid-Senior level                NaN   \n",
       "\n",
       "                        industry              function fraudulent  \\\n",
       "0                            NaN             Marketing          0   \n",
       "1      Marketing and Advertising      Customer Service          0   \n",
       "2                            NaN                   NaN          0   \n",
       "3              Computer Software                 Sales          0   \n",
       "4         Hospital & Health Care  Health Care Provider          0   \n",
       "...                          ...                   ...        ...   \n",
       "17875          Computer Software                 Sales          0   \n",
       "17876                   Internet   Accounting/Auditing          0   \n",
       "17877                        NaN                   NaN          0   \n",
       "17878             Graphic Design                Design          0   \n",
       "17879          Computer Software           Engineering          0   \n",
       "\n",
       "               City State Country  \n",
       "0          New York   NY,     US,  \n",
       "1          Auckland     ,     NZ,  \n",
       "2             Wever   IA,     US,  \n",
       "3        Washington   DC,     US,  \n",
       "4        Fort Worth   FL,     US,  \n",
       "...             ...   ...     ...  \n",
       "17875       Toronto   ON,     CA,  \n",
       "17876  Philadelphia   PA,     US,  \n",
       "17877       Houston   TX,     US,  \n",
       "17878         Lagos   LA,     NG,  \n",
       "17879    Wellington    N,     NZ,  \n",
       "\n",
       "[17534 rows x 21 columns]"
      ]
     },
     "execution_count": 11,
     "metadata": {},
     "output_type": "execute_result"
    }
   ],
   "source": [
    "# add columns from df2 to the job postings data \n",
    "job_postings['City'], job_postings['State'], job_postings['Country'] = df2['City'], df2['State'], df2['Country']\n",
    "job_postings"
   ]
  },
  {
   "cell_type": "code",
   "execution_count": 12,
   "metadata": {},
   "outputs": [],
   "source": [
    "# drop the location column \n",
    "job_postings.drop('location', axis=1, inplace=True)"
   ]
  },
  {
   "cell_type": "code",
   "execution_count": 13,
   "metadata": {},
   "outputs": [
    {
     "data": {
      "text/plain": [
       "Index(['job_id', 'title', 'department', 'salary_range', 'company_profile',\n",
       "       'description', 'requirements', 'benefits', 'telecommuting',\n",
       "       'has_company_logo', 'has_questions', 'employment_type',\n",
       "       'required_experience', 'required_education', 'industry', 'function',\n",
       "       'fraudulent', 'City', 'State', 'Country'],\n",
       "      dtype='object')"
      ]
     },
     "execution_count": 13,
     "metadata": {},
     "output_type": "execute_result"
    }
   ],
   "source": [
    "job_postings.columns\n"
   ]
  },
  {
   "cell_type": "code",
   "execution_count": 54,
   "metadata": {},
   "outputs": [
    {
     "data": {
      "text/html": [
       "<div>\n",
       "<style scoped>\n",
       "    .dataframe tbody tr th:only-of-type {\n",
       "        vertical-align: middle;\n",
       "    }\n",
       "\n",
       "    .dataframe tbody tr th {\n",
       "        vertical-align: top;\n",
       "    }\n",
       "\n",
       "    .dataframe thead th {\n",
       "        text-align: right;\n",
       "    }\n",
       "</style>\n",
       "<table border=\"1\" class=\"dataframe\">\n",
       "  <thead>\n",
       "    <tr style=\"text-align: right;\">\n",
       "      <th></th>\n",
       "      <th>FRAUDULENT</th>\n",
       "      <th>STATE</th>\n",
       "      <th>CITY</th>\n",
       "    </tr>\n",
       "  </thead>\n",
       "  <tbody>\n",
       "    <tr>\n",
       "      <td>0</td>\n",
       "      <td>0</td>\n",
       "      <td>NY</td>\n",
       "      <td>New York</td>\n",
       "    </tr>\n",
       "    <tr>\n",
       "      <td>7</td>\n",
       "      <td>0</td>\n",
       "      <td>CA</td>\n",
       "      <td>San Francisco</td>\n",
       "    </tr>\n",
       "    <tr>\n",
       "      <td>18</td>\n",
       "      <td>0</td>\n",
       "      <td>NY</td>\n",
       "      <td>New York</td>\n",
       "    </tr>\n",
       "    <tr>\n",
       "      <td>20</td>\n",
       "      <td>0</td>\n",
       "      <td>TX</td>\n",
       "      <td>Austin</td>\n",
       "    </tr>\n",
       "    <tr>\n",
       "      <td>23</td>\n",
       "      <td>0</td>\n",
       "      <td>CA</td>\n",
       "      <td>Carlsbad</td>\n",
       "    </tr>\n",
       "    <tr>\n",
       "      <td>...</td>\n",
       "      <td>...</td>\n",
       "      <td>...</td>\n",
       "      <td>...</td>\n",
       "    </tr>\n",
       "    <tr>\n",
       "      <td>17855</td>\n",
       "      <td>0</td>\n",
       "      <td>CA</td>\n",
       "      <td>San Francisco</td>\n",
       "    </tr>\n",
       "    <tr>\n",
       "      <td>17860</td>\n",
       "      <td>0</td>\n",
       "      <td>CA</td>\n",
       "      <td>Bay Area</td>\n",
       "    </tr>\n",
       "    <tr>\n",
       "      <td>17870</td>\n",
       "      <td>0</td>\n",
       "      <td>CA</td>\n",
       "      <td>Gardena</td>\n",
       "    </tr>\n",
       "    <tr>\n",
       "      <td>17872</td>\n",
       "      <td>0</td>\n",
       "      <td>CA</td>\n",
       "      <td>San Francisco</td>\n",
       "    </tr>\n",
       "    <tr>\n",
       "      <td>17877</td>\n",
       "      <td>0</td>\n",
       "      <td>TX</td>\n",
       "      <td>Houston</td>\n",
       "    </tr>\n",
       "  </tbody>\n",
       "</table>\n",
       "<p>4285 rows × 3 columns</p>\n",
       "</div>"
      ],
      "text/plain": [
       "       FRAUDULENT STATE           CITY\n",
       "0               0    NY       New York\n",
       "7               0    CA  San Francisco\n",
       "18              0    NY       New York\n",
       "20              0    TX         Austin\n",
       "23              0    CA       Carlsbad\n",
       "...           ...   ...            ...\n",
       "17855           0    CA  San Francisco\n",
       "17860           0    CA       Bay Area\n",
       "17870           0    CA        Gardena\n",
       "17872           0    CA  San Francisco\n",
       "17877           0    TX        Houston\n",
       "\n",
       "[4285 rows x 3 columns]"
      ]
     },
     "execution_count": 54,
     "metadata": {},
     "output_type": "execute_result"
    }
   ],
   "source": [
    "state_fraud = job_postings[(job_postings.COUNTRY == \"US\") & (job_postings.STATE.isin([\"NY\", \"CA\", \"TX\"]))][[\"FRAUDULENT\", \"STATE\", \"CITY\"]]\n",
    "state_fraud"
   ]
  },
  {
   "cell_type": "code",
   "execution_count": 55,
   "metadata": {},
   "outputs": [
    {
     "data": {
      "text/html": [
       "<div>\n",
       "<style scoped>\n",
       "    .dataframe tbody tr th:only-of-type {\n",
       "        vertical-align: middle;\n",
       "    }\n",
       "\n",
       "    .dataframe tbody tr th {\n",
       "        vertical-align: top;\n",
       "    }\n",
       "\n",
       "    .dataframe thead th {\n",
       "        text-align: right;\n",
       "    }\n",
       "</style>\n",
       "<table border=\"1\" class=\"dataframe\">\n",
       "  <thead>\n",
       "    <tr style=\"text-align: right;\">\n",
       "      <th></th>\n",
       "      <th>STATE</th>\n",
       "      <th>FRAUDULENT</th>\n",
       "      <th>CITY</th>\n",
       "    </tr>\n",
       "  </thead>\n",
       "  <tbody>\n",
       "    <tr>\n",
       "      <td>0</td>\n",
       "      <td>CA</td>\n",
       "      <td>0</td>\n",
       "      <td>1908</td>\n",
       "    </tr>\n",
       "    <tr>\n",
       "      <td>1</td>\n",
       "      <td>CA</td>\n",
       "      <td>1</td>\n",
       "      <td>143</td>\n",
       "    </tr>\n",
       "    <tr>\n",
       "      <td>2</td>\n",
       "      <td>NY</td>\n",
       "      <td>0</td>\n",
       "      <td>1191</td>\n",
       "    </tr>\n",
       "    <tr>\n",
       "      <td>3</td>\n",
       "      <td>NY</td>\n",
       "      <td>1</td>\n",
       "      <td>68</td>\n",
       "    </tr>\n",
       "    <tr>\n",
       "      <td>4</td>\n",
       "      <td>TX</td>\n",
       "      <td>0</td>\n",
       "      <td>823</td>\n",
       "    </tr>\n",
       "    <tr>\n",
       "      <td>5</td>\n",
       "      <td>TX</td>\n",
       "      <td>1</td>\n",
       "      <td>152</td>\n",
       "    </tr>\n",
       "  </tbody>\n",
       "</table>\n",
       "</div>"
      ],
      "text/plain": [
       "  STATE  FRAUDULENT  CITY\n",
       "0    CA           0  1908\n",
       "1    CA           1   143\n",
       "2    NY           0  1191\n",
       "3    NY           1    68\n",
       "4    TX           0   823\n",
       "5    TX           1   152"
      ]
     },
     "execution_count": 55,
     "metadata": {},
     "output_type": "execute_result"
    }
   ],
   "source": [
    "state_fraud_counts = pd.DataFrame(state_fraud.groupby([\"STATE\", \"FRAUDULENT\"]).count())\n",
    "state_fraud_counts.reset_index(inplace = True)\n",
    "state_fraud_counts"
   ]
  },
  {
   "cell_type": "code",
   "execution_count": 56,
   "metadata": {},
   "outputs": [
    {
     "data": {
      "application/javascript": [
       "/* Put everything inside the global mpl namespace */\n",
       "window.mpl = {};\n",
       "\n",
       "\n",
       "mpl.get_websocket_type = function() {\n",
       "    if (typeof(WebSocket) !== 'undefined') {\n",
       "        return WebSocket;\n",
       "    } else if (typeof(MozWebSocket) !== 'undefined') {\n",
       "        return MozWebSocket;\n",
       "    } else {\n",
       "        alert('Your browser does not have WebSocket support. ' +\n",
       "              'Please try Chrome, Safari or Firefox ≥ 6. ' +\n",
       "              'Firefox 4 and 5 are also supported but you ' +\n",
       "              'have to enable WebSockets in about:config.');\n",
       "    };\n",
       "}\n",
       "\n",
       "mpl.figure = function(figure_id, websocket, ondownload, parent_element) {\n",
       "    this.id = figure_id;\n",
       "\n",
       "    this.ws = websocket;\n",
       "\n",
       "    this.supports_binary = (this.ws.binaryType != undefined);\n",
       "\n",
       "    if (!this.supports_binary) {\n",
       "        var warnings = document.getElementById(\"mpl-warnings\");\n",
       "        if (warnings) {\n",
       "            warnings.style.display = 'block';\n",
       "            warnings.textContent = (\n",
       "                \"This browser does not support binary websocket messages. \" +\n",
       "                    \"Performance may be slow.\");\n",
       "        }\n",
       "    }\n",
       "\n",
       "    this.imageObj = new Image();\n",
       "\n",
       "    this.context = undefined;\n",
       "    this.message = undefined;\n",
       "    this.canvas = undefined;\n",
       "    this.rubberband_canvas = undefined;\n",
       "    this.rubberband_context = undefined;\n",
       "    this.format_dropdown = undefined;\n",
       "\n",
       "    this.image_mode = 'full';\n",
       "\n",
       "    this.root = $('<div/>');\n",
       "    this._root_extra_style(this.root)\n",
       "    this.root.attr('style', 'display: inline-block');\n",
       "\n",
       "    $(parent_element).append(this.root);\n",
       "\n",
       "    this._init_header(this);\n",
       "    this._init_canvas(this);\n",
       "    this._init_toolbar(this);\n",
       "\n",
       "    var fig = this;\n",
       "\n",
       "    this.waiting = false;\n",
       "\n",
       "    this.ws.onopen =  function () {\n",
       "            fig.send_message(\"supports_binary\", {value: fig.supports_binary});\n",
       "            fig.send_message(\"send_image_mode\", {});\n",
       "            if (mpl.ratio != 1) {\n",
       "                fig.send_message(\"set_dpi_ratio\", {'dpi_ratio': mpl.ratio});\n",
       "            }\n",
       "            fig.send_message(\"refresh\", {});\n",
       "        }\n",
       "\n",
       "    this.imageObj.onload = function() {\n",
       "            if (fig.image_mode == 'full') {\n",
       "                // Full images could contain transparency (where diff images\n",
       "                // almost always do), so we need to clear the canvas so that\n",
       "                // there is no ghosting.\n",
       "                fig.context.clearRect(0, 0, fig.canvas.width, fig.canvas.height);\n",
       "            }\n",
       "            fig.context.drawImage(fig.imageObj, 0, 0);\n",
       "        };\n",
       "\n",
       "    this.imageObj.onunload = function() {\n",
       "        fig.ws.close();\n",
       "    }\n",
       "\n",
       "    this.ws.onmessage = this._make_on_message_function(this);\n",
       "\n",
       "    this.ondownload = ondownload;\n",
       "}\n",
       "\n",
       "mpl.figure.prototype._init_header = function() {\n",
       "    var titlebar = $(\n",
       "        '<div class=\"ui-dialog-titlebar ui-widget-header ui-corner-all ' +\n",
       "        'ui-helper-clearfix\"/>');\n",
       "    var titletext = $(\n",
       "        '<div class=\"ui-dialog-title\" style=\"width: 100%; ' +\n",
       "        'text-align: center; padding: 3px;\"/>');\n",
       "    titlebar.append(titletext)\n",
       "    this.root.append(titlebar);\n",
       "    this.header = titletext[0];\n",
       "}\n",
       "\n",
       "\n",
       "\n",
       "mpl.figure.prototype._canvas_extra_style = function(canvas_div) {\n",
       "\n",
       "}\n",
       "\n",
       "\n",
       "mpl.figure.prototype._root_extra_style = function(canvas_div) {\n",
       "\n",
       "}\n",
       "\n",
       "mpl.figure.prototype._init_canvas = function() {\n",
       "    var fig = this;\n",
       "\n",
       "    var canvas_div = $('<div/>');\n",
       "\n",
       "    canvas_div.attr('style', 'position: relative; clear: both; outline: 0');\n",
       "\n",
       "    function canvas_keyboard_event(event) {\n",
       "        return fig.key_event(event, event['data']);\n",
       "    }\n",
       "\n",
       "    canvas_div.keydown('key_press', canvas_keyboard_event);\n",
       "    canvas_div.keyup('key_release', canvas_keyboard_event);\n",
       "    this.canvas_div = canvas_div\n",
       "    this._canvas_extra_style(canvas_div)\n",
       "    this.root.append(canvas_div);\n",
       "\n",
       "    var canvas = $('<canvas/>');\n",
       "    canvas.addClass('mpl-canvas');\n",
       "    canvas.attr('style', \"left: 0; top: 0; z-index: 0; outline: 0\")\n",
       "\n",
       "    this.canvas = canvas[0];\n",
       "    this.context = canvas[0].getContext(\"2d\");\n",
       "\n",
       "    var backingStore = this.context.backingStorePixelRatio ||\n",
       "\tthis.context.webkitBackingStorePixelRatio ||\n",
       "\tthis.context.mozBackingStorePixelRatio ||\n",
       "\tthis.context.msBackingStorePixelRatio ||\n",
       "\tthis.context.oBackingStorePixelRatio ||\n",
       "\tthis.context.backingStorePixelRatio || 1;\n",
       "\n",
       "    mpl.ratio = (window.devicePixelRatio || 1) / backingStore;\n",
       "\n",
       "    var rubberband = $('<canvas/>');\n",
       "    rubberband.attr('style', \"position: absolute; left: 0; top: 0; z-index: 1;\")\n",
       "\n",
       "    var pass_mouse_events = true;\n",
       "\n",
       "    canvas_div.resizable({\n",
       "        start: function(event, ui) {\n",
       "            pass_mouse_events = false;\n",
       "        },\n",
       "        resize: function(event, ui) {\n",
       "            fig.request_resize(ui.size.width, ui.size.height);\n",
       "        },\n",
       "        stop: function(event, ui) {\n",
       "            pass_mouse_events = true;\n",
       "            fig.request_resize(ui.size.width, ui.size.height);\n",
       "        },\n",
       "    });\n",
       "\n",
       "    function mouse_event_fn(event) {\n",
       "        if (pass_mouse_events)\n",
       "            return fig.mouse_event(event, event['data']);\n",
       "    }\n",
       "\n",
       "    rubberband.mousedown('button_press', mouse_event_fn);\n",
       "    rubberband.mouseup('button_release', mouse_event_fn);\n",
       "    // Throttle sequential mouse events to 1 every 20ms.\n",
       "    rubberband.mousemove('motion_notify', mouse_event_fn);\n",
       "\n",
       "    rubberband.mouseenter('figure_enter', mouse_event_fn);\n",
       "    rubberband.mouseleave('figure_leave', mouse_event_fn);\n",
       "\n",
       "    canvas_div.on(\"wheel\", function (event) {\n",
       "        event = event.originalEvent;\n",
       "        event['data'] = 'scroll'\n",
       "        if (event.deltaY < 0) {\n",
       "            event.step = 1;\n",
       "        } else {\n",
       "            event.step = -1;\n",
       "        }\n",
       "        mouse_event_fn(event);\n",
       "    });\n",
       "\n",
       "    canvas_div.append(canvas);\n",
       "    canvas_div.append(rubberband);\n",
       "\n",
       "    this.rubberband = rubberband;\n",
       "    this.rubberband_canvas = rubberband[0];\n",
       "    this.rubberband_context = rubberband[0].getContext(\"2d\");\n",
       "    this.rubberband_context.strokeStyle = \"#000000\";\n",
       "\n",
       "    this._resize_canvas = function(width, height) {\n",
       "        // Keep the size of the canvas, canvas container, and rubber band\n",
       "        // canvas in synch.\n",
       "        canvas_div.css('width', width)\n",
       "        canvas_div.css('height', height)\n",
       "\n",
       "        canvas.attr('width', width * mpl.ratio);\n",
       "        canvas.attr('height', height * mpl.ratio);\n",
       "        canvas.attr('style', 'width: ' + width + 'px; height: ' + height + 'px;');\n",
       "\n",
       "        rubberband.attr('width', width);\n",
       "        rubberband.attr('height', height);\n",
       "    }\n",
       "\n",
       "    // Set the figure to an initial 600x600px, this will subsequently be updated\n",
       "    // upon first draw.\n",
       "    this._resize_canvas(600, 600);\n",
       "\n",
       "    // Disable right mouse context menu.\n",
       "    $(this.rubberband_canvas).bind(\"contextmenu\",function(e){\n",
       "        return false;\n",
       "    });\n",
       "\n",
       "    function set_focus () {\n",
       "        canvas.focus();\n",
       "        canvas_div.focus();\n",
       "    }\n",
       "\n",
       "    window.setTimeout(set_focus, 100);\n",
       "}\n",
       "\n",
       "mpl.figure.prototype._init_toolbar = function() {\n",
       "    var fig = this;\n",
       "\n",
       "    var nav_element = $('<div/>');\n",
       "    nav_element.attr('style', 'width: 100%');\n",
       "    this.root.append(nav_element);\n",
       "\n",
       "    // Define a callback function for later on.\n",
       "    function toolbar_event(event) {\n",
       "        return fig.toolbar_button_onclick(event['data']);\n",
       "    }\n",
       "    function toolbar_mouse_event(event) {\n",
       "        return fig.toolbar_button_onmouseover(event['data']);\n",
       "    }\n",
       "\n",
       "    for(var toolbar_ind in mpl.toolbar_items) {\n",
       "        var name = mpl.toolbar_items[toolbar_ind][0];\n",
       "        var tooltip = mpl.toolbar_items[toolbar_ind][1];\n",
       "        var image = mpl.toolbar_items[toolbar_ind][2];\n",
       "        var method_name = mpl.toolbar_items[toolbar_ind][3];\n",
       "\n",
       "        if (!name) {\n",
       "            // put a spacer in here.\n",
       "            continue;\n",
       "        }\n",
       "        var button = $('<button/>');\n",
       "        button.addClass('ui-button ui-widget ui-state-default ui-corner-all ' +\n",
       "                        'ui-button-icon-only');\n",
       "        button.attr('role', 'button');\n",
       "        button.attr('aria-disabled', 'false');\n",
       "        button.click(method_name, toolbar_event);\n",
       "        button.mouseover(tooltip, toolbar_mouse_event);\n",
       "\n",
       "        var icon_img = $('<span/>');\n",
       "        icon_img.addClass('ui-button-icon-primary ui-icon');\n",
       "        icon_img.addClass(image);\n",
       "        icon_img.addClass('ui-corner-all');\n",
       "\n",
       "        var tooltip_span = $('<span/>');\n",
       "        tooltip_span.addClass('ui-button-text');\n",
       "        tooltip_span.html(tooltip);\n",
       "\n",
       "        button.append(icon_img);\n",
       "        button.append(tooltip_span);\n",
       "\n",
       "        nav_element.append(button);\n",
       "    }\n",
       "\n",
       "    var fmt_picker_span = $('<span/>');\n",
       "\n",
       "    var fmt_picker = $('<select/>');\n",
       "    fmt_picker.addClass('mpl-toolbar-option ui-widget ui-widget-content');\n",
       "    fmt_picker_span.append(fmt_picker);\n",
       "    nav_element.append(fmt_picker_span);\n",
       "    this.format_dropdown = fmt_picker[0];\n",
       "\n",
       "    for (var ind in mpl.extensions) {\n",
       "        var fmt = mpl.extensions[ind];\n",
       "        var option = $(\n",
       "            '<option/>', {selected: fmt === mpl.default_extension}).html(fmt);\n",
       "        fmt_picker.append(option);\n",
       "    }\n",
       "\n",
       "    // Add hover states to the ui-buttons\n",
       "    $( \".ui-button\" ).hover(\n",
       "        function() { $(this).addClass(\"ui-state-hover\");},\n",
       "        function() { $(this).removeClass(\"ui-state-hover\");}\n",
       "    );\n",
       "\n",
       "    var status_bar = $('<span class=\"mpl-message\"/>');\n",
       "    nav_element.append(status_bar);\n",
       "    this.message = status_bar[0];\n",
       "}\n",
       "\n",
       "mpl.figure.prototype.request_resize = function(x_pixels, y_pixels) {\n",
       "    // Request matplotlib to resize the figure. Matplotlib will then trigger a resize in the client,\n",
       "    // which will in turn request a refresh of the image.\n",
       "    this.send_message('resize', {'width': x_pixels, 'height': y_pixels});\n",
       "}\n",
       "\n",
       "mpl.figure.prototype.send_message = function(type, properties) {\n",
       "    properties['type'] = type;\n",
       "    properties['figure_id'] = this.id;\n",
       "    this.ws.send(JSON.stringify(properties));\n",
       "}\n",
       "\n",
       "mpl.figure.prototype.send_draw_message = function() {\n",
       "    if (!this.waiting) {\n",
       "        this.waiting = true;\n",
       "        this.ws.send(JSON.stringify({type: \"draw\", figure_id: this.id}));\n",
       "    }\n",
       "}\n",
       "\n",
       "\n",
       "mpl.figure.prototype.handle_save = function(fig, msg) {\n",
       "    var format_dropdown = fig.format_dropdown;\n",
       "    var format = format_dropdown.options[format_dropdown.selectedIndex].value;\n",
       "    fig.ondownload(fig, format);\n",
       "}\n",
       "\n",
       "\n",
       "mpl.figure.prototype.handle_resize = function(fig, msg) {\n",
       "    var size = msg['size'];\n",
       "    if (size[0] != fig.canvas.width || size[1] != fig.canvas.height) {\n",
       "        fig._resize_canvas(size[0], size[1]);\n",
       "        fig.send_message(\"refresh\", {});\n",
       "    };\n",
       "}\n",
       "\n",
       "mpl.figure.prototype.handle_rubberband = function(fig, msg) {\n",
       "    var x0 = msg['x0'] / mpl.ratio;\n",
       "    var y0 = (fig.canvas.height - msg['y0']) / mpl.ratio;\n",
       "    var x1 = msg['x1'] / mpl.ratio;\n",
       "    var y1 = (fig.canvas.height - msg['y1']) / mpl.ratio;\n",
       "    x0 = Math.floor(x0) + 0.5;\n",
       "    y0 = Math.floor(y0) + 0.5;\n",
       "    x1 = Math.floor(x1) + 0.5;\n",
       "    y1 = Math.floor(y1) + 0.5;\n",
       "    var min_x = Math.min(x0, x1);\n",
       "    var min_y = Math.min(y0, y1);\n",
       "    var width = Math.abs(x1 - x0);\n",
       "    var height = Math.abs(y1 - y0);\n",
       "\n",
       "    fig.rubberband_context.clearRect(\n",
       "        0, 0, fig.canvas.width / mpl.ratio, fig.canvas.height / mpl.ratio);\n",
       "\n",
       "    fig.rubberband_context.strokeRect(min_x, min_y, width, height);\n",
       "}\n",
       "\n",
       "mpl.figure.prototype.handle_figure_label = function(fig, msg) {\n",
       "    // Updates the figure title.\n",
       "    fig.header.textContent = msg['label'];\n",
       "}\n",
       "\n",
       "mpl.figure.prototype.handle_cursor = function(fig, msg) {\n",
       "    var cursor = msg['cursor'];\n",
       "    switch(cursor)\n",
       "    {\n",
       "    case 0:\n",
       "        cursor = 'pointer';\n",
       "        break;\n",
       "    case 1:\n",
       "        cursor = 'default';\n",
       "        break;\n",
       "    case 2:\n",
       "        cursor = 'crosshair';\n",
       "        break;\n",
       "    case 3:\n",
       "        cursor = 'move';\n",
       "        break;\n",
       "    }\n",
       "    fig.rubberband_canvas.style.cursor = cursor;\n",
       "}\n",
       "\n",
       "mpl.figure.prototype.handle_message = function(fig, msg) {\n",
       "    fig.message.textContent = msg['message'];\n",
       "}\n",
       "\n",
       "mpl.figure.prototype.handle_draw = function(fig, msg) {\n",
       "    // Request the server to send over a new figure.\n",
       "    fig.send_draw_message();\n",
       "}\n",
       "\n",
       "mpl.figure.prototype.handle_image_mode = function(fig, msg) {\n",
       "    fig.image_mode = msg['mode'];\n",
       "}\n",
       "\n",
       "mpl.figure.prototype.updated_canvas_event = function() {\n",
       "    // Called whenever the canvas gets updated.\n",
       "    this.send_message(\"ack\", {});\n",
       "}\n",
       "\n",
       "// A function to construct a web socket function for onmessage handling.\n",
       "// Called in the figure constructor.\n",
       "mpl.figure.prototype._make_on_message_function = function(fig) {\n",
       "    return function socket_on_message(evt) {\n",
       "        if (evt.data instanceof Blob) {\n",
       "            /* FIXME: We get \"Resource interpreted as Image but\n",
       "             * transferred with MIME type text/plain:\" errors on\n",
       "             * Chrome.  But how to set the MIME type?  It doesn't seem\n",
       "             * to be part of the websocket stream */\n",
       "            evt.data.type = \"image/png\";\n",
       "\n",
       "            /* Free the memory for the previous frames */\n",
       "            if (fig.imageObj.src) {\n",
       "                (window.URL || window.webkitURL).revokeObjectURL(\n",
       "                    fig.imageObj.src);\n",
       "            }\n",
       "\n",
       "            fig.imageObj.src = (window.URL || window.webkitURL).createObjectURL(\n",
       "                evt.data);\n",
       "            fig.updated_canvas_event();\n",
       "            fig.waiting = false;\n",
       "            return;\n",
       "        }\n",
       "        else if (typeof evt.data === 'string' && evt.data.slice(0, 21) == \"data:image/png;base64\") {\n",
       "            fig.imageObj.src = evt.data;\n",
       "            fig.updated_canvas_event();\n",
       "            fig.waiting = false;\n",
       "            return;\n",
       "        }\n",
       "\n",
       "        var msg = JSON.parse(evt.data);\n",
       "        var msg_type = msg['type'];\n",
       "\n",
       "        // Call the  \"handle_{type}\" callback, which takes\n",
       "        // the figure and JSON message as its only arguments.\n",
       "        try {\n",
       "            var callback = fig[\"handle_\" + msg_type];\n",
       "        } catch (e) {\n",
       "            console.log(\"No handler for the '\" + msg_type + \"' message type: \", msg);\n",
       "            return;\n",
       "        }\n",
       "\n",
       "        if (callback) {\n",
       "            try {\n",
       "                // console.log(\"Handling '\" + msg_type + \"' message: \", msg);\n",
       "                callback(fig, msg);\n",
       "            } catch (e) {\n",
       "                console.log(\"Exception inside the 'handler_\" + msg_type + \"' callback:\", e, e.stack, msg);\n",
       "            }\n",
       "        }\n",
       "    };\n",
       "}\n",
       "\n",
       "// from http://stackoverflow.com/questions/1114465/getting-mouse-location-in-canvas\n",
       "mpl.findpos = function(e) {\n",
       "    //this section is from http://www.quirksmode.org/js/events_properties.html\n",
       "    var targ;\n",
       "    if (!e)\n",
       "        e = window.event;\n",
       "    if (e.target)\n",
       "        targ = e.target;\n",
       "    else if (e.srcElement)\n",
       "        targ = e.srcElement;\n",
       "    if (targ.nodeType == 3) // defeat Safari bug\n",
       "        targ = targ.parentNode;\n",
       "\n",
       "    // jQuery normalizes the pageX and pageY\n",
       "    // pageX,Y are the mouse positions relative to the document\n",
       "    // offset() returns the position of the element relative to the document\n",
       "    var x = e.pageX - $(targ).offset().left;\n",
       "    var y = e.pageY - $(targ).offset().top;\n",
       "\n",
       "    return {\"x\": x, \"y\": y};\n",
       "};\n",
       "\n",
       "/*\n",
       " * return a copy of an object with only non-object keys\n",
       " * we need this to avoid circular references\n",
       " * http://stackoverflow.com/a/24161582/3208463\n",
       " */\n",
       "function simpleKeys (original) {\n",
       "  return Object.keys(original).reduce(function (obj, key) {\n",
       "    if (typeof original[key] !== 'object')\n",
       "        obj[key] = original[key]\n",
       "    return obj;\n",
       "  }, {});\n",
       "}\n",
       "\n",
       "mpl.figure.prototype.mouse_event = function(event, name) {\n",
       "    var canvas_pos = mpl.findpos(event)\n",
       "\n",
       "    if (name === 'button_press')\n",
       "    {\n",
       "        this.canvas.focus();\n",
       "        this.canvas_div.focus();\n",
       "    }\n",
       "\n",
       "    var x = canvas_pos.x * mpl.ratio;\n",
       "    var y = canvas_pos.y * mpl.ratio;\n",
       "\n",
       "    this.send_message(name, {x: x, y: y, button: event.button,\n",
       "                             step: event.step,\n",
       "                             guiEvent: simpleKeys(event)});\n",
       "\n",
       "    /* This prevents the web browser from automatically changing to\n",
       "     * the text insertion cursor when the button is pressed.  We want\n",
       "     * to control all of the cursor setting manually through the\n",
       "     * 'cursor' event from matplotlib */\n",
       "    event.preventDefault();\n",
       "    return false;\n",
       "}\n",
       "\n",
       "mpl.figure.prototype._key_event_extra = function(event, name) {\n",
       "    // Handle any extra behaviour associated with a key event\n",
       "}\n",
       "\n",
       "mpl.figure.prototype.key_event = function(event, name) {\n",
       "\n",
       "    // Prevent repeat events\n",
       "    if (name == 'key_press')\n",
       "    {\n",
       "        if (event.which === this._key)\n",
       "            return;\n",
       "        else\n",
       "            this._key = event.which;\n",
       "    }\n",
       "    if (name == 'key_release')\n",
       "        this._key = null;\n",
       "\n",
       "    var value = '';\n",
       "    if (event.ctrlKey && event.which != 17)\n",
       "        value += \"ctrl+\";\n",
       "    if (event.altKey && event.which != 18)\n",
       "        value += \"alt+\";\n",
       "    if (event.shiftKey && event.which != 16)\n",
       "        value += \"shift+\";\n",
       "\n",
       "    value += 'k';\n",
       "    value += event.which.toString();\n",
       "\n",
       "    this._key_event_extra(event, name);\n",
       "\n",
       "    this.send_message(name, {key: value,\n",
       "                             guiEvent: simpleKeys(event)});\n",
       "    return false;\n",
       "}\n",
       "\n",
       "mpl.figure.prototype.toolbar_button_onclick = function(name) {\n",
       "    if (name == 'download') {\n",
       "        this.handle_save(this, null);\n",
       "    } else {\n",
       "        this.send_message(\"toolbar_button\", {name: name});\n",
       "    }\n",
       "};\n",
       "\n",
       "mpl.figure.prototype.toolbar_button_onmouseover = function(tooltip) {\n",
       "    this.message.textContent = tooltip;\n",
       "};\n",
       "mpl.toolbar_items = [[\"Home\", \"Reset original view\", \"fa fa-home icon-home\", \"home\"], [\"Back\", \"Back to previous view\", \"fa fa-arrow-left icon-arrow-left\", \"back\"], [\"Forward\", \"Forward to next view\", \"fa fa-arrow-right icon-arrow-right\", \"forward\"], [\"\", \"\", \"\", \"\"], [\"Pan\", \"Pan axes with left mouse, zoom with right\", \"fa fa-arrows icon-move\", \"pan\"], [\"Zoom\", \"Zoom to rectangle\", \"fa fa-square-o icon-check-empty\", \"zoom\"], [\"\", \"\", \"\", \"\"], [\"Download\", \"Download plot\", \"fa fa-floppy-o icon-save\", \"download\"]];\n",
       "\n",
       "mpl.extensions = [\"eps\", \"jpeg\", \"pdf\", \"png\", \"ps\", \"raw\", \"svg\", \"tif\"];\n",
       "\n",
       "mpl.default_extension = \"png\";var comm_websocket_adapter = function(comm) {\n",
       "    // Create a \"websocket\"-like object which calls the given IPython comm\n",
       "    // object with the appropriate methods. Currently this is a non binary\n",
       "    // socket, so there is still some room for performance tuning.\n",
       "    var ws = {};\n",
       "\n",
       "    ws.close = function() {\n",
       "        comm.close()\n",
       "    };\n",
       "    ws.send = function(m) {\n",
       "        //console.log('sending', m);\n",
       "        comm.send(m);\n",
       "    };\n",
       "    // Register the callback with on_msg.\n",
       "    comm.on_msg(function(msg) {\n",
       "        //console.log('receiving', msg['content']['data'], msg);\n",
       "        // Pass the mpl event to the overridden (by mpl) onmessage function.\n",
       "        ws.onmessage(msg['content']['data'])\n",
       "    });\n",
       "    return ws;\n",
       "}\n",
       "\n",
       "mpl.mpl_figure_comm = function(comm, msg) {\n",
       "    // This is the function which gets called when the mpl process\n",
       "    // starts-up an IPython Comm through the \"matplotlib\" channel.\n",
       "\n",
       "    var id = msg.content.data.id;\n",
       "    // Get hold of the div created by the display call when the Comm\n",
       "    // socket was opened in Python.\n",
       "    var element = $(\"#\" + id);\n",
       "    var ws_proxy = comm_websocket_adapter(comm)\n",
       "\n",
       "    function ondownload(figure, format) {\n",
       "        window.open(figure.imageObj.src);\n",
       "    }\n",
       "\n",
       "    var fig = new mpl.figure(id, ws_proxy,\n",
       "                           ondownload,\n",
       "                           element.get(0));\n",
       "\n",
       "    // Call onopen now - mpl needs it, as it is assuming we've passed it a real\n",
       "    // web socket which is closed, not our websocket->open comm proxy.\n",
       "    ws_proxy.onopen();\n",
       "\n",
       "    fig.parent_element = element.get(0);\n",
       "    fig.cell_info = mpl.find_output_cell(\"<div id='\" + id + \"'></div>\");\n",
       "    if (!fig.cell_info) {\n",
       "        console.error(\"Failed to find cell for figure\", id, fig);\n",
       "        return;\n",
       "    }\n",
       "\n",
       "    var output_index = fig.cell_info[2]\n",
       "    var cell = fig.cell_info[0];\n",
       "\n",
       "};\n",
       "\n",
       "mpl.figure.prototype.handle_close = function(fig, msg) {\n",
       "    var width = fig.canvas.width/mpl.ratio\n",
       "    fig.root.unbind('remove')\n",
       "\n",
       "    // Update the output cell to use the data from the current canvas.\n",
       "    fig.push_to_output();\n",
       "    var dataURL = fig.canvas.toDataURL();\n",
       "    // Re-enable the keyboard manager in IPython - without this line, in FF,\n",
       "    // the notebook keyboard shortcuts fail.\n",
       "    IPython.keyboard_manager.enable()\n",
       "    $(fig.parent_element).html('<img src=\"' + dataURL + '\" width=\"' + width + '\">');\n",
       "    fig.close_ws(fig, msg);\n",
       "}\n",
       "\n",
       "mpl.figure.prototype.close_ws = function(fig, msg){\n",
       "    fig.send_message('closing', msg);\n",
       "    // fig.ws.close()\n",
       "}\n",
       "\n",
       "mpl.figure.prototype.push_to_output = function(remove_interactive) {\n",
       "    // Turn the data on the canvas into data in the output cell.\n",
       "    var width = this.canvas.width/mpl.ratio\n",
       "    var dataURL = this.canvas.toDataURL();\n",
       "    this.cell_info[1]['text/html'] = '<img src=\"' + dataURL + '\" width=\"' + width + '\">';\n",
       "}\n",
       "\n",
       "mpl.figure.prototype.updated_canvas_event = function() {\n",
       "    // Tell IPython that the notebook contents must change.\n",
       "    IPython.notebook.set_dirty(true);\n",
       "    this.send_message(\"ack\", {});\n",
       "    var fig = this;\n",
       "    // Wait a second, then push the new image to the DOM so\n",
       "    // that it is saved nicely (might be nice to debounce this).\n",
       "    setTimeout(function () { fig.push_to_output() }, 1000);\n",
       "}\n",
       "\n",
       "mpl.figure.prototype._init_toolbar = function() {\n",
       "    var fig = this;\n",
       "\n",
       "    var nav_element = $('<div/>');\n",
       "    nav_element.attr('style', 'width: 100%');\n",
       "    this.root.append(nav_element);\n",
       "\n",
       "    // Define a callback function for later on.\n",
       "    function toolbar_event(event) {\n",
       "        return fig.toolbar_button_onclick(event['data']);\n",
       "    }\n",
       "    function toolbar_mouse_event(event) {\n",
       "        return fig.toolbar_button_onmouseover(event['data']);\n",
       "    }\n",
       "\n",
       "    for(var toolbar_ind in mpl.toolbar_items){\n",
       "        var name = mpl.toolbar_items[toolbar_ind][0];\n",
       "        var tooltip = mpl.toolbar_items[toolbar_ind][1];\n",
       "        var image = mpl.toolbar_items[toolbar_ind][2];\n",
       "        var method_name = mpl.toolbar_items[toolbar_ind][3];\n",
       "\n",
       "        if (!name) { continue; };\n",
       "\n",
       "        var button = $('<button class=\"btn btn-default\" href=\"#\" title=\"' + name + '\"><i class=\"fa ' + image + ' fa-lg\"></i></button>');\n",
       "        button.click(method_name, toolbar_event);\n",
       "        button.mouseover(tooltip, toolbar_mouse_event);\n",
       "        nav_element.append(button);\n",
       "    }\n",
       "\n",
       "    // Add the status bar.\n",
       "    var status_bar = $('<span class=\"mpl-message\" style=\"text-align:right; float: right;\"/>');\n",
       "    nav_element.append(status_bar);\n",
       "    this.message = status_bar[0];\n",
       "\n",
       "    // Add the close button to the window.\n",
       "    var buttongrp = $('<div class=\"btn-group inline pull-right\"></div>');\n",
       "    var button = $('<button class=\"btn btn-mini btn-primary\" href=\"#\" title=\"Stop Interaction\"><i class=\"fa fa-power-off icon-remove icon-large\"></i></button>');\n",
       "    button.click(function (evt) { fig.handle_close(fig, {}); } );\n",
       "    button.mouseover('Stop Interaction', toolbar_mouse_event);\n",
       "    buttongrp.append(button);\n",
       "    var titlebar = this.root.find($('.ui-dialog-titlebar'));\n",
       "    titlebar.prepend(buttongrp);\n",
       "}\n",
       "\n",
       "mpl.figure.prototype._root_extra_style = function(el){\n",
       "    var fig = this\n",
       "    el.on(\"remove\", function(){\n",
       "\tfig.close_ws(fig, {});\n",
       "    });\n",
       "}\n",
       "\n",
       "mpl.figure.prototype._canvas_extra_style = function(el){\n",
       "    // this is important to make the div 'focusable\n",
       "    el.attr('tabindex', 0)\n",
       "    // reach out to IPython and tell the keyboard manager to turn it's self\n",
       "    // off when our div gets focus\n",
       "\n",
       "    // location in version 3\n",
       "    if (IPython.notebook.keyboard_manager) {\n",
       "        IPython.notebook.keyboard_manager.register_events(el);\n",
       "    }\n",
       "    else {\n",
       "        // location in version 2\n",
       "        IPython.keyboard_manager.register_events(el);\n",
       "    }\n",
       "\n",
       "}\n",
       "\n",
       "mpl.figure.prototype._key_event_extra = function(event, name) {\n",
       "    var manager = IPython.notebook.keyboard_manager;\n",
       "    if (!manager)\n",
       "        manager = IPython.keyboard_manager;\n",
       "\n",
       "    // Check for shift+enter\n",
       "    if (event.shiftKey && event.which == 13) {\n",
       "        this.canvas_div.blur();\n",
       "        event.shiftKey = false;\n",
       "        // Send a \"J\" for go to next cell\n",
       "        event.which = 74;\n",
       "        event.keyCode = 74;\n",
       "        manager.command_mode();\n",
       "        manager.handle_keydown(event);\n",
       "    }\n",
       "}\n",
       "\n",
       "mpl.figure.prototype.handle_save = function(fig, msg) {\n",
       "    fig.ondownload(fig, null);\n",
       "}\n",
       "\n",
       "\n",
       "mpl.find_output_cell = function(html_output) {\n",
       "    // Return the cell and output element which can be found *uniquely* in the notebook.\n",
       "    // Note - this is a bit hacky, but it is done because the \"notebook_saving.Notebook\"\n",
       "    // IPython event is triggered only after the cells have been serialised, which for\n",
       "    // our purposes (turning an active figure into a static one), is too late.\n",
       "    var cells = IPython.notebook.get_cells();\n",
       "    var ncells = cells.length;\n",
       "    for (var i=0; i<ncells; i++) {\n",
       "        var cell = cells[i];\n",
       "        if (cell.cell_type === 'code'){\n",
       "            for (var j=0; j<cell.output_area.outputs.length; j++) {\n",
       "                var data = cell.output_area.outputs[j];\n",
       "                if (data.data) {\n",
       "                    // IPython >= 3 moved mimebundle to data attribute of output\n",
       "                    data = data.data;\n",
       "                }\n",
       "                if (data['text/html'] == html_output) {\n",
       "                    return [cell, data, j];\n",
       "                }\n",
       "            }\n",
       "        }\n",
       "    }\n",
       "}\n",
       "\n",
       "// Register the function which deals with the matplotlib target/channel.\n",
       "// The kernel may be null if the page has been refreshed.\n",
       "if (IPython.notebook.kernel != null) {\n",
       "    IPython.notebook.kernel.comm_manager.register_target('matplotlib', mpl.mpl_figure_comm);\n",
       "}\n"
      ],
      "text/plain": [
       "<IPython.core.display.Javascript object>"
      ]
     },
     "metadata": {},
     "output_type": "display_data"
    },
    {
     "data": {
      "text/html": [
       "<img src=\"data:image/png;base64,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\" width=\"640\">"
      ],
      "text/plain": [
       "<IPython.core.display.HTML object>"
      ]
     },
     "metadata": {},
     "output_type": "display_data"
    }
   ],
   "source": [
    "N = 3\n",
    "menMeans = (1908, 1191, 823)\n",
    "womenMeans = (143, 68, 152)\n",
    "\n",
    "ind = np.arange(N)    # the x locations for the groups\n",
    "width = 0.35       # the width of the bars: can also be len(x) sequence\n",
    "\n",
    "p1 = plt.bar(ind, menMeans, width,)\n",
    "p2 = plt.bar(ind, womenMeans, width,\n",
    "             bottom=menMeans,)\n",
    "\n",
    "plt.ylabel('Jobs')\n",
    "plt.title('Jobs by state')\n",
    "plt.xticks(ind, ('CA', 'NY', 'TX'))\n",
    "plt.yticks(np.arange(0, 2200, 100))\n",
    "plt.legend((p1[0], p2[0]), ('Real', 'Fraudulent'))\n",
    "\n",
    "plt.show()"
   ]
  },
  {
   "cell_type": "code",
   "execution_count": 57,
   "metadata": {},
   "outputs": [
    {
     "ename": "KeyError",
     "evalue": "'Job Count'",
     "output_type": "error",
     "traceback": [
      "\u001b[1;31m---------------------------------------------------------------------------\u001b[0m",
      "\u001b[1;31mKeyError\u001b[0m                                  Traceback (most recent call last)",
      "\u001b[1;32m~\\Anaconda3\\lib\\site-packages\\pandas\\core\\indexes\\base.py\u001b[0m in \u001b[0;36mget_loc\u001b[1;34m(self, key, method, tolerance)\u001b[0m\n\u001b[0;32m   2896\u001b[0m             \u001b[1;32mtry\u001b[0m\u001b[1;33m:\u001b[0m\u001b[1;33m\u001b[0m\u001b[1;33m\u001b[0m\u001b[0m\n\u001b[1;32m-> 2897\u001b[1;33m                 \u001b[1;32mreturn\u001b[0m \u001b[0mself\u001b[0m\u001b[1;33m.\u001b[0m\u001b[0m_engine\u001b[0m\u001b[1;33m.\u001b[0m\u001b[0mget_loc\u001b[0m\u001b[1;33m(\u001b[0m\u001b[0mkey\u001b[0m\u001b[1;33m)\u001b[0m\u001b[1;33m\u001b[0m\u001b[1;33m\u001b[0m\u001b[0m\n\u001b[0m\u001b[0;32m   2898\u001b[0m             \u001b[1;32mexcept\u001b[0m \u001b[0mKeyError\u001b[0m\u001b[1;33m:\u001b[0m\u001b[1;33m\u001b[0m\u001b[1;33m\u001b[0m\u001b[0m\n",
      "\u001b[1;32mpandas\\_libs\\index.pyx\u001b[0m in \u001b[0;36mpandas._libs.index.IndexEngine.get_loc\u001b[1;34m()\u001b[0m\n",
      "\u001b[1;32mpandas\\_libs\\index.pyx\u001b[0m in \u001b[0;36mpandas._libs.index.IndexEngine.get_loc\u001b[1;34m()\u001b[0m\n",
      "\u001b[1;32mpandas\\_libs\\hashtable_class_helper.pxi\u001b[0m in \u001b[0;36mpandas._libs.hashtable.PyObjectHashTable.get_item\u001b[1;34m()\u001b[0m\n",
      "\u001b[1;32mpandas\\_libs\\hashtable_class_helper.pxi\u001b[0m in \u001b[0;36mpandas._libs.hashtable.PyObjectHashTable.get_item\u001b[1;34m()\u001b[0m\n",
      "\u001b[1;31mKeyError\u001b[0m: 'Job Count'",
      "\nDuring handling of the above exception, another exception occurred:\n",
      "\u001b[1;31mKeyError\u001b[0m                                  Traceback (most recent call last)",
      "\u001b[1;32m<ipython-input-57-970e6199d03a>\u001b[0m in \u001b[0;36m<module>\u001b[1;34m\u001b[0m\n\u001b[0;32m      1\u001b[0m \u001b[0mca_nf_count\u001b[0m \u001b[1;33m=\u001b[0m \u001b[0mstate_fraud_counts\u001b[0m\u001b[1;33m[\u001b[0m\u001b[0mstate_fraud_counts\u001b[0m\u001b[1;33m[\u001b[0m\u001b[1;34m'STATE'\u001b[0m\u001b[1;33m]\u001b[0m \u001b[1;33m==\u001b[0m \u001b[1;34m\"CA\"\u001b[0m\u001b[1;33m]\u001b[0m\u001b[1;33m[\u001b[0m\u001b[1;34m'CITY'\u001b[0m\u001b[1;33m]\u001b[0m\u001b[1;33m[\u001b[0m\u001b[1;36m0\u001b[0m\u001b[1;33m]\u001b[0m\u001b[1;33m\u001b[0m\u001b[1;33m\u001b[0m\u001b[0m\n\u001b[1;32m----> 2\u001b[1;33m \u001b[0mtx_nf_count\u001b[0m \u001b[1;33m=\u001b[0m \u001b[0mstate_fraud_counts\u001b[0m\u001b[1;33m[\u001b[0m\u001b[0mstate_fraud_counts\u001b[0m\u001b[1;33m[\u001b[0m\u001b[1;34m'STATE'\u001b[0m\u001b[1;33m]\u001b[0m \u001b[1;33m==\u001b[0m \u001b[1;34m\"TX\"\u001b[0m\u001b[1;33m]\u001b[0m\u001b[1;33m[\u001b[0m\u001b[1;34m'Job Count'\u001b[0m\u001b[1;33m]\u001b[0m\u001b[1;33m[\u001b[0m\u001b[1;36m0\u001b[0m\u001b[1;33m]\u001b[0m\u001b[1;33m\u001b[0m\u001b[1;33m\u001b[0m\u001b[0m\n\u001b[0m\u001b[0;32m      3\u001b[0m \u001b[0mny_nf_count\u001b[0m \u001b[1;33m=\u001b[0m \u001b[0mstate_fraud_counts\u001b[0m\u001b[1;33m[\u001b[0m\u001b[0mstate_fraud_counts\u001b[0m\u001b[1;33m[\u001b[0m\u001b[1;34m'STATE'\u001b[0m\u001b[1;33m]\u001b[0m \u001b[1;33m==\u001b[0m \u001b[1;34m\"NY\"\u001b[0m\u001b[1;33m]\u001b[0m\u001b[1;33m[\u001b[0m\u001b[1;34m'Job Count'\u001b[0m\u001b[1;33m]\u001b[0m\u001b[1;33m[\u001b[0m\u001b[1;36m0\u001b[0m\u001b[1;33m]\u001b[0m\u001b[1;33m\u001b[0m\u001b[1;33m\u001b[0m\u001b[0m\n\u001b[0;32m      4\u001b[0m \u001b[0mca_f_count\u001b[0m \u001b[1;33m=\u001b[0m \u001b[0mstate_fraud_counts\u001b[0m\u001b[1;33m[\u001b[0m\u001b[0mstate_fraud_counts\u001b[0m\u001b[1;33m[\u001b[0m\u001b[1;34m'STATE'\u001b[0m\u001b[1;33m]\u001b[0m \u001b[1;33m==\u001b[0m \u001b[1;34m\"CA\"\u001b[0m\u001b[1;33m]\u001b[0m\u001b[1;33m[\u001b[0m\u001b[1;34m'Job Count'\u001b[0m\u001b[1;33m]\u001b[0m\u001b[1;33m[\u001b[0m\u001b[1;36m0\u001b[0m\u001b[1;33m]\u001b[0m\u001b[1;33m\u001b[0m\u001b[1;33m\u001b[0m\u001b[0m\n\u001b[0;32m      5\u001b[0m \u001b[0mtx_f_count\u001b[0m \u001b[1;33m=\u001b[0m \u001b[0mstate_fraud_counts\u001b[0m\u001b[1;33m[\u001b[0m\u001b[0mstate_fraud_counts\u001b[0m\u001b[1;33m[\u001b[0m\u001b[1;34m'STATE'\u001b[0m\u001b[1;33m]\u001b[0m \u001b[1;33m==\u001b[0m \u001b[1;34m\"TX\"\u001b[0m\u001b[1;33m]\u001b[0m\u001b[1;33m[\u001b[0m\u001b[1;34m'Job Count'\u001b[0m\u001b[1;33m]\u001b[0m\u001b[1;33m[\u001b[0m\u001b[1;36m0\u001b[0m\u001b[1;33m]\u001b[0m\u001b[1;33m\u001b[0m\u001b[1;33m\u001b[0m\u001b[0m\n",
      "\u001b[1;32m~\\Anaconda3\\lib\\site-packages\\pandas\\core\\frame.py\u001b[0m in \u001b[0;36m__getitem__\u001b[1;34m(self, key)\u001b[0m\n\u001b[0;32m   2978\u001b[0m             \u001b[1;32mif\u001b[0m \u001b[0mself\u001b[0m\u001b[1;33m.\u001b[0m\u001b[0mcolumns\u001b[0m\u001b[1;33m.\u001b[0m\u001b[0mnlevels\u001b[0m \u001b[1;33m>\u001b[0m \u001b[1;36m1\u001b[0m\u001b[1;33m:\u001b[0m\u001b[1;33m\u001b[0m\u001b[1;33m\u001b[0m\u001b[0m\n\u001b[0;32m   2979\u001b[0m                 \u001b[1;32mreturn\u001b[0m \u001b[0mself\u001b[0m\u001b[1;33m.\u001b[0m\u001b[0m_getitem_multilevel\u001b[0m\u001b[1;33m(\u001b[0m\u001b[0mkey\u001b[0m\u001b[1;33m)\u001b[0m\u001b[1;33m\u001b[0m\u001b[1;33m\u001b[0m\u001b[0m\n\u001b[1;32m-> 2980\u001b[1;33m             \u001b[0mindexer\u001b[0m \u001b[1;33m=\u001b[0m \u001b[0mself\u001b[0m\u001b[1;33m.\u001b[0m\u001b[0mcolumns\u001b[0m\u001b[1;33m.\u001b[0m\u001b[0mget_loc\u001b[0m\u001b[1;33m(\u001b[0m\u001b[0mkey\u001b[0m\u001b[1;33m)\u001b[0m\u001b[1;33m\u001b[0m\u001b[1;33m\u001b[0m\u001b[0m\n\u001b[0m\u001b[0;32m   2981\u001b[0m             \u001b[1;32mif\u001b[0m \u001b[0mis_integer\u001b[0m\u001b[1;33m(\u001b[0m\u001b[0mindexer\u001b[0m\u001b[1;33m)\u001b[0m\u001b[1;33m:\u001b[0m\u001b[1;33m\u001b[0m\u001b[1;33m\u001b[0m\u001b[0m\n\u001b[0;32m   2982\u001b[0m                 \u001b[0mindexer\u001b[0m \u001b[1;33m=\u001b[0m \u001b[1;33m[\u001b[0m\u001b[0mindexer\u001b[0m\u001b[1;33m]\u001b[0m\u001b[1;33m\u001b[0m\u001b[1;33m\u001b[0m\u001b[0m\n",
      "\u001b[1;32m~\\Anaconda3\\lib\\site-packages\\pandas\\core\\indexes\\base.py\u001b[0m in \u001b[0;36mget_loc\u001b[1;34m(self, key, method, tolerance)\u001b[0m\n\u001b[0;32m   2897\u001b[0m                 \u001b[1;32mreturn\u001b[0m \u001b[0mself\u001b[0m\u001b[1;33m.\u001b[0m\u001b[0m_engine\u001b[0m\u001b[1;33m.\u001b[0m\u001b[0mget_loc\u001b[0m\u001b[1;33m(\u001b[0m\u001b[0mkey\u001b[0m\u001b[1;33m)\u001b[0m\u001b[1;33m\u001b[0m\u001b[1;33m\u001b[0m\u001b[0m\n\u001b[0;32m   2898\u001b[0m             \u001b[1;32mexcept\u001b[0m \u001b[0mKeyError\u001b[0m\u001b[1;33m:\u001b[0m\u001b[1;33m\u001b[0m\u001b[1;33m\u001b[0m\u001b[0m\n\u001b[1;32m-> 2899\u001b[1;33m                 \u001b[1;32mreturn\u001b[0m \u001b[0mself\u001b[0m\u001b[1;33m.\u001b[0m\u001b[0m_engine\u001b[0m\u001b[1;33m.\u001b[0m\u001b[0mget_loc\u001b[0m\u001b[1;33m(\u001b[0m\u001b[0mself\u001b[0m\u001b[1;33m.\u001b[0m\u001b[0m_maybe_cast_indexer\u001b[0m\u001b[1;33m(\u001b[0m\u001b[0mkey\u001b[0m\u001b[1;33m)\u001b[0m\u001b[1;33m)\u001b[0m\u001b[1;33m\u001b[0m\u001b[1;33m\u001b[0m\u001b[0m\n\u001b[0m\u001b[0;32m   2900\u001b[0m         \u001b[0mindexer\u001b[0m \u001b[1;33m=\u001b[0m \u001b[0mself\u001b[0m\u001b[1;33m.\u001b[0m\u001b[0mget_indexer\u001b[0m\u001b[1;33m(\u001b[0m\u001b[1;33m[\u001b[0m\u001b[0mkey\u001b[0m\u001b[1;33m]\u001b[0m\u001b[1;33m,\u001b[0m \u001b[0mmethod\u001b[0m\u001b[1;33m=\u001b[0m\u001b[0mmethod\u001b[0m\u001b[1;33m,\u001b[0m \u001b[0mtolerance\u001b[0m\u001b[1;33m=\u001b[0m\u001b[0mtolerance\u001b[0m\u001b[1;33m)\u001b[0m\u001b[1;33m\u001b[0m\u001b[1;33m\u001b[0m\u001b[0m\n\u001b[0;32m   2901\u001b[0m         \u001b[1;32mif\u001b[0m \u001b[0mindexer\u001b[0m\u001b[1;33m.\u001b[0m\u001b[0mndim\u001b[0m \u001b[1;33m>\u001b[0m \u001b[1;36m1\u001b[0m \u001b[1;32mor\u001b[0m \u001b[0mindexer\u001b[0m\u001b[1;33m.\u001b[0m\u001b[0msize\u001b[0m \u001b[1;33m>\u001b[0m \u001b[1;36m1\u001b[0m\u001b[1;33m:\u001b[0m\u001b[1;33m\u001b[0m\u001b[1;33m\u001b[0m\u001b[0m\n",
      "\u001b[1;32mpandas\\_libs\\index.pyx\u001b[0m in \u001b[0;36mpandas._libs.index.IndexEngine.get_loc\u001b[1;34m()\u001b[0m\n",
      "\u001b[1;32mpandas\\_libs\\index.pyx\u001b[0m in \u001b[0;36mpandas._libs.index.IndexEngine.get_loc\u001b[1;34m()\u001b[0m\n",
      "\u001b[1;32mpandas\\_libs\\hashtable_class_helper.pxi\u001b[0m in \u001b[0;36mpandas._libs.hashtable.PyObjectHashTable.get_item\u001b[1;34m()\u001b[0m\n",
      "\u001b[1;32mpandas\\_libs\\hashtable_class_helper.pxi\u001b[0m in \u001b[0;36mpandas._libs.hashtable.PyObjectHashTable.get_item\u001b[1;34m()\u001b[0m\n",
      "\u001b[1;31mKeyError\u001b[0m: 'Job Count'"
     ]
    }
   ],
   "source": [
    "ca_nf_count = state_fraud_counts[state_fraud_counts['STATE'] == \"CA\"]['CITY'][0]\n",
    "tx_nf_count = state_fraud_counts[state_fraud_counts['STATE'] == \"TX\"]['Job Count'][0]\n",
    "ny_nf_count = state_fraud_counts[state_fraud_counts['STATE'] == \"NY\"]['Job Count'][0]\n",
    "ca_f_count = state_fraud_counts[state_fraud_counts['STATE'] == \"CA\"]['Job Count'][0]\n",
    "tx_f_count = state_fraud_counts[state_fraud_counts['STATE'] == \"TX\"]['Job Count'][0]\n",
    "ny_f_count = state_fraud_counts[state_fraud_counts['STATE'] == \"NY\"]['Job Count'][0]"
   ]
  },
  {
   "cell_type": "code",
   "execution_count": 58,
   "metadata": {},
   "outputs": [
    {
     "data": {
      "text/html": [
       "<div>\n",
       "<style scoped>\n",
       "    .dataframe tbody tr th:only-of-type {\n",
       "        vertical-align: middle;\n",
       "    }\n",
       "\n",
       "    .dataframe tbody tr th {\n",
       "        vertical-align: top;\n",
       "    }\n",
       "\n",
       "    .dataframe thead th {\n",
       "        text-align: right;\n",
       "    }\n",
       "</style>\n",
       "<table border=\"1\" class=\"dataframe\">\n",
       "  <thead>\n",
       "    <tr style=\"text-align: right;\">\n",
       "      <th></th>\n",
       "      <th>JOB ID</th>\n",
       "      <th>TITLE</th>\n",
       "      <th>DEPARTMENT</th>\n",
       "      <th>SALARY RANGE</th>\n",
       "      <th>COMPANY PROFILE</th>\n",
       "      <th>DESCRIPTION</th>\n",
       "      <th>REQUIREMENTS</th>\n",
       "      <th>BENEFITS</th>\n",
       "      <th>TELECOMMUTING</th>\n",
       "      <th>HAS COMPANY LOGO</th>\n",
       "      <th>HAS QUESTIONS</th>\n",
       "      <th>EMPLOYMENT TYPE</th>\n",
       "      <th>REQUIRED EXPERIENCE</th>\n",
       "      <th>REQUIRED EDUCATION</th>\n",
       "      <th>INDUSTRY</th>\n",
       "      <th>FUNCTION</th>\n",
       "      <th>FRAUDULENT</th>\n",
       "      <th>CITY</th>\n",
       "      <th>STATE</th>\n",
       "      <th>COUNTRY</th>\n",
       "    </tr>\n",
       "  </thead>\n",
       "  <tbody>\n",
       "    <tr>\n",
       "      <td>0</td>\n",
       "      <td>1</td>\n",
       "      <td>Marketing Intern</td>\n",
       "      <td>Marketing</td>\n",
       "      <td>NaN</td>\n",
       "      <td>We're Food52, and we've created a groundbreaki...</td>\n",
       "      <td>Food52, a fast-growing, James Beard Award-winn...</td>\n",
       "      <td>Experience with content management systems a m...</td>\n",
       "      <td>NaN</td>\n",
       "      <td>0</td>\n",
       "      <td>1</td>\n",
       "      <td>0</td>\n",
       "      <td>Other</td>\n",
       "      <td>Internship</td>\n",
       "      <td>NaN</td>\n",
       "      <td>NaN</td>\n",
       "      <td>Marketing</td>\n",
       "      <td>0</td>\n",
       "      <td>New York</td>\n",
       "      <td>NY</td>\n",
       "      <td>US</td>\n",
       "    </tr>\n",
       "    <tr>\n",
       "      <td>1</td>\n",
       "      <td>2</td>\n",
       "      <td>Customer Service - Cloud Video Production</td>\n",
       "      <td>Success</td>\n",
       "      <td>NaN</td>\n",
       "      <td>90 Seconds, the worlds Cloud Video Production ...</td>\n",
       "      <td>Organised - Focused - Vibrant - Awesome!Do you...</td>\n",
       "      <td>What we expect from you:Your key responsibilit...</td>\n",
       "      <td>What you will get from usThrough being part of...</td>\n",
       "      <td>0</td>\n",
       "      <td>1</td>\n",
       "      <td>0</td>\n",
       "      <td>Full-time</td>\n",
       "      <td>Not Applicable</td>\n",
       "      <td>NaN</td>\n",
       "      <td>Marketing and Advertising</td>\n",
       "      <td>Customer Service</td>\n",
       "      <td>0</td>\n",
       "      <td>Auckland</td>\n",
       "      <td></td>\n",
       "      <td>NZ</td>\n",
       "    </tr>\n",
       "    <tr>\n",
       "      <td>2</td>\n",
       "      <td>3</td>\n",
       "      <td>Commissioning Machinery Assistant (CMA)</td>\n",
       "      <td>NaN</td>\n",
       "      <td>NaN</td>\n",
       "      <td>Valor Services provides Workforce Solutions th...</td>\n",
       "      <td>Our client, located in Houston, is actively se...</td>\n",
       "      <td>Implement pre-commissioning and commissioning ...</td>\n",
       "      <td>NaN</td>\n",
       "      <td>0</td>\n",
       "      <td>1</td>\n",
       "      <td>0</td>\n",
       "      <td>NaN</td>\n",
       "      <td>NaN</td>\n",
       "      <td>NaN</td>\n",
       "      <td>NaN</td>\n",
       "      <td>NaN</td>\n",
       "      <td>0</td>\n",
       "      <td>Wever</td>\n",
       "      <td>IA</td>\n",
       "      <td>US</td>\n",
       "    </tr>\n",
       "    <tr>\n",
       "      <td>3</td>\n",
       "      <td>4</td>\n",
       "      <td>Account Executive - Washington DC</td>\n",
       "      <td>Sales</td>\n",
       "      <td>NaN</td>\n",
       "      <td>Our passion for improving quality of life thro...</td>\n",
       "      <td>THE COMPANY: ESRI – Environmental Systems Rese...</td>\n",
       "      <td>EDUCATION: Bachelor’s or Master’s in GIS, busi...</td>\n",
       "      <td>Our culture is anything but corporate—we have ...</td>\n",
       "      <td>0</td>\n",
       "      <td>1</td>\n",
       "      <td>0</td>\n",
       "      <td>Full-time</td>\n",
       "      <td>Mid-Senior level</td>\n",
       "      <td>Bachelor's Degree</td>\n",
       "      <td>Computer Software</td>\n",
       "      <td>Sales</td>\n",
       "      <td>0</td>\n",
       "      <td>Washington</td>\n",
       "      <td>DC</td>\n",
       "      <td>US</td>\n",
       "    </tr>\n",
       "    <tr>\n",
       "      <td>4</td>\n",
       "      <td>5</td>\n",
       "      <td>Bill Review Manager</td>\n",
       "      <td>NaN</td>\n",
       "      <td>NaN</td>\n",
       "      <td>SpotSource Solutions LLC is a Global Human Cap...</td>\n",
       "      <td>JOB TITLE: Itemization Review ManagerLOCATION:...</td>\n",
       "      <td>QUALIFICATIONS:RN license in the State of Texa...</td>\n",
       "      <td>Full Benefits Offered</td>\n",
       "      <td>0</td>\n",
       "      <td>1</td>\n",
       "      <td>1</td>\n",
       "      <td>Full-time</td>\n",
       "      <td>Mid-Senior level</td>\n",
       "      <td>Bachelor's Degree</td>\n",
       "      <td>Hospital &amp; Health Care</td>\n",
       "      <td>Health Care Provider</td>\n",
       "      <td>0</td>\n",
       "      <td>Fort Worth</td>\n",
       "      <td>FL</td>\n",
       "      <td>US</td>\n",
       "    </tr>\n",
       "    <tr>\n",
       "      <td>...</td>\n",
       "      <td>...</td>\n",
       "      <td>...</td>\n",
       "      <td>...</td>\n",
       "      <td>...</td>\n",
       "      <td>...</td>\n",
       "      <td>...</td>\n",
       "      <td>...</td>\n",
       "      <td>...</td>\n",
       "      <td>...</td>\n",
       "      <td>...</td>\n",
       "      <td>...</td>\n",
       "      <td>...</td>\n",
       "      <td>...</td>\n",
       "      <td>...</td>\n",
       "      <td>...</td>\n",
       "      <td>...</td>\n",
       "      <td>...</td>\n",
       "      <td>...</td>\n",
       "      <td>...</td>\n",
       "      <td>...</td>\n",
       "    </tr>\n",
       "    <tr>\n",
       "      <td>17875</td>\n",
       "      <td>17876</td>\n",
       "      <td>Account Director - Distribution</td>\n",
       "      <td>Sales</td>\n",
       "      <td>NaN</td>\n",
       "      <td>Vend is looking for some awesome new talent to...</td>\n",
       "      <td>Just in case this is the first time you’ve vis...</td>\n",
       "      <td>To ace this role you:Will eat comprehensive St...</td>\n",
       "      <td>What can you expect from us?We have an open cu...</td>\n",
       "      <td>0</td>\n",
       "      <td>1</td>\n",
       "      <td>1</td>\n",
       "      <td>Full-time</td>\n",
       "      <td>Mid-Senior level</td>\n",
       "      <td>NaN</td>\n",
       "      <td>Computer Software</td>\n",
       "      <td>Sales</td>\n",
       "      <td>0</td>\n",
       "      <td>Toronto</td>\n",
       "      <td>ON</td>\n",
       "      <td>CA</td>\n",
       "    </tr>\n",
       "    <tr>\n",
       "      <td>17876</td>\n",
       "      <td>17877</td>\n",
       "      <td>Payroll Accountant</td>\n",
       "      <td>Accounting</td>\n",
       "      <td>NaN</td>\n",
       "      <td>WebLinc is the e-commerce platform and service...</td>\n",
       "      <td>The Payroll Accountant will focus primarily on...</td>\n",
       "      <td>- B.A. or B.S. in Accounting- Desire to have f...</td>\n",
       "      <td>Health &amp;amp; WellnessMedical planPrescription ...</td>\n",
       "      <td>0</td>\n",
       "      <td>1</td>\n",
       "      <td>1</td>\n",
       "      <td>Full-time</td>\n",
       "      <td>Mid-Senior level</td>\n",
       "      <td>Bachelor's Degree</td>\n",
       "      <td>Internet</td>\n",
       "      <td>Accounting/Auditing</td>\n",
       "      <td>0</td>\n",
       "      <td>Philadelphia</td>\n",
       "      <td>PA</td>\n",
       "      <td>US</td>\n",
       "    </tr>\n",
       "    <tr>\n",
       "      <td>17877</td>\n",
       "      <td>17878</td>\n",
       "      <td>Project Cost Control Staff Engineer - Cost Con...</td>\n",
       "      <td>NaN</td>\n",
       "      <td>NaN</td>\n",
       "      <td>We Provide Full Time Permanent Positions for m...</td>\n",
       "      <td>Experienced Project Cost Control Staff Enginee...</td>\n",
       "      <td>At least 12 years professional experience.Abil...</td>\n",
       "      <td>NaN</td>\n",
       "      <td>0</td>\n",
       "      <td>0</td>\n",
       "      <td>0</td>\n",
       "      <td>Full-time</td>\n",
       "      <td>NaN</td>\n",
       "      <td>NaN</td>\n",
       "      <td>NaN</td>\n",
       "      <td>NaN</td>\n",
       "      <td>0</td>\n",
       "      <td>Houston</td>\n",
       "      <td>TX</td>\n",
       "      <td>US</td>\n",
       "    </tr>\n",
       "    <tr>\n",
       "      <td>17878</td>\n",
       "      <td>17879</td>\n",
       "      <td>Graphic Designer</td>\n",
       "      <td>NaN</td>\n",
       "      <td>NaN</td>\n",
       "      <td>NaN</td>\n",
       "      <td>Nemsia Studios is looking for an experienced v...</td>\n",
       "      <td>1. Must be fluent in the latest versions of Co...</td>\n",
       "      <td>Competitive salary (compensation will be based...</td>\n",
       "      <td>0</td>\n",
       "      <td>0</td>\n",
       "      <td>1</td>\n",
       "      <td>Contract</td>\n",
       "      <td>Not Applicable</td>\n",
       "      <td>Professional</td>\n",
       "      <td>Graphic Design</td>\n",
       "      <td>Design</td>\n",
       "      <td>0</td>\n",
       "      <td>Lagos</td>\n",
       "      <td>LA</td>\n",
       "      <td>NG</td>\n",
       "    </tr>\n",
       "    <tr>\n",
       "      <td>17879</td>\n",
       "      <td>17880</td>\n",
       "      <td>Web Application Developers</td>\n",
       "      <td>Engineering</td>\n",
       "      <td>NaN</td>\n",
       "      <td>Vend is looking for some awesome new talent to...</td>\n",
       "      <td>Who are we?Vend is an award winning web based ...</td>\n",
       "      <td>We want to hear from you if:You have an in-dep...</td>\n",
       "      <td>NaN</td>\n",
       "      <td>0</td>\n",
       "      <td>1</td>\n",
       "      <td>1</td>\n",
       "      <td>Full-time</td>\n",
       "      <td>Mid-Senior level</td>\n",
       "      <td>NaN</td>\n",
       "      <td>Computer Software</td>\n",
       "      <td>Engineering</td>\n",
       "      <td>0</td>\n",
       "      <td>Wellington</td>\n",
       "      <td>N</td>\n",
       "      <td>NZ</td>\n",
       "    </tr>\n",
       "  </tbody>\n",
       "</table>\n",
       "<p>17534 rows × 20 columns</p>\n",
       "</div>"
      ],
      "text/plain": [
       "       JOB ID                                              TITLE   DEPARTMENT  \\\n",
       "0           1                                   Marketing Intern    Marketing   \n",
       "1           2          Customer Service - Cloud Video Production      Success   \n",
       "2           3            Commissioning Machinery Assistant (CMA)          NaN   \n",
       "3           4                  Account Executive - Washington DC        Sales   \n",
       "4           5                                Bill Review Manager          NaN   \n",
       "...       ...                                                ...          ...   \n",
       "17875   17876                   Account Director - Distribution         Sales   \n",
       "17876   17877                                 Payroll Accountant   Accounting   \n",
       "17877   17878  Project Cost Control Staff Engineer - Cost Con...          NaN   \n",
       "17878   17879                                   Graphic Designer          NaN   \n",
       "17879   17880                         Web Application Developers  Engineering   \n",
       "\n",
       "      SALARY RANGE                                    COMPANY PROFILE  \\\n",
       "0              NaN  We're Food52, and we've created a groundbreaki...   \n",
       "1              NaN  90 Seconds, the worlds Cloud Video Production ...   \n",
       "2              NaN  Valor Services provides Workforce Solutions th...   \n",
       "3              NaN  Our passion for improving quality of life thro...   \n",
       "4              NaN  SpotSource Solutions LLC is a Global Human Cap...   \n",
       "...            ...                                                ...   \n",
       "17875          NaN  Vend is looking for some awesome new talent to...   \n",
       "17876          NaN  WebLinc is the e-commerce platform and service...   \n",
       "17877          NaN  We Provide Full Time Permanent Positions for m...   \n",
       "17878          NaN                                                NaN   \n",
       "17879          NaN  Vend is looking for some awesome new talent to...   \n",
       "\n",
       "                                             DESCRIPTION  \\\n",
       "0      Food52, a fast-growing, James Beard Award-winn...   \n",
       "1      Organised - Focused - Vibrant - Awesome!Do you...   \n",
       "2      Our client, located in Houston, is actively se...   \n",
       "3      THE COMPANY: ESRI – Environmental Systems Rese...   \n",
       "4      JOB TITLE: Itemization Review ManagerLOCATION:...   \n",
       "...                                                  ...   \n",
       "17875  Just in case this is the first time you’ve vis...   \n",
       "17876  The Payroll Accountant will focus primarily on...   \n",
       "17877  Experienced Project Cost Control Staff Enginee...   \n",
       "17878  Nemsia Studios is looking for an experienced v...   \n",
       "17879  Who are we?Vend is an award winning web based ...   \n",
       "\n",
       "                                            REQUIREMENTS  \\\n",
       "0      Experience with content management systems a m...   \n",
       "1      What we expect from you:Your key responsibilit...   \n",
       "2      Implement pre-commissioning and commissioning ...   \n",
       "3      EDUCATION: Bachelor’s or Master’s in GIS, busi...   \n",
       "4      QUALIFICATIONS:RN license in the State of Texa...   \n",
       "...                                                  ...   \n",
       "17875  To ace this role you:Will eat comprehensive St...   \n",
       "17876  - B.A. or B.S. in Accounting- Desire to have f...   \n",
       "17877  At least 12 years professional experience.Abil...   \n",
       "17878  1. Must be fluent in the latest versions of Co...   \n",
       "17879  We want to hear from you if:You have an in-dep...   \n",
       "\n",
       "                                                BENEFITS  TELECOMMUTING  \\\n",
       "0                                                    NaN              0   \n",
       "1      What you will get from usThrough being part of...              0   \n",
       "2                                                    NaN              0   \n",
       "3      Our culture is anything but corporate—we have ...              0   \n",
       "4                                  Full Benefits Offered              0   \n",
       "...                                                  ...            ...   \n",
       "17875  What can you expect from us?We have an open cu...              0   \n",
       "17876  Health &amp; WellnessMedical planPrescription ...              0   \n",
       "17877                                                NaN              0   \n",
       "17878  Competitive salary (compensation will be based...              0   \n",
       "17879                                                NaN              0   \n",
       "\n",
       "       HAS COMPANY LOGO  HAS QUESTIONS EMPLOYMENT TYPE REQUIRED EXPERIENCE  \\\n",
       "0                     1              0           Other          Internship   \n",
       "1                     1              0       Full-time      Not Applicable   \n",
       "2                     1              0             NaN                 NaN   \n",
       "3                     1              0       Full-time    Mid-Senior level   \n",
       "4                     1              1       Full-time    Mid-Senior level   \n",
       "...                 ...            ...             ...                 ...   \n",
       "17875                 1              1       Full-time    Mid-Senior level   \n",
       "17876                 1              1       Full-time    Mid-Senior level   \n",
       "17877                 0              0       Full-time                 NaN   \n",
       "17878                 0              1        Contract      Not Applicable   \n",
       "17879                 1              1       Full-time    Mid-Senior level   \n",
       "\n",
       "      REQUIRED EDUCATION                   INDUSTRY              FUNCTION  \\\n",
       "0                    NaN                        NaN             Marketing   \n",
       "1                    NaN  Marketing and Advertising      Customer Service   \n",
       "2                    NaN                        NaN                   NaN   \n",
       "3      Bachelor's Degree          Computer Software                 Sales   \n",
       "4      Bachelor's Degree     Hospital & Health Care  Health Care Provider   \n",
       "...                  ...                        ...                   ...   \n",
       "17875                NaN          Computer Software                 Sales   \n",
       "17876  Bachelor's Degree                   Internet   Accounting/Auditing   \n",
       "17877                NaN                        NaN                   NaN   \n",
       "17878       Professional             Graphic Design                Design   \n",
       "17879                NaN          Computer Software           Engineering   \n",
       "\n",
       "       FRAUDULENT          CITY STATE COUNTRY  \n",
       "0               0      New York    NY      US  \n",
       "1               0      Auckland            NZ  \n",
       "2               0         Wever    IA      US  \n",
       "3               0    Washington    DC      US  \n",
       "4               0    Fort Worth    FL      US  \n",
       "...           ...           ...   ...     ...  \n",
       "17875           0       Toronto    ON      CA  \n",
       "17876           0  Philadelphia    PA      US  \n",
       "17877           0       Houston    TX      US  \n",
       "17878           0         Lagos    LA      NG  \n",
       "17879           0    Wellington     N      NZ  \n",
       "\n",
       "[17534 rows x 20 columns]"
      ]
     },
     "execution_count": 58,
     "metadata": {},
     "output_type": "execute_result"
    }
   ],
   "source": [
    "# remove underscores from columns\n",
    "job_postings.columns = job_postings.columns.str.replace('_', ' ')\n",
    "# uppercase all columns titles\n",
    "job_postings.columns = job_postings.columns.str.upper()\n",
    "job_postings"
   ]
  },
  {
   "cell_type": "code",
   "execution_count": 59,
   "metadata": {},
   "outputs": [
    {
     "data": {
      "text/html": [
       "<div>\n",
       "<style scoped>\n",
       "    .dataframe tbody tr th:only-of-type {\n",
       "        vertical-align: middle;\n",
       "    }\n",
       "\n",
       "    .dataframe tbody tr th {\n",
       "        vertical-align: top;\n",
       "    }\n",
       "\n",
       "    .dataframe thead th {\n",
       "        text-align: right;\n",
       "    }\n",
       "</style>\n",
       "<table border=\"1\" class=\"dataframe\">\n",
       "  <thead>\n",
       "    <tr style=\"text-align: right;\">\n",
       "      <th></th>\n",
       "      <th>JOB ID</th>\n",
       "      <th>TITLE</th>\n",
       "      <th>DEPARTMENT</th>\n",
       "      <th>SALARY RANGE</th>\n",
       "      <th>COMPANY PROFILE</th>\n",
       "      <th>DESCRIPTION</th>\n",
       "      <th>REQUIREMENTS</th>\n",
       "      <th>BENEFITS</th>\n",
       "      <th>TELECOMMUTING</th>\n",
       "      <th>HAS COMPANY LOGO</th>\n",
       "      <th>HAS QUESTIONS</th>\n",
       "      <th>EMPLOYMENT TYPE</th>\n",
       "      <th>REQUIRED EXPERIENCE</th>\n",
       "      <th>REQUIRED EDUCATION</th>\n",
       "      <th>INDUSTRY</th>\n",
       "      <th>FUNCTION</th>\n",
       "      <th>FRAUDULENT</th>\n",
       "      <th>CITY</th>\n",
       "      <th>STATE</th>\n",
       "      <th>COUNTRY</th>\n",
       "    </tr>\n",
       "  </thead>\n",
       "  <tbody>\n",
       "    <tr>\n",
       "      <td>0</td>\n",
       "      <td>1</td>\n",
       "      <td>Marketing Intern</td>\n",
       "      <td>Marketing</td>\n",
       "      <td>NaN</td>\n",
       "      <td>We're Food52, and we've created a groundbreaki...</td>\n",
       "      <td>Food52, a fast-growing, James Beard Award-winn...</td>\n",
       "      <td>Experience with content management systems a m...</td>\n",
       "      <td>NaN</td>\n",
       "      <td>0</td>\n",
       "      <td>1</td>\n",
       "      <td>0</td>\n",
       "      <td>Other</td>\n",
       "      <td>Internship</td>\n",
       "      <td>NaN</td>\n",
       "      <td>NaN</td>\n",
       "      <td>Marketing</td>\n",
       "      <td>0</td>\n",
       "      <td>New York</td>\n",
       "      <td>NY</td>\n",
       "      <td>US</td>\n",
       "    </tr>\n",
       "    <tr>\n",
       "      <td>1</td>\n",
       "      <td>2</td>\n",
       "      <td>Customer Service - Cloud Video Production</td>\n",
       "      <td>Success</td>\n",
       "      <td>NaN</td>\n",
       "      <td>90 Seconds, the worlds Cloud Video Production ...</td>\n",
       "      <td>Organised - Focused - Vibrant - Awesome!Do you...</td>\n",
       "      <td>What we expect from you:Your key responsibilit...</td>\n",
       "      <td>What you will get from usThrough being part of...</td>\n",
       "      <td>0</td>\n",
       "      <td>1</td>\n",
       "      <td>0</td>\n",
       "      <td>Full-time</td>\n",
       "      <td>Not Applicable</td>\n",
       "      <td>NaN</td>\n",
       "      <td>Marketing and Advertising</td>\n",
       "      <td>Customer Service</td>\n",
       "      <td>0</td>\n",
       "      <td>Auckland</td>\n",
       "      <td></td>\n",
       "      <td>NZ</td>\n",
       "    </tr>\n",
       "    <tr>\n",
       "      <td>2</td>\n",
       "      <td>3</td>\n",
       "      <td>Commissioning Machinery Assistant (CMA)</td>\n",
       "      <td>NaN</td>\n",
       "      <td>NaN</td>\n",
       "      <td>Valor Services provides Workforce Solutions th...</td>\n",
       "      <td>Our client, located in Houston, is actively se...</td>\n",
       "      <td>Implement pre-commissioning and commissioning ...</td>\n",
       "      <td>NaN</td>\n",
       "      <td>0</td>\n",
       "      <td>1</td>\n",
       "      <td>0</td>\n",
       "      <td>NaN</td>\n",
       "      <td>NaN</td>\n",
       "      <td>NaN</td>\n",
       "      <td>NaN</td>\n",
       "      <td>NaN</td>\n",
       "      <td>0</td>\n",
       "      <td>Wever</td>\n",
       "      <td>IA</td>\n",
       "      <td>US</td>\n",
       "    </tr>\n",
       "    <tr>\n",
       "      <td>3</td>\n",
       "      <td>4</td>\n",
       "      <td>Account Executive - Washington DC</td>\n",
       "      <td>Sales</td>\n",
       "      <td>NaN</td>\n",
       "      <td>Our passion for improving quality of life thro...</td>\n",
       "      <td>THE COMPANY: ESRI – Environmental Systems Rese...</td>\n",
       "      <td>EDUCATION: Bachelor’s or Master’s in GIS, busi...</td>\n",
       "      <td>Our culture is anything but corporate—we have ...</td>\n",
       "      <td>0</td>\n",
       "      <td>1</td>\n",
       "      <td>0</td>\n",
       "      <td>Full-time</td>\n",
       "      <td>Mid-Senior level</td>\n",
       "      <td>Bachelor's Degree</td>\n",
       "      <td>Computer Software</td>\n",
       "      <td>Sales</td>\n",
       "      <td>0</td>\n",
       "      <td>Washington</td>\n",
       "      <td>DC</td>\n",
       "      <td>US</td>\n",
       "    </tr>\n",
       "    <tr>\n",
       "      <td>4</td>\n",
       "      <td>5</td>\n",
       "      <td>Bill Review Manager</td>\n",
       "      <td>NaN</td>\n",
       "      <td>NaN</td>\n",
       "      <td>SpotSource Solutions LLC is a Global Human Cap...</td>\n",
       "      <td>JOB TITLE: Itemization Review ManagerLOCATION:...</td>\n",
       "      <td>QUALIFICATIONS:RN license in the State of Texa...</td>\n",
       "      <td>Full Benefits Offered</td>\n",
       "      <td>0</td>\n",
       "      <td>1</td>\n",
       "      <td>1</td>\n",
       "      <td>Full-time</td>\n",
       "      <td>Mid-Senior level</td>\n",
       "      <td>Bachelor's Degree</td>\n",
       "      <td>Hospital &amp; Health Care</td>\n",
       "      <td>Health Care Provider</td>\n",
       "      <td>0</td>\n",
       "      <td>Fort Worth</td>\n",
       "      <td>FL</td>\n",
       "      <td>US</td>\n",
       "    </tr>\n",
       "    <tr>\n",
       "      <td>...</td>\n",
       "      <td>...</td>\n",
       "      <td>...</td>\n",
       "      <td>...</td>\n",
       "      <td>...</td>\n",
       "      <td>...</td>\n",
       "      <td>...</td>\n",
       "      <td>...</td>\n",
       "      <td>...</td>\n",
       "      <td>...</td>\n",
       "      <td>...</td>\n",
       "      <td>...</td>\n",
       "      <td>...</td>\n",
       "      <td>...</td>\n",
       "      <td>...</td>\n",
       "      <td>...</td>\n",
       "      <td>...</td>\n",
       "      <td>...</td>\n",
       "      <td>...</td>\n",
       "      <td>...</td>\n",
       "      <td>...</td>\n",
       "    </tr>\n",
       "    <tr>\n",
       "      <td>17875</td>\n",
       "      <td>17876</td>\n",
       "      <td>Account Director - Distribution</td>\n",
       "      <td>Sales</td>\n",
       "      <td>NaN</td>\n",
       "      <td>Vend is looking for some awesome new talent to...</td>\n",
       "      <td>Just in case this is the first time you’ve vis...</td>\n",
       "      <td>To ace this role you:Will eat comprehensive St...</td>\n",
       "      <td>What can you expect from us?We have an open cu...</td>\n",
       "      <td>0</td>\n",
       "      <td>1</td>\n",
       "      <td>1</td>\n",
       "      <td>Full-time</td>\n",
       "      <td>Mid-Senior level</td>\n",
       "      <td>NaN</td>\n",
       "      <td>Computer Software</td>\n",
       "      <td>Sales</td>\n",
       "      <td>0</td>\n",
       "      <td>Toronto</td>\n",
       "      <td>ON</td>\n",
       "      <td>CA</td>\n",
       "    </tr>\n",
       "    <tr>\n",
       "      <td>17876</td>\n",
       "      <td>17877</td>\n",
       "      <td>Payroll Accountant</td>\n",
       "      <td>Accounting</td>\n",
       "      <td>NaN</td>\n",
       "      <td>WebLinc is the e-commerce platform and service...</td>\n",
       "      <td>The Payroll Accountant will focus primarily on...</td>\n",
       "      <td>- B.A. or B.S. in Accounting- Desire to have f...</td>\n",
       "      <td>Health &amp;amp; WellnessMedical planPrescription ...</td>\n",
       "      <td>0</td>\n",
       "      <td>1</td>\n",
       "      <td>1</td>\n",
       "      <td>Full-time</td>\n",
       "      <td>Mid-Senior level</td>\n",
       "      <td>Bachelor's Degree</td>\n",
       "      <td>Internet</td>\n",
       "      <td>Accounting/Auditing</td>\n",
       "      <td>0</td>\n",
       "      <td>Philadelphia</td>\n",
       "      <td>PA</td>\n",
       "      <td>US</td>\n",
       "    </tr>\n",
       "    <tr>\n",
       "      <td>17877</td>\n",
       "      <td>17878</td>\n",
       "      <td>Project Cost Control Staff Engineer - Cost Con...</td>\n",
       "      <td>NaN</td>\n",
       "      <td>NaN</td>\n",
       "      <td>We Provide Full Time Permanent Positions for m...</td>\n",
       "      <td>Experienced Project Cost Control Staff Enginee...</td>\n",
       "      <td>At least 12 years professional experience.Abil...</td>\n",
       "      <td>NaN</td>\n",
       "      <td>0</td>\n",
       "      <td>0</td>\n",
       "      <td>0</td>\n",
       "      <td>Full-time</td>\n",
       "      <td>NaN</td>\n",
       "      <td>NaN</td>\n",
       "      <td>NaN</td>\n",
       "      <td>NaN</td>\n",
       "      <td>0</td>\n",
       "      <td>Houston</td>\n",
       "      <td>TX</td>\n",
       "      <td>US</td>\n",
       "    </tr>\n",
       "    <tr>\n",
       "      <td>17878</td>\n",
       "      <td>17879</td>\n",
       "      <td>Graphic Designer</td>\n",
       "      <td>NaN</td>\n",
       "      <td>NaN</td>\n",
       "      <td>NaN</td>\n",
       "      <td>Nemsia Studios is looking for an experienced v...</td>\n",
       "      <td>1. Must be fluent in the latest versions of Co...</td>\n",
       "      <td>Competitive salary (compensation will be based...</td>\n",
       "      <td>0</td>\n",
       "      <td>0</td>\n",
       "      <td>1</td>\n",
       "      <td>Contract</td>\n",
       "      <td>Not Applicable</td>\n",
       "      <td>Professional</td>\n",
       "      <td>Graphic Design</td>\n",
       "      <td>Design</td>\n",
       "      <td>0</td>\n",
       "      <td>Lagos</td>\n",
       "      <td>LA</td>\n",
       "      <td>NG</td>\n",
       "    </tr>\n",
       "    <tr>\n",
       "      <td>17879</td>\n",
       "      <td>17880</td>\n",
       "      <td>Web Application Developers</td>\n",
       "      <td>Engineering</td>\n",
       "      <td>NaN</td>\n",
       "      <td>Vend is looking for some awesome new talent to...</td>\n",
       "      <td>Who are we?Vend is an award winning web based ...</td>\n",
       "      <td>We want to hear from you if:You have an in-dep...</td>\n",
       "      <td>NaN</td>\n",
       "      <td>0</td>\n",
       "      <td>1</td>\n",
       "      <td>1</td>\n",
       "      <td>Full-time</td>\n",
       "      <td>Mid-Senior level</td>\n",
       "      <td>NaN</td>\n",
       "      <td>Computer Software</td>\n",
       "      <td>Engineering</td>\n",
       "      <td>0</td>\n",
       "      <td>Wellington</td>\n",
       "      <td>N</td>\n",
       "      <td>NZ</td>\n",
       "    </tr>\n",
       "  </tbody>\n",
       "</table>\n",
       "<p>17534 rows × 20 columns</p>\n",
       "</div>"
      ],
      "text/plain": [
       "       JOB ID                                              TITLE   DEPARTMENT  \\\n",
       "0           1                                   Marketing Intern    Marketing   \n",
       "1           2          Customer Service - Cloud Video Production      Success   \n",
       "2           3            Commissioning Machinery Assistant (CMA)          NaN   \n",
       "3           4                  Account Executive - Washington DC        Sales   \n",
       "4           5                                Bill Review Manager          NaN   \n",
       "...       ...                                                ...          ...   \n",
       "17875   17876                   Account Director - Distribution         Sales   \n",
       "17876   17877                                 Payroll Accountant   Accounting   \n",
       "17877   17878  Project Cost Control Staff Engineer - Cost Con...          NaN   \n",
       "17878   17879                                   Graphic Designer          NaN   \n",
       "17879   17880                         Web Application Developers  Engineering   \n",
       "\n",
       "      SALARY RANGE                                    COMPANY PROFILE  \\\n",
       "0              NaN  We're Food52, and we've created a groundbreaki...   \n",
       "1              NaN  90 Seconds, the worlds Cloud Video Production ...   \n",
       "2              NaN  Valor Services provides Workforce Solutions th...   \n",
       "3              NaN  Our passion for improving quality of life thro...   \n",
       "4              NaN  SpotSource Solutions LLC is a Global Human Cap...   \n",
       "...            ...                                                ...   \n",
       "17875          NaN  Vend is looking for some awesome new talent to...   \n",
       "17876          NaN  WebLinc is the e-commerce platform and service...   \n",
       "17877          NaN  We Provide Full Time Permanent Positions for m...   \n",
       "17878          NaN                                                NaN   \n",
       "17879          NaN  Vend is looking for some awesome new talent to...   \n",
       "\n",
       "                                             DESCRIPTION  \\\n",
       "0      Food52, a fast-growing, James Beard Award-winn...   \n",
       "1      Organised - Focused - Vibrant - Awesome!Do you...   \n",
       "2      Our client, located in Houston, is actively se...   \n",
       "3      THE COMPANY: ESRI – Environmental Systems Rese...   \n",
       "4      JOB TITLE: Itemization Review ManagerLOCATION:...   \n",
       "...                                                  ...   \n",
       "17875  Just in case this is the first time you’ve vis...   \n",
       "17876  The Payroll Accountant will focus primarily on...   \n",
       "17877  Experienced Project Cost Control Staff Enginee...   \n",
       "17878  Nemsia Studios is looking for an experienced v...   \n",
       "17879  Who are we?Vend is an award winning web based ...   \n",
       "\n",
       "                                            REQUIREMENTS  \\\n",
       "0      Experience with content management systems a m...   \n",
       "1      What we expect from you:Your key responsibilit...   \n",
       "2      Implement pre-commissioning and commissioning ...   \n",
       "3      EDUCATION: Bachelor’s or Master’s in GIS, busi...   \n",
       "4      QUALIFICATIONS:RN license in the State of Texa...   \n",
       "...                                                  ...   \n",
       "17875  To ace this role you:Will eat comprehensive St...   \n",
       "17876  - B.A. or B.S. in Accounting- Desire to have f...   \n",
       "17877  At least 12 years professional experience.Abil...   \n",
       "17878  1. Must be fluent in the latest versions of Co...   \n",
       "17879  We want to hear from you if:You have an in-dep...   \n",
       "\n",
       "                                                BENEFITS  TELECOMMUTING  \\\n",
       "0                                                    NaN              0   \n",
       "1      What you will get from usThrough being part of...              0   \n",
       "2                                                    NaN              0   \n",
       "3      Our culture is anything but corporate—we have ...              0   \n",
       "4                                  Full Benefits Offered              0   \n",
       "...                                                  ...            ...   \n",
       "17875  What can you expect from us?We have an open cu...              0   \n",
       "17876  Health &amp; WellnessMedical planPrescription ...              0   \n",
       "17877                                                NaN              0   \n",
       "17878  Competitive salary (compensation will be based...              0   \n",
       "17879                                                NaN              0   \n",
       "\n",
       "       HAS COMPANY LOGO  HAS QUESTIONS EMPLOYMENT TYPE REQUIRED EXPERIENCE  \\\n",
       "0                     1              0           Other          Internship   \n",
       "1                     1              0       Full-time      Not Applicable   \n",
       "2                     1              0             NaN                 NaN   \n",
       "3                     1              0       Full-time    Mid-Senior level   \n",
       "4                     1              1       Full-time    Mid-Senior level   \n",
       "...                 ...            ...             ...                 ...   \n",
       "17875                 1              1       Full-time    Mid-Senior level   \n",
       "17876                 1              1       Full-time    Mid-Senior level   \n",
       "17877                 0              0       Full-time                 NaN   \n",
       "17878                 0              1        Contract      Not Applicable   \n",
       "17879                 1              1       Full-time    Mid-Senior level   \n",
       "\n",
       "      REQUIRED EDUCATION                   INDUSTRY              FUNCTION  \\\n",
       "0                    NaN                        NaN             Marketing   \n",
       "1                    NaN  Marketing and Advertising      Customer Service   \n",
       "2                    NaN                        NaN                   NaN   \n",
       "3      Bachelor's Degree          Computer Software                 Sales   \n",
       "4      Bachelor's Degree     Hospital & Health Care  Health Care Provider   \n",
       "...                  ...                        ...                   ...   \n",
       "17875                NaN          Computer Software                 Sales   \n",
       "17876  Bachelor's Degree                   Internet   Accounting/Auditing   \n",
       "17877                NaN                        NaN                   NaN   \n",
       "17878       Professional             Graphic Design                Design   \n",
       "17879                NaN          Computer Software           Engineering   \n",
       "\n",
       "       FRAUDULENT          CITY STATE COUNTRY  \n",
       "0               0      New York    NY      US  \n",
       "1               0      Auckland            NZ  \n",
       "2               0         Wever    IA      US  \n",
       "3               0    Washington    DC      US  \n",
       "4               0    Fort Worth    FL      US  \n",
       "...           ...           ...   ...     ...  \n",
       "17875           0       Toronto    ON      CA  \n",
       "17876           0  Philadelphia    PA      US  \n",
       "17877           0       Houston    TX      US  \n",
       "17878           0         Lagos    LA      NG  \n",
       "17879           0    Wellington     N      NZ  \n",
       "\n",
       "[17534 rows x 20 columns]"
      ]
     },
     "execution_count": 59,
     "metadata": {},
     "output_type": "execute_result"
    }
   ],
   "source": [
    "# remove , in the Country and State columns\n",
    "job_postings['COUNTRY'] = job_postings['COUNTRY'].str.replace(',', '').astype(str)\n",
    "job_postings['STATE'] = job_postings['STATE'].str.replace(',', '').astype(str)\n",
    "job_postings"
   ]
  },
  {
   "cell_type": "code",
   "execution_count": 60,
   "metadata": {},
   "outputs": [
    {
     "data": {
      "text/plain": [
       "JOB ID                     0\n",
       "TITLE                      0\n",
       "DEPARTMENT             11252\n",
       "SALARY RANGE           14688\n",
       "COMPANY PROFILE         3246\n",
       "DESCRIPTION                1\n",
       "REQUIREMENTS            2519\n",
       "BENEFITS                6960\n",
       "TELECOMMUTING              0\n",
       "HAS COMPANY LOGO           0\n",
       "HAS QUESTIONS              0\n",
       "EMPLOYMENT TYPE         3257\n",
       "REQUIRED EXPERIENCE     6797\n",
       "REQUIRED EDUCATION      7821\n",
       "INDUSTRY                4655\n",
       "FUNCTION                6193\n",
       "FRAUDULENT                 0\n",
       "CITY                      94\n",
       "STATE                      0\n",
       "COUNTRY                    0\n",
       "dtype: int64"
      ]
     },
     "execution_count": 60,
     "metadata": {},
     "output_type": "execute_result"
    }
   ],
   "source": [
    "# counting all the nans in each column\n",
    "job_postings.isnull().sum(axis = 0)"
   ]
  },
  {
   "cell_type": "code",
   "execution_count": 61,
   "metadata": {},
   "outputs": [],
   "source": [
    "# save dataframe csv file with no index to folder jupyter notebook is working out of\n",
    "job_postings.to_csv('job_postings_clean.csv', index = False)"
   ]
  },
  {
   "cell_type": "code",
   "execution_count": 62,
   "metadata": {},
   "outputs": [],
   "source": [
    "#count = job_postings.groupby(['COUNTRY']).count()\n",
    "country_groupby = job_postings.groupby(\"COUNTRY\")\n",
    "country_list = country_groupby[\"COUNTRY\"].first()\n"
   ]
  },
  {
   "cell_type": "code",
   "execution_count": 63,
   "metadata": {},
   "outputs": [],
   "source": [
    "country_groups = country_groupby.groups\n",
    "\n",
    "country_counts = []\n",
    "\n",
    "for i in country_list:\n",
    "    country_counts.append(len(country_groups[i]))\n",
    "    "
   ]
  },
  {
   "cell_type": "code",
   "execution_count": 64,
   "metadata": {},
   "outputs": [],
   "source": [
    "country_job_df = pd.DataFrame({\"Country\": country_list, \"Job Count\": country_counts})"
   ]
  },
  {
   "cell_type": "code",
   "execution_count": 65,
   "metadata": {},
   "outputs": [
    {
     "data": {
      "text/html": [
       "<div>\n",
       "<style scoped>\n",
       "    .dataframe tbody tr th:only-of-type {\n",
       "        vertical-align: middle;\n",
       "    }\n",
       "\n",
       "    .dataframe tbody tr th {\n",
       "        vertical-align: top;\n",
       "    }\n",
       "\n",
       "    .dataframe thead th {\n",
       "        text-align: right;\n",
       "    }\n",
       "</style>\n",
       "<table border=\"1\" class=\"dataframe\">\n",
       "  <thead>\n",
       "    <tr style=\"text-align: right;\">\n",
       "      <th></th>\n",
       "      <th>Country</th>\n",
       "      <th>Job Count</th>\n",
       "    </tr>\n",
       "    <tr>\n",
       "      <th>COUNTRY</th>\n",
       "      <th></th>\n",
       "      <th></th>\n",
       "    </tr>\n",
       "  </thead>\n",
       "  <tbody>\n",
       "    <tr>\n",
       "      <td>AE</td>\n",
       "      <td>AE</td>\n",
       "      <td>54</td>\n",
       "    </tr>\n",
       "    <tr>\n",
       "      <td>AL</td>\n",
       "      <td>AL</td>\n",
       "      <td>1</td>\n",
       "    </tr>\n",
       "    <tr>\n",
       "      <td>AM</td>\n",
       "      <td>AM</td>\n",
       "      <td>2</td>\n",
       "    </tr>\n",
       "    <tr>\n",
       "      <td>AR</td>\n",
       "      <td>AR</td>\n",
       "      <td>9</td>\n",
       "    </tr>\n",
       "    <tr>\n",
       "      <td>AT</td>\n",
       "      <td>AT</td>\n",
       "      <td>14</td>\n",
       "    </tr>\n",
       "    <tr>\n",
       "      <td>...</td>\n",
       "      <td>...</td>\n",
       "      <td>...</td>\n",
       "    </tr>\n",
       "    <tr>\n",
       "      <td>US</td>\n",
       "      <td>US</td>\n",
       "      <td>10656</td>\n",
       "    </tr>\n",
       "    <tr>\n",
       "      <td>VI</td>\n",
       "      <td>VI</td>\n",
       "      <td>3</td>\n",
       "    </tr>\n",
       "    <tr>\n",
       "      <td>VN</td>\n",
       "      <td>VN</td>\n",
       "      <td>4</td>\n",
       "    </tr>\n",
       "    <tr>\n",
       "      <td>ZA</td>\n",
       "      <td>ZA</td>\n",
       "      <td>40</td>\n",
       "    </tr>\n",
       "    <tr>\n",
       "      <td>ZM</td>\n",
       "      <td>ZM</td>\n",
       "      <td>2</td>\n",
       "    </tr>\n",
       "  </tbody>\n",
       "</table>\n",
       "<p>90 rows × 2 columns</p>\n",
       "</div>"
      ],
      "text/plain": [
       "        Country  Job Count\n",
       "COUNTRY                   \n",
       "AE           AE         54\n",
       "AL           AL          1\n",
       "AM           AM          2\n",
       "AR           AR          9\n",
       "AT           AT         14\n",
       "...         ...        ...\n",
       "US           US      10656\n",
       "VI           VI          3\n",
       "VN           VN          4\n",
       "ZA           ZA         40\n",
       "ZM           ZM          2\n",
       "\n",
       "[90 rows x 2 columns]"
      ]
     },
     "execution_count": 65,
     "metadata": {},
     "output_type": "execute_result"
    }
   ],
   "source": [
    "country_job_df"
   ]
  },
  {
   "cell_type": "code",
   "execution_count": 66,
   "metadata": {},
   "outputs": [],
   "source": [
    "countries.get('us')\n",
    "three_letters_list = []\n",
    "country_name = []\n",
    "for i in country_job_df['Country']:\n",
    "    three_letters_list.append(countries.get(i)[2])\n",
    "    country_name.append(countries.get(i)[0])\n",
    "    \n"
   ]
  },
  {
   "cell_type": "code",
   "execution_count": 67,
   "metadata": {
    "scrolled": true
   },
   "outputs": [
    {
     "data": {
      "text/html": [
       "<div>\n",
       "<style scoped>\n",
       "    .dataframe tbody tr th:only-of-type {\n",
       "        vertical-align: middle;\n",
       "    }\n",
       "\n",
       "    .dataframe tbody tr th {\n",
       "        vertical-align: top;\n",
       "    }\n",
       "\n",
       "    .dataframe thead th {\n",
       "        text-align: right;\n",
       "    }\n",
       "</style>\n",
       "<table border=\"1\" class=\"dataframe\">\n",
       "  <thead>\n",
       "    <tr style=\"text-align: right;\">\n",
       "      <th></th>\n",
       "      <th>Country</th>\n",
       "      <th>Job Count</th>\n",
       "      <th>three letter country</th>\n",
       "      <th>country name</th>\n",
       "    </tr>\n",
       "    <tr>\n",
       "      <th>COUNTRY</th>\n",
       "      <th></th>\n",
       "      <th></th>\n",
       "      <th></th>\n",
       "      <th></th>\n",
       "    </tr>\n",
       "  </thead>\n",
       "  <tbody>\n",
       "    <tr>\n",
       "      <td>AE</td>\n",
       "      <td>AE</td>\n",
       "      <td>54</td>\n",
       "      <td>ARE</td>\n",
       "      <td>United Arab Emirates</td>\n",
       "    </tr>\n",
       "    <tr>\n",
       "      <td>AL</td>\n",
       "      <td>AL</td>\n",
       "      <td>1</td>\n",
       "      <td>ALB</td>\n",
       "      <td>Albania</td>\n",
       "    </tr>\n",
       "    <tr>\n",
       "      <td>AM</td>\n",
       "      <td>AM</td>\n",
       "      <td>2</td>\n",
       "      <td>ARM</td>\n",
       "      <td>Armenia</td>\n",
       "    </tr>\n",
       "    <tr>\n",
       "      <td>AR</td>\n",
       "      <td>AR</td>\n",
       "      <td>9</td>\n",
       "      <td>ARG</td>\n",
       "      <td>Argentina</td>\n",
       "    </tr>\n",
       "    <tr>\n",
       "      <td>AT</td>\n",
       "      <td>AT</td>\n",
       "      <td>14</td>\n",
       "      <td>AUT</td>\n",
       "      <td>Austria</td>\n",
       "    </tr>\n",
       "    <tr>\n",
       "      <td>...</td>\n",
       "      <td>...</td>\n",
       "      <td>...</td>\n",
       "      <td>...</td>\n",
       "      <td>...</td>\n",
       "    </tr>\n",
       "    <tr>\n",
       "      <td>US</td>\n",
       "      <td>US</td>\n",
       "      <td>10656</td>\n",
       "      <td>USA</td>\n",
       "      <td>United States of America</td>\n",
       "    </tr>\n",
       "    <tr>\n",
       "      <td>VI</td>\n",
       "      <td>VI</td>\n",
       "      <td>3</td>\n",
       "      <td>VIR</td>\n",
       "      <td>Virgin Islands, U.S.</td>\n",
       "    </tr>\n",
       "    <tr>\n",
       "      <td>VN</td>\n",
       "      <td>VN</td>\n",
       "      <td>4</td>\n",
       "      <td>VNM</td>\n",
       "      <td>Viet Nam</td>\n",
       "    </tr>\n",
       "    <tr>\n",
       "      <td>ZA</td>\n",
       "      <td>ZA</td>\n",
       "      <td>40</td>\n",
       "      <td>ZAF</td>\n",
       "      <td>South Africa</td>\n",
       "    </tr>\n",
       "    <tr>\n",
       "      <td>ZM</td>\n",
       "      <td>ZM</td>\n",
       "      <td>2</td>\n",
       "      <td>ZMB</td>\n",
       "      <td>Zambia</td>\n",
       "    </tr>\n",
       "  </tbody>\n",
       "</table>\n",
       "<p>90 rows × 4 columns</p>\n",
       "</div>"
      ],
      "text/plain": [
       "        Country  Job Count three letter country              country name\n",
       "COUNTRY                                                                  \n",
       "AE           AE         54                  ARE      United Arab Emirates\n",
       "AL           AL          1                  ALB                   Albania\n",
       "AM           AM          2                  ARM                   Armenia\n",
       "AR           AR          9                  ARG                 Argentina\n",
       "AT           AT         14                  AUT                   Austria\n",
       "...         ...        ...                  ...                       ...\n",
       "US           US      10656                  USA  United States of America\n",
       "VI           VI          3                  VIR      Virgin Islands, U.S.\n",
       "VN           VN          4                  VNM                  Viet Nam\n",
       "ZA           ZA         40                  ZAF              South Africa\n",
       "ZM           ZM          2                  ZMB                    Zambia\n",
       "\n",
       "[90 rows x 4 columns]"
      ]
     },
     "execution_count": 67,
     "metadata": {},
     "output_type": "execute_result"
    }
   ],
   "source": [
    "country_job_df[\"three letter country\"] = three_letters_list\n",
    "country_job_df[\"country name\"] = country_name\n",
    "country_job_df"
   ]
  },
  {
   "cell_type": "code",
   "execution_count": 68,
   "metadata": {},
   "outputs": [
    {
     "data": {
      "application/vnd.plotly.v1+json": {
       "config": {
        "plotlyServerURL": "https://plot.ly"
       },
       "data": [
        {
         "coloraxis": "coloraxis",
         "geo": "geo",
         "hoverlabel": {
          "namelength": 0
         },
         "hovertemplate": "<b>%{hovertext}</b><br><br>three letter country=%{location}<br>Job Count=%{z}",
         "hovertext": [
          "United Arab Emirates",
          "Albania",
          "Armenia",
          "Argentina",
          "Austria",
          "Australia",
          "Bangladesh",
          "Belgium",
          "Bulgaria",
          "Bahrain",
          "Brazil",
          "Belarus",
          "Canada",
          "Switzerland",
          "Chile",
          "Cameroon",
          "China",
          "Colombia",
          "Cyprus",
          "Czechia",
          "Germany",
          "Denmark",
          "Estonia",
          "Egypt",
          "Spain",
          "Finland",
          "France",
          "United Kingdom of Great Britain and Northern Ireland",
          "Ghana",
          "Greece",
          "Hong Kong",
          "Croatia",
          "Hungary",
          "Indonesia",
          "Ireland",
          "Israel",
          "India",
          "Iraq",
          "Iceland",
          "Italy",
          "Jamaica",
          "Japan",
          "Kenya",
          "Cambodia",
          "Korea, Republic of",
          "Kuwait",
          "Kazakhstan",
          "Sri Lanka",
          "Lithuania",
          "Luxembourg",
          "Latvia",
          "Morocco",
          "Malta",
          "Mauritius",
          "Mexico",
          "Malaysia",
          "Nigeria",
          "Nicaragua",
          "Netherlands",
          "Norway",
          "New Zealand",
          "Panama",
          "Peru",
          "Philippines",
          "Pakistan",
          "Poland",
          "Portugal",
          "Qatar",
          "Romania",
          "Serbia",
          "Russian Federation",
          "Saudi Arabia",
          "Sudan",
          "Sweden",
          "Singapore",
          "Slovenia",
          "Slovakia",
          "El Salvador",
          "Thailand",
          "Tunisia",
          "Turkey",
          "Trinidad and Tobago",
          "Taiwan, Province of China",
          "Ukraine",
          "Uganda",
          "United States of America",
          "Virgin Islands, U.S.",
          "Viet Nam",
          "South Africa",
          "Zambia"
         ],
         "locations": [
          "ARE",
          "ALB",
          "ARM",
          "ARG",
          "AUT",
          "AUS",
          "BGD",
          "BEL",
          "BGR",
          "BHR",
          "BRA",
          "BLR",
          "CAN",
          "CHE",
          "CHL",
          "CMR",
          "CHN",
          "COL",
          "CYP",
          "CZE",
          "DEU",
          "DNK",
          "EST",
          "EGY",
          "ESP",
          "FIN",
          "FRA",
          "GBR",
          "GHA",
          "GRC",
          "HKG",
          "HRV",
          "HUN",
          "IDN",
          "IRL",
          "ISR",
          "IND",
          "IRQ",
          "ISL",
          "ITA",
          "JAM",
          "JPN",
          "KEN",
          "KHM",
          "KOR",
          "KWT",
          "KAZ",
          "LKA",
          "LTU",
          "LUX",
          "LVA",
          "MAR",
          "MLT",
          "MUS",
          "MEX",
          "MYS",
          "NGA",
          "NIC",
          "NLD",
          "NOR",
          "NZL",
          "PAN",
          "PER",
          "PHL",
          "PAK",
          "POL",
          "PRT",
          "QAT",
          "ROU",
          "SRB",
          "RUS",
          "SAU",
          "SDN",
          "SWE",
          "SGP",
          "SVN",
          "SVK",
          "SLV",
          "THA",
          "TUN",
          "TUR",
          "TTO",
          "TWN",
          "UKR",
          "UGA",
          "USA",
          "VIR",
          "VNM",
          "ZAF",
          "ZMB"
         ],
         "name": "",
         "type": "choropleth",
         "z": [
          54,
          1,
          2,
          9,
          14,
          214,
          2,
          117,
          17,
          9,
          36,
          9,
          457,
          15,
          2,
          1,
          15,
          1,
          11,
          6,
          383,
          42,
          72,
          52,
          66,
          29,
          70,
          2384,
          1,
          940,
          77,
          1,
          14,
          13,
          114,
          72,
          276,
          10,
          2,
          31,
          1,
          20,
          7,
          1,
          10,
          2,
          1,
          2,
          23,
          9,
          6,
          1,
          13,
          14,
          18,
          21,
          10,
          4,
          127,
          8,
          333,
          9,
          1,
          132,
          27,
          76,
          18,
          21,
          46,
          7,
          20,
          15,
          1,
          49,
          80,
          1,
          2,
          1,
          10,
          2,
          17,
          4,
          4,
          13,
          1,
          10656,
          3,
          4,
          40,
          2
         ]
        }
       ],
       "layout": {
        "coloraxis": {
         "colorbar": {
          "title": {
           "text": "Job Count"
          }
         },
         "colorscale": [
          [
           0,
           "#0d0887"
          ],
          [
           0.1111111111111111,
           "#46039f"
          ],
          [
           0.2222222222222222,
           "#7201a8"
          ],
          [
           0.3333333333333333,
           "#9c179e"
          ],
          [
           0.4444444444444444,
           "#bd3786"
          ],
          [
           0.5555555555555556,
           "#d8576b"
          ],
          [
           0.6666666666666666,
           "#ed7953"
          ],
          [
           0.7777777777777778,
           "#fb9f3a"
          ],
          [
           0.8888888888888888,
           "#fdca26"
          ],
          [
           1,
           "#f0f921"
          ]
         ]
        },
        "geo": {
         "center": {},
         "domain": {
          "x": [
           0,
           1
          ],
          "y": [
           0,
           1
          ]
         }
        },
        "legend": {
         "tracegroupgap": 0
        },
        "margin": {
         "t": 60
        },
        "template": {
         "data": {
          "bar": [
           {
            "error_x": {
             "color": "#2a3f5f"
            },
            "error_y": {
             "color": "#2a3f5f"
            },
            "marker": {
             "line": {
              "color": "#E5ECF6",
              "width": 0.5
             }
            },
            "type": "bar"
           }
          ],
          "barpolar": [
           {
            "marker": {
             "line": {
              "color": "#E5ECF6",
              "width": 0.5
             }
            },
            "type": "barpolar"
           }
          ],
          "carpet": [
           {
            "aaxis": {
             "endlinecolor": "#2a3f5f",
             "gridcolor": "white",
             "linecolor": "white",
             "minorgridcolor": "white",
             "startlinecolor": "#2a3f5f"
            },
            "baxis": {
             "endlinecolor": "#2a3f5f",
             "gridcolor": "white",
             "linecolor": "white",
             "minorgridcolor": "white",
             "startlinecolor": "#2a3f5f"
            },
            "type": "carpet"
           }
          ],
          "choropleth": [
           {
            "colorbar": {
             "outlinewidth": 0,
             "ticks": ""
            },
            "type": "choropleth"
           }
          ],
          "contour": [
           {
            "colorbar": {
             "outlinewidth": 0,
             "ticks": ""
            },
            "colorscale": [
             [
              0,
              "#0d0887"
             ],
             [
              0.1111111111111111,
              "#46039f"
             ],
             [
              0.2222222222222222,
              "#7201a8"
             ],
             [
              0.3333333333333333,
              "#9c179e"
             ],
             [
              0.4444444444444444,
              "#bd3786"
             ],
             [
              0.5555555555555556,
              "#d8576b"
             ],
             [
              0.6666666666666666,
              "#ed7953"
             ],
             [
              0.7777777777777778,
              "#fb9f3a"
             ],
             [
              0.8888888888888888,
              "#fdca26"
             ],
             [
              1,
              "#f0f921"
             ]
            ],
            "type": "contour"
           }
          ],
          "contourcarpet": [
           {
            "colorbar": {
             "outlinewidth": 0,
             "ticks": ""
            },
            "type": "contourcarpet"
           }
          ],
          "heatmap": [
           {
            "colorbar": {
             "outlinewidth": 0,
             "ticks": ""
            },
            "colorscale": [
             [
              0,
              "#0d0887"
             ],
             [
              0.1111111111111111,
              "#46039f"
             ],
             [
              0.2222222222222222,
              "#7201a8"
             ],
             [
              0.3333333333333333,
              "#9c179e"
             ],
             [
              0.4444444444444444,
              "#bd3786"
             ],
             [
              0.5555555555555556,
              "#d8576b"
             ],
             [
              0.6666666666666666,
              "#ed7953"
             ],
             [
              0.7777777777777778,
              "#fb9f3a"
             ],
             [
              0.8888888888888888,
              "#fdca26"
             ],
             [
              1,
              "#f0f921"
             ]
            ],
            "type": "heatmap"
           }
          ],
          "heatmapgl": [
           {
            "colorbar": {
             "outlinewidth": 0,
             "ticks": ""
            },
            "colorscale": [
             [
              0,
              "#0d0887"
             ],
             [
              0.1111111111111111,
              "#46039f"
             ],
             [
              0.2222222222222222,
              "#7201a8"
             ],
             [
              0.3333333333333333,
              "#9c179e"
             ],
             [
              0.4444444444444444,
              "#bd3786"
             ],
             [
              0.5555555555555556,
              "#d8576b"
             ],
             [
              0.6666666666666666,
              "#ed7953"
             ],
             [
              0.7777777777777778,
              "#fb9f3a"
             ],
             [
              0.8888888888888888,
              "#fdca26"
             ],
             [
              1,
              "#f0f921"
             ]
            ],
            "type": "heatmapgl"
           }
          ],
          "histogram": [
           {
            "marker": {
             "colorbar": {
              "outlinewidth": 0,
              "ticks": ""
             }
            },
            "type": "histogram"
           }
          ],
          "histogram2d": [
           {
            "colorbar": {
             "outlinewidth": 0,
             "ticks": ""
            },
            "colorscale": [
             [
              0,
              "#0d0887"
             ],
             [
              0.1111111111111111,
              "#46039f"
             ],
             [
              0.2222222222222222,
              "#7201a8"
             ],
             [
              0.3333333333333333,
              "#9c179e"
             ],
             [
              0.4444444444444444,
              "#bd3786"
             ],
             [
              0.5555555555555556,
              "#d8576b"
             ],
             [
              0.6666666666666666,
              "#ed7953"
             ],
             [
              0.7777777777777778,
              "#fb9f3a"
             ],
             [
              0.8888888888888888,
              "#fdca26"
             ],
             [
              1,
              "#f0f921"
             ]
            ],
            "type": "histogram2d"
           }
          ],
          "histogram2dcontour": [
           {
            "colorbar": {
             "outlinewidth": 0,
             "ticks": ""
            },
            "colorscale": [
             [
              0,
              "#0d0887"
             ],
             [
              0.1111111111111111,
              "#46039f"
             ],
             [
              0.2222222222222222,
              "#7201a8"
             ],
             [
              0.3333333333333333,
              "#9c179e"
             ],
             [
              0.4444444444444444,
              "#bd3786"
             ],
             [
              0.5555555555555556,
              "#d8576b"
             ],
             [
              0.6666666666666666,
              "#ed7953"
             ],
             [
              0.7777777777777778,
              "#fb9f3a"
             ],
             [
              0.8888888888888888,
              "#fdca26"
             ],
             [
              1,
              "#f0f921"
             ]
            ],
            "type": "histogram2dcontour"
           }
          ],
          "mesh3d": [
           {
            "colorbar": {
             "outlinewidth": 0,
             "ticks": ""
            },
            "type": "mesh3d"
           }
          ],
          "parcoords": [
           {
            "line": {
             "colorbar": {
              "outlinewidth": 0,
              "ticks": ""
             }
            },
            "type": "parcoords"
           }
          ],
          "pie": [
           {
            "automargin": true,
            "type": "pie"
           }
          ],
          "scatter": [
           {
            "marker": {
             "colorbar": {
              "outlinewidth": 0,
              "ticks": ""
             }
            },
            "type": "scatter"
           }
          ],
          "scatter3d": [
           {
            "line": {
             "colorbar": {
              "outlinewidth": 0,
              "ticks": ""
             }
            },
            "marker": {
             "colorbar": {
              "outlinewidth": 0,
              "ticks": ""
             }
            },
            "type": "scatter3d"
           }
          ],
          "scattercarpet": [
           {
            "marker": {
             "colorbar": {
              "outlinewidth": 0,
              "ticks": ""
             }
            },
            "type": "scattercarpet"
           }
          ],
          "scattergeo": [
           {
            "marker": {
             "colorbar": {
              "outlinewidth": 0,
              "ticks": ""
             }
            },
            "type": "scattergeo"
           }
          ],
          "scattergl": [
           {
            "marker": {
             "colorbar": {
              "outlinewidth": 0,
              "ticks": ""
             }
            },
            "type": "scattergl"
           }
          ],
          "scattermapbox": [
           {
            "marker": {
             "colorbar": {
              "outlinewidth": 0,
              "ticks": ""
             }
            },
            "type": "scattermapbox"
           }
          ],
          "scatterpolar": [
           {
            "marker": {
             "colorbar": {
              "outlinewidth": 0,
              "ticks": ""
             }
            },
            "type": "scatterpolar"
           }
          ],
          "scatterpolargl": [
           {
            "marker": {
             "colorbar": {
              "outlinewidth": 0,
              "ticks": ""
             }
            },
            "type": "scatterpolargl"
           }
          ],
          "scatterternary": [
           {
            "marker": {
             "colorbar": {
              "outlinewidth": 0,
              "ticks": ""
             }
            },
            "type": "scatterternary"
           }
          ],
          "surface": [
           {
            "colorbar": {
             "outlinewidth": 0,
             "ticks": ""
            },
            "colorscale": [
             [
              0,
              "#0d0887"
             ],
             [
              0.1111111111111111,
              "#46039f"
             ],
             [
              0.2222222222222222,
              "#7201a8"
             ],
             [
              0.3333333333333333,
              "#9c179e"
             ],
             [
              0.4444444444444444,
              "#bd3786"
             ],
             [
              0.5555555555555556,
              "#d8576b"
             ],
             [
              0.6666666666666666,
              "#ed7953"
             ],
             [
              0.7777777777777778,
              "#fb9f3a"
             ],
             [
              0.8888888888888888,
              "#fdca26"
             ],
             [
              1,
              "#f0f921"
             ]
            ],
            "type": "surface"
           }
          ],
          "table": [
           {
            "cells": {
             "fill": {
              "color": "#EBF0F8"
             },
             "line": {
              "color": "white"
             }
            },
            "header": {
             "fill": {
              "color": "#C8D4E3"
             },
             "line": {
              "color": "white"
             }
            },
            "type": "table"
           }
          ]
         },
         "layout": {
          "annotationdefaults": {
           "arrowcolor": "#2a3f5f",
           "arrowhead": 0,
           "arrowwidth": 1
          },
          "coloraxis": {
           "colorbar": {
            "outlinewidth": 0,
            "ticks": ""
           }
          },
          "colorscale": {
           "diverging": [
            [
             0,
             "#8e0152"
            ],
            [
             0.1,
             "#c51b7d"
            ],
            [
             0.2,
             "#de77ae"
            ],
            [
             0.3,
             "#f1b6da"
            ],
            [
             0.4,
             "#fde0ef"
            ],
            [
             0.5,
             "#f7f7f7"
            ],
            [
             0.6,
             "#e6f5d0"
            ],
            [
             0.7,
             "#b8e186"
            ],
            [
             0.8,
             "#7fbc41"
            ],
            [
             0.9,
             "#4d9221"
            ],
            [
             1,
             "#276419"
            ]
           ],
           "sequential": [
            [
             0,
             "#0d0887"
            ],
            [
             0.1111111111111111,
             "#46039f"
            ],
            [
             0.2222222222222222,
             "#7201a8"
            ],
            [
             0.3333333333333333,
             "#9c179e"
            ],
            [
             0.4444444444444444,
             "#bd3786"
            ],
            [
             0.5555555555555556,
             "#d8576b"
            ],
            [
             0.6666666666666666,
             "#ed7953"
            ],
            [
             0.7777777777777778,
             "#fb9f3a"
            ],
            [
             0.8888888888888888,
             "#fdca26"
            ],
            [
             1,
             "#f0f921"
            ]
           ],
           "sequentialminus": [
            [
             0,
             "#0d0887"
            ],
            [
             0.1111111111111111,
             "#46039f"
            ],
            [
             0.2222222222222222,
             "#7201a8"
            ],
            [
             0.3333333333333333,
             "#9c179e"
            ],
            [
             0.4444444444444444,
             "#bd3786"
            ],
            [
             0.5555555555555556,
             "#d8576b"
            ],
            [
             0.6666666666666666,
             "#ed7953"
            ],
            [
             0.7777777777777778,
             "#fb9f3a"
            ],
            [
             0.8888888888888888,
             "#fdca26"
            ],
            [
             1,
             "#f0f921"
            ]
           ]
          },
          "colorway": [
           "#636efa",
           "#EF553B",
           "#00cc96",
           "#ab63fa",
           "#FFA15A",
           "#19d3f3",
           "#FF6692",
           "#B6E880",
           "#FF97FF",
           "#FECB52"
          ],
          "font": {
           "color": "#2a3f5f"
          },
          "geo": {
           "bgcolor": "white",
           "lakecolor": "white",
           "landcolor": "#E5ECF6",
           "showlakes": true,
           "showland": true,
           "subunitcolor": "white"
          },
          "hoverlabel": {
           "align": "left"
          },
          "hovermode": "closest",
          "mapbox": {
           "style": "light"
          },
          "paper_bgcolor": "white",
          "plot_bgcolor": "#E5ECF6",
          "polar": {
           "angularaxis": {
            "gridcolor": "white",
            "linecolor": "white",
            "ticks": ""
           },
           "bgcolor": "#E5ECF6",
           "radialaxis": {
            "gridcolor": "white",
            "linecolor": "white",
            "ticks": ""
           }
          },
          "scene": {
           "xaxis": {
            "backgroundcolor": "#E5ECF6",
            "gridcolor": "white",
            "gridwidth": 2,
            "linecolor": "white",
            "showbackground": true,
            "ticks": "",
            "zerolinecolor": "white"
           },
           "yaxis": {
            "backgroundcolor": "#E5ECF6",
            "gridcolor": "white",
            "gridwidth": 2,
            "linecolor": "white",
            "showbackground": true,
            "ticks": "",
            "zerolinecolor": "white"
           },
           "zaxis": {
            "backgroundcolor": "#E5ECF6",
            "gridcolor": "white",
            "gridwidth": 2,
            "linecolor": "white",
            "showbackground": true,
            "ticks": "",
            "zerolinecolor": "white"
           }
          },
          "shapedefaults": {
           "line": {
            "color": "#2a3f5f"
           }
          },
          "ternary": {
           "aaxis": {
            "gridcolor": "white",
            "linecolor": "white",
            "ticks": ""
           },
           "baxis": {
            "gridcolor": "white",
            "linecolor": "white",
            "ticks": ""
           },
           "bgcolor": "#E5ECF6",
           "caxis": {
            "gridcolor": "white",
            "linecolor": "white",
            "ticks": ""
           }
          },
          "title": {
           "x": 0.05
          },
          "xaxis": {
           "automargin": true,
           "gridcolor": "white",
           "linecolor": "white",
           "ticks": "",
           "title": {
            "standoff": 15
           },
           "zerolinecolor": "white",
           "zerolinewidth": 2
          },
          "yaxis": {
           "automargin": true,
           "gridcolor": "white",
           "linecolor": "white",
           "ticks": "",
           "title": {
            "standoff": 15
           },
           "zerolinecolor": "white",
           "zerolinewidth": 2
          }
         }
        }
       }
      },
      "text/html": [
       "<div>\n",
       "        \n",
       "        \n",
       "            <div id=\"a3419af8-4f57-464a-8377-a900f23ffa23\" class=\"plotly-graph-div\" style=\"height:525px; width:100%;\"></div>\n",
       "            <script type=\"text/javascript\">\n",
       "                require([\"plotly\"], function(Plotly) {\n",
       "                    window.PLOTLYENV=window.PLOTLYENV || {};\n",
       "                    \n",
       "                if (document.getElementById(\"a3419af8-4f57-464a-8377-a900f23ffa23\")) {\n",
       "                    Plotly.newPlot(\n",
       "                        'a3419af8-4f57-464a-8377-a900f23ffa23',\n",
       "                        [{\"coloraxis\": \"coloraxis\", \"geo\": \"geo\", \"hoverlabel\": {\"namelength\": 0}, \"hovertemplate\": \"<b>%{hovertext}</b><br><br>three letter country=%{location}<br>Job Count=%{z}\", \"hovertext\": [\"United Arab Emirates\", \"Albania\", \"Armenia\", \"Argentina\", \"Austria\", \"Australia\", \"Bangladesh\", \"Belgium\", \"Bulgaria\", \"Bahrain\", \"Brazil\", \"Belarus\", \"Canada\", \"Switzerland\", \"Chile\", \"Cameroon\", \"China\", \"Colombia\", \"Cyprus\", \"Czechia\", \"Germany\", \"Denmark\", \"Estonia\", \"Egypt\", \"Spain\", \"Finland\", \"France\", \"United Kingdom of Great Britain and Northern Ireland\", \"Ghana\", \"Greece\", \"Hong Kong\", \"Croatia\", \"Hungary\", \"Indonesia\", \"Ireland\", \"Israel\", \"India\", \"Iraq\", \"Iceland\", \"Italy\", \"Jamaica\", \"Japan\", \"Kenya\", \"Cambodia\", \"Korea, Republic of\", \"Kuwait\", \"Kazakhstan\", \"Sri Lanka\", \"Lithuania\", \"Luxembourg\", \"Latvia\", \"Morocco\", \"Malta\", \"Mauritius\", \"Mexico\", \"Malaysia\", \"Nigeria\", \"Nicaragua\", \"Netherlands\", \"Norway\", \"New Zealand\", \"Panama\", \"Peru\", \"Philippines\", \"Pakistan\", \"Poland\", \"Portugal\", \"Qatar\", \"Romania\", \"Serbia\", \"Russian Federation\", \"Saudi Arabia\", \"Sudan\", \"Sweden\", \"Singapore\", \"Slovenia\", \"Slovakia\", \"El Salvador\", \"Thailand\", \"Tunisia\", \"Turkey\", \"Trinidad and Tobago\", \"Taiwan, Province of China\", \"Ukraine\", \"Uganda\", \"United States of America\", \"Virgin Islands, U.S.\", \"Viet Nam\", \"South Africa\", \"Zambia\"], \"locations\": [\"ARE\", \"ALB\", \"ARM\", \"ARG\", \"AUT\", \"AUS\", \"BGD\", \"BEL\", \"BGR\", \"BHR\", \"BRA\", \"BLR\", \"CAN\", \"CHE\", \"CHL\", \"CMR\", \"CHN\", \"COL\", \"CYP\", \"CZE\", \"DEU\", \"DNK\", \"EST\", \"EGY\", \"ESP\", \"FIN\", \"FRA\", \"GBR\", \"GHA\", \"GRC\", \"HKG\", \"HRV\", \"HUN\", \"IDN\", \"IRL\", \"ISR\", \"IND\", \"IRQ\", \"ISL\", \"ITA\", \"JAM\", \"JPN\", \"KEN\", \"KHM\", \"KOR\", \"KWT\", \"KAZ\", \"LKA\", \"LTU\", \"LUX\", \"LVA\", \"MAR\", \"MLT\", \"MUS\", \"MEX\", \"MYS\", \"NGA\", \"NIC\", \"NLD\", \"NOR\", \"NZL\", \"PAN\", \"PER\", \"PHL\", \"PAK\", \"POL\", \"PRT\", \"QAT\", \"ROU\", \"SRB\", \"RUS\", \"SAU\", \"SDN\", \"SWE\", \"SGP\", \"SVN\", \"SVK\", \"SLV\", \"THA\", \"TUN\", \"TUR\", \"TTO\", \"TWN\", \"UKR\", \"UGA\", \"USA\", \"VIR\", \"VNM\", \"ZAF\", \"ZMB\"], \"name\": \"\", \"type\": \"choropleth\", \"z\": [54, 1, 2, 9, 14, 214, 2, 117, 17, 9, 36, 9, 457, 15, 2, 1, 15, 1, 11, 6, 383, 42, 72, 52, 66, 29, 70, 2384, 1, 940, 77, 1, 14, 13, 114, 72, 276, 10, 2, 31, 1, 20, 7, 1, 10, 2, 1, 2, 23, 9, 6, 1, 13, 14, 18, 21, 10, 4, 127, 8, 333, 9, 1, 132, 27, 76, 18, 21, 46, 7, 20, 15, 1, 49, 80, 1, 2, 1, 10, 2, 17, 4, 4, 13, 1, 10656, 3, 4, 40, 2]}],\n",
       "                        {\"coloraxis\": {\"colorbar\": {\"title\": {\"text\": \"Job Count\"}}, \"colorscale\": [[0.0, \"#0d0887\"], [0.1111111111111111, \"#46039f\"], [0.2222222222222222, \"#7201a8\"], [0.3333333333333333, \"#9c179e\"], [0.4444444444444444, \"#bd3786\"], [0.5555555555555556, \"#d8576b\"], [0.6666666666666666, \"#ed7953\"], [0.7777777777777778, \"#fb9f3a\"], [0.8888888888888888, \"#fdca26\"], [1.0, \"#f0f921\"]]}, \"geo\": {\"center\": {}, \"domain\": {\"x\": [0.0, 1.0], \"y\": [0.0, 1.0]}}, \"legend\": {\"tracegroupgap\": 0}, \"margin\": {\"t\": 60}, \"template\": {\"data\": {\"bar\": [{\"error_x\": {\"color\": \"#2a3f5f\"}, \"error_y\": {\"color\": \"#2a3f5f\"}, \"marker\": {\"line\": {\"color\": \"#E5ECF6\", \"width\": 0.5}}, \"type\": \"bar\"}], \"barpolar\": [{\"marker\": {\"line\": {\"color\": \"#E5ECF6\", \"width\": 0.5}}, \"type\": \"barpolar\"}], \"carpet\": [{\"aaxis\": {\"endlinecolor\": \"#2a3f5f\", \"gridcolor\": \"white\", \"linecolor\": \"white\", \"minorgridcolor\": \"white\", \"startlinecolor\": \"#2a3f5f\"}, \"baxis\": {\"endlinecolor\": \"#2a3f5f\", \"gridcolor\": \"white\", \"linecolor\": \"white\", \"minorgridcolor\": \"white\", \"startlinecolor\": \"#2a3f5f\"}, \"type\": \"carpet\"}], \"choropleth\": [{\"colorbar\": {\"outlinewidth\": 0, \"ticks\": \"\"}, \"type\": \"choropleth\"}], \"contour\": [{\"colorbar\": {\"outlinewidth\": 0, \"ticks\": \"\"}, \"colorscale\": [[0.0, \"#0d0887\"], [0.1111111111111111, \"#46039f\"], [0.2222222222222222, \"#7201a8\"], [0.3333333333333333, \"#9c179e\"], [0.4444444444444444, \"#bd3786\"], [0.5555555555555556, \"#d8576b\"], [0.6666666666666666, \"#ed7953\"], [0.7777777777777778, \"#fb9f3a\"], [0.8888888888888888, \"#fdca26\"], [1.0, \"#f0f921\"]], \"type\": \"contour\"}], \"contourcarpet\": [{\"colorbar\": {\"outlinewidth\": 0, \"ticks\": \"\"}, \"type\": \"contourcarpet\"}], \"heatmap\": [{\"colorbar\": {\"outlinewidth\": 0, \"ticks\": \"\"}, \"colorscale\": [[0.0, \"#0d0887\"], [0.1111111111111111, \"#46039f\"], [0.2222222222222222, \"#7201a8\"], [0.3333333333333333, \"#9c179e\"], [0.4444444444444444, \"#bd3786\"], [0.5555555555555556, \"#d8576b\"], [0.6666666666666666, \"#ed7953\"], [0.7777777777777778, \"#fb9f3a\"], [0.8888888888888888, \"#fdca26\"], [1.0, \"#f0f921\"]], \"type\": \"heatmap\"}], \"heatmapgl\": [{\"colorbar\": {\"outlinewidth\": 0, \"ticks\": \"\"}, \"colorscale\": [[0.0, \"#0d0887\"], [0.1111111111111111, \"#46039f\"], [0.2222222222222222, \"#7201a8\"], [0.3333333333333333, \"#9c179e\"], [0.4444444444444444, \"#bd3786\"], [0.5555555555555556, \"#d8576b\"], [0.6666666666666666, \"#ed7953\"], [0.7777777777777778, \"#fb9f3a\"], [0.8888888888888888, \"#fdca26\"], [1.0, \"#f0f921\"]], \"type\": \"heatmapgl\"}], \"histogram\": [{\"marker\": {\"colorbar\": {\"outlinewidth\": 0, \"ticks\": \"\"}}, \"type\": \"histogram\"}], \"histogram2d\": [{\"colorbar\": {\"outlinewidth\": 0, \"ticks\": \"\"}, \"colorscale\": [[0.0, \"#0d0887\"], [0.1111111111111111, \"#46039f\"], [0.2222222222222222, \"#7201a8\"], [0.3333333333333333, \"#9c179e\"], [0.4444444444444444, \"#bd3786\"], [0.5555555555555556, \"#d8576b\"], [0.6666666666666666, \"#ed7953\"], [0.7777777777777778, \"#fb9f3a\"], [0.8888888888888888, \"#fdca26\"], [1.0, \"#f0f921\"]], \"type\": \"histogram2d\"}], \"histogram2dcontour\": [{\"colorbar\": {\"outlinewidth\": 0, \"ticks\": \"\"}, \"colorscale\": [[0.0, \"#0d0887\"], [0.1111111111111111, \"#46039f\"], [0.2222222222222222, \"#7201a8\"], [0.3333333333333333, \"#9c179e\"], [0.4444444444444444, \"#bd3786\"], [0.5555555555555556, \"#d8576b\"], [0.6666666666666666, \"#ed7953\"], [0.7777777777777778, \"#fb9f3a\"], [0.8888888888888888, \"#fdca26\"], [1.0, \"#f0f921\"]], \"type\": \"histogram2dcontour\"}], \"mesh3d\": [{\"colorbar\": {\"outlinewidth\": 0, \"ticks\": \"\"}, \"type\": \"mesh3d\"}], \"parcoords\": [{\"line\": {\"colorbar\": {\"outlinewidth\": 0, \"ticks\": \"\"}}, \"type\": \"parcoords\"}], \"pie\": [{\"automargin\": true, \"type\": \"pie\"}], \"scatter\": [{\"marker\": {\"colorbar\": {\"outlinewidth\": 0, \"ticks\": \"\"}}, \"type\": \"scatter\"}], \"scatter3d\": [{\"line\": {\"colorbar\": {\"outlinewidth\": 0, \"ticks\": \"\"}}, \"marker\": {\"colorbar\": {\"outlinewidth\": 0, \"ticks\": \"\"}}, \"type\": \"scatter3d\"}], \"scattercarpet\": [{\"marker\": {\"colorbar\": {\"outlinewidth\": 0, \"ticks\": \"\"}}, \"type\": \"scattercarpet\"}], \"scattergeo\": [{\"marker\": {\"colorbar\": {\"outlinewidth\": 0, \"ticks\": \"\"}}, \"type\": \"scattergeo\"}], \"scattergl\": [{\"marker\": {\"colorbar\": {\"outlinewidth\": 0, \"ticks\": \"\"}}, \"type\": \"scattergl\"}], \"scattermapbox\": [{\"marker\": {\"colorbar\": {\"outlinewidth\": 0, \"ticks\": \"\"}}, \"type\": \"scattermapbox\"}], \"scatterpolar\": [{\"marker\": {\"colorbar\": {\"outlinewidth\": 0, \"ticks\": \"\"}}, \"type\": \"scatterpolar\"}], \"scatterpolargl\": [{\"marker\": {\"colorbar\": {\"outlinewidth\": 0, \"ticks\": \"\"}}, \"type\": \"scatterpolargl\"}], \"scatterternary\": [{\"marker\": {\"colorbar\": {\"outlinewidth\": 0, \"ticks\": \"\"}}, \"type\": \"scatterternary\"}], \"surface\": [{\"colorbar\": {\"outlinewidth\": 0, \"ticks\": \"\"}, \"colorscale\": [[0.0, \"#0d0887\"], [0.1111111111111111, \"#46039f\"], [0.2222222222222222, \"#7201a8\"], [0.3333333333333333, \"#9c179e\"], [0.4444444444444444, \"#bd3786\"], [0.5555555555555556, \"#d8576b\"], [0.6666666666666666, \"#ed7953\"], [0.7777777777777778, \"#fb9f3a\"], [0.8888888888888888, \"#fdca26\"], [1.0, \"#f0f921\"]], \"type\": \"surface\"}], \"table\": [{\"cells\": {\"fill\": {\"color\": \"#EBF0F8\"}, \"line\": {\"color\": \"white\"}}, \"header\": {\"fill\": {\"color\": \"#C8D4E3\"}, \"line\": {\"color\": \"white\"}}, \"type\": \"table\"}]}, \"layout\": {\"annotationdefaults\": {\"arrowcolor\": \"#2a3f5f\", \"arrowhead\": 0, \"arrowwidth\": 1}, \"coloraxis\": {\"colorbar\": {\"outlinewidth\": 0, \"ticks\": \"\"}}, \"colorscale\": {\"diverging\": [[0, \"#8e0152\"], [0.1, \"#c51b7d\"], [0.2, \"#de77ae\"], [0.3, \"#f1b6da\"], [0.4, \"#fde0ef\"], [0.5, \"#f7f7f7\"], [0.6, \"#e6f5d0\"], [0.7, \"#b8e186\"], [0.8, \"#7fbc41\"], [0.9, \"#4d9221\"], [1, \"#276419\"]], \"sequential\": [[0.0, \"#0d0887\"], [0.1111111111111111, \"#46039f\"], [0.2222222222222222, \"#7201a8\"], [0.3333333333333333, \"#9c179e\"], [0.4444444444444444, \"#bd3786\"], [0.5555555555555556, \"#d8576b\"], [0.6666666666666666, \"#ed7953\"], [0.7777777777777778, \"#fb9f3a\"], [0.8888888888888888, \"#fdca26\"], [1.0, \"#f0f921\"]], \"sequentialminus\": [[0.0, \"#0d0887\"], [0.1111111111111111, \"#46039f\"], [0.2222222222222222, \"#7201a8\"], [0.3333333333333333, \"#9c179e\"], [0.4444444444444444, \"#bd3786\"], [0.5555555555555556, \"#d8576b\"], [0.6666666666666666, \"#ed7953\"], [0.7777777777777778, \"#fb9f3a\"], [0.8888888888888888, \"#fdca26\"], [1.0, \"#f0f921\"]]}, \"colorway\": [\"#636efa\", \"#EF553B\", \"#00cc96\", \"#ab63fa\", \"#FFA15A\", \"#19d3f3\", \"#FF6692\", \"#B6E880\", \"#FF97FF\", \"#FECB52\"], \"font\": {\"color\": \"#2a3f5f\"}, \"geo\": {\"bgcolor\": \"white\", \"lakecolor\": \"white\", \"landcolor\": \"#E5ECF6\", \"showlakes\": true, \"showland\": true, \"subunitcolor\": \"white\"}, \"hoverlabel\": {\"align\": \"left\"}, \"hovermode\": \"closest\", \"mapbox\": {\"style\": \"light\"}, \"paper_bgcolor\": \"white\", \"plot_bgcolor\": \"#E5ECF6\", \"polar\": {\"angularaxis\": {\"gridcolor\": \"white\", \"linecolor\": \"white\", \"ticks\": \"\"}, \"bgcolor\": \"#E5ECF6\", \"radialaxis\": {\"gridcolor\": \"white\", \"linecolor\": \"white\", \"ticks\": \"\"}}, \"scene\": {\"xaxis\": {\"backgroundcolor\": \"#E5ECF6\", \"gridcolor\": \"white\", \"gridwidth\": 2, \"linecolor\": \"white\", \"showbackground\": true, \"ticks\": \"\", \"zerolinecolor\": \"white\"}, \"yaxis\": {\"backgroundcolor\": \"#E5ECF6\", \"gridcolor\": \"white\", \"gridwidth\": 2, \"linecolor\": \"white\", \"showbackground\": true, \"ticks\": \"\", \"zerolinecolor\": \"white\"}, \"zaxis\": {\"backgroundcolor\": \"#E5ECF6\", \"gridcolor\": \"white\", \"gridwidth\": 2, \"linecolor\": \"white\", \"showbackground\": true, \"ticks\": \"\", \"zerolinecolor\": \"white\"}}, \"shapedefaults\": {\"line\": {\"color\": \"#2a3f5f\"}}, \"ternary\": {\"aaxis\": {\"gridcolor\": \"white\", \"linecolor\": \"white\", \"ticks\": \"\"}, \"baxis\": {\"gridcolor\": \"white\", \"linecolor\": \"white\", \"ticks\": \"\"}, \"bgcolor\": \"#E5ECF6\", \"caxis\": {\"gridcolor\": \"white\", \"linecolor\": \"white\", \"ticks\": \"\"}}, \"title\": {\"x\": 0.05}, \"xaxis\": {\"automargin\": true, \"gridcolor\": \"white\", \"linecolor\": \"white\", \"ticks\": \"\", \"title\": {\"standoff\": 15}, \"zerolinecolor\": \"white\", \"zerolinewidth\": 2}, \"yaxis\": {\"automargin\": true, \"gridcolor\": \"white\", \"linecolor\": \"white\", \"ticks\": \"\", \"title\": {\"standoff\": 15}, \"zerolinecolor\": \"white\", \"zerolinewidth\": 2}}}},\n",
       "                        {\"responsive\": true}\n",
       "                    ).then(function(){\n",
       "                            \n",
       "var gd = document.getElementById('a3419af8-4f57-464a-8377-a900f23ffa23');\n",
       "var x = new MutationObserver(function (mutations, observer) {{\n",
       "        var display = window.getComputedStyle(gd).display;\n",
       "        if (!display || display === 'none') {{\n",
       "            console.log([gd, 'removed!']);\n",
       "            Plotly.purge(gd);\n",
       "            observer.disconnect();\n",
       "        }}\n",
       "}});\n",
       "\n",
       "// Listen for the removal of the full notebook cells\n",
       "var notebookContainer = gd.closest('#notebook-container');\n",
       "if (notebookContainer) {{\n",
       "    x.observe(notebookContainer, {childList: true});\n",
       "}}\n",
       "\n",
       "// Listen for the clearing of the current output cell\n",
       "var outputEl = gd.closest('.output');\n",
       "if (outputEl) {{\n",
       "    x.observe(outputEl, {childList: true});\n",
       "}}\n",
       "\n",
       "                        })\n",
       "                };\n",
       "                });\n",
       "            </script>\n",
       "        </div>"
      ]
     },
     "metadata": {},
     "output_type": "display_data"
    }
   ],
   "source": [
    "\n",
    "fig = px.choropleth(country_job_df, locations=\"three letter country\",\n",
    "                    color=\"Job Count\", # lifeExp is a column of gapminder\n",
    "                    hover_name=\"country name\", # column to add to hover information\n",
    "                    color_continuous_scale=px.colors.sequential.Plasma)\n",
    "fig.show()"
   ]
  },
  {
   "cell_type": "code",
   "execution_count": 69,
   "metadata": {},
   "outputs": [
    {
     "data": {
      "text/html": [
       "<div>\n",
       "<style scoped>\n",
       "    .dataframe tbody tr th:only-of-type {\n",
       "        vertical-align: middle;\n",
       "    }\n",
       "\n",
       "    .dataframe tbody tr th {\n",
       "        vertical-align: top;\n",
       "    }\n",
       "\n",
       "    .dataframe thead th {\n",
       "        text-align: right;\n",
       "    }\n",
       "</style>\n",
       "<table border=\"1\" class=\"dataframe\">\n",
       "  <thead>\n",
       "    <tr style=\"text-align: right;\">\n",
       "      <th></th>\n",
       "      <th>Country</th>\n",
       "      <th>State</th>\n",
       "      <th>City</th>\n",
       "    </tr>\n",
       "  </thead>\n",
       "  <tbody>\n",
       "    <tr>\n",
       "      <td>0</td>\n",
       "      <td>US,</td>\n",
       "      <td>NY,</td>\n",
       "      <td>New York</td>\n",
       "    </tr>\n",
       "    <tr>\n",
       "      <td>1</td>\n",
       "      <td>NZ,</td>\n",
       "      <td>,</td>\n",
       "      <td>Auckland</td>\n",
       "    </tr>\n",
       "    <tr>\n",
       "      <td>2</td>\n",
       "      <td>US,</td>\n",
       "      <td>IA,</td>\n",
       "      <td>Wever</td>\n",
       "    </tr>\n",
       "    <tr>\n",
       "      <td>3</td>\n",
       "      <td>US,</td>\n",
       "      <td>DC,</td>\n",
       "      <td>Washington</td>\n",
       "    </tr>\n",
       "    <tr>\n",
       "      <td>4</td>\n",
       "      <td>US,</td>\n",
       "      <td>FL,</td>\n",
       "      <td>Fort Worth</td>\n",
       "    </tr>\n",
       "    <tr>\n",
       "      <td>...</td>\n",
       "      <td>...</td>\n",
       "      <td>...</td>\n",
       "      <td>...</td>\n",
       "    </tr>\n",
       "    <tr>\n",
       "      <td>17875</td>\n",
       "      <td>CA,</td>\n",
       "      <td>ON,</td>\n",
       "      <td>Toronto</td>\n",
       "    </tr>\n",
       "    <tr>\n",
       "      <td>17876</td>\n",
       "      <td>US,</td>\n",
       "      <td>PA,</td>\n",
       "      <td>Philadelphia</td>\n",
       "    </tr>\n",
       "    <tr>\n",
       "      <td>17877</td>\n",
       "      <td>US,</td>\n",
       "      <td>TX,</td>\n",
       "      <td>Houston</td>\n",
       "    </tr>\n",
       "    <tr>\n",
       "      <td>17878</td>\n",
       "      <td>NG,</td>\n",
       "      <td>LA,</td>\n",
       "      <td>Lagos</td>\n",
       "    </tr>\n",
       "    <tr>\n",
       "      <td>17879</td>\n",
       "      <td>NZ,</td>\n",
       "      <td>N,</td>\n",
       "      <td>Wellington</td>\n",
       "    </tr>\n",
       "  </tbody>\n",
       "</table>\n",
       "<p>17534 rows × 3 columns</p>\n",
       "</div>"
      ],
      "text/plain": [
       "      Country State          City\n",
       "0         US,   NY,      New York\n",
       "1         NZ,     ,      Auckland\n",
       "2         US,   IA,         Wever\n",
       "3         US,   DC,    Washington\n",
       "4         US,   FL,    Fort Worth\n",
       "...       ...   ...           ...\n",
       "17875     CA,   ON,       Toronto\n",
       "17876     US,   PA,  Philadelphia\n",
       "17877     US,   TX,       Houston\n",
       "17878     NG,   LA,         Lagos\n",
       "17879     NZ,    N,    Wellington\n",
       "\n",
       "[17534 rows x 3 columns]"
      ]
     },
     "execution_count": 69,
     "metadata": {},
     "output_type": "execute_result"
    }
   ],
   "source": [
    "df2"
   ]
  },
  {
   "cell_type": "code",
   "execution_count": 70,
   "metadata": {},
   "outputs": [
    {
     "data": {
      "text/html": [
       "<div>\n",
       "<style scoped>\n",
       "    .dataframe tbody tr th:only-of-type {\n",
       "        vertical-align: middle;\n",
       "    }\n",
       "\n",
       "    .dataframe tbody tr th {\n",
       "        vertical-align: top;\n",
       "    }\n",
       "\n",
       "    .dataframe thead th {\n",
       "        text-align: right;\n",
       "    }\n",
       "</style>\n",
       "<table border=\"1\" class=\"dataframe\">\n",
       "  <thead>\n",
       "    <tr style=\"text-align: right;\">\n",
       "      <th></th>\n",
       "      <th>Country</th>\n",
       "      <th>State</th>\n",
       "      <th>City</th>\n",
       "    </tr>\n",
       "  </thead>\n",
       "  <tbody>\n",
       "    <tr>\n",
       "      <td>0</td>\n",
       "      <td>US,</td>\n",
       "      <td>NY,</td>\n",
       "      <td>New York</td>\n",
       "    </tr>\n",
       "    <tr>\n",
       "      <td>2</td>\n",
       "      <td>US,</td>\n",
       "      <td>IA,</td>\n",
       "      <td>Wever</td>\n",
       "    </tr>\n",
       "    <tr>\n",
       "      <td>3</td>\n",
       "      <td>US,</td>\n",
       "      <td>DC,</td>\n",
       "      <td>Washington</td>\n",
       "    </tr>\n",
       "    <tr>\n",
       "      <td>4</td>\n",
       "      <td>US,</td>\n",
       "      <td>FL,</td>\n",
       "      <td>Fort Worth</td>\n",
       "    </tr>\n",
       "    <tr>\n",
       "      <td>5</td>\n",
       "      <td>US,</td>\n",
       "      <td>MD,</td>\n",
       "      <td></td>\n",
       "    </tr>\n",
       "    <tr>\n",
       "      <td>...</td>\n",
       "      <td>...</td>\n",
       "      <td>...</td>\n",
       "      <td>...</td>\n",
       "    </tr>\n",
       "    <tr>\n",
       "      <td>17872</td>\n",
       "      <td>US,</td>\n",
       "      <td>CA,</td>\n",
       "      <td>San Francisco</td>\n",
       "    </tr>\n",
       "    <tr>\n",
       "      <td>17873</td>\n",
       "      <td>US,</td>\n",
       "      <td>NC,</td>\n",
       "      <td>Charlotte</td>\n",
       "    </tr>\n",
       "    <tr>\n",
       "      <td>17874</td>\n",
       "      <td>US,</td>\n",
       "      <td>,</td>\n",
       "      <td></td>\n",
       "    </tr>\n",
       "    <tr>\n",
       "      <td>17876</td>\n",
       "      <td>US,</td>\n",
       "      <td>PA,</td>\n",
       "      <td>Philadelphia</td>\n",
       "    </tr>\n",
       "    <tr>\n",
       "      <td>17877</td>\n",
       "      <td>US,</td>\n",
       "      <td>TX,</td>\n",
       "      <td>Houston</td>\n",
       "    </tr>\n",
       "  </tbody>\n",
       "</table>\n",
       "<p>10593 rows × 3 columns</p>\n",
       "</div>"
      ],
      "text/plain": [
       "      Country State           City\n",
       "0         US,   NY,       New York\n",
       "2         US,   IA,          Wever\n",
       "3         US,   DC,     Washington\n",
       "4         US,   FL,     Fort Worth\n",
       "5         US,   MD,               \n",
       "...       ...   ...            ...\n",
       "17872     US,   CA,  San Francisco\n",
       "17873     US,   NC,      Charlotte\n",
       "17874     US,     ,               \n",
       "17876     US,   PA,   Philadelphia\n",
       "17877     US,   TX,        Houston\n",
       "\n",
       "[10593 rows x 3 columns]"
      ]
     },
     "execution_count": 70,
     "metadata": {},
     "output_type": "execute_result"
    }
   ],
   "source": [
    "us_df = df2[df2[\"Country\"] == \"US,\"]\n",
    "us_df"
   ]
  },
  {
   "cell_type": "code",
   "execution_count": 71,
   "metadata": {},
   "outputs": [
    {
     "name": "stderr",
     "output_type": "stream",
     "text": [
      "C:\\Users\\lugor\\Anaconda3\\lib\\site-packages\\ipykernel_launcher.py:1: SettingWithCopyWarning:\n",
      "\n",
      "\n",
      "A value is trying to be set on a copy of a slice from a DataFrame.\n",
      "Try using .loc[row_indexer,col_indexer] = value instead\n",
      "\n",
      "See the caveats in the documentation: http://pandas.pydata.org/pandas-docs/stable/user_guide/indexing.html#returning-a-view-versus-a-copy\n",
      "\n",
      "C:\\Users\\lugor\\Anaconda3\\lib\\site-packages\\ipykernel_launcher.py:2: SettingWithCopyWarning:\n",
      "\n",
      "\n",
      "A value is trying to be set on a copy of a slice from a DataFrame.\n",
      "Try using .loc[row_indexer,col_indexer] = value instead\n",
      "\n",
      "See the caveats in the documentation: http://pandas.pydata.org/pandas-docs/stable/user_guide/indexing.html#returning-a-view-versus-a-copy\n",
      "\n"
     ]
    },
    {
     "data": {
      "text/html": [
       "<div>\n",
       "<style scoped>\n",
       "    .dataframe tbody tr th:only-of-type {\n",
       "        vertical-align: middle;\n",
       "    }\n",
       "\n",
       "    .dataframe tbody tr th {\n",
       "        vertical-align: top;\n",
       "    }\n",
       "\n",
       "    .dataframe thead th {\n",
       "        text-align: right;\n",
       "    }\n",
       "</style>\n",
       "<table border=\"1\" class=\"dataframe\">\n",
       "  <thead>\n",
       "    <tr style=\"text-align: right;\">\n",
       "      <th></th>\n",
       "      <th>Country</th>\n",
       "      <th>State</th>\n",
       "      <th>City</th>\n",
       "    </tr>\n",
       "  </thead>\n",
       "  <tbody>\n",
       "    <tr>\n",
       "      <td>0</td>\n",
       "      <td>US</td>\n",
       "      <td>NY</td>\n",
       "      <td>New York</td>\n",
       "    </tr>\n",
       "    <tr>\n",
       "      <td>2</td>\n",
       "      <td>US</td>\n",
       "      <td>IA</td>\n",
       "      <td>Wever</td>\n",
       "    </tr>\n",
       "    <tr>\n",
       "      <td>3</td>\n",
       "      <td>US</td>\n",
       "      <td>DC</td>\n",
       "      <td>Washington</td>\n",
       "    </tr>\n",
       "    <tr>\n",
       "      <td>4</td>\n",
       "      <td>US</td>\n",
       "      <td>FL</td>\n",
       "      <td>Fort Worth</td>\n",
       "    </tr>\n",
       "    <tr>\n",
       "      <td>5</td>\n",
       "      <td>US</td>\n",
       "      <td>MD</td>\n",
       "      <td></td>\n",
       "    </tr>\n",
       "    <tr>\n",
       "      <td>...</td>\n",
       "      <td>...</td>\n",
       "      <td>...</td>\n",
       "      <td>...</td>\n",
       "    </tr>\n",
       "    <tr>\n",
       "      <td>17872</td>\n",
       "      <td>US</td>\n",
       "      <td>CA</td>\n",
       "      <td>San Francisco</td>\n",
       "    </tr>\n",
       "    <tr>\n",
       "      <td>17873</td>\n",
       "      <td>US</td>\n",
       "      <td>NC</td>\n",
       "      <td>Charlotte</td>\n",
       "    </tr>\n",
       "    <tr>\n",
       "      <td>17874</td>\n",
       "      <td>US</td>\n",
       "      <td></td>\n",
       "      <td></td>\n",
       "    </tr>\n",
       "    <tr>\n",
       "      <td>17876</td>\n",
       "      <td>US</td>\n",
       "      <td>PA</td>\n",
       "      <td>Philadelphia</td>\n",
       "    </tr>\n",
       "    <tr>\n",
       "      <td>17877</td>\n",
       "      <td>US</td>\n",
       "      <td>TX</td>\n",
       "      <td>Houston</td>\n",
       "    </tr>\n",
       "  </tbody>\n",
       "</table>\n",
       "<p>10593 rows × 3 columns</p>\n",
       "</div>"
      ],
      "text/plain": [
       "      Country State           City\n",
       "0          US    NY       New York\n",
       "2          US    IA          Wever\n",
       "3          US    DC     Washington\n",
       "4          US    FL     Fort Worth\n",
       "5          US    MD               \n",
       "...       ...   ...            ...\n",
       "17872      US    CA  San Francisco\n",
       "17873      US    NC      Charlotte\n",
       "17874      US                     \n",
       "17876      US    PA   Philadelphia\n",
       "17877      US    TX        Houston\n",
       "\n",
       "[10593 rows x 3 columns]"
      ]
     },
     "execution_count": 71,
     "metadata": {},
     "output_type": "execute_result"
    }
   ],
   "source": [
    "us_df['Country'] = us_df['Country'].str.replace(',', '').astype(str)\n",
    "us_df['State'] = us_df['State'].str.replace(',', '').astype(str)\n",
    "us_df"
   ]
  },
  {
   "cell_type": "code",
   "execution_count": 72,
   "metadata": {},
   "outputs": [
    {
     "data": {
      "text/plain": [
       "State\n",
       "        \n",
       "AK    AK\n",
       "AL    AL\n",
       "AR    AR\n",
       "AZ    AZ\n",
       "CA    CA\n",
       "CO    CO\n",
       "CT    CT\n",
       "DC    DC\n",
       "DE    DE\n",
       "FL    FL\n",
       "GA    GA\n",
       "HI    HI\n",
       "IA    IA\n",
       "ID    ID\n",
       "IL    IL\n",
       "IN    IN\n",
       "KS    KS\n",
       "KY    KY\n",
       "LA    LA\n",
       "MA    MA\n",
       "MD    MD\n",
       "ME    ME\n",
       "MI    MI\n",
       "MN    MN\n",
       "MO    MO\n",
       "MS    MS\n",
       "MT    MT\n",
       "NC    NC\n",
       "ND    ND\n",
       "NE    NE\n",
       "NH    NH\n",
       "NJ    NJ\n",
       "NM    NM\n",
       "NV    NV\n",
       "NY    NY\n",
       "OH    OH\n",
       "OK    OK\n",
       "OR    OR\n",
       "PA    PA\n",
       "RI    RI\n",
       "SC    SC\n",
       "SD    SD\n",
       "TN    TN\n",
       "TX    TX\n",
       "UT    UT\n",
       "VA    VA\n",
       "VT    VT\n",
       "WA    WA\n",
       "WI    WI\n",
       "WV    WV\n",
       "WY    WY\n",
       "Name: State, dtype: object"
      ]
     },
     "execution_count": 72,
     "metadata": {},
     "output_type": "execute_result"
    }
   ],
   "source": [
    "us_groupby = us_df.groupby(\"State\")\n",
    "us_list = us_groupby[\"State\"].first()\n",
    "us_list"
   ]
  },
  {
   "cell_type": "code",
   "execution_count": 73,
   "metadata": {},
   "outputs": [
    {
     "data": {
      "text/plain": [
       "[455,\n",
       " 9,\n",
       " 65,\n",
       " 17,\n",
       " 151,\n",
       " 2051,\n",
       " 134,\n",
       " 104,\n",
       " 276,\n",
       " 19,\n",
       " 415,\n",
       " 238,\n",
       " 4,\n",
       " 85,\n",
       " 30,\n",
       " 424,\n",
       " 119,\n",
       " 40,\n",
       " 92,\n",
       " 34,\n",
       " 313,\n",
       " 107,\n",
       " 8,\n",
       " 285,\n",
       " 179,\n",
       " 160,\n",
       " 17,\n",
       " 10,\n",
       " 225,\n",
       " 23,\n",
       " 31,\n",
       " 21,\n",
       " 193,\n",
       " 16,\n",
       " 113,\n",
       " 1259,\n",
       " 372,\n",
       " 69,\n",
       " 186,\n",
       " 316,\n",
       " 14,\n",
       " 79,\n",
       " 16,\n",
       " 84,\n",
       " 975,\n",
       " 69,\n",
       " 332,\n",
       " 5,\n",
       " 167,\n",
       " 152,\n",
       " 27,\n",
       " 8]"
      ]
     },
     "execution_count": 73,
     "metadata": {},
     "output_type": "execute_result"
    }
   ],
   "source": [
    "state_groups = us_groupby.groups\n",
    "\n",
    "state_counts = []\n",
    "\n",
    "for i in us_list:\n",
    "    state_counts.append(len(state_groups[i]))\n",
    "state_counts\n",
    "    "
   ]
  },
  {
   "cell_type": "code",
   "execution_count": 74,
   "metadata": {},
   "outputs": [
    {
     "data": {
      "text/html": [
       "<div>\n",
       "<style scoped>\n",
       "    .dataframe tbody tr th:only-of-type {\n",
       "        vertical-align: middle;\n",
       "    }\n",
       "\n",
       "    .dataframe tbody tr th {\n",
       "        vertical-align: top;\n",
       "    }\n",
       "\n",
       "    .dataframe thead th {\n",
       "        text-align: right;\n",
       "    }\n",
       "</style>\n",
       "<table border=\"1\" class=\"dataframe\">\n",
       "  <thead>\n",
       "    <tr style=\"text-align: right;\">\n",
       "      <th></th>\n",
       "      <th>Country</th>\n",
       "      <th>State</th>\n",
       "      <th>City</th>\n",
       "    </tr>\n",
       "  </thead>\n",
       "  <tbody>\n",
       "    <tr>\n",
       "      <td>0</td>\n",
       "      <td>US,</td>\n",
       "      <td>NY,</td>\n",
       "      <td>New York</td>\n",
       "    </tr>\n",
       "    <tr>\n",
       "      <td>2</td>\n",
       "      <td>US,</td>\n",
       "      <td>IA,</td>\n",
       "      <td>Wever</td>\n",
       "    </tr>\n",
       "    <tr>\n",
       "      <td>3</td>\n",
       "      <td>US,</td>\n",
       "      <td>DC,</td>\n",
       "      <td>Washington</td>\n",
       "    </tr>\n",
       "    <tr>\n",
       "      <td>4</td>\n",
       "      <td>US,</td>\n",
       "      <td>FL,</td>\n",
       "      <td>Fort Worth</td>\n",
       "    </tr>\n",
       "    <tr>\n",
       "      <td>5</td>\n",
       "      <td>US,</td>\n",
       "      <td>MD,</td>\n",
       "      <td></td>\n",
       "    </tr>\n",
       "    <tr>\n",
       "      <td>...</td>\n",
       "      <td>...</td>\n",
       "      <td>...</td>\n",
       "      <td>...</td>\n",
       "    </tr>\n",
       "    <tr>\n",
       "      <td>17872</td>\n",
       "      <td>US,</td>\n",
       "      <td>CA,</td>\n",
       "      <td>San Francisco</td>\n",
       "    </tr>\n",
       "    <tr>\n",
       "      <td>17873</td>\n",
       "      <td>US,</td>\n",
       "      <td>NC,</td>\n",
       "      <td>Charlotte</td>\n",
       "    </tr>\n",
       "    <tr>\n",
       "      <td>17874</td>\n",
       "      <td>US,</td>\n",
       "      <td>,</td>\n",
       "      <td></td>\n",
       "    </tr>\n",
       "    <tr>\n",
       "      <td>17876</td>\n",
       "      <td>US,</td>\n",
       "      <td>PA,</td>\n",
       "      <td>Philadelphia</td>\n",
       "    </tr>\n",
       "    <tr>\n",
       "      <td>17877</td>\n",
       "      <td>US,</td>\n",
       "      <td>TX,</td>\n",
       "      <td>Houston</td>\n",
       "    </tr>\n",
       "  </tbody>\n",
       "</table>\n",
       "<p>10593 rows × 3 columns</p>\n",
       "</div>"
      ],
      "text/plain": [
       "      Country State           City\n",
       "0         US,   NY,       New York\n",
       "2         US,   IA,          Wever\n",
       "3         US,   DC,     Washington\n",
       "4         US,   FL,     Fort Worth\n",
       "5         US,   MD,               \n",
       "...       ...   ...            ...\n",
       "17872     US,   CA,  San Francisco\n",
       "17873     US,   NC,      Charlotte\n",
       "17874     US,     ,               \n",
       "17876     US,   PA,   Philadelphia\n",
       "17877     US,   TX,        Houston\n",
       "\n",
       "[10593 rows x 3 columns]"
      ]
     },
     "execution_count": 74,
     "metadata": {},
     "output_type": "execute_result"
    }
   ],
   "source": [
    "state_counts_df = pd.DataFrame({\"States\":us_list,\"Job Count\":state_counts})\n",
    "us_df = df2[df2[\"Country\"] == \"US,\"]\n",
    "us_df"
   ]
  },
  {
   "cell_type": "code",
   "execution_count": 75,
   "metadata": {
    "scrolled": true
   },
   "outputs": [
    {
     "data": {
      "application/vnd.plotly.v1+json": {
       "config": {
        "plotlyServerURL": "https://plot.ly"
       },
       "data": [
        {
         "colorbar": {
          "title": {
           "text": "Job Count"
          }
         },
         "colorscale": [
          [
           0,
           "rgb(247,251,255)"
          ],
          [
           0.125,
           "rgb(222,235,247)"
          ],
          [
           0.25,
           "rgb(198,219,239)"
          ],
          [
           0.375,
           "rgb(158,202,225)"
          ],
          [
           0.5,
           "rgb(107,174,214)"
          ],
          [
           0.625,
           "rgb(66,146,198)"
          ],
          [
           0.75,
           "rgb(33,113,181)"
          ],
          [
           0.875,
           "rgb(8,81,156)"
          ],
          [
           1,
           "rgb(8,48,107)"
          ]
         ],
         "locationmode": "USA-states",
         "locations": [
          "",
          "AK",
          "AL",
          "AR",
          "AZ",
          "CA",
          "CO",
          "CT",
          "DC",
          "DE",
          "FL",
          "GA",
          "HI",
          "IA",
          "ID",
          "IL",
          "IN",
          "KS",
          "KY",
          "LA",
          "MA",
          "MD",
          "ME",
          "MI",
          "MN",
          "MO",
          "MS",
          "MT",
          "NC",
          "ND",
          "NE",
          "NH",
          "NJ",
          "NM",
          "NV",
          "NY",
          "OH",
          "OK",
          "OR",
          "PA",
          "RI",
          "SC",
          "SD",
          "TN",
          "TX",
          "UT",
          "VA",
          "VT",
          "WA",
          "WI",
          "WV",
          "WY"
         ],
         "type": "choropleth",
         "z": [
          455,
          9,
          65,
          17,
          151,
          2051,
          134,
          104,
          276,
          19,
          415,
          238,
          4,
          85,
          30,
          424,
          119,
          40,
          92,
          34,
          313,
          107,
          8,
          285,
          179,
          160,
          17,
          10,
          225,
          23,
          31,
          21,
          193,
          16,
          113,
          1259,
          372,
          69,
          186,
          316,
          14,
          79,
          16,
          84,
          975,
          69,
          332,
          5,
          167,
          152,
          27,
          8
         ]
        }
       ],
       "layout": {
        "geo": {
         "scope": "usa"
        },
        "template": {
         "data": {
          "bar": [
           {
            "error_x": {
             "color": "#2a3f5f"
            },
            "error_y": {
             "color": "#2a3f5f"
            },
            "marker": {
             "line": {
              "color": "#E5ECF6",
              "width": 0.5
             }
            },
            "type": "bar"
           }
          ],
          "barpolar": [
           {
            "marker": {
             "line": {
              "color": "#E5ECF6",
              "width": 0.5
             }
            },
            "type": "barpolar"
           }
          ],
          "carpet": [
           {
            "aaxis": {
             "endlinecolor": "#2a3f5f",
             "gridcolor": "white",
             "linecolor": "white",
             "minorgridcolor": "white",
             "startlinecolor": "#2a3f5f"
            },
            "baxis": {
             "endlinecolor": "#2a3f5f",
             "gridcolor": "white",
             "linecolor": "white",
             "minorgridcolor": "white",
             "startlinecolor": "#2a3f5f"
            },
            "type": "carpet"
           }
          ],
          "choropleth": [
           {
            "colorbar": {
             "outlinewidth": 0,
             "ticks": ""
            },
            "type": "choropleth"
           }
          ],
          "contour": [
           {
            "colorbar": {
             "outlinewidth": 0,
             "ticks": ""
            },
            "colorscale": [
             [
              0,
              "#0d0887"
             ],
             [
              0.1111111111111111,
              "#46039f"
             ],
             [
              0.2222222222222222,
              "#7201a8"
             ],
             [
              0.3333333333333333,
              "#9c179e"
             ],
             [
              0.4444444444444444,
              "#bd3786"
             ],
             [
              0.5555555555555556,
              "#d8576b"
             ],
             [
              0.6666666666666666,
              "#ed7953"
             ],
             [
              0.7777777777777778,
              "#fb9f3a"
             ],
             [
              0.8888888888888888,
              "#fdca26"
             ],
             [
              1,
              "#f0f921"
             ]
            ],
            "type": "contour"
           }
          ],
          "contourcarpet": [
           {
            "colorbar": {
             "outlinewidth": 0,
             "ticks": ""
            },
            "type": "contourcarpet"
           }
          ],
          "heatmap": [
           {
            "colorbar": {
             "outlinewidth": 0,
             "ticks": ""
            },
            "colorscale": [
             [
              0,
              "#0d0887"
             ],
             [
              0.1111111111111111,
              "#46039f"
             ],
             [
              0.2222222222222222,
              "#7201a8"
             ],
             [
              0.3333333333333333,
              "#9c179e"
             ],
             [
              0.4444444444444444,
              "#bd3786"
             ],
             [
              0.5555555555555556,
              "#d8576b"
             ],
             [
              0.6666666666666666,
              "#ed7953"
             ],
             [
              0.7777777777777778,
              "#fb9f3a"
             ],
             [
              0.8888888888888888,
              "#fdca26"
             ],
             [
              1,
              "#f0f921"
             ]
            ],
            "type": "heatmap"
           }
          ],
          "heatmapgl": [
           {
            "colorbar": {
             "outlinewidth": 0,
             "ticks": ""
            },
            "colorscale": [
             [
              0,
              "#0d0887"
             ],
             [
              0.1111111111111111,
              "#46039f"
             ],
             [
              0.2222222222222222,
              "#7201a8"
             ],
             [
              0.3333333333333333,
              "#9c179e"
             ],
             [
              0.4444444444444444,
              "#bd3786"
             ],
             [
              0.5555555555555556,
              "#d8576b"
             ],
             [
              0.6666666666666666,
              "#ed7953"
             ],
             [
              0.7777777777777778,
              "#fb9f3a"
             ],
             [
              0.8888888888888888,
              "#fdca26"
             ],
             [
              1,
              "#f0f921"
             ]
            ],
            "type": "heatmapgl"
           }
          ],
          "histogram": [
           {
            "marker": {
             "colorbar": {
              "outlinewidth": 0,
              "ticks": ""
             }
            },
            "type": "histogram"
           }
          ],
          "histogram2d": [
           {
            "colorbar": {
             "outlinewidth": 0,
             "ticks": ""
            },
            "colorscale": [
             [
              0,
              "#0d0887"
             ],
             [
              0.1111111111111111,
              "#46039f"
             ],
             [
              0.2222222222222222,
              "#7201a8"
             ],
             [
              0.3333333333333333,
              "#9c179e"
             ],
             [
              0.4444444444444444,
              "#bd3786"
             ],
             [
              0.5555555555555556,
              "#d8576b"
             ],
             [
              0.6666666666666666,
              "#ed7953"
             ],
             [
              0.7777777777777778,
              "#fb9f3a"
             ],
             [
              0.8888888888888888,
              "#fdca26"
             ],
             [
              1,
              "#f0f921"
             ]
            ],
            "type": "histogram2d"
           }
          ],
          "histogram2dcontour": [
           {
            "colorbar": {
             "outlinewidth": 0,
             "ticks": ""
            },
            "colorscale": [
             [
              0,
              "#0d0887"
             ],
             [
              0.1111111111111111,
              "#46039f"
             ],
             [
              0.2222222222222222,
              "#7201a8"
             ],
             [
              0.3333333333333333,
              "#9c179e"
             ],
             [
              0.4444444444444444,
              "#bd3786"
             ],
             [
              0.5555555555555556,
              "#d8576b"
             ],
             [
              0.6666666666666666,
              "#ed7953"
             ],
             [
              0.7777777777777778,
              "#fb9f3a"
             ],
             [
              0.8888888888888888,
              "#fdca26"
             ],
             [
              1,
              "#f0f921"
             ]
            ],
            "type": "histogram2dcontour"
           }
          ],
          "mesh3d": [
           {
            "colorbar": {
             "outlinewidth": 0,
             "ticks": ""
            },
            "type": "mesh3d"
           }
          ],
          "parcoords": [
           {
            "line": {
             "colorbar": {
              "outlinewidth": 0,
              "ticks": ""
             }
            },
            "type": "parcoords"
           }
          ],
          "pie": [
           {
            "automargin": true,
            "type": "pie"
           }
          ],
          "scatter": [
           {
            "marker": {
             "colorbar": {
              "outlinewidth": 0,
              "ticks": ""
             }
            },
            "type": "scatter"
           }
          ],
          "scatter3d": [
           {
            "line": {
             "colorbar": {
              "outlinewidth": 0,
              "ticks": ""
             }
            },
            "marker": {
             "colorbar": {
              "outlinewidth": 0,
              "ticks": ""
             }
            },
            "type": "scatter3d"
           }
          ],
          "scattercarpet": [
           {
            "marker": {
             "colorbar": {
              "outlinewidth": 0,
              "ticks": ""
             }
            },
            "type": "scattercarpet"
           }
          ],
          "scattergeo": [
           {
            "marker": {
             "colorbar": {
              "outlinewidth": 0,
              "ticks": ""
             }
            },
            "type": "scattergeo"
           }
          ],
          "scattergl": [
           {
            "marker": {
             "colorbar": {
              "outlinewidth": 0,
              "ticks": ""
             }
            },
            "type": "scattergl"
           }
          ],
          "scattermapbox": [
           {
            "marker": {
             "colorbar": {
              "outlinewidth": 0,
              "ticks": ""
             }
            },
            "type": "scattermapbox"
           }
          ],
          "scatterpolar": [
           {
            "marker": {
             "colorbar": {
              "outlinewidth": 0,
              "ticks": ""
             }
            },
            "type": "scatterpolar"
           }
          ],
          "scatterpolargl": [
           {
            "marker": {
             "colorbar": {
              "outlinewidth": 0,
              "ticks": ""
             }
            },
            "type": "scatterpolargl"
           }
          ],
          "scatterternary": [
           {
            "marker": {
             "colorbar": {
              "outlinewidth": 0,
              "ticks": ""
             }
            },
            "type": "scatterternary"
           }
          ],
          "surface": [
           {
            "colorbar": {
             "outlinewidth": 0,
             "ticks": ""
            },
            "colorscale": [
             [
              0,
              "#0d0887"
             ],
             [
              0.1111111111111111,
              "#46039f"
             ],
             [
              0.2222222222222222,
              "#7201a8"
             ],
             [
              0.3333333333333333,
              "#9c179e"
             ],
             [
              0.4444444444444444,
              "#bd3786"
             ],
             [
              0.5555555555555556,
              "#d8576b"
             ],
             [
              0.6666666666666666,
              "#ed7953"
             ],
             [
              0.7777777777777778,
              "#fb9f3a"
             ],
             [
              0.8888888888888888,
              "#fdca26"
             ],
             [
              1,
              "#f0f921"
             ]
            ],
            "type": "surface"
           }
          ],
          "table": [
           {
            "cells": {
             "fill": {
              "color": "#EBF0F8"
             },
             "line": {
              "color": "white"
             }
            },
            "header": {
             "fill": {
              "color": "#C8D4E3"
             },
             "line": {
              "color": "white"
             }
            },
            "type": "table"
           }
          ]
         },
         "layout": {
          "annotationdefaults": {
           "arrowcolor": "#2a3f5f",
           "arrowhead": 0,
           "arrowwidth": 1
          },
          "coloraxis": {
           "colorbar": {
            "outlinewidth": 0,
            "ticks": ""
           }
          },
          "colorscale": {
           "diverging": [
            [
             0,
             "#8e0152"
            ],
            [
             0.1,
             "#c51b7d"
            ],
            [
             0.2,
             "#de77ae"
            ],
            [
             0.3,
             "#f1b6da"
            ],
            [
             0.4,
             "#fde0ef"
            ],
            [
             0.5,
             "#f7f7f7"
            ],
            [
             0.6,
             "#e6f5d0"
            ],
            [
             0.7,
             "#b8e186"
            ],
            [
             0.8,
             "#7fbc41"
            ],
            [
             0.9,
             "#4d9221"
            ],
            [
             1,
             "#276419"
            ]
           ],
           "sequential": [
            [
             0,
             "#0d0887"
            ],
            [
             0.1111111111111111,
             "#46039f"
            ],
            [
             0.2222222222222222,
             "#7201a8"
            ],
            [
             0.3333333333333333,
             "#9c179e"
            ],
            [
             0.4444444444444444,
             "#bd3786"
            ],
            [
             0.5555555555555556,
             "#d8576b"
            ],
            [
             0.6666666666666666,
             "#ed7953"
            ],
            [
             0.7777777777777778,
             "#fb9f3a"
            ],
            [
             0.8888888888888888,
             "#fdca26"
            ],
            [
             1,
             "#f0f921"
            ]
           ],
           "sequentialminus": [
            [
             0,
             "#0d0887"
            ],
            [
             0.1111111111111111,
             "#46039f"
            ],
            [
             0.2222222222222222,
             "#7201a8"
            ],
            [
             0.3333333333333333,
             "#9c179e"
            ],
            [
             0.4444444444444444,
             "#bd3786"
            ],
            [
             0.5555555555555556,
             "#d8576b"
            ],
            [
             0.6666666666666666,
             "#ed7953"
            ],
            [
             0.7777777777777778,
             "#fb9f3a"
            ],
            [
             0.8888888888888888,
             "#fdca26"
            ],
            [
             1,
             "#f0f921"
            ]
           ]
          },
          "colorway": [
           "#636efa",
           "#EF553B",
           "#00cc96",
           "#ab63fa",
           "#FFA15A",
           "#19d3f3",
           "#FF6692",
           "#B6E880",
           "#FF97FF",
           "#FECB52"
          ],
          "font": {
           "color": "#2a3f5f"
          },
          "geo": {
           "bgcolor": "white",
           "lakecolor": "white",
           "landcolor": "#E5ECF6",
           "showlakes": true,
           "showland": true,
           "subunitcolor": "white"
          },
          "hoverlabel": {
           "align": "left"
          },
          "hovermode": "closest",
          "mapbox": {
           "style": "light"
          },
          "paper_bgcolor": "white",
          "plot_bgcolor": "#E5ECF6",
          "polar": {
           "angularaxis": {
            "gridcolor": "white",
            "linecolor": "white",
            "ticks": ""
           },
           "bgcolor": "#E5ECF6",
           "radialaxis": {
            "gridcolor": "white",
            "linecolor": "white",
            "ticks": ""
           }
          },
          "scene": {
           "xaxis": {
            "backgroundcolor": "#E5ECF6",
            "gridcolor": "white",
            "gridwidth": 2,
            "linecolor": "white",
            "showbackground": true,
            "ticks": "",
            "zerolinecolor": "white"
           },
           "yaxis": {
            "backgroundcolor": "#E5ECF6",
            "gridcolor": "white",
            "gridwidth": 2,
            "linecolor": "white",
            "showbackground": true,
            "ticks": "",
            "zerolinecolor": "white"
           },
           "zaxis": {
            "backgroundcolor": "#E5ECF6",
            "gridcolor": "white",
            "gridwidth": 2,
            "linecolor": "white",
            "showbackground": true,
            "ticks": "",
            "zerolinecolor": "white"
           }
          },
          "shapedefaults": {
           "line": {
            "color": "#2a3f5f"
           }
          },
          "ternary": {
           "aaxis": {
            "gridcolor": "white",
            "linecolor": "white",
            "ticks": ""
           },
           "baxis": {
            "gridcolor": "white",
            "linecolor": "white",
            "ticks": ""
           },
           "bgcolor": "#E5ECF6",
           "caxis": {
            "gridcolor": "white",
            "linecolor": "white",
            "ticks": ""
           }
          },
          "title": {
           "x": 0.05
          },
          "xaxis": {
           "automargin": true,
           "gridcolor": "white",
           "linecolor": "white",
           "ticks": "",
           "title": {
            "standoff": 15
           },
           "zerolinecolor": "white",
           "zerolinewidth": 2
          },
          "yaxis": {
           "automargin": true,
           "gridcolor": "white",
           "linecolor": "white",
           "ticks": "",
           "title": {
            "standoff": 15
           },
           "zerolinecolor": "white",
           "zerolinewidth": 2
          }
         }
        },
        "title": {
         "text": "Jobs Per State"
        }
       }
      },
      "text/html": [
       "<div>\n",
       "        \n",
       "        \n",
       "            <div id=\"c537dcf6-200f-4875-b1da-9115f056d017\" class=\"plotly-graph-div\" style=\"height:525px; width:100%;\"></div>\n",
       "            <script type=\"text/javascript\">\n",
       "                require([\"plotly\"], function(Plotly) {\n",
       "                    window.PLOTLYENV=window.PLOTLYENV || {};\n",
       "                    \n",
       "                if (document.getElementById(\"c537dcf6-200f-4875-b1da-9115f056d017\")) {\n",
       "                    Plotly.newPlot(\n",
       "                        'c537dcf6-200f-4875-b1da-9115f056d017',\n",
       "                        [{\"colorbar\": {\"title\": {\"text\": \"Job Count\"}}, \"colorscale\": [[0.0, \"rgb(247,251,255)\"], [0.125, \"rgb(222,235,247)\"], [0.25, \"rgb(198,219,239)\"], [0.375, \"rgb(158,202,225)\"], [0.5, \"rgb(107,174,214)\"], [0.625, \"rgb(66,146,198)\"], [0.75, \"rgb(33,113,181)\"], [0.875, \"rgb(8,81,156)\"], [1.0, \"rgb(8,48,107)\"]], \"locationmode\": \"USA-states\", \"locations\": [\"\", \"AK\", \"AL\", \"AR\", \"AZ\", \"CA\", \"CO\", \"CT\", \"DC\", \"DE\", \"FL\", \"GA\", \"HI\", \"IA\", \"ID\", \"IL\", \"IN\", \"KS\", \"KY\", \"LA\", \"MA\", \"MD\", \"ME\", \"MI\", \"MN\", \"MO\", \"MS\", \"MT\", \"NC\", \"ND\", \"NE\", \"NH\", \"NJ\", \"NM\", \"NV\", \"NY\", \"OH\", \"OK\", \"OR\", \"PA\", \"RI\", \"SC\", \"SD\", \"TN\", \"TX\", \"UT\", \"VA\", \"VT\", \"WA\", \"WI\", \"WV\", \"WY\"], \"type\": \"choropleth\", \"z\": [455.0, 9.0, 65.0, 17.0, 151.0, 2051.0, 134.0, 104.0, 276.0, 19.0, 415.0, 238.0, 4.0, 85.0, 30.0, 424.0, 119.0, 40.0, 92.0, 34.0, 313.0, 107.0, 8.0, 285.0, 179.0, 160.0, 17.0, 10.0, 225.0, 23.0, 31.0, 21.0, 193.0, 16.0, 113.0, 1259.0, 372.0, 69.0, 186.0, 316.0, 14.0, 79.0, 16.0, 84.0, 975.0, 69.0, 332.0, 5.0, 167.0, 152.0, 27.0, 8.0]}],\n",
       "                        {\"geo\": {\"scope\": \"usa\"}, \"template\": {\"data\": {\"bar\": [{\"error_x\": {\"color\": \"#2a3f5f\"}, \"error_y\": {\"color\": \"#2a3f5f\"}, \"marker\": {\"line\": {\"color\": \"#E5ECF6\", \"width\": 0.5}}, \"type\": \"bar\"}], \"barpolar\": [{\"marker\": {\"line\": {\"color\": \"#E5ECF6\", \"width\": 0.5}}, \"type\": \"barpolar\"}], \"carpet\": [{\"aaxis\": {\"endlinecolor\": \"#2a3f5f\", \"gridcolor\": \"white\", \"linecolor\": \"white\", \"minorgridcolor\": \"white\", \"startlinecolor\": \"#2a3f5f\"}, \"baxis\": {\"endlinecolor\": \"#2a3f5f\", \"gridcolor\": \"white\", \"linecolor\": \"white\", \"minorgridcolor\": \"white\", \"startlinecolor\": \"#2a3f5f\"}, \"type\": \"carpet\"}], \"choropleth\": [{\"colorbar\": {\"outlinewidth\": 0, \"ticks\": \"\"}, \"type\": \"choropleth\"}], \"contour\": [{\"colorbar\": {\"outlinewidth\": 0, \"ticks\": \"\"}, \"colorscale\": [[0.0, \"#0d0887\"], [0.1111111111111111, \"#46039f\"], [0.2222222222222222, \"#7201a8\"], [0.3333333333333333, \"#9c179e\"], [0.4444444444444444, \"#bd3786\"], [0.5555555555555556, \"#d8576b\"], [0.6666666666666666, \"#ed7953\"], [0.7777777777777778, \"#fb9f3a\"], [0.8888888888888888, \"#fdca26\"], [1.0, \"#f0f921\"]], \"type\": \"contour\"}], \"contourcarpet\": [{\"colorbar\": {\"outlinewidth\": 0, \"ticks\": \"\"}, \"type\": \"contourcarpet\"}], \"heatmap\": [{\"colorbar\": {\"outlinewidth\": 0, \"ticks\": \"\"}, \"colorscale\": [[0.0, \"#0d0887\"], [0.1111111111111111, \"#46039f\"], [0.2222222222222222, \"#7201a8\"], [0.3333333333333333, \"#9c179e\"], [0.4444444444444444, \"#bd3786\"], [0.5555555555555556, \"#d8576b\"], [0.6666666666666666, \"#ed7953\"], [0.7777777777777778, \"#fb9f3a\"], [0.8888888888888888, \"#fdca26\"], [1.0, \"#f0f921\"]], \"type\": \"heatmap\"}], \"heatmapgl\": [{\"colorbar\": {\"outlinewidth\": 0, \"ticks\": \"\"}, \"colorscale\": [[0.0, \"#0d0887\"], [0.1111111111111111, \"#46039f\"], [0.2222222222222222, \"#7201a8\"], [0.3333333333333333, \"#9c179e\"], [0.4444444444444444, \"#bd3786\"], [0.5555555555555556, \"#d8576b\"], [0.6666666666666666, \"#ed7953\"], [0.7777777777777778, \"#fb9f3a\"], [0.8888888888888888, \"#fdca26\"], [1.0, \"#f0f921\"]], \"type\": \"heatmapgl\"}], \"histogram\": [{\"marker\": {\"colorbar\": {\"outlinewidth\": 0, \"ticks\": \"\"}}, \"type\": \"histogram\"}], \"histogram2d\": [{\"colorbar\": {\"outlinewidth\": 0, \"ticks\": \"\"}, \"colorscale\": [[0.0, \"#0d0887\"], [0.1111111111111111, \"#46039f\"], [0.2222222222222222, \"#7201a8\"], [0.3333333333333333, \"#9c179e\"], [0.4444444444444444, \"#bd3786\"], [0.5555555555555556, \"#d8576b\"], [0.6666666666666666, \"#ed7953\"], [0.7777777777777778, \"#fb9f3a\"], [0.8888888888888888, \"#fdca26\"], [1.0, \"#f0f921\"]], \"type\": \"histogram2d\"}], \"histogram2dcontour\": [{\"colorbar\": {\"outlinewidth\": 0, \"ticks\": \"\"}, \"colorscale\": [[0.0, \"#0d0887\"], [0.1111111111111111, \"#46039f\"], [0.2222222222222222, \"#7201a8\"], [0.3333333333333333, \"#9c179e\"], [0.4444444444444444, \"#bd3786\"], [0.5555555555555556, \"#d8576b\"], [0.6666666666666666, \"#ed7953\"], [0.7777777777777778, \"#fb9f3a\"], [0.8888888888888888, \"#fdca26\"], [1.0, \"#f0f921\"]], \"type\": \"histogram2dcontour\"}], \"mesh3d\": [{\"colorbar\": {\"outlinewidth\": 0, \"ticks\": \"\"}, \"type\": \"mesh3d\"}], \"parcoords\": [{\"line\": {\"colorbar\": {\"outlinewidth\": 0, \"ticks\": \"\"}}, \"type\": \"parcoords\"}], \"pie\": [{\"automargin\": true, \"type\": \"pie\"}], \"scatter\": [{\"marker\": {\"colorbar\": {\"outlinewidth\": 0, \"ticks\": \"\"}}, \"type\": \"scatter\"}], \"scatter3d\": [{\"line\": {\"colorbar\": {\"outlinewidth\": 0, \"ticks\": \"\"}}, \"marker\": {\"colorbar\": {\"outlinewidth\": 0, \"ticks\": \"\"}}, \"type\": \"scatter3d\"}], \"scattercarpet\": [{\"marker\": {\"colorbar\": {\"outlinewidth\": 0, \"ticks\": \"\"}}, \"type\": \"scattercarpet\"}], \"scattergeo\": [{\"marker\": {\"colorbar\": {\"outlinewidth\": 0, \"ticks\": \"\"}}, \"type\": \"scattergeo\"}], \"scattergl\": [{\"marker\": {\"colorbar\": {\"outlinewidth\": 0, \"ticks\": \"\"}}, \"type\": \"scattergl\"}], \"scattermapbox\": [{\"marker\": {\"colorbar\": {\"outlinewidth\": 0, \"ticks\": \"\"}}, \"type\": \"scattermapbox\"}], \"scatterpolar\": [{\"marker\": {\"colorbar\": {\"outlinewidth\": 0, \"ticks\": \"\"}}, \"type\": \"scatterpolar\"}], \"scatterpolargl\": [{\"marker\": {\"colorbar\": {\"outlinewidth\": 0, \"ticks\": \"\"}}, \"type\": \"scatterpolargl\"}], \"scatterternary\": [{\"marker\": {\"colorbar\": {\"outlinewidth\": 0, \"ticks\": \"\"}}, \"type\": \"scatterternary\"}], \"surface\": [{\"colorbar\": {\"outlinewidth\": 0, \"ticks\": \"\"}, \"colorscale\": [[0.0, \"#0d0887\"], [0.1111111111111111, \"#46039f\"], [0.2222222222222222, \"#7201a8\"], [0.3333333333333333, \"#9c179e\"], [0.4444444444444444, \"#bd3786\"], [0.5555555555555556, \"#d8576b\"], [0.6666666666666666, \"#ed7953\"], [0.7777777777777778, \"#fb9f3a\"], [0.8888888888888888, \"#fdca26\"], [1.0, \"#f0f921\"]], \"type\": \"surface\"}], \"table\": [{\"cells\": {\"fill\": {\"color\": \"#EBF0F8\"}, \"line\": {\"color\": \"white\"}}, \"header\": {\"fill\": {\"color\": \"#C8D4E3\"}, \"line\": {\"color\": \"white\"}}, \"type\": \"table\"}]}, \"layout\": {\"annotationdefaults\": {\"arrowcolor\": \"#2a3f5f\", \"arrowhead\": 0, \"arrowwidth\": 1}, \"coloraxis\": {\"colorbar\": {\"outlinewidth\": 0, \"ticks\": \"\"}}, \"colorscale\": {\"diverging\": [[0, \"#8e0152\"], [0.1, \"#c51b7d\"], [0.2, \"#de77ae\"], [0.3, \"#f1b6da\"], [0.4, \"#fde0ef\"], [0.5, \"#f7f7f7\"], [0.6, \"#e6f5d0\"], [0.7, \"#b8e186\"], [0.8, \"#7fbc41\"], [0.9, \"#4d9221\"], [1, \"#276419\"]], \"sequential\": [[0.0, \"#0d0887\"], [0.1111111111111111, \"#46039f\"], [0.2222222222222222, \"#7201a8\"], [0.3333333333333333, \"#9c179e\"], [0.4444444444444444, \"#bd3786\"], [0.5555555555555556, \"#d8576b\"], [0.6666666666666666, \"#ed7953\"], [0.7777777777777778, \"#fb9f3a\"], [0.8888888888888888, \"#fdca26\"], [1.0, \"#f0f921\"]], \"sequentialminus\": [[0.0, \"#0d0887\"], [0.1111111111111111, \"#46039f\"], [0.2222222222222222, \"#7201a8\"], [0.3333333333333333, \"#9c179e\"], [0.4444444444444444, \"#bd3786\"], [0.5555555555555556, \"#d8576b\"], [0.6666666666666666, \"#ed7953\"], [0.7777777777777778, \"#fb9f3a\"], [0.8888888888888888, \"#fdca26\"], [1.0, \"#f0f921\"]]}, \"colorway\": [\"#636efa\", \"#EF553B\", \"#00cc96\", \"#ab63fa\", \"#FFA15A\", \"#19d3f3\", \"#FF6692\", \"#B6E880\", \"#FF97FF\", \"#FECB52\"], \"font\": {\"color\": \"#2a3f5f\"}, \"geo\": {\"bgcolor\": \"white\", \"lakecolor\": \"white\", \"landcolor\": \"#E5ECF6\", \"showlakes\": true, \"showland\": true, \"subunitcolor\": \"white\"}, \"hoverlabel\": {\"align\": \"left\"}, \"hovermode\": \"closest\", \"mapbox\": {\"style\": \"light\"}, \"paper_bgcolor\": \"white\", \"plot_bgcolor\": \"#E5ECF6\", \"polar\": {\"angularaxis\": {\"gridcolor\": \"white\", \"linecolor\": \"white\", \"ticks\": \"\"}, \"bgcolor\": \"#E5ECF6\", \"radialaxis\": {\"gridcolor\": \"white\", \"linecolor\": \"white\", \"ticks\": \"\"}}, \"scene\": {\"xaxis\": {\"backgroundcolor\": \"#E5ECF6\", \"gridcolor\": \"white\", \"gridwidth\": 2, \"linecolor\": \"white\", \"showbackground\": true, \"ticks\": \"\", \"zerolinecolor\": \"white\"}, \"yaxis\": {\"backgroundcolor\": \"#E5ECF6\", \"gridcolor\": \"white\", \"gridwidth\": 2, \"linecolor\": \"white\", \"showbackground\": true, \"ticks\": \"\", \"zerolinecolor\": \"white\"}, \"zaxis\": {\"backgroundcolor\": \"#E5ECF6\", \"gridcolor\": \"white\", \"gridwidth\": 2, \"linecolor\": \"white\", \"showbackground\": true, \"ticks\": \"\", \"zerolinecolor\": \"white\"}}, \"shapedefaults\": {\"line\": {\"color\": \"#2a3f5f\"}}, \"ternary\": {\"aaxis\": {\"gridcolor\": \"white\", \"linecolor\": \"white\", \"ticks\": \"\"}, \"baxis\": {\"gridcolor\": \"white\", \"linecolor\": \"white\", \"ticks\": \"\"}, \"bgcolor\": \"#E5ECF6\", \"caxis\": {\"gridcolor\": \"white\", \"linecolor\": \"white\", \"ticks\": \"\"}}, \"title\": {\"x\": 0.05}, \"xaxis\": {\"automargin\": true, \"gridcolor\": \"white\", \"linecolor\": \"white\", \"ticks\": \"\", \"title\": {\"standoff\": 15}, \"zerolinecolor\": \"white\", \"zerolinewidth\": 2}, \"yaxis\": {\"automargin\": true, \"gridcolor\": \"white\", \"linecolor\": \"white\", \"ticks\": \"\", \"title\": {\"standoff\": 15}, \"zerolinecolor\": \"white\", \"zerolinewidth\": 2}}}, \"title\": {\"text\": \"Jobs Per State\"}},\n",
       "                        {\"responsive\": true}\n",
       "                    ).then(function(){\n",
       "                            \n",
       "var gd = document.getElementById('c537dcf6-200f-4875-b1da-9115f056d017');\n",
       "var x = new MutationObserver(function (mutations, observer) {{\n",
       "        var display = window.getComputedStyle(gd).display;\n",
       "        if (!display || display === 'none') {{\n",
       "            console.log([gd, 'removed!']);\n",
       "            Plotly.purge(gd);\n",
       "            observer.disconnect();\n",
       "        }}\n",
       "}});\n",
       "\n",
       "// Listen for the removal of the full notebook cells\n",
       "var notebookContainer = gd.closest('#notebook-container');\n",
       "if (notebookContainer) {{\n",
       "    x.observe(notebookContainer, {childList: true});\n",
       "}}\n",
       "\n",
       "// Listen for the clearing of the current output cell\n",
       "var outputEl = gd.closest('.output');\n",
       "if (outputEl) {{\n",
       "    x.observe(outputEl, {childList: true});\n",
       "}}\n",
       "\n",
       "                        })\n",
       "                };\n",
       "                });\n",
       "            </script>\n",
       "        </div>"
      ]
     },
     "metadata": {},
     "output_type": "display_data"
    }
   ],
   "source": [
    "fig = go.Figure(data=go.Choropleth(\n",
    "    locations=state_counts_df['States'], # Spatial coordinates\n",
    "    z = state_counts_df['Job Count'].astype(float), # Data to be color-coded\n",
    "    locationmode = 'USA-states', # set of locations match entries in `locations`\n",
    "    colorscale = 'blues',\n",
    "    colorbar_title = \"Job Count\",\n",
    "))\n",
    "\n",
    "fig.update_layout(\n",
    "    title_text = 'Jobs Per State',\n",
    "    geo_scope='usa', # limite map scope to USA\n",
    ")\n",
    "\n",
    "fig.show()"
   ]
  },
  {
   "cell_type": "code",
   "execution_count": 76,
   "metadata": {},
   "outputs": [],
   "source": [
    "ca_count = state_counts_df[state_counts_df['States'] == \"CA\"]['Job Count'][0]\n",
    "tx_count = state_counts_df[state_counts_df['States'] == \"TX\"]['Job Count'][0]\n",
    "ny_count = state_counts_df[state_counts_df['States'] == \"NY\"]['Job Count'][0]\n"
   ]
  },
  {
   "cell_type": "code",
   "execution_count": 77,
   "metadata": {},
   "outputs": [
    {
     "data": {
      "application/vnd.plotly.v1+json": {
       "config": {
        "plotlyServerURL": "https://plot.ly"
       },
       "data": [
        {
         "coloraxis": "coloraxis",
         "geo": "geo",
         "hoverlabel": {
          "namelength": 0
         },
         "hovertemplate": "locations=%{location}<br>color=%{z}",
         "locationmode": "USA-states",
         "locations": [
          "CA",
          "TX",
          "NY"
         ],
         "name": "",
         "type": "choropleth",
         "z": [
          2051,
          975,
          1259
         ]
        }
       ],
       "layout": {
        "coloraxis": {
         "colorbar": {
          "title": {
           "text": "color"
          }
         },
         "colorscale": [
          [
           0,
           "#0d0887"
          ],
          [
           0.1111111111111111,
           "#46039f"
          ],
          [
           0.2222222222222222,
           "#7201a8"
          ],
          [
           0.3333333333333333,
           "#9c179e"
          ],
          [
           0.4444444444444444,
           "#bd3786"
          ],
          [
           0.5555555555555556,
           "#d8576b"
          ],
          [
           0.6666666666666666,
           "#ed7953"
          ],
          [
           0.7777777777777778,
           "#fb9f3a"
          ],
          [
           0.8888888888888888,
           "#fdca26"
          ],
          [
           1,
           "#f0f921"
          ]
         ]
        },
        "geo": {
         "center": {},
         "domain": {
          "x": [
           0,
           1
          ],
          "y": [
           0,
           1
          ]
         },
         "scope": "usa"
        },
        "legend": {
         "tracegroupgap": 0
        },
        "margin": {
         "t": 60
        },
        "template": {
         "data": {
          "bar": [
           {
            "error_x": {
             "color": "#2a3f5f"
            },
            "error_y": {
             "color": "#2a3f5f"
            },
            "marker": {
             "line": {
              "color": "#E5ECF6",
              "width": 0.5
             }
            },
            "type": "bar"
           }
          ],
          "barpolar": [
           {
            "marker": {
             "line": {
              "color": "#E5ECF6",
              "width": 0.5
             }
            },
            "type": "barpolar"
           }
          ],
          "carpet": [
           {
            "aaxis": {
             "endlinecolor": "#2a3f5f",
             "gridcolor": "white",
             "linecolor": "white",
             "minorgridcolor": "white",
             "startlinecolor": "#2a3f5f"
            },
            "baxis": {
             "endlinecolor": "#2a3f5f",
             "gridcolor": "white",
             "linecolor": "white",
             "minorgridcolor": "white",
             "startlinecolor": "#2a3f5f"
            },
            "type": "carpet"
           }
          ],
          "choropleth": [
           {
            "colorbar": {
             "outlinewidth": 0,
             "ticks": ""
            },
            "type": "choropleth"
           }
          ],
          "contour": [
           {
            "colorbar": {
             "outlinewidth": 0,
             "ticks": ""
            },
            "colorscale": [
             [
              0,
              "#0d0887"
             ],
             [
              0.1111111111111111,
              "#46039f"
             ],
             [
              0.2222222222222222,
              "#7201a8"
             ],
             [
              0.3333333333333333,
              "#9c179e"
             ],
             [
              0.4444444444444444,
              "#bd3786"
             ],
             [
              0.5555555555555556,
              "#d8576b"
             ],
             [
              0.6666666666666666,
              "#ed7953"
             ],
             [
              0.7777777777777778,
              "#fb9f3a"
             ],
             [
              0.8888888888888888,
              "#fdca26"
             ],
             [
              1,
              "#f0f921"
             ]
            ],
            "type": "contour"
           }
          ],
          "contourcarpet": [
           {
            "colorbar": {
             "outlinewidth": 0,
             "ticks": ""
            },
            "type": "contourcarpet"
           }
          ],
          "heatmap": [
           {
            "colorbar": {
             "outlinewidth": 0,
             "ticks": ""
            },
            "colorscale": [
             [
              0,
              "#0d0887"
             ],
             [
              0.1111111111111111,
              "#46039f"
             ],
             [
              0.2222222222222222,
              "#7201a8"
             ],
             [
              0.3333333333333333,
              "#9c179e"
             ],
             [
              0.4444444444444444,
              "#bd3786"
             ],
             [
              0.5555555555555556,
              "#d8576b"
             ],
             [
              0.6666666666666666,
              "#ed7953"
             ],
             [
              0.7777777777777778,
              "#fb9f3a"
             ],
             [
              0.8888888888888888,
              "#fdca26"
             ],
             [
              1,
              "#f0f921"
             ]
            ],
            "type": "heatmap"
           }
          ],
          "heatmapgl": [
           {
            "colorbar": {
             "outlinewidth": 0,
             "ticks": ""
            },
            "colorscale": [
             [
              0,
              "#0d0887"
             ],
             [
              0.1111111111111111,
              "#46039f"
             ],
             [
              0.2222222222222222,
              "#7201a8"
             ],
             [
              0.3333333333333333,
              "#9c179e"
             ],
             [
              0.4444444444444444,
              "#bd3786"
             ],
             [
              0.5555555555555556,
              "#d8576b"
             ],
             [
              0.6666666666666666,
              "#ed7953"
             ],
             [
              0.7777777777777778,
              "#fb9f3a"
             ],
             [
              0.8888888888888888,
              "#fdca26"
             ],
             [
              1,
              "#f0f921"
             ]
            ],
            "type": "heatmapgl"
           }
          ],
          "histogram": [
           {
            "marker": {
             "colorbar": {
              "outlinewidth": 0,
              "ticks": ""
             }
            },
            "type": "histogram"
           }
          ],
          "histogram2d": [
           {
            "colorbar": {
             "outlinewidth": 0,
             "ticks": ""
            },
            "colorscale": [
             [
              0,
              "#0d0887"
             ],
             [
              0.1111111111111111,
              "#46039f"
             ],
             [
              0.2222222222222222,
              "#7201a8"
             ],
             [
              0.3333333333333333,
              "#9c179e"
             ],
             [
              0.4444444444444444,
              "#bd3786"
             ],
             [
              0.5555555555555556,
              "#d8576b"
             ],
             [
              0.6666666666666666,
              "#ed7953"
             ],
             [
              0.7777777777777778,
              "#fb9f3a"
             ],
             [
              0.8888888888888888,
              "#fdca26"
             ],
             [
              1,
              "#f0f921"
             ]
            ],
            "type": "histogram2d"
           }
          ],
          "histogram2dcontour": [
           {
            "colorbar": {
             "outlinewidth": 0,
             "ticks": ""
            },
            "colorscale": [
             [
              0,
              "#0d0887"
             ],
             [
              0.1111111111111111,
              "#46039f"
             ],
             [
              0.2222222222222222,
              "#7201a8"
             ],
             [
              0.3333333333333333,
              "#9c179e"
             ],
             [
              0.4444444444444444,
              "#bd3786"
             ],
             [
              0.5555555555555556,
              "#d8576b"
             ],
             [
              0.6666666666666666,
              "#ed7953"
             ],
             [
              0.7777777777777778,
              "#fb9f3a"
             ],
             [
              0.8888888888888888,
              "#fdca26"
             ],
             [
              1,
              "#f0f921"
             ]
            ],
            "type": "histogram2dcontour"
           }
          ],
          "mesh3d": [
           {
            "colorbar": {
             "outlinewidth": 0,
             "ticks": ""
            },
            "type": "mesh3d"
           }
          ],
          "parcoords": [
           {
            "line": {
             "colorbar": {
              "outlinewidth": 0,
              "ticks": ""
             }
            },
            "type": "parcoords"
           }
          ],
          "pie": [
           {
            "automargin": true,
            "type": "pie"
           }
          ],
          "scatter": [
           {
            "marker": {
             "colorbar": {
              "outlinewidth": 0,
              "ticks": ""
             }
            },
            "type": "scatter"
           }
          ],
          "scatter3d": [
           {
            "line": {
             "colorbar": {
              "outlinewidth": 0,
              "ticks": ""
             }
            },
            "marker": {
             "colorbar": {
              "outlinewidth": 0,
              "ticks": ""
             }
            },
            "type": "scatter3d"
           }
          ],
          "scattercarpet": [
           {
            "marker": {
             "colorbar": {
              "outlinewidth": 0,
              "ticks": ""
             }
            },
            "type": "scattercarpet"
           }
          ],
          "scattergeo": [
           {
            "marker": {
             "colorbar": {
              "outlinewidth": 0,
              "ticks": ""
             }
            },
            "type": "scattergeo"
           }
          ],
          "scattergl": [
           {
            "marker": {
             "colorbar": {
              "outlinewidth": 0,
              "ticks": ""
             }
            },
            "type": "scattergl"
           }
          ],
          "scattermapbox": [
           {
            "marker": {
             "colorbar": {
              "outlinewidth": 0,
              "ticks": ""
             }
            },
            "type": "scattermapbox"
           }
          ],
          "scatterpolar": [
           {
            "marker": {
             "colorbar": {
              "outlinewidth": 0,
              "ticks": ""
             }
            },
            "type": "scatterpolar"
           }
          ],
          "scatterpolargl": [
           {
            "marker": {
             "colorbar": {
              "outlinewidth": 0,
              "ticks": ""
             }
            },
            "type": "scatterpolargl"
           }
          ],
          "scatterternary": [
           {
            "marker": {
             "colorbar": {
              "outlinewidth": 0,
              "ticks": ""
             }
            },
            "type": "scatterternary"
           }
          ],
          "surface": [
           {
            "colorbar": {
             "outlinewidth": 0,
             "ticks": ""
            },
            "colorscale": [
             [
              0,
              "#0d0887"
             ],
             [
              0.1111111111111111,
              "#46039f"
             ],
             [
              0.2222222222222222,
              "#7201a8"
             ],
             [
              0.3333333333333333,
              "#9c179e"
             ],
             [
              0.4444444444444444,
              "#bd3786"
             ],
             [
              0.5555555555555556,
              "#d8576b"
             ],
             [
              0.6666666666666666,
              "#ed7953"
             ],
             [
              0.7777777777777778,
              "#fb9f3a"
             ],
             [
              0.8888888888888888,
              "#fdca26"
             ],
             [
              1,
              "#f0f921"
             ]
            ],
            "type": "surface"
           }
          ],
          "table": [
           {
            "cells": {
             "fill": {
              "color": "#EBF0F8"
             },
             "line": {
              "color": "white"
             }
            },
            "header": {
             "fill": {
              "color": "#C8D4E3"
             },
             "line": {
              "color": "white"
             }
            },
            "type": "table"
           }
          ]
         },
         "layout": {
          "annotationdefaults": {
           "arrowcolor": "#2a3f5f",
           "arrowhead": 0,
           "arrowwidth": 1
          },
          "coloraxis": {
           "colorbar": {
            "outlinewidth": 0,
            "ticks": ""
           }
          },
          "colorscale": {
           "diverging": [
            [
             0,
             "#8e0152"
            ],
            [
             0.1,
             "#c51b7d"
            ],
            [
             0.2,
             "#de77ae"
            ],
            [
             0.3,
             "#f1b6da"
            ],
            [
             0.4,
             "#fde0ef"
            ],
            [
             0.5,
             "#f7f7f7"
            ],
            [
             0.6,
             "#e6f5d0"
            ],
            [
             0.7,
             "#b8e186"
            ],
            [
             0.8,
             "#7fbc41"
            ],
            [
             0.9,
             "#4d9221"
            ],
            [
             1,
             "#276419"
            ]
           ],
           "sequential": [
            [
             0,
             "#0d0887"
            ],
            [
             0.1111111111111111,
             "#46039f"
            ],
            [
             0.2222222222222222,
             "#7201a8"
            ],
            [
             0.3333333333333333,
             "#9c179e"
            ],
            [
             0.4444444444444444,
             "#bd3786"
            ],
            [
             0.5555555555555556,
             "#d8576b"
            ],
            [
             0.6666666666666666,
             "#ed7953"
            ],
            [
             0.7777777777777778,
             "#fb9f3a"
            ],
            [
             0.8888888888888888,
             "#fdca26"
            ],
            [
             1,
             "#f0f921"
            ]
           ],
           "sequentialminus": [
            [
             0,
             "#0d0887"
            ],
            [
             0.1111111111111111,
             "#46039f"
            ],
            [
             0.2222222222222222,
             "#7201a8"
            ],
            [
             0.3333333333333333,
             "#9c179e"
            ],
            [
             0.4444444444444444,
             "#bd3786"
            ],
            [
             0.5555555555555556,
             "#d8576b"
            ],
            [
             0.6666666666666666,
             "#ed7953"
            ],
            [
             0.7777777777777778,
             "#fb9f3a"
            ],
            [
             0.8888888888888888,
             "#fdca26"
            ],
            [
             1,
             "#f0f921"
            ]
           ]
          },
          "colorway": [
           "#636efa",
           "#EF553B",
           "#00cc96",
           "#ab63fa",
           "#FFA15A",
           "#19d3f3",
           "#FF6692",
           "#B6E880",
           "#FF97FF",
           "#FECB52"
          ],
          "font": {
           "color": "#2a3f5f"
          },
          "geo": {
           "bgcolor": "white",
           "lakecolor": "white",
           "landcolor": "#E5ECF6",
           "showlakes": true,
           "showland": true,
           "subunitcolor": "white"
          },
          "hoverlabel": {
           "align": "left"
          },
          "hovermode": "closest",
          "mapbox": {
           "style": "light"
          },
          "paper_bgcolor": "white",
          "plot_bgcolor": "#E5ECF6",
          "polar": {
           "angularaxis": {
            "gridcolor": "white",
            "linecolor": "white",
            "ticks": ""
           },
           "bgcolor": "#E5ECF6",
           "radialaxis": {
            "gridcolor": "white",
            "linecolor": "white",
            "ticks": ""
           }
          },
          "scene": {
           "xaxis": {
            "backgroundcolor": "#E5ECF6",
            "gridcolor": "white",
            "gridwidth": 2,
            "linecolor": "white",
            "showbackground": true,
            "ticks": "",
            "zerolinecolor": "white"
           },
           "yaxis": {
            "backgroundcolor": "#E5ECF6",
            "gridcolor": "white",
            "gridwidth": 2,
            "linecolor": "white",
            "showbackground": true,
            "ticks": "",
            "zerolinecolor": "white"
           },
           "zaxis": {
            "backgroundcolor": "#E5ECF6",
            "gridcolor": "white",
            "gridwidth": 2,
            "linecolor": "white",
            "showbackground": true,
            "ticks": "",
            "zerolinecolor": "white"
           }
          },
          "shapedefaults": {
           "line": {
            "color": "#2a3f5f"
           }
          },
          "ternary": {
           "aaxis": {
            "gridcolor": "white",
            "linecolor": "white",
            "ticks": ""
           },
           "baxis": {
            "gridcolor": "white",
            "linecolor": "white",
            "ticks": ""
           },
           "bgcolor": "#E5ECF6",
           "caxis": {
            "gridcolor": "white",
            "linecolor": "white",
            "ticks": ""
           }
          },
          "title": {
           "x": 0.05
          },
          "xaxis": {
           "automargin": true,
           "gridcolor": "white",
           "linecolor": "white",
           "ticks": "",
           "title": {
            "standoff": 15
           },
           "zerolinecolor": "white",
           "zerolinewidth": 2
          },
          "yaxis": {
           "automargin": true,
           "gridcolor": "white",
           "linecolor": "white",
           "ticks": "",
           "title": {
            "standoff": 15
           },
           "zerolinecolor": "white",
           "zerolinewidth": 2
          }
         }
        }
       }
      },
      "text/html": [
       "<div>\n",
       "        \n",
       "        \n",
       "            <div id=\"e20c99fa-47bd-46f9-bc78-2b08c6d79e76\" class=\"plotly-graph-div\" style=\"height:525px; width:100%;\"></div>\n",
       "            <script type=\"text/javascript\">\n",
       "                require([\"plotly\"], function(Plotly) {\n",
       "                    window.PLOTLYENV=window.PLOTLYENV || {};\n",
       "                    \n",
       "                if (document.getElementById(\"e20c99fa-47bd-46f9-bc78-2b08c6d79e76\")) {\n",
       "                    Plotly.newPlot(\n",
       "                        'e20c99fa-47bd-46f9-bc78-2b08c6d79e76',\n",
       "                        [{\"coloraxis\": \"coloraxis\", \"geo\": \"geo\", \"hoverlabel\": {\"namelength\": 0}, \"hovertemplate\": \"locations=%{location}<br>color=%{z}\", \"locationmode\": \"USA-states\", \"locations\": [\"CA\", \"TX\", \"NY\"], \"name\": \"\", \"type\": \"choropleth\", \"z\": [2051, 975, 1259]}],\n",
       "                        {\"coloraxis\": {\"colorbar\": {\"title\": {\"text\": \"color\"}}, \"colorscale\": [[0.0, \"#0d0887\"], [0.1111111111111111, \"#46039f\"], [0.2222222222222222, \"#7201a8\"], [0.3333333333333333, \"#9c179e\"], [0.4444444444444444, \"#bd3786\"], [0.5555555555555556, \"#d8576b\"], [0.6666666666666666, \"#ed7953\"], [0.7777777777777778, \"#fb9f3a\"], [0.8888888888888888, \"#fdca26\"], [1.0, \"#f0f921\"]]}, \"geo\": {\"center\": {}, \"domain\": {\"x\": [0.0, 1.0], \"y\": [0.0, 1.0]}, \"scope\": \"usa\"}, \"legend\": {\"tracegroupgap\": 0}, \"margin\": {\"t\": 60}, \"template\": {\"data\": {\"bar\": [{\"error_x\": {\"color\": \"#2a3f5f\"}, \"error_y\": {\"color\": \"#2a3f5f\"}, \"marker\": {\"line\": {\"color\": \"#E5ECF6\", \"width\": 0.5}}, \"type\": \"bar\"}], \"barpolar\": [{\"marker\": {\"line\": {\"color\": \"#E5ECF6\", \"width\": 0.5}}, \"type\": \"barpolar\"}], \"carpet\": [{\"aaxis\": {\"endlinecolor\": \"#2a3f5f\", \"gridcolor\": \"white\", \"linecolor\": \"white\", \"minorgridcolor\": \"white\", \"startlinecolor\": \"#2a3f5f\"}, \"baxis\": {\"endlinecolor\": \"#2a3f5f\", \"gridcolor\": \"white\", \"linecolor\": \"white\", \"minorgridcolor\": \"white\", \"startlinecolor\": \"#2a3f5f\"}, \"type\": \"carpet\"}], \"choropleth\": [{\"colorbar\": {\"outlinewidth\": 0, \"ticks\": \"\"}, \"type\": \"choropleth\"}], \"contour\": [{\"colorbar\": {\"outlinewidth\": 0, \"ticks\": \"\"}, \"colorscale\": [[0.0, \"#0d0887\"], [0.1111111111111111, \"#46039f\"], [0.2222222222222222, \"#7201a8\"], [0.3333333333333333, \"#9c179e\"], [0.4444444444444444, \"#bd3786\"], [0.5555555555555556, \"#d8576b\"], [0.6666666666666666, \"#ed7953\"], [0.7777777777777778, \"#fb9f3a\"], [0.8888888888888888, \"#fdca26\"], [1.0, \"#f0f921\"]], \"type\": \"contour\"}], \"contourcarpet\": [{\"colorbar\": {\"outlinewidth\": 0, \"ticks\": \"\"}, \"type\": \"contourcarpet\"}], \"heatmap\": [{\"colorbar\": {\"outlinewidth\": 0, \"ticks\": \"\"}, \"colorscale\": [[0.0, \"#0d0887\"], [0.1111111111111111, \"#46039f\"], [0.2222222222222222, \"#7201a8\"], [0.3333333333333333, \"#9c179e\"], [0.4444444444444444, \"#bd3786\"], [0.5555555555555556, \"#d8576b\"], [0.6666666666666666, \"#ed7953\"], [0.7777777777777778, \"#fb9f3a\"], [0.8888888888888888, \"#fdca26\"], [1.0, \"#f0f921\"]], \"type\": \"heatmap\"}], \"heatmapgl\": [{\"colorbar\": {\"outlinewidth\": 0, \"ticks\": \"\"}, \"colorscale\": [[0.0, \"#0d0887\"], [0.1111111111111111, \"#46039f\"], [0.2222222222222222, \"#7201a8\"], [0.3333333333333333, \"#9c179e\"], [0.4444444444444444, \"#bd3786\"], [0.5555555555555556, \"#d8576b\"], [0.6666666666666666, \"#ed7953\"], [0.7777777777777778, \"#fb9f3a\"], [0.8888888888888888, \"#fdca26\"], [1.0, \"#f0f921\"]], \"type\": \"heatmapgl\"}], \"histogram\": [{\"marker\": {\"colorbar\": {\"outlinewidth\": 0, \"ticks\": \"\"}}, \"type\": \"histogram\"}], \"histogram2d\": [{\"colorbar\": {\"outlinewidth\": 0, \"ticks\": \"\"}, \"colorscale\": [[0.0, \"#0d0887\"], [0.1111111111111111, \"#46039f\"], [0.2222222222222222, \"#7201a8\"], [0.3333333333333333, \"#9c179e\"], [0.4444444444444444, \"#bd3786\"], [0.5555555555555556, \"#d8576b\"], [0.6666666666666666, \"#ed7953\"], [0.7777777777777778, \"#fb9f3a\"], [0.8888888888888888, \"#fdca26\"], [1.0, \"#f0f921\"]], \"type\": \"histogram2d\"}], \"histogram2dcontour\": [{\"colorbar\": {\"outlinewidth\": 0, \"ticks\": \"\"}, \"colorscale\": [[0.0, \"#0d0887\"], [0.1111111111111111, \"#46039f\"], [0.2222222222222222, \"#7201a8\"], [0.3333333333333333, \"#9c179e\"], [0.4444444444444444, \"#bd3786\"], [0.5555555555555556, \"#d8576b\"], [0.6666666666666666, \"#ed7953\"], [0.7777777777777778, \"#fb9f3a\"], [0.8888888888888888, \"#fdca26\"], [1.0, \"#f0f921\"]], \"type\": \"histogram2dcontour\"}], \"mesh3d\": [{\"colorbar\": {\"outlinewidth\": 0, \"ticks\": \"\"}, \"type\": \"mesh3d\"}], \"parcoords\": [{\"line\": {\"colorbar\": {\"outlinewidth\": 0, \"ticks\": \"\"}}, \"type\": \"parcoords\"}], \"pie\": [{\"automargin\": true, \"type\": \"pie\"}], \"scatter\": [{\"marker\": {\"colorbar\": {\"outlinewidth\": 0, \"ticks\": \"\"}}, \"type\": \"scatter\"}], \"scatter3d\": [{\"line\": {\"colorbar\": {\"outlinewidth\": 0, \"ticks\": \"\"}}, \"marker\": {\"colorbar\": {\"outlinewidth\": 0, \"ticks\": \"\"}}, \"type\": \"scatter3d\"}], \"scattercarpet\": [{\"marker\": {\"colorbar\": {\"outlinewidth\": 0, \"ticks\": \"\"}}, \"type\": \"scattercarpet\"}], \"scattergeo\": [{\"marker\": {\"colorbar\": {\"outlinewidth\": 0, \"ticks\": \"\"}}, \"type\": \"scattergeo\"}], \"scattergl\": [{\"marker\": {\"colorbar\": {\"outlinewidth\": 0, \"ticks\": \"\"}}, \"type\": \"scattergl\"}], \"scattermapbox\": [{\"marker\": {\"colorbar\": {\"outlinewidth\": 0, \"ticks\": \"\"}}, \"type\": \"scattermapbox\"}], \"scatterpolar\": [{\"marker\": {\"colorbar\": {\"outlinewidth\": 0, \"ticks\": \"\"}}, \"type\": \"scatterpolar\"}], \"scatterpolargl\": [{\"marker\": {\"colorbar\": {\"outlinewidth\": 0, \"ticks\": \"\"}}, \"type\": \"scatterpolargl\"}], \"scatterternary\": [{\"marker\": {\"colorbar\": {\"outlinewidth\": 0, \"ticks\": \"\"}}, \"type\": \"scatterternary\"}], \"surface\": [{\"colorbar\": {\"outlinewidth\": 0, \"ticks\": \"\"}, \"colorscale\": [[0.0, \"#0d0887\"], [0.1111111111111111, \"#46039f\"], [0.2222222222222222, \"#7201a8\"], [0.3333333333333333, \"#9c179e\"], [0.4444444444444444, \"#bd3786\"], [0.5555555555555556, \"#d8576b\"], [0.6666666666666666, \"#ed7953\"], [0.7777777777777778, \"#fb9f3a\"], [0.8888888888888888, \"#fdca26\"], [1.0, \"#f0f921\"]], \"type\": \"surface\"}], \"table\": [{\"cells\": {\"fill\": {\"color\": \"#EBF0F8\"}, \"line\": {\"color\": \"white\"}}, \"header\": {\"fill\": {\"color\": \"#C8D4E3\"}, \"line\": {\"color\": \"white\"}}, \"type\": \"table\"}]}, \"layout\": {\"annotationdefaults\": {\"arrowcolor\": \"#2a3f5f\", \"arrowhead\": 0, \"arrowwidth\": 1}, \"coloraxis\": {\"colorbar\": {\"outlinewidth\": 0, \"ticks\": \"\"}}, \"colorscale\": {\"diverging\": [[0, \"#8e0152\"], [0.1, \"#c51b7d\"], [0.2, \"#de77ae\"], [0.3, \"#f1b6da\"], [0.4, \"#fde0ef\"], [0.5, \"#f7f7f7\"], [0.6, \"#e6f5d0\"], [0.7, \"#b8e186\"], [0.8, \"#7fbc41\"], [0.9, \"#4d9221\"], [1, \"#276419\"]], \"sequential\": [[0.0, \"#0d0887\"], [0.1111111111111111, \"#46039f\"], [0.2222222222222222, \"#7201a8\"], [0.3333333333333333, \"#9c179e\"], [0.4444444444444444, \"#bd3786\"], [0.5555555555555556, \"#d8576b\"], [0.6666666666666666, \"#ed7953\"], [0.7777777777777778, \"#fb9f3a\"], [0.8888888888888888, \"#fdca26\"], [1.0, \"#f0f921\"]], \"sequentialminus\": [[0.0, \"#0d0887\"], [0.1111111111111111, \"#46039f\"], [0.2222222222222222, \"#7201a8\"], [0.3333333333333333, \"#9c179e\"], [0.4444444444444444, \"#bd3786\"], [0.5555555555555556, \"#d8576b\"], [0.6666666666666666, \"#ed7953\"], [0.7777777777777778, \"#fb9f3a\"], [0.8888888888888888, \"#fdca26\"], [1.0, \"#f0f921\"]]}, \"colorway\": [\"#636efa\", \"#EF553B\", \"#00cc96\", \"#ab63fa\", \"#FFA15A\", \"#19d3f3\", \"#FF6692\", \"#B6E880\", \"#FF97FF\", \"#FECB52\"], \"font\": {\"color\": \"#2a3f5f\"}, \"geo\": {\"bgcolor\": \"white\", \"lakecolor\": \"white\", \"landcolor\": \"#E5ECF6\", \"showlakes\": true, \"showland\": true, \"subunitcolor\": \"white\"}, \"hoverlabel\": {\"align\": \"left\"}, \"hovermode\": \"closest\", \"mapbox\": {\"style\": \"light\"}, \"paper_bgcolor\": \"white\", \"plot_bgcolor\": \"#E5ECF6\", \"polar\": {\"angularaxis\": {\"gridcolor\": \"white\", \"linecolor\": \"white\", \"ticks\": \"\"}, \"bgcolor\": \"#E5ECF6\", \"radialaxis\": {\"gridcolor\": \"white\", \"linecolor\": \"white\", \"ticks\": \"\"}}, \"scene\": {\"xaxis\": {\"backgroundcolor\": \"#E5ECF6\", \"gridcolor\": \"white\", \"gridwidth\": 2, \"linecolor\": \"white\", \"showbackground\": true, \"ticks\": \"\", \"zerolinecolor\": \"white\"}, \"yaxis\": {\"backgroundcolor\": \"#E5ECF6\", \"gridcolor\": \"white\", \"gridwidth\": 2, \"linecolor\": \"white\", \"showbackground\": true, \"ticks\": \"\", \"zerolinecolor\": \"white\"}, \"zaxis\": {\"backgroundcolor\": \"#E5ECF6\", \"gridcolor\": \"white\", \"gridwidth\": 2, \"linecolor\": \"white\", \"showbackground\": true, \"ticks\": \"\", \"zerolinecolor\": \"white\"}}, \"shapedefaults\": {\"line\": {\"color\": \"#2a3f5f\"}}, \"ternary\": {\"aaxis\": {\"gridcolor\": \"white\", \"linecolor\": \"white\", \"ticks\": \"\"}, \"baxis\": {\"gridcolor\": \"white\", \"linecolor\": \"white\", \"ticks\": \"\"}, \"bgcolor\": \"#E5ECF6\", \"caxis\": {\"gridcolor\": \"white\", \"linecolor\": \"white\", \"ticks\": \"\"}}, \"title\": {\"x\": 0.05}, \"xaxis\": {\"automargin\": true, \"gridcolor\": \"white\", \"linecolor\": \"white\", \"ticks\": \"\", \"title\": {\"standoff\": 15}, \"zerolinecolor\": \"white\", \"zerolinewidth\": 2}, \"yaxis\": {\"automargin\": true, \"gridcolor\": \"white\", \"linecolor\": \"white\", \"ticks\": \"\", \"title\": {\"standoff\": 15}, \"zerolinecolor\": \"white\", \"zerolinewidth\": 2}}}},\n",
       "                        {\"responsive\": true}\n",
       "                    ).then(function(){\n",
       "                            \n",
       "var gd = document.getElementById('e20c99fa-47bd-46f9-bc78-2b08c6d79e76');\n",
       "var x = new MutationObserver(function (mutations, observer) {{\n",
       "        var display = window.getComputedStyle(gd).display;\n",
       "        if (!display || display === 'none') {{\n",
       "            console.log([gd, 'removed!']);\n",
       "            Plotly.purge(gd);\n",
       "            observer.disconnect();\n",
       "        }}\n",
       "}});\n",
       "\n",
       "// Listen for the removal of the full notebook cells\n",
       "var notebookContainer = gd.closest('#notebook-container');\n",
       "if (notebookContainer) {{\n",
       "    x.observe(notebookContainer, {childList: true});\n",
       "}}\n",
       "\n",
       "// Listen for the clearing of the current output cell\n",
       "var outputEl = gd.closest('.output');\n",
       "if (outputEl) {{\n",
       "    x.observe(outputEl, {childList: true});\n",
       "}}\n",
       "\n",
       "                        })\n",
       "                };\n",
       "                });\n",
       "            </script>\n",
       "        </div>"
      ]
     },
     "metadata": {},
     "output_type": "display_data"
    }
   ],
   "source": [
    "fig = px.choropleth(locations=[\"CA\", \"TX\", \"NY\"], locationmode=\"USA-states\", color=[ca_count,tx_count,ny_count], scope=\"usa\")\n",
    "fig.show()"
   ]
  },
  {
   "cell_type": "code",
   "execution_count": 78,
   "metadata": {},
   "outputs": [
    {
     "ename": "AttributeError",
     "evalue": "module 'pandas' has no attribute 'Data'",
     "output_type": "error",
     "traceback": [
      "\u001b[1;31m---------------------------------------------------------------------------\u001b[0m",
      "\u001b[1;31mAttributeError\u001b[0m                            Traceback (most recent call last)",
      "\u001b[1;32m<ipython-input-78-dbe412b999ed>\u001b[0m in \u001b[0;36m<module>\u001b[1;34m\u001b[0m\n\u001b[1;32m----> 1\u001b[1;33m \u001b[0mjob_postings\u001b[0m \u001b[1;33m=\u001b[0m \u001b[0mpd\u001b[0m\u001b[1;33m.\u001b[0m\u001b[0mData\u001b[0m\u001b[1;33m\u001b[0m\u001b[1;33m\u001b[0m\u001b[0m\n\u001b[0m",
      "\u001b[1;32m~\\Anaconda3\\lib\\site-packages\\pandas\\__init__.py\u001b[0m in \u001b[0;36m__getattr__\u001b[1;34m(name)\u001b[0m\n\u001b[0;32m    212\u001b[0m \u001b[1;33m\u001b[0m\u001b[0m\n\u001b[0;32m    213\u001b[0m             \u001b[1;32mreturn\u001b[0m \u001b[0mPanel\u001b[0m\u001b[1;33m\u001b[0m\u001b[1;33m\u001b[0m\u001b[0m\n\u001b[1;32m--> 214\u001b[1;33m         \u001b[1;32mraise\u001b[0m \u001b[0mAttributeError\u001b[0m\u001b[1;33m(\u001b[0m\u001b[1;34m\"module 'pandas' has no attribute '{}'\"\u001b[0m\u001b[1;33m.\u001b[0m\u001b[0mformat\u001b[0m\u001b[1;33m(\u001b[0m\u001b[0mname\u001b[0m\u001b[1;33m)\u001b[0m\u001b[1;33m)\u001b[0m\u001b[1;33m\u001b[0m\u001b[1;33m\u001b[0m\u001b[0m\n\u001b[0m\u001b[0;32m    215\u001b[0m \u001b[1;33m\u001b[0m\u001b[0m\n\u001b[0;32m    216\u001b[0m \u001b[1;33m\u001b[0m\u001b[0m\n",
      "\u001b[1;31mAttributeError\u001b[0m: module 'pandas' has no attribute 'Data'"
     ]
    }
   ],
   "source": [
    "job_postings = pd.Data"
   ]
  },
  {
   "cell_type": "code",
   "execution_count": null,
   "metadata": {},
   "outputs": [],
   "source": []
  }
 ],
 "metadata": {
  "celltoolbar": "Slideshow",
  "kernelspec": {
   "display_name": "Python 3",
   "language": "python",
   "name": "python3"
  },
  "language_info": {
   "codemirror_mode": {
    "name": "ipython",
    "version": 3
   },
   "file_extension": ".py",
   "mimetype": "text/x-python",
   "name": "python",
   "nbconvert_exporter": "python",
   "pygments_lexer": "ipython3",
   "version": "3.7.4"
  }
 },
 "nbformat": 4,
 "nbformat_minor": 2
}
