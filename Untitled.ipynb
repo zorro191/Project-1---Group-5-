{
 "cells": [
  {
   "cell_type": "code",
   "execution_count": 60,
   "metadata": {},
   "outputs": [],
   "source": [
    "%matplotlib notebook"
   ]
  },
  {
   "cell_type": "code",
   "execution_count": 61,
   "metadata": {},
   "outputs": [],
   "source": [
    "# Dependencies and Setup\n",
    "import matplotlib.pyplot as plt\n",
    "import pandas as pd\n",
    "import numpy as np\n",
    "from iso3166 import countries\n",
    "import plotly.express as px\n",
    "import plotly.graph_objects as go\n"
   ]
  },
  {
   "cell_type": "code",
   "execution_count": 62,
   "metadata": {},
   "outputs": [
    {
     "data": {
      "text/html": [
       "<div>\n",
       "<style scoped>\n",
       "    .dataframe tbody tr th:only-of-type {\n",
       "        vertical-align: middle;\n",
       "    }\n",
       "\n",
       "    .dataframe tbody tr th {\n",
       "        vertical-align: top;\n",
       "    }\n",
       "\n",
       "    .dataframe thead th {\n",
       "        text-align: right;\n",
       "    }\n",
       "</style>\n",
       "<table border=\"1\" class=\"dataframe\">\n",
       "  <thead>\n",
       "    <tr style=\"text-align: right;\">\n",
       "      <th></th>\n",
       "      <th>job_id</th>\n",
       "      <th>title</th>\n",
       "      <th>location</th>\n",
       "      <th>department</th>\n",
       "      <th>salary_range</th>\n",
       "      <th>company_profile</th>\n",
       "      <th>description</th>\n",
       "      <th>requirements</th>\n",
       "      <th>benefits</th>\n",
       "      <th>telecommuting</th>\n",
       "      <th>has_company_logo</th>\n",
       "      <th>has_questions</th>\n",
       "      <th>employment_type</th>\n",
       "      <th>required_experience</th>\n",
       "      <th>required_education</th>\n",
       "      <th>industry</th>\n",
       "      <th>function</th>\n",
       "      <th>fraudulent</th>\n",
       "    </tr>\n",
       "  </thead>\n",
       "  <tbody>\n",
       "    <tr>\n",
       "      <td>0</td>\n",
       "      <td>1</td>\n",
       "      <td>Marketing Intern</td>\n",
       "      <td>US, NY, New York</td>\n",
       "      <td>Marketing</td>\n",
       "      <td>NaN</td>\n",
       "      <td>We're Food52, and we've created a groundbreaki...</td>\n",
       "      <td>Food52, a fast-growing, James Beard Award-winn...</td>\n",
       "      <td>Experience with content management systems a m...</td>\n",
       "      <td>NaN</td>\n",
       "      <td>0</td>\n",
       "      <td>1</td>\n",
       "      <td>0</td>\n",
       "      <td>Other</td>\n",
       "      <td>Internship</td>\n",
       "      <td>NaN</td>\n",
       "      <td>NaN</td>\n",
       "      <td>Marketing</td>\n",
       "      <td>0</td>\n",
       "    </tr>\n",
       "    <tr>\n",
       "      <td>1</td>\n",
       "      <td>2</td>\n",
       "      <td>Customer Service - Cloud Video Production</td>\n",
       "      <td>NZ, , Auckland</td>\n",
       "      <td>Success</td>\n",
       "      <td>NaN</td>\n",
       "      <td>90 Seconds, the worlds Cloud Video Production ...</td>\n",
       "      <td>Organised - Focused - Vibrant - Awesome!Do you...</td>\n",
       "      <td>What we expect from you:Your key responsibilit...</td>\n",
       "      <td>What you will get from usThrough being part of...</td>\n",
       "      <td>0</td>\n",
       "      <td>1</td>\n",
       "      <td>0</td>\n",
       "      <td>Full-time</td>\n",
       "      <td>Not Applicable</td>\n",
       "      <td>NaN</td>\n",
       "      <td>Marketing and Advertising</td>\n",
       "      <td>Customer Service</td>\n",
       "      <td>0</td>\n",
       "    </tr>\n",
       "    <tr>\n",
       "      <td>2</td>\n",
       "      <td>3</td>\n",
       "      <td>Commissioning Machinery Assistant (CMA)</td>\n",
       "      <td>US, IA, Wever</td>\n",
       "      <td>NaN</td>\n",
       "      <td>NaN</td>\n",
       "      <td>Valor Services provides Workforce Solutions th...</td>\n",
       "      <td>Our client, located in Houston, is actively se...</td>\n",
       "      <td>Implement pre-commissioning and commissioning ...</td>\n",
       "      <td>NaN</td>\n",
       "      <td>0</td>\n",
       "      <td>1</td>\n",
       "      <td>0</td>\n",
       "      <td>NaN</td>\n",
       "      <td>NaN</td>\n",
       "      <td>NaN</td>\n",
       "      <td>NaN</td>\n",
       "      <td>NaN</td>\n",
       "      <td>0</td>\n",
       "    </tr>\n",
       "    <tr>\n",
       "      <td>3</td>\n",
       "      <td>4</td>\n",
       "      <td>Account Executive - Washington DC</td>\n",
       "      <td>US, DC, Washington</td>\n",
       "      <td>Sales</td>\n",
       "      <td>NaN</td>\n",
       "      <td>Our passion for improving quality of life thro...</td>\n",
       "      <td>THE COMPANY: ESRI – Environmental Systems Rese...</td>\n",
       "      <td>EDUCATION: Bachelor’s or Master’s in GIS, busi...</td>\n",
       "      <td>Our culture is anything but corporate—we have ...</td>\n",
       "      <td>0</td>\n",
       "      <td>1</td>\n",
       "      <td>0</td>\n",
       "      <td>Full-time</td>\n",
       "      <td>Mid-Senior level</td>\n",
       "      <td>Bachelor's Degree</td>\n",
       "      <td>Computer Software</td>\n",
       "      <td>Sales</td>\n",
       "      <td>0</td>\n",
       "    </tr>\n",
       "    <tr>\n",
       "      <td>4</td>\n",
       "      <td>5</td>\n",
       "      <td>Bill Review Manager</td>\n",
       "      <td>US, FL, Fort Worth</td>\n",
       "      <td>NaN</td>\n",
       "      <td>NaN</td>\n",
       "      <td>SpotSource Solutions LLC is a Global Human Cap...</td>\n",
       "      <td>JOB TITLE: Itemization Review ManagerLOCATION:...</td>\n",
       "      <td>QUALIFICATIONS:RN license in the State of Texa...</td>\n",
       "      <td>Full Benefits Offered</td>\n",
       "      <td>0</td>\n",
       "      <td>1</td>\n",
       "      <td>1</td>\n",
       "      <td>Full-time</td>\n",
       "      <td>Mid-Senior level</td>\n",
       "      <td>Bachelor's Degree</td>\n",
       "      <td>Hospital &amp; Health Care</td>\n",
       "      <td>Health Care Provider</td>\n",
       "      <td>0</td>\n",
       "    </tr>\n",
       "  </tbody>\n",
       "</table>\n",
       "</div>"
      ],
      "text/plain": [
       "   job_id                                      title            location  \\\n",
       "0       1                           Marketing Intern    US, NY, New York   \n",
       "1       2  Customer Service - Cloud Video Production      NZ, , Auckland   \n",
       "2       3    Commissioning Machinery Assistant (CMA)       US, IA, Wever   \n",
       "3       4          Account Executive - Washington DC  US, DC, Washington   \n",
       "4       5                        Bill Review Manager  US, FL, Fort Worth   \n",
       "\n",
       "  department salary_range                                    company_profile  \\\n",
       "0  Marketing          NaN  We're Food52, and we've created a groundbreaki...   \n",
       "1    Success          NaN  90 Seconds, the worlds Cloud Video Production ...   \n",
       "2        NaN          NaN  Valor Services provides Workforce Solutions th...   \n",
       "3      Sales          NaN  Our passion for improving quality of life thro...   \n",
       "4        NaN          NaN  SpotSource Solutions LLC is a Global Human Cap...   \n",
       "\n",
       "                                         description  \\\n",
       "0  Food52, a fast-growing, James Beard Award-winn...   \n",
       "1  Organised - Focused - Vibrant - Awesome!Do you...   \n",
       "2  Our client, located in Houston, is actively se...   \n",
       "3  THE COMPANY: ESRI – Environmental Systems Rese...   \n",
       "4  JOB TITLE: Itemization Review ManagerLOCATION:...   \n",
       "\n",
       "                                        requirements  \\\n",
       "0  Experience with content management systems a m...   \n",
       "1  What we expect from you:Your key responsibilit...   \n",
       "2  Implement pre-commissioning and commissioning ...   \n",
       "3  EDUCATION: Bachelor’s or Master’s in GIS, busi...   \n",
       "4  QUALIFICATIONS:RN license in the State of Texa...   \n",
       "\n",
       "                                            benefits  telecommuting  \\\n",
       "0                                                NaN              0   \n",
       "1  What you will get from usThrough being part of...              0   \n",
       "2                                                NaN              0   \n",
       "3  Our culture is anything but corporate—we have ...              0   \n",
       "4                              Full Benefits Offered              0   \n",
       "\n",
       "   has_company_logo  has_questions employment_type required_experience  \\\n",
       "0                 1              0           Other          Internship   \n",
       "1                 1              0       Full-time      Not Applicable   \n",
       "2                 1              0             NaN                 NaN   \n",
       "3                 1              0       Full-time    Mid-Senior level   \n",
       "4                 1              1       Full-time    Mid-Senior level   \n",
       "\n",
       "  required_education                   industry              function  \\\n",
       "0                NaN                        NaN             Marketing   \n",
       "1                NaN  Marketing and Advertising      Customer Service   \n",
       "2                NaN                        NaN                   NaN   \n",
       "3  Bachelor's Degree          Computer Software                 Sales   \n",
       "4  Bachelor's Degree     Hospital & Health Care  Health Care Provider   \n",
       "\n",
       "   fraudulent  \n",
       "0           0  \n",
       "1           0  \n",
       "2           0  \n",
       "3           0  \n",
       "4           0  "
      ]
     },
     "execution_count": 62,
     "metadata": {},
     "output_type": "execute_result"
    }
   ],
   "source": [
    "#read \n",
    "job_postings = pd.read_csv('Resources/job_postings.csv')\n",
    "job_postings.head()"
   ]
  },
  {
   "cell_type": "code",
   "execution_count": 63,
   "metadata": {},
   "outputs": [
    {
     "data": {
      "text/plain": [
       "(17880, 18)"
      ]
     },
     "execution_count": 63,
     "metadata": {},
     "output_type": "execute_result"
    }
   ],
   "source": [
    "#verify that columns and rows \n",
    "job_postings.shape"
   ]
  },
  {
   "cell_type": "code",
   "execution_count": 64,
   "metadata": {},
   "outputs": [],
   "source": [
    "#drop if the job posting is fraudulent\n",
    "#job_postings = job_postings[~job_postings['fraudulent'].isin(['1'])]\n",
    "#job_postings.head()"
   ]
  },
  {
   "cell_type": "code",
   "execution_count": 65,
   "metadata": {},
   "outputs": [
    {
     "data": {
      "text/plain": [
       "(17880, 18)"
      ]
     },
     "execution_count": 65,
     "metadata": {},
     "output_type": "execute_result"
    }
   ],
   "source": [
    "#verify that fraudulent data has been dropped\n",
    "job_postings.shape"
   ]
  },
  {
   "cell_type": "code",
   "execution_count": 66,
   "metadata": {},
   "outputs": [
    {
     "data": {
      "text/plain": [
       "(17534, 18)"
      ]
     },
     "execution_count": 66,
     "metadata": {},
     "output_type": "execute_result"
    }
   ],
   "source": [
    "# dropping null value rows in location to avoid errors \n",
    "job_postings = job_postings[pd.notnull(job_postings['location'])]\n",
    "\n",
    "#verify that null data has been dropped\n",
    "job_postings.shape\n"
   ]
  },
  {
   "cell_type": "code",
   "execution_count": 67,
   "metadata": {},
   "outputs": [
    {
     "data": {
      "text/plain": [
       "<bound method NDFrame.head of          0    1             2\n",
       "0      US,  NY,      New York\n",
       "1      NZ,    ,      Auckland\n",
       "2      US,  IA,         Wever\n",
       "3      US,  DC,    Washington\n",
       "4      US,  FL,    Fort Worth\n",
       "...    ...  ...           ...\n",
       "17875  CA,  ON,       Toronto\n",
       "17876  US,  PA,  Philadelphia\n",
       "17877  US,  TX,       Houston\n",
       "17878  NG,  LA,         Lagos\n",
       "17879  NZ,   N,    Wellington\n",
       "\n",
       "[17534 rows x 3 columns]>"
      ]
     },
     "execution_count": 67,
     "metadata": {},
     "output_type": "execute_result"
    }
   ],
   "source": [
    "# new data frame with split value columns \n",
    "df2 = job_postings[\"location\"].str.split(\" \", n = 2, expand = True) \n",
    "df2.head"
   ]
  },
  {
   "cell_type": "code",
   "execution_count": 68,
   "metadata": {},
   "outputs": [
    {
     "data": {
      "text/html": [
       "<div>\n",
       "<style scoped>\n",
       "    .dataframe tbody tr th:only-of-type {\n",
       "        vertical-align: middle;\n",
       "    }\n",
       "\n",
       "    .dataframe tbody tr th {\n",
       "        vertical-align: top;\n",
       "    }\n",
       "\n",
       "    .dataframe thead th {\n",
       "        text-align: right;\n",
       "    }\n",
       "</style>\n",
       "<table border=\"1\" class=\"dataframe\">\n",
       "  <thead>\n",
       "    <tr style=\"text-align: right;\">\n",
       "      <th></th>\n",
       "      <th>0</th>\n",
       "      <th>1</th>\n",
       "      <th>2</th>\n",
       "    </tr>\n",
       "  </thead>\n",
       "  <tbody>\n",
       "    <tr>\n",
       "      <td>0</td>\n",
       "      <td>US,</td>\n",
       "      <td>NY,</td>\n",
       "      <td>New York</td>\n",
       "    </tr>\n",
       "    <tr>\n",
       "      <td>1</td>\n",
       "      <td>NZ,</td>\n",
       "      <td>,</td>\n",
       "      <td>Auckland</td>\n",
       "    </tr>\n",
       "    <tr>\n",
       "      <td>2</td>\n",
       "      <td>US,</td>\n",
       "      <td>IA,</td>\n",
       "      <td>Wever</td>\n",
       "    </tr>\n",
       "    <tr>\n",
       "      <td>3</td>\n",
       "      <td>US,</td>\n",
       "      <td>DC,</td>\n",
       "      <td>Washington</td>\n",
       "    </tr>\n",
       "    <tr>\n",
       "      <td>4</td>\n",
       "      <td>US,</td>\n",
       "      <td>FL,</td>\n",
       "      <td>Fort Worth</td>\n",
       "    </tr>\n",
       "    <tr>\n",
       "      <td>...</td>\n",
       "      <td>...</td>\n",
       "      <td>...</td>\n",
       "      <td>...</td>\n",
       "    </tr>\n",
       "    <tr>\n",
       "      <td>17875</td>\n",
       "      <td>CA,</td>\n",
       "      <td>ON,</td>\n",
       "      <td>Toronto</td>\n",
       "    </tr>\n",
       "    <tr>\n",
       "      <td>17876</td>\n",
       "      <td>US,</td>\n",
       "      <td>PA,</td>\n",
       "      <td>Philadelphia</td>\n",
       "    </tr>\n",
       "    <tr>\n",
       "      <td>17877</td>\n",
       "      <td>US,</td>\n",
       "      <td>TX,</td>\n",
       "      <td>Houston</td>\n",
       "    </tr>\n",
       "    <tr>\n",
       "      <td>17878</td>\n",
       "      <td>NG,</td>\n",
       "      <td>LA,</td>\n",
       "      <td>Lagos</td>\n",
       "    </tr>\n",
       "    <tr>\n",
       "      <td>17879</td>\n",
       "      <td>NZ,</td>\n",
       "      <td>N,</td>\n",
       "      <td>Wellington</td>\n",
       "    </tr>\n",
       "  </tbody>\n",
       "</table>\n",
       "<p>17534 rows × 3 columns</p>\n",
       "</div>"
      ],
      "text/plain": [
       "         0    1             2\n",
       "0      US,  NY,      New York\n",
       "1      NZ,    ,      Auckland\n",
       "2      US,  IA,         Wever\n",
       "3      US,  DC,    Washington\n",
       "4      US,  FL,    Fort Worth\n",
       "...    ...  ...           ...\n",
       "17875  CA,  ON,       Toronto\n",
       "17876  US,  PA,  Philadelphia\n",
       "17877  US,  TX,       Houston\n",
       "17878  NG,  LA,         Lagos\n",
       "17879  NZ,   N,    Wellington\n",
       "\n",
       "[17534 rows x 3 columns]"
      ]
     },
     "execution_count": 68,
     "metadata": {},
     "output_type": "execute_result"
    }
   ],
   "source": [
    "#display names of new columns\n",
    "list(df2.columns) \n",
    "df2"
   ]
  },
  {
   "cell_type": "code",
   "execution_count": 69,
   "metadata": {},
   "outputs": [],
   "source": [
    "# change names of new columns\n",
    "df2.rename(columns={0:\"Country\", 1:\"State\", 2:\"City\"}, inplace=True)"
   ]
  },
  {
   "cell_type": "code",
   "execution_count": 70,
   "metadata": {},
   "outputs": [
    {
     "data": {
      "text/html": [
       "<div>\n",
       "<style scoped>\n",
       "    .dataframe tbody tr th:only-of-type {\n",
       "        vertical-align: middle;\n",
       "    }\n",
       "\n",
       "    .dataframe tbody tr th {\n",
       "        vertical-align: top;\n",
       "    }\n",
       "\n",
       "    .dataframe thead th {\n",
       "        text-align: right;\n",
       "    }\n",
       "</style>\n",
       "<table border=\"1\" class=\"dataframe\">\n",
       "  <thead>\n",
       "    <tr style=\"text-align: right;\">\n",
       "      <th></th>\n",
       "      <th>job_id</th>\n",
       "      <th>title</th>\n",
       "      <th>location</th>\n",
       "      <th>department</th>\n",
       "      <th>salary_range</th>\n",
       "      <th>company_profile</th>\n",
       "      <th>description</th>\n",
       "      <th>requirements</th>\n",
       "      <th>benefits</th>\n",
       "      <th>telecommuting</th>\n",
       "      <th>...</th>\n",
       "      <th>has_questions</th>\n",
       "      <th>employment_type</th>\n",
       "      <th>required_experience</th>\n",
       "      <th>required_education</th>\n",
       "      <th>industry</th>\n",
       "      <th>function</th>\n",
       "      <th>fraudulent</th>\n",
       "      <th>City</th>\n",
       "      <th>State</th>\n",
       "      <th>Country</th>\n",
       "    </tr>\n",
       "  </thead>\n",
       "  <tbody>\n",
       "    <tr>\n",
       "      <td>0</td>\n",
       "      <td>1</td>\n",
       "      <td>Marketing Intern</td>\n",
       "      <td>US, NY, New York</td>\n",
       "      <td>Marketing</td>\n",
       "      <td>NaN</td>\n",
       "      <td>We're Food52, and we've created a groundbreaki...</td>\n",
       "      <td>Food52, a fast-growing, James Beard Award-winn...</td>\n",
       "      <td>Experience with content management systems a m...</td>\n",
       "      <td>NaN</td>\n",
       "      <td>0</td>\n",
       "      <td>...</td>\n",
       "      <td>0</td>\n",
       "      <td>Other</td>\n",
       "      <td>Internship</td>\n",
       "      <td>NaN</td>\n",
       "      <td>NaN</td>\n",
       "      <td>Marketing</td>\n",
       "      <td>0</td>\n",
       "      <td>New York</td>\n",
       "      <td>NY,</td>\n",
       "      <td>US,</td>\n",
       "    </tr>\n",
       "    <tr>\n",
       "      <td>1</td>\n",
       "      <td>2</td>\n",
       "      <td>Customer Service - Cloud Video Production</td>\n",
       "      <td>NZ, , Auckland</td>\n",
       "      <td>Success</td>\n",
       "      <td>NaN</td>\n",
       "      <td>90 Seconds, the worlds Cloud Video Production ...</td>\n",
       "      <td>Organised - Focused - Vibrant - Awesome!Do you...</td>\n",
       "      <td>What we expect from you:Your key responsibilit...</td>\n",
       "      <td>What you will get from usThrough being part of...</td>\n",
       "      <td>0</td>\n",
       "      <td>...</td>\n",
       "      <td>0</td>\n",
       "      <td>Full-time</td>\n",
       "      <td>Not Applicable</td>\n",
       "      <td>NaN</td>\n",
       "      <td>Marketing and Advertising</td>\n",
       "      <td>Customer Service</td>\n",
       "      <td>0</td>\n",
       "      <td>Auckland</td>\n",
       "      <td>,</td>\n",
       "      <td>NZ,</td>\n",
       "    </tr>\n",
       "    <tr>\n",
       "      <td>2</td>\n",
       "      <td>3</td>\n",
       "      <td>Commissioning Machinery Assistant (CMA)</td>\n",
       "      <td>US, IA, Wever</td>\n",
       "      <td>NaN</td>\n",
       "      <td>NaN</td>\n",
       "      <td>Valor Services provides Workforce Solutions th...</td>\n",
       "      <td>Our client, located in Houston, is actively se...</td>\n",
       "      <td>Implement pre-commissioning and commissioning ...</td>\n",
       "      <td>NaN</td>\n",
       "      <td>0</td>\n",
       "      <td>...</td>\n",
       "      <td>0</td>\n",
       "      <td>NaN</td>\n",
       "      <td>NaN</td>\n",
       "      <td>NaN</td>\n",
       "      <td>NaN</td>\n",
       "      <td>NaN</td>\n",
       "      <td>0</td>\n",
       "      <td>Wever</td>\n",
       "      <td>IA,</td>\n",
       "      <td>US,</td>\n",
       "    </tr>\n",
       "    <tr>\n",
       "      <td>3</td>\n",
       "      <td>4</td>\n",
       "      <td>Account Executive - Washington DC</td>\n",
       "      <td>US, DC, Washington</td>\n",
       "      <td>Sales</td>\n",
       "      <td>NaN</td>\n",
       "      <td>Our passion for improving quality of life thro...</td>\n",
       "      <td>THE COMPANY: ESRI – Environmental Systems Rese...</td>\n",
       "      <td>EDUCATION: Bachelor’s or Master’s in GIS, busi...</td>\n",
       "      <td>Our culture is anything but corporate—we have ...</td>\n",
       "      <td>0</td>\n",
       "      <td>...</td>\n",
       "      <td>0</td>\n",
       "      <td>Full-time</td>\n",
       "      <td>Mid-Senior level</td>\n",
       "      <td>Bachelor's Degree</td>\n",
       "      <td>Computer Software</td>\n",
       "      <td>Sales</td>\n",
       "      <td>0</td>\n",
       "      <td>Washington</td>\n",
       "      <td>DC,</td>\n",
       "      <td>US,</td>\n",
       "    </tr>\n",
       "    <tr>\n",
       "      <td>4</td>\n",
       "      <td>5</td>\n",
       "      <td>Bill Review Manager</td>\n",
       "      <td>US, FL, Fort Worth</td>\n",
       "      <td>NaN</td>\n",
       "      <td>NaN</td>\n",
       "      <td>SpotSource Solutions LLC is a Global Human Cap...</td>\n",
       "      <td>JOB TITLE: Itemization Review ManagerLOCATION:...</td>\n",
       "      <td>QUALIFICATIONS:RN license in the State of Texa...</td>\n",
       "      <td>Full Benefits Offered</td>\n",
       "      <td>0</td>\n",
       "      <td>...</td>\n",
       "      <td>1</td>\n",
       "      <td>Full-time</td>\n",
       "      <td>Mid-Senior level</td>\n",
       "      <td>Bachelor's Degree</td>\n",
       "      <td>Hospital &amp; Health Care</td>\n",
       "      <td>Health Care Provider</td>\n",
       "      <td>0</td>\n",
       "      <td>Fort Worth</td>\n",
       "      <td>FL,</td>\n",
       "      <td>US,</td>\n",
       "    </tr>\n",
       "    <tr>\n",
       "      <td>...</td>\n",
       "      <td>...</td>\n",
       "      <td>...</td>\n",
       "      <td>...</td>\n",
       "      <td>...</td>\n",
       "      <td>...</td>\n",
       "      <td>...</td>\n",
       "      <td>...</td>\n",
       "      <td>...</td>\n",
       "      <td>...</td>\n",
       "      <td>...</td>\n",
       "      <td>...</td>\n",
       "      <td>...</td>\n",
       "      <td>...</td>\n",
       "      <td>...</td>\n",
       "      <td>...</td>\n",
       "      <td>...</td>\n",
       "      <td>...</td>\n",
       "      <td>...</td>\n",
       "      <td>...</td>\n",
       "      <td>...</td>\n",
       "      <td>...</td>\n",
       "    </tr>\n",
       "    <tr>\n",
       "      <td>17875</td>\n",
       "      <td>17876</td>\n",
       "      <td>Account Director - Distribution</td>\n",
       "      <td>CA, ON, Toronto</td>\n",
       "      <td>Sales</td>\n",
       "      <td>NaN</td>\n",
       "      <td>Vend is looking for some awesome new talent to...</td>\n",
       "      <td>Just in case this is the first time you’ve vis...</td>\n",
       "      <td>To ace this role you:Will eat comprehensive St...</td>\n",
       "      <td>What can you expect from us?We have an open cu...</td>\n",
       "      <td>0</td>\n",
       "      <td>...</td>\n",
       "      <td>1</td>\n",
       "      <td>Full-time</td>\n",
       "      <td>Mid-Senior level</td>\n",
       "      <td>NaN</td>\n",
       "      <td>Computer Software</td>\n",
       "      <td>Sales</td>\n",
       "      <td>0</td>\n",
       "      <td>Toronto</td>\n",
       "      <td>ON,</td>\n",
       "      <td>CA,</td>\n",
       "    </tr>\n",
       "    <tr>\n",
       "      <td>17876</td>\n",
       "      <td>17877</td>\n",
       "      <td>Payroll Accountant</td>\n",
       "      <td>US, PA, Philadelphia</td>\n",
       "      <td>Accounting</td>\n",
       "      <td>NaN</td>\n",
       "      <td>WebLinc is the e-commerce platform and service...</td>\n",
       "      <td>The Payroll Accountant will focus primarily on...</td>\n",
       "      <td>- B.A. or B.S. in Accounting- Desire to have f...</td>\n",
       "      <td>Health &amp;amp; WellnessMedical planPrescription ...</td>\n",
       "      <td>0</td>\n",
       "      <td>...</td>\n",
       "      <td>1</td>\n",
       "      <td>Full-time</td>\n",
       "      <td>Mid-Senior level</td>\n",
       "      <td>Bachelor's Degree</td>\n",
       "      <td>Internet</td>\n",
       "      <td>Accounting/Auditing</td>\n",
       "      <td>0</td>\n",
       "      <td>Philadelphia</td>\n",
       "      <td>PA,</td>\n",
       "      <td>US,</td>\n",
       "    </tr>\n",
       "    <tr>\n",
       "      <td>17877</td>\n",
       "      <td>17878</td>\n",
       "      <td>Project Cost Control Staff Engineer - Cost Con...</td>\n",
       "      <td>US, TX, Houston</td>\n",
       "      <td>NaN</td>\n",
       "      <td>NaN</td>\n",
       "      <td>We Provide Full Time Permanent Positions for m...</td>\n",
       "      <td>Experienced Project Cost Control Staff Enginee...</td>\n",
       "      <td>At least 12 years professional experience.Abil...</td>\n",
       "      <td>NaN</td>\n",
       "      <td>0</td>\n",
       "      <td>...</td>\n",
       "      <td>0</td>\n",
       "      <td>Full-time</td>\n",
       "      <td>NaN</td>\n",
       "      <td>NaN</td>\n",
       "      <td>NaN</td>\n",
       "      <td>NaN</td>\n",
       "      <td>0</td>\n",
       "      <td>Houston</td>\n",
       "      <td>TX,</td>\n",
       "      <td>US,</td>\n",
       "    </tr>\n",
       "    <tr>\n",
       "      <td>17878</td>\n",
       "      <td>17879</td>\n",
       "      <td>Graphic Designer</td>\n",
       "      <td>NG, LA, Lagos</td>\n",
       "      <td>NaN</td>\n",
       "      <td>NaN</td>\n",
       "      <td>NaN</td>\n",
       "      <td>Nemsia Studios is looking for an experienced v...</td>\n",
       "      <td>1. Must be fluent in the latest versions of Co...</td>\n",
       "      <td>Competitive salary (compensation will be based...</td>\n",
       "      <td>0</td>\n",
       "      <td>...</td>\n",
       "      <td>1</td>\n",
       "      <td>Contract</td>\n",
       "      <td>Not Applicable</td>\n",
       "      <td>Professional</td>\n",
       "      <td>Graphic Design</td>\n",
       "      <td>Design</td>\n",
       "      <td>0</td>\n",
       "      <td>Lagos</td>\n",
       "      <td>LA,</td>\n",
       "      <td>NG,</td>\n",
       "    </tr>\n",
       "    <tr>\n",
       "      <td>17879</td>\n",
       "      <td>17880</td>\n",
       "      <td>Web Application Developers</td>\n",
       "      <td>NZ, N, Wellington</td>\n",
       "      <td>Engineering</td>\n",
       "      <td>NaN</td>\n",
       "      <td>Vend is looking for some awesome new talent to...</td>\n",
       "      <td>Who are we?Vend is an award winning web based ...</td>\n",
       "      <td>We want to hear from you if:You have an in-dep...</td>\n",
       "      <td>NaN</td>\n",
       "      <td>0</td>\n",
       "      <td>...</td>\n",
       "      <td>1</td>\n",
       "      <td>Full-time</td>\n",
       "      <td>Mid-Senior level</td>\n",
       "      <td>NaN</td>\n",
       "      <td>Computer Software</td>\n",
       "      <td>Engineering</td>\n",
       "      <td>0</td>\n",
       "      <td>Wellington</td>\n",
       "      <td>N,</td>\n",
       "      <td>NZ,</td>\n",
       "    </tr>\n",
       "  </tbody>\n",
       "</table>\n",
       "<p>17534 rows × 21 columns</p>\n",
       "</div>"
      ],
      "text/plain": [
       "       job_id                                              title  \\\n",
       "0           1                                   Marketing Intern   \n",
       "1           2          Customer Service - Cloud Video Production   \n",
       "2           3            Commissioning Machinery Assistant (CMA)   \n",
       "3           4                  Account Executive - Washington DC   \n",
       "4           5                                Bill Review Manager   \n",
       "...       ...                                                ...   \n",
       "17875   17876                   Account Director - Distribution    \n",
       "17876   17877                                 Payroll Accountant   \n",
       "17877   17878  Project Cost Control Staff Engineer - Cost Con...   \n",
       "17878   17879                                   Graphic Designer   \n",
       "17879   17880                         Web Application Developers   \n",
       "\n",
       "                   location   department salary_range  \\\n",
       "0          US, NY, New York    Marketing          NaN   \n",
       "1            NZ, , Auckland      Success          NaN   \n",
       "2             US, IA, Wever          NaN          NaN   \n",
       "3        US, DC, Washington        Sales          NaN   \n",
       "4        US, FL, Fort Worth          NaN          NaN   \n",
       "...                     ...          ...          ...   \n",
       "17875       CA, ON, Toronto        Sales          NaN   \n",
       "17876  US, PA, Philadelphia   Accounting          NaN   \n",
       "17877       US, TX, Houston          NaN          NaN   \n",
       "17878         NG, LA, Lagos          NaN          NaN   \n",
       "17879     NZ, N, Wellington  Engineering          NaN   \n",
       "\n",
       "                                         company_profile  \\\n",
       "0      We're Food52, and we've created a groundbreaki...   \n",
       "1      90 Seconds, the worlds Cloud Video Production ...   \n",
       "2      Valor Services provides Workforce Solutions th...   \n",
       "3      Our passion for improving quality of life thro...   \n",
       "4      SpotSource Solutions LLC is a Global Human Cap...   \n",
       "...                                                  ...   \n",
       "17875  Vend is looking for some awesome new talent to...   \n",
       "17876  WebLinc is the e-commerce platform and service...   \n",
       "17877  We Provide Full Time Permanent Positions for m...   \n",
       "17878                                                NaN   \n",
       "17879  Vend is looking for some awesome new talent to...   \n",
       "\n",
       "                                             description  \\\n",
       "0      Food52, a fast-growing, James Beard Award-winn...   \n",
       "1      Organised - Focused - Vibrant - Awesome!Do you...   \n",
       "2      Our client, located in Houston, is actively se...   \n",
       "3      THE COMPANY: ESRI – Environmental Systems Rese...   \n",
       "4      JOB TITLE: Itemization Review ManagerLOCATION:...   \n",
       "...                                                  ...   \n",
       "17875  Just in case this is the first time you’ve vis...   \n",
       "17876  The Payroll Accountant will focus primarily on...   \n",
       "17877  Experienced Project Cost Control Staff Enginee...   \n",
       "17878  Nemsia Studios is looking for an experienced v...   \n",
       "17879  Who are we?Vend is an award winning web based ...   \n",
       "\n",
       "                                            requirements  \\\n",
       "0      Experience with content management systems a m...   \n",
       "1      What we expect from you:Your key responsibilit...   \n",
       "2      Implement pre-commissioning and commissioning ...   \n",
       "3      EDUCATION: Bachelor’s or Master’s in GIS, busi...   \n",
       "4      QUALIFICATIONS:RN license in the State of Texa...   \n",
       "...                                                  ...   \n",
       "17875  To ace this role you:Will eat comprehensive St...   \n",
       "17876  - B.A. or B.S. in Accounting- Desire to have f...   \n",
       "17877  At least 12 years professional experience.Abil...   \n",
       "17878  1. Must be fluent in the latest versions of Co...   \n",
       "17879  We want to hear from you if:You have an in-dep...   \n",
       "\n",
       "                                                benefits  telecommuting  ...  \\\n",
       "0                                                    NaN              0  ...   \n",
       "1      What you will get from usThrough being part of...              0  ...   \n",
       "2                                                    NaN              0  ...   \n",
       "3      Our culture is anything but corporate—we have ...              0  ...   \n",
       "4                                  Full Benefits Offered              0  ...   \n",
       "...                                                  ...            ...  ...   \n",
       "17875  What can you expect from us?We have an open cu...              0  ...   \n",
       "17876  Health &amp; WellnessMedical planPrescription ...              0  ...   \n",
       "17877                                                NaN              0  ...   \n",
       "17878  Competitive salary (compensation will be based...              0  ...   \n",
       "17879                                                NaN              0  ...   \n",
       "\n",
       "       has_questions  employment_type required_experience required_education  \\\n",
       "0                  0            Other          Internship                NaN   \n",
       "1                  0        Full-time      Not Applicable                NaN   \n",
       "2                  0              NaN                 NaN                NaN   \n",
       "3                  0        Full-time    Mid-Senior level  Bachelor's Degree   \n",
       "4                  1        Full-time    Mid-Senior level  Bachelor's Degree   \n",
       "...              ...              ...                 ...                ...   \n",
       "17875              1        Full-time    Mid-Senior level                NaN   \n",
       "17876              1        Full-time    Mid-Senior level  Bachelor's Degree   \n",
       "17877              0        Full-time                 NaN                NaN   \n",
       "17878              1         Contract      Not Applicable       Professional   \n",
       "17879              1        Full-time    Mid-Senior level                NaN   \n",
       "\n",
       "                        industry              function fraudulent  \\\n",
       "0                            NaN             Marketing          0   \n",
       "1      Marketing and Advertising      Customer Service          0   \n",
       "2                            NaN                   NaN          0   \n",
       "3              Computer Software                 Sales          0   \n",
       "4         Hospital & Health Care  Health Care Provider          0   \n",
       "...                          ...                   ...        ...   \n",
       "17875          Computer Software                 Sales          0   \n",
       "17876                   Internet   Accounting/Auditing          0   \n",
       "17877                        NaN                   NaN          0   \n",
       "17878             Graphic Design                Design          0   \n",
       "17879          Computer Software           Engineering          0   \n",
       "\n",
       "               City State Country  \n",
       "0          New York   NY,     US,  \n",
       "1          Auckland     ,     NZ,  \n",
       "2             Wever   IA,     US,  \n",
       "3        Washington   DC,     US,  \n",
       "4        Fort Worth   FL,     US,  \n",
       "...             ...   ...     ...  \n",
       "17875       Toronto   ON,     CA,  \n",
       "17876  Philadelphia   PA,     US,  \n",
       "17877       Houston   TX,     US,  \n",
       "17878         Lagos   LA,     NG,  \n",
       "17879    Wellington    N,     NZ,  \n",
       "\n",
       "[17534 rows x 21 columns]"
      ]
     },
     "execution_count": 70,
     "metadata": {},
     "output_type": "execute_result"
    }
   ],
   "source": [
    "# add columns from df2 to the job postings data \n",
    "job_postings['City'], job_postings['State'], job_postings['Country'] = df2['City'], df2['State'], df2['Country']\n",
    "job_postings"
   ]
  },
  {
   "cell_type": "code",
   "execution_count": 71,
   "metadata": {},
   "outputs": [],
   "source": [
    "# drop the location column \n",
    "job_postings.drop('location', axis=1, inplace=True)"
   ]
  },
  {
   "cell_type": "code",
   "execution_count": 72,
   "metadata": {},
   "outputs": [
    {
     "data": {
      "text/plain": [
       "Index(['job_id', 'title', 'department', 'salary_range', 'company_profile',\n",
       "       'description', 'requirements', 'benefits', 'telecommuting',\n",
       "       'has_company_logo', 'has_questions', 'employment_type',\n",
       "       'required_experience', 'required_education', 'industry', 'function',\n",
       "       'fraudulent', 'City', 'State', 'Country'],\n",
       "      dtype='object')"
      ]
     },
     "execution_count": 72,
     "metadata": {},
     "output_type": "execute_result"
    }
   ],
   "source": [
    "job_postings.columns\n"
   ]
  },
  {
   "cell_type": "code",
   "execution_count": 97,
   "metadata": {},
   "outputs": [
    {
     "data": {
      "text/html": [
       "<div>\n",
       "<style scoped>\n",
       "    .dataframe tbody tr th:only-of-type {\n",
       "        vertical-align: middle;\n",
       "    }\n",
       "\n",
       "    .dataframe tbody tr th {\n",
       "        vertical-align: top;\n",
       "    }\n",
       "\n",
       "    .dataframe thead th {\n",
       "        text-align: right;\n",
       "    }\n",
       "</style>\n",
       "<table border=\"1\" class=\"dataframe\">\n",
       "  <thead>\n",
       "    <tr style=\"text-align: right;\">\n",
       "      <th></th>\n",
       "      <th>FRAUDULENT</th>\n",
       "      <th>STATE</th>\n",
       "      <th>CITY</th>\n",
       "    </tr>\n",
       "  </thead>\n",
       "  <tbody>\n",
       "    <tr>\n",
       "      <td>0</td>\n",
       "      <td>0</td>\n",
       "      <td>NY</td>\n",
       "      <td>New York</td>\n",
       "    </tr>\n",
       "    <tr>\n",
       "      <td>7</td>\n",
       "      <td>0</td>\n",
       "      <td>CA</td>\n",
       "      <td>San Francisco</td>\n",
       "    </tr>\n",
       "    <tr>\n",
       "      <td>18</td>\n",
       "      <td>0</td>\n",
       "      <td>NY</td>\n",
       "      <td>New York</td>\n",
       "    </tr>\n",
       "    <tr>\n",
       "      <td>20</td>\n",
       "      <td>0</td>\n",
       "      <td>TX</td>\n",
       "      <td>Austin</td>\n",
       "    </tr>\n",
       "    <tr>\n",
       "      <td>23</td>\n",
       "      <td>0</td>\n",
       "      <td>CA</td>\n",
       "      <td>Carlsbad</td>\n",
       "    </tr>\n",
       "    <tr>\n",
       "      <td>...</td>\n",
       "      <td>...</td>\n",
       "      <td>...</td>\n",
       "      <td>...</td>\n",
       "    </tr>\n",
       "    <tr>\n",
       "      <td>17855</td>\n",
       "      <td>0</td>\n",
       "      <td>CA</td>\n",
       "      <td>San Francisco</td>\n",
       "    </tr>\n",
       "    <tr>\n",
       "      <td>17860</td>\n",
       "      <td>0</td>\n",
       "      <td>CA</td>\n",
       "      <td>Bay Area</td>\n",
       "    </tr>\n",
       "    <tr>\n",
       "      <td>17870</td>\n",
       "      <td>0</td>\n",
       "      <td>CA</td>\n",
       "      <td>Gardena</td>\n",
       "    </tr>\n",
       "    <tr>\n",
       "      <td>17872</td>\n",
       "      <td>0</td>\n",
       "      <td>CA</td>\n",
       "      <td>San Francisco</td>\n",
       "    </tr>\n",
       "    <tr>\n",
       "      <td>17877</td>\n",
       "      <td>0</td>\n",
       "      <td>TX</td>\n",
       "      <td>Houston</td>\n",
       "    </tr>\n",
       "  </tbody>\n",
       "</table>\n",
       "<p>4285 rows × 3 columns</p>\n",
       "</div>"
      ],
      "text/plain": [
       "       FRAUDULENT STATE           CITY\n",
       "0               0    NY       New York\n",
       "7               0    CA  San Francisco\n",
       "18              0    NY       New York\n",
       "20              0    TX         Austin\n",
       "23              0    CA       Carlsbad\n",
       "...           ...   ...            ...\n",
       "17855           0    CA  San Francisco\n",
       "17860           0    CA       Bay Area\n",
       "17870           0    CA        Gardena\n",
       "17872           0    CA  San Francisco\n",
       "17877           0    TX        Houston\n",
       "\n",
       "[4285 rows x 3 columns]"
      ]
     },
     "execution_count": 97,
     "metadata": {},
     "output_type": "execute_result"
    }
   ],
   "source": [
    "state_fraud = job_postings[(job_postings.COUNTRY == \"US\") & (job_postings.STATE.isin([\"NY\", \"CA\", \"TX\"]))][[\"FRAUDULENT\", \"STATE\", \"CITY\"]]\n",
    "state_fraud"
   ]
  },
  {
   "cell_type": "code",
   "execution_count": 74,
   "metadata": {},
   "outputs": [
    {
     "data": {
      "text/html": [
       "<div>\n",
       "<style scoped>\n",
       "    .dataframe tbody tr th:only-of-type {\n",
       "        vertical-align: middle;\n",
       "    }\n",
       "\n",
       "    .dataframe tbody tr th {\n",
       "        vertical-align: top;\n",
       "    }\n",
       "\n",
       "    .dataframe thead th {\n",
       "        text-align: right;\n",
       "    }\n",
       "</style>\n",
       "<table border=\"1\" class=\"dataframe\">\n",
       "  <thead>\n",
       "    <tr style=\"text-align: right;\">\n",
       "      <th></th>\n",
       "      <th>STATE</th>\n",
       "      <th>FRAUDULENT</th>\n",
       "      <th>CITY</th>\n",
       "    </tr>\n",
       "  </thead>\n",
       "  <tbody>\n",
       "    <tr>\n",
       "      <td>0</td>\n",
       "      <td>CA</td>\n",
       "      <td>0</td>\n",
       "      <td>1908</td>\n",
       "    </tr>\n",
       "    <tr>\n",
       "      <td>1</td>\n",
       "      <td>CA</td>\n",
       "      <td>1</td>\n",
       "      <td>143</td>\n",
       "    </tr>\n",
       "    <tr>\n",
       "      <td>2</td>\n",
       "      <td>NY</td>\n",
       "      <td>0</td>\n",
       "      <td>1191</td>\n",
       "    </tr>\n",
       "    <tr>\n",
       "      <td>3</td>\n",
       "      <td>NY</td>\n",
       "      <td>1</td>\n",
       "      <td>68</td>\n",
       "    </tr>\n",
       "    <tr>\n",
       "      <td>4</td>\n",
       "      <td>TX</td>\n",
       "      <td>0</td>\n",
       "      <td>823</td>\n",
       "    </tr>\n",
       "    <tr>\n",
       "      <td>5</td>\n",
       "      <td>TX</td>\n",
       "      <td>1</td>\n",
       "      <td>152</td>\n",
       "    </tr>\n",
       "  </tbody>\n",
       "</table>\n",
       "</div>"
      ],
      "text/plain": [
       "  STATE  FRAUDULENT  CITY\n",
       "0    CA           0  1908\n",
       "1    CA           1   143\n",
       "2    NY           0  1191\n",
       "3    NY           1    68\n",
       "4    TX           0   823\n",
       "5    TX           1   152"
      ]
     },
     "execution_count": 74,
     "metadata": {},
     "output_type": "execute_result"
    }
   ],
   "source": [
    "state_fraud_counts = pd.DataFrame(state_fraud.groupby([\"STATE\", \"FRAUDULENT\"]).count())\n",
    "state_fraud_counts.reset_index(inplace = True)\n",
    "state_fraud_counts"
   ]
  },
  {
   "cell_type": "code",
   "execution_count": 75,
   "metadata": {},
   "outputs": [
    {
     "data": {
      "application/javascript": [
       "/* Put everything inside the global mpl namespace */\n",
       "window.mpl = {};\n",
       "\n",
       "\n",
       "mpl.get_websocket_type = function() {\n",
       "    if (typeof(WebSocket) !== 'undefined') {\n",
       "        return WebSocket;\n",
       "    } else if (typeof(MozWebSocket) !== 'undefined') {\n",
       "        return MozWebSocket;\n",
       "    } else {\n",
       "        alert('Your browser does not have WebSocket support. ' +\n",
       "              'Please try Chrome, Safari or Firefox ≥ 6. ' +\n",
       "              'Firefox 4 and 5 are also supported but you ' +\n",
       "              'have to enable WebSockets in about:config.');\n",
       "    };\n",
       "}\n",
       "\n",
       "mpl.figure = function(figure_id, websocket, ondownload, parent_element) {\n",
       "    this.id = figure_id;\n",
       "\n",
       "    this.ws = websocket;\n",
       "\n",
       "    this.supports_binary = (this.ws.binaryType != undefined);\n",
       "\n",
       "    if (!this.supports_binary) {\n",
       "        var warnings = document.getElementById(\"mpl-warnings\");\n",
       "        if (warnings) {\n",
       "            warnings.style.display = 'block';\n",
       "            warnings.textContent = (\n",
       "                \"This browser does not support binary websocket messages. \" +\n",
       "                    \"Performance may be slow.\");\n",
       "        }\n",
       "    }\n",
       "\n",
       "    this.imageObj = new Image();\n",
       "\n",
       "    this.context = undefined;\n",
       "    this.message = undefined;\n",
       "    this.canvas = undefined;\n",
       "    this.rubberband_canvas = undefined;\n",
       "    this.rubberband_context = undefined;\n",
       "    this.format_dropdown = undefined;\n",
       "\n",
       "    this.image_mode = 'full';\n",
       "\n",
       "    this.root = $('<div/>');\n",
       "    this._root_extra_style(this.root)\n",
       "    this.root.attr('style', 'display: inline-block');\n",
       "\n",
       "    $(parent_element).append(this.root);\n",
       "\n",
       "    this._init_header(this);\n",
       "    this._init_canvas(this);\n",
       "    this._init_toolbar(this);\n",
       "\n",
       "    var fig = this;\n",
       "\n",
       "    this.waiting = false;\n",
       "\n",
       "    this.ws.onopen =  function () {\n",
       "            fig.send_message(\"supports_binary\", {value: fig.supports_binary});\n",
       "            fig.send_message(\"send_image_mode\", {});\n",
       "            if (mpl.ratio != 1) {\n",
       "                fig.send_message(\"set_dpi_ratio\", {'dpi_ratio': mpl.ratio});\n",
       "            }\n",
       "            fig.send_message(\"refresh\", {});\n",
       "        }\n",
       "\n",
       "    this.imageObj.onload = function() {\n",
       "            if (fig.image_mode == 'full') {\n",
       "                // Full images could contain transparency (where diff images\n",
       "                // almost always do), so we need to clear the canvas so that\n",
       "                // there is no ghosting.\n",
       "                fig.context.clearRect(0, 0, fig.canvas.width, fig.canvas.height);\n",
       "            }\n",
       "            fig.context.drawImage(fig.imageObj, 0, 0);\n",
       "        };\n",
       "\n",
       "    this.imageObj.onunload = function() {\n",
       "        fig.ws.close();\n",
       "    }\n",
       "\n",
       "    this.ws.onmessage = this._make_on_message_function(this);\n",
       "\n",
       "    this.ondownload = ondownload;\n",
       "}\n",
       "\n",
       "mpl.figure.prototype._init_header = function() {\n",
       "    var titlebar = $(\n",
       "        '<div class=\"ui-dialog-titlebar ui-widget-header ui-corner-all ' +\n",
       "        'ui-helper-clearfix\"/>');\n",
       "    var titletext = $(\n",
       "        '<div class=\"ui-dialog-title\" style=\"width: 100%; ' +\n",
       "        'text-align: center; padding: 3px;\"/>');\n",
       "    titlebar.append(titletext)\n",
       "    this.root.append(titlebar);\n",
       "    this.header = titletext[0];\n",
       "}\n",
       "\n",
       "\n",
       "\n",
       "mpl.figure.prototype._canvas_extra_style = function(canvas_div) {\n",
       "\n",
       "}\n",
       "\n",
       "\n",
       "mpl.figure.prototype._root_extra_style = function(canvas_div) {\n",
       "\n",
       "}\n",
       "\n",
       "mpl.figure.prototype._init_canvas = function() {\n",
       "    var fig = this;\n",
       "\n",
       "    var canvas_div = $('<div/>');\n",
       "\n",
       "    canvas_div.attr('style', 'position: relative; clear: both; outline: 0');\n",
       "\n",
       "    function canvas_keyboard_event(event) {\n",
       "        return fig.key_event(event, event['data']);\n",
       "    }\n",
       "\n",
       "    canvas_div.keydown('key_press', canvas_keyboard_event);\n",
       "    canvas_div.keyup('key_release', canvas_keyboard_event);\n",
       "    this.canvas_div = canvas_div\n",
       "    this._canvas_extra_style(canvas_div)\n",
       "    this.root.append(canvas_div);\n",
       "\n",
       "    var canvas = $('<canvas/>');\n",
       "    canvas.addClass('mpl-canvas');\n",
       "    canvas.attr('style', \"left: 0; top: 0; z-index: 0; outline: 0\")\n",
       "\n",
       "    this.canvas = canvas[0];\n",
       "    this.context = canvas[0].getContext(\"2d\");\n",
       "\n",
       "    var backingStore = this.context.backingStorePixelRatio ||\n",
       "\tthis.context.webkitBackingStorePixelRatio ||\n",
       "\tthis.context.mozBackingStorePixelRatio ||\n",
       "\tthis.context.msBackingStorePixelRatio ||\n",
       "\tthis.context.oBackingStorePixelRatio ||\n",
       "\tthis.context.backingStorePixelRatio || 1;\n",
       "\n",
       "    mpl.ratio = (window.devicePixelRatio || 1) / backingStore;\n",
       "\n",
       "    var rubberband = $('<canvas/>');\n",
       "    rubberband.attr('style', \"position: absolute; left: 0; top: 0; z-index: 1;\")\n",
       "\n",
       "    var pass_mouse_events = true;\n",
       "\n",
       "    canvas_div.resizable({\n",
       "        start: function(event, ui) {\n",
       "            pass_mouse_events = false;\n",
       "        },\n",
       "        resize: function(event, ui) {\n",
       "            fig.request_resize(ui.size.width, ui.size.height);\n",
       "        },\n",
       "        stop: function(event, ui) {\n",
       "            pass_mouse_events = true;\n",
       "            fig.request_resize(ui.size.width, ui.size.height);\n",
       "        },\n",
       "    });\n",
       "\n",
       "    function mouse_event_fn(event) {\n",
       "        if (pass_mouse_events)\n",
       "            return fig.mouse_event(event, event['data']);\n",
       "    }\n",
       "\n",
       "    rubberband.mousedown('button_press', mouse_event_fn);\n",
       "    rubberband.mouseup('button_release', mouse_event_fn);\n",
       "    // Throttle sequential mouse events to 1 every 20ms.\n",
       "    rubberband.mousemove('motion_notify', mouse_event_fn);\n",
       "\n",
       "    rubberband.mouseenter('figure_enter', mouse_event_fn);\n",
       "    rubberband.mouseleave('figure_leave', mouse_event_fn);\n",
       "\n",
       "    canvas_div.on(\"wheel\", function (event) {\n",
       "        event = event.originalEvent;\n",
       "        event['data'] = 'scroll'\n",
       "        if (event.deltaY < 0) {\n",
       "            event.step = 1;\n",
       "        } else {\n",
       "            event.step = -1;\n",
       "        }\n",
       "        mouse_event_fn(event);\n",
       "    });\n",
       "\n",
       "    canvas_div.append(canvas);\n",
       "    canvas_div.append(rubberband);\n",
       "\n",
       "    this.rubberband = rubberband;\n",
       "    this.rubberband_canvas = rubberband[0];\n",
       "    this.rubberband_context = rubberband[0].getContext(\"2d\");\n",
       "    this.rubberband_context.strokeStyle = \"#000000\";\n",
       "\n",
       "    this._resize_canvas = function(width, height) {\n",
       "        // Keep the size of the canvas, canvas container, and rubber band\n",
       "        // canvas in synch.\n",
       "        canvas_div.css('width', width)\n",
       "        canvas_div.css('height', height)\n",
       "\n",
       "        canvas.attr('width', width * mpl.ratio);\n",
       "        canvas.attr('height', height * mpl.ratio);\n",
       "        canvas.attr('style', 'width: ' + width + 'px; height: ' + height + 'px;');\n",
       "\n",
       "        rubberband.attr('width', width);\n",
       "        rubberband.attr('height', height);\n",
       "    }\n",
       "\n",
       "    // Set the figure to an initial 600x600px, this will subsequently be updated\n",
       "    // upon first draw.\n",
       "    this._resize_canvas(600, 600);\n",
       "\n",
       "    // Disable right mouse context menu.\n",
       "    $(this.rubberband_canvas).bind(\"contextmenu\",function(e){\n",
       "        return false;\n",
       "    });\n",
       "\n",
       "    function set_focus () {\n",
       "        canvas.focus();\n",
       "        canvas_div.focus();\n",
       "    }\n",
       "\n",
       "    window.setTimeout(set_focus, 100);\n",
       "}\n",
       "\n",
       "mpl.figure.prototype._init_toolbar = function() {\n",
       "    var fig = this;\n",
       "\n",
       "    var nav_element = $('<div/>');\n",
       "    nav_element.attr('style', 'width: 100%');\n",
       "    this.root.append(nav_element);\n",
       "\n",
       "    // Define a callback function for later on.\n",
       "    function toolbar_event(event) {\n",
       "        return fig.toolbar_button_onclick(event['data']);\n",
       "    }\n",
       "    function toolbar_mouse_event(event) {\n",
       "        return fig.toolbar_button_onmouseover(event['data']);\n",
       "    }\n",
       "\n",
       "    for(var toolbar_ind in mpl.toolbar_items) {\n",
       "        var name = mpl.toolbar_items[toolbar_ind][0];\n",
       "        var tooltip = mpl.toolbar_items[toolbar_ind][1];\n",
       "        var image = mpl.toolbar_items[toolbar_ind][2];\n",
       "        var method_name = mpl.toolbar_items[toolbar_ind][3];\n",
       "\n",
       "        if (!name) {\n",
       "            // put a spacer in here.\n",
       "            continue;\n",
       "        }\n",
       "        var button = $('<button/>');\n",
       "        button.addClass('ui-button ui-widget ui-state-default ui-corner-all ' +\n",
       "                        'ui-button-icon-only');\n",
       "        button.attr('role', 'button');\n",
       "        button.attr('aria-disabled', 'false');\n",
       "        button.click(method_name, toolbar_event);\n",
       "        button.mouseover(tooltip, toolbar_mouse_event);\n",
       "\n",
       "        var icon_img = $('<span/>');\n",
       "        icon_img.addClass('ui-button-icon-primary ui-icon');\n",
       "        icon_img.addClass(image);\n",
       "        icon_img.addClass('ui-corner-all');\n",
       "\n",
       "        var tooltip_span = $('<span/>');\n",
       "        tooltip_span.addClass('ui-button-text');\n",
       "        tooltip_span.html(tooltip);\n",
       "\n",
       "        button.append(icon_img);\n",
       "        button.append(tooltip_span);\n",
       "\n",
       "        nav_element.append(button);\n",
       "    }\n",
       "\n",
       "    var fmt_picker_span = $('<span/>');\n",
       "\n",
       "    var fmt_picker = $('<select/>');\n",
       "    fmt_picker.addClass('mpl-toolbar-option ui-widget ui-widget-content');\n",
       "    fmt_picker_span.append(fmt_picker);\n",
       "    nav_element.append(fmt_picker_span);\n",
       "    this.format_dropdown = fmt_picker[0];\n",
       "\n",
       "    for (var ind in mpl.extensions) {\n",
       "        var fmt = mpl.extensions[ind];\n",
       "        var option = $(\n",
       "            '<option/>', {selected: fmt === mpl.default_extension}).html(fmt);\n",
       "        fmt_picker.append(option);\n",
       "    }\n",
       "\n",
       "    // Add hover states to the ui-buttons\n",
       "    $( \".ui-button\" ).hover(\n",
       "        function() { $(this).addClass(\"ui-state-hover\");},\n",
       "        function() { $(this).removeClass(\"ui-state-hover\");}\n",
       "    );\n",
       "\n",
       "    var status_bar = $('<span class=\"mpl-message\"/>');\n",
       "    nav_element.append(status_bar);\n",
       "    this.message = status_bar[0];\n",
       "}\n",
       "\n",
       "mpl.figure.prototype.request_resize = function(x_pixels, y_pixels) {\n",
       "    // Request matplotlib to resize the figure. Matplotlib will then trigger a resize in the client,\n",
       "    // which will in turn request a refresh of the image.\n",
       "    this.send_message('resize', {'width': x_pixels, 'height': y_pixels});\n",
       "}\n",
       "\n",
       "mpl.figure.prototype.send_message = function(type, properties) {\n",
       "    properties['type'] = type;\n",
       "    properties['figure_id'] = this.id;\n",
       "    this.ws.send(JSON.stringify(properties));\n",
       "}\n",
       "\n",
       "mpl.figure.prototype.send_draw_message = function() {\n",
       "    if (!this.waiting) {\n",
       "        this.waiting = true;\n",
       "        this.ws.send(JSON.stringify({type: \"draw\", figure_id: this.id}));\n",
       "    }\n",
       "}\n",
       "\n",
       "\n",
       "mpl.figure.prototype.handle_save = function(fig, msg) {\n",
       "    var format_dropdown = fig.format_dropdown;\n",
       "    var format = format_dropdown.options[format_dropdown.selectedIndex].value;\n",
       "    fig.ondownload(fig, format);\n",
       "}\n",
       "\n",
       "\n",
       "mpl.figure.prototype.handle_resize = function(fig, msg) {\n",
       "    var size = msg['size'];\n",
       "    if (size[0] != fig.canvas.width || size[1] != fig.canvas.height) {\n",
       "        fig._resize_canvas(size[0], size[1]);\n",
       "        fig.send_message(\"refresh\", {});\n",
       "    };\n",
       "}\n",
       "\n",
       "mpl.figure.prototype.handle_rubberband = function(fig, msg) {\n",
       "    var x0 = msg['x0'] / mpl.ratio;\n",
       "    var y0 = (fig.canvas.height - msg['y0']) / mpl.ratio;\n",
       "    var x1 = msg['x1'] / mpl.ratio;\n",
       "    var y1 = (fig.canvas.height - msg['y1']) / mpl.ratio;\n",
       "    x0 = Math.floor(x0) + 0.5;\n",
       "    y0 = Math.floor(y0) + 0.5;\n",
       "    x1 = Math.floor(x1) + 0.5;\n",
       "    y1 = Math.floor(y1) + 0.5;\n",
       "    var min_x = Math.min(x0, x1);\n",
       "    var min_y = Math.min(y0, y1);\n",
       "    var width = Math.abs(x1 - x0);\n",
       "    var height = Math.abs(y1 - y0);\n",
       "\n",
       "    fig.rubberband_context.clearRect(\n",
       "        0, 0, fig.canvas.width / mpl.ratio, fig.canvas.height / mpl.ratio);\n",
       "\n",
       "    fig.rubberband_context.strokeRect(min_x, min_y, width, height);\n",
       "}\n",
       "\n",
       "mpl.figure.prototype.handle_figure_label = function(fig, msg) {\n",
       "    // Updates the figure title.\n",
       "    fig.header.textContent = msg['label'];\n",
       "}\n",
       "\n",
       "mpl.figure.prototype.handle_cursor = function(fig, msg) {\n",
       "    var cursor = msg['cursor'];\n",
       "    switch(cursor)\n",
       "    {\n",
       "    case 0:\n",
       "        cursor = 'pointer';\n",
       "        break;\n",
       "    case 1:\n",
       "        cursor = 'default';\n",
       "        break;\n",
       "    case 2:\n",
       "        cursor = 'crosshair';\n",
       "        break;\n",
       "    case 3:\n",
       "        cursor = 'move';\n",
       "        break;\n",
       "    }\n",
       "    fig.rubberband_canvas.style.cursor = cursor;\n",
       "}\n",
       "\n",
       "mpl.figure.prototype.handle_message = function(fig, msg) {\n",
       "    fig.message.textContent = msg['message'];\n",
       "}\n",
       "\n",
       "mpl.figure.prototype.handle_draw = function(fig, msg) {\n",
       "    // Request the server to send over a new figure.\n",
       "    fig.send_draw_message();\n",
       "}\n",
       "\n",
       "mpl.figure.prototype.handle_image_mode = function(fig, msg) {\n",
       "    fig.image_mode = msg['mode'];\n",
       "}\n",
       "\n",
       "mpl.figure.prototype.updated_canvas_event = function() {\n",
       "    // Called whenever the canvas gets updated.\n",
       "    this.send_message(\"ack\", {});\n",
       "}\n",
       "\n",
       "// A function to construct a web socket function for onmessage handling.\n",
       "// Called in the figure constructor.\n",
       "mpl.figure.prototype._make_on_message_function = function(fig) {\n",
       "    return function socket_on_message(evt) {\n",
       "        if (evt.data instanceof Blob) {\n",
       "            /* FIXME: We get \"Resource interpreted as Image but\n",
       "             * transferred with MIME type text/plain:\" errors on\n",
       "             * Chrome.  But how to set the MIME type?  It doesn't seem\n",
       "             * to be part of the websocket stream */\n",
       "            evt.data.type = \"image/png\";\n",
       "\n",
       "            /* Free the memory for the previous frames */\n",
       "            if (fig.imageObj.src) {\n",
       "                (window.URL || window.webkitURL).revokeObjectURL(\n",
       "                    fig.imageObj.src);\n",
       "            }\n",
       "\n",
       "            fig.imageObj.src = (window.URL || window.webkitURL).createObjectURL(\n",
       "                evt.data);\n",
       "            fig.updated_canvas_event();\n",
       "            fig.waiting = false;\n",
       "            return;\n",
       "        }\n",
       "        else if (typeof evt.data === 'string' && evt.data.slice(0, 21) == \"data:image/png;base64\") {\n",
       "            fig.imageObj.src = evt.data;\n",
       "            fig.updated_canvas_event();\n",
       "            fig.waiting = false;\n",
       "            return;\n",
       "        }\n",
       "\n",
       "        var msg = JSON.parse(evt.data);\n",
       "        var msg_type = msg['type'];\n",
       "\n",
       "        // Call the  \"handle_{type}\" callback, which takes\n",
       "        // the figure and JSON message as its only arguments.\n",
       "        try {\n",
       "            var callback = fig[\"handle_\" + msg_type];\n",
       "        } catch (e) {\n",
       "            console.log(\"No handler for the '\" + msg_type + \"' message type: \", msg);\n",
       "            return;\n",
       "        }\n",
       "\n",
       "        if (callback) {\n",
       "            try {\n",
       "                // console.log(\"Handling '\" + msg_type + \"' message: \", msg);\n",
       "                callback(fig, msg);\n",
       "            } catch (e) {\n",
       "                console.log(\"Exception inside the 'handler_\" + msg_type + \"' callback:\", e, e.stack, msg);\n",
       "            }\n",
       "        }\n",
       "    };\n",
       "}\n",
       "\n",
       "// from http://stackoverflow.com/questions/1114465/getting-mouse-location-in-canvas\n",
       "mpl.findpos = function(e) {\n",
       "    //this section is from http://www.quirksmode.org/js/events_properties.html\n",
       "    var targ;\n",
       "    if (!e)\n",
       "        e = window.event;\n",
       "    if (e.target)\n",
       "        targ = e.target;\n",
       "    else if (e.srcElement)\n",
       "        targ = e.srcElement;\n",
       "    if (targ.nodeType == 3) // defeat Safari bug\n",
       "        targ = targ.parentNode;\n",
       "\n",
       "    // jQuery normalizes the pageX and pageY\n",
       "    // pageX,Y are the mouse positions relative to the document\n",
       "    // offset() returns the position of the element relative to the document\n",
       "    var x = e.pageX - $(targ).offset().left;\n",
       "    var y = e.pageY - $(targ).offset().top;\n",
       "\n",
       "    return {\"x\": x, \"y\": y};\n",
       "};\n",
       "\n",
       "/*\n",
       " * return a copy of an object with only non-object keys\n",
       " * we need this to avoid circular references\n",
       " * http://stackoverflow.com/a/24161582/3208463\n",
       " */\n",
       "function simpleKeys (original) {\n",
       "  return Object.keys(original).reduce(function (obj, key) {\n",
       "    if (typeof original[key] !== 'object')\n",
       "        obj[key] = original[key]\n",
       "    return obj;\n",
       "  }, {});\n",
       "}\n",
       "\n",
       "mpl.figure.prototype.mouse_event = function(event, name) {\n",
       "    var canvas_pos = mpl.findpos(event)\n",
       "\n",
       "    if (name === 'button_press')\n",
       "    {\n",
       "        this.canvas.focus();\n",
       "        this.canvas_div.focus();\n",
       "    }\n",
       "\n",
       "    var x = canvas_pos.x * mpl.ratio;\n",
       "    var y = canvas_pos.y * mpl.ratio;\n",
       "\n",
       "    this.send_message(name, {x: x, y: y, button: event.button,\n",
       "                             step: event.step,\n",
       "                             guiEvent: simpleKeys(event)});\n",
       "\n",
       "    /* This prevents the web browser from automatically changing to\n",
       "     * the text insertion cursor when the button is pressed.  We want\n",
       "     * to control all of the cursor setting manually through the\n",
       "     * 'cursor' event from matplotlib */\n",
       "    event.preventDefault();\n",
       "    return false;\n",
       "}\n",
       "\n",
       "mpl.figure.prototype._key_event_extra = function(event, name) {\n",
       "    // Handle any extra behaviour associated with a key event\n",
       "}\n",
       "\n",
       "mpl.figure.prototype.key_event = function(event, name) {\n",
       "\n",
       "    // Prevent repeat events\n",
       "    if (name == 'key_press')\n",
       "    {\n",
       "        if (event.which === this._key)\n",
       "            return;\n",
       "        else\n",
       "            this._key = event.which;\n",
       "    }\n",
       "    if (name == 'key_release')\n",
       "        this._key = null;\n",
       "\n",
       "    var value = '';\n",
       "    if (event.ctrlKey && event.which != 17)\n",
       "        value += \"ctrl+\";\n",
       "    if (event.altKey && event.which != 18)\n",
       "        value += \"alt+\";\n",
       "    if (event.shiftKey && event.which != 16)\n",
       "        value += \"shift+\";\n",
       "\n",
       "    value += 'k';\n",
       "    value += event.which.toString();\n",
       "\n",
       "    this._key_event_extra(event, name);\n",
       "\n",
       "    this.send_message(name, {key: value,\n",
       "                             guiEvent: simpleKeys(event)});\n",
       "    return false;\n",
       "}\n",
       "\n",
       "mpl.figure.prototype.toolbar_button_onclick = function(name) {\n",
       "    if (name == 'download') {\n",
       "        this.handle_save(this, null);\n",
       "    } else {\n",
       "        this.send_message(\"toolbar_button\", {name: name});\n",
       "    }\n",
       "};\n",
       "\n",
       "mpl.figure.prototype.toolbar_button_onmouseover = function(tooltip) {\n",
       "    this.message.textContent = tooltip;\n",
       "};\n",
       "mpl.toolbar_items = [[\"Home\", \"Reset original view\", \"fa fa-home icon-home\", \"home\"], [\"Back\", \"Back to previous view\", \"fa fa-arrow-left icon-arrow-left\", \"back\"], [\"Forward\", \"Forward to next view\", \"fa fa-arrow-right icon-arrow-right\", \"forward\"], [\"\", \"\", \"\", \"\"], [\"Pan\", \"Pan axes with left mouse, zoom with right\", \"fa fa-arrows icon-move\", \"pan\"], [\"Zoom\", \"Zoom to rectangle\", \"fa fa-square-o icon-check-empty\", \"zoom\"], [\"\", \"\", \"\", \"\"], [\"Download\", \"Download plot\", \"fa fa-floppy-o icon-save\", \"download\"]];\n",
       "\n",
       "mpl.extensions = [\"eps\", \"jpeg\", \"pdf\", \"png\", \"ps\", \"raw\", \"svg\", \"tif\"];\n",
       "\n",
       "mpl.default_extension = \"png\";var comm_websocket_adapter = function(comm) {\n",
       "    // Create a \"websocket\"-like object which calls the given IPython comm\n",
       "    // object with the appropriate methods. Currently this is a non binary\n",
       "    // socket, so there is still some room for performance tuning.\n",
       "    var ws = {};\n",
       "\n",
       "    ws.close = function() {\n",
       "        comm.close()\n",
       "    };\n",
       "    ws.send = function(m) {\n",
       "        //console.log('sending', m);\n",
       "        comm.send(m);\n",
       "    };\n",
       "    // Register the callback with on_msg.\n",
       "    comm.on_msg(function(msg) {\n",
       "        //console.log('receiving', msg['content']['data'], msg);\n",
       "        // Pass the mpl event to the overridden (by mpl) onmessage function.\n",
       "        ws.onmessage(msg['content']['data'])\n",
       "    });\n",
       "    return ws;\n",
       "}\n",
       "\n",
       "mpl.mpl_figure_comm = function(comm, msg) {\n",
       "    // This is the function which gets called when the mpl process\n",
       "    // starts-up an IPython Comm through the \"matplotlib\" channel.\n",
       "\n",
       "    var id = msg.content.data.id;\n",
       "    // Get hold of the div created by the display call when the Comm\n",
       "    // socket was opened in Python.\n",
       "    var element = $(\"#\" + id);\n",
       "    var ws_proxy = comm_websocket_adapter(comm)\n",
       "\n",
       "    function ondownload(figure, format) {\n",
       "        window.open(figure.imageObj.src);\n",
       "    }\n",
       "\n",
       "    var fig = new mpl.figure(id, ws_proxy,\n",
       "                           ondownload,\n",
       "                           element.get(0));\n",
       "\n",
       "    // Call onopen now - mpl needs it, as it is assuming we've passed it a real\n",
       "    // web socket which is closed, not our websocket->open comm proxy.\n",
       "    ws_proxy.onopen();\n",
       "\n",
       "    fig.parent_element = element.get(0);\n",
       "    fig.cell_info = mpl.find_output_cell(\"<div id='\" + id + \"'></div>\");\n",
       "    if (!fig.cell_info) {\n",
       "        console.error(\"Failed to find cell for figure\", id, fig);\n",
       "        return;\n",
       "    }\n",
       "\n",
       "    var output_index = fig.cell_info[2]\n",
       "    var cell = fig.cell_info[0];\n",
       "\n",
       "};\n",
       "\n",
       "mpl.figure.prototype.handle_close = function(fig, msg) {\n",
       "    var width = fig.canvas.width/mpl.ratio\n",
       "    fig.root.unbind('remove')\n",
       "\n",
       "    // Update the output cell to use the data from the current canvas.\n",
       "    fig.push_to_output();\n",
       "    var dataURL = fig.canvas.toDataURL();\n",
       "    // Re-enable the keyboard manager in IPython - without this line, in FF,\n",
       "    // the notebook keyboard shortcuts fail.\n",
       "    IPython.keyboard_manager.enable()\n",
       "    $(fig.parent_element).html('<img src=\"' + dataURL + '\" width=\"' + width + '\">');\n",
       "    fig.close_ws(fig, msg);\n",
       "}\n",
       "\n",
       "mpl.figure.prototype.close_ws = function(fig, msg){\n",
       "    fig.send_message('closing', msg);\n",
       "    // fig.ws.close()\n",
       "}\n",
       "\n",
       "mpl.figure.prototype.push_to_output = function(remove_interactive) {\n",
       "    // Turn the data on the canvas into data in the output cell.\n",
       "    var width = this.canvas.width/mpl.ratio\n",
       "    var dataURL = this.canvas.toDataURL();\n",
       "    this.cell_info[1]['text/html'] = '<img src=\"' + dataURL + '\" width=\"' + width + '\">';\n",
       "}\n",
       "\n",
       "mpl.figure.prototype.updated_canvas_event = function() {\n",
       "    // Tell IPython that the notebook contents must change.\n",
       "    IPython.notebook.set_dirty(true);\n",
       "    this.send_message(\"ack\", {});\n",
       "    var fig = this;\n",
       "    // Wait a second, then push the new image to the DOM so\n",
       "    // that it is saved nicely (might be nice to debounce this).\n",
       "    setTimeout(function () { fig.push_to_output() }, 1000);\n",
       "}\n",
       "\n",
       "mpl.figure.prototype._init_toolbar = function() {\n",
       "    var fig = this;\n",
       "\n",
       "    var nav_element = $('<div/>');\n",
       "    nav_element.attr('style', 'width: 100%');\n",
       "    this.root.append(nav_element);\n",
       "\n",
       "    // Define a callback function for later on.\n",
       "    function toolbar_event(event) {\n",
       "        return fig.toolbar_button_onclick(event['data']);\n",
       "    }\n",
       "    function toolbar_mouse_event(event) {\n",
       "        return fig.toolbar_button_onmouseover(event['data']);\n",
       "    }\n",
       "\n",
       "    for(var toolbar_ind in mpl.toolbar_items){\n",
       "        var name = mpl.toolbar_items[toolbar_ind][0];\n",
       "        var tooltip = mpl.toolbar_items[toolbar_ind][1];\n",
       "        var image = mpl.toolbar_items[toolbar_ind][2];\n",
       "        var method_name = mpl.toolbar_items[toolbar_ind][3];\n",
       "\n",
       "        if (!name) { continue; };\n",
       "\n",
       "        var button = $('<button class=\"btn btn-default\" href=\"#\" title=\"' + name + '\"><i class=\"fa ' + image + ' fa-lg\"></i></button>');\n",
       "        button.click(method_name, toolbar_event);\n",
       "        button.mouseover(tooltip, toolbar_mouse_event);\n",
       "        nav_element.append(button);\n",
       "    }\n",
       "\n",
       "    // Add the status bar.\n",
       "    var status_bar = $('<span class=\"mpl-message\" style=\"text-align:right; float: right;\"/>');\n",
       "    nav_element.append(status_bar);\n",
       "    this.message = status_bar[0];\n",
       "\n",
       "    // Add the close button to the window.\n",
       "    var buttongrp = $('<div class=\"btn-group inline pull-right\"></div>');\n",
       "    var button = $('<button class=\"btn btn-mini btn-primary\" href=\"#\" title=\"Stop Interaction\"><i class=\"fa fa-power-off icon-remove icon-large\"></i></button>');\n",
       "    button.click(function (evt) { fig.handle_close(fig, {}); } );\n",
       "    button.mouseover('Stop Interaction', toolbar_mouse_event);\n",
       "    buttongrp.append(button);\n",
       "    var titlebar = this.root.find($('.ui-dialog-titlebar'));\n",
       "    titlebar.prepend(buttongrp);\n",
       "}\n",
       "\n",
       "mpl.figure.prototype._root_extra_style = function(el){\n",
       "    var fig = this\n",
       "    el.on(\"remove\", function(){\n",
       "\tfig.close_ws(fig, {});\n",
       "    });\n",
       "}\n",
       "\n",
       "mpl.figure.prototype._canvas_extra_style = function(el){\n",
       "    // this is important to make the div 'focusable\n",
       "    el.attr('tabindex', 0)\n",
       "    // reach out to IPython and tell the keyboard manager to turn it's self\n",
       "    // off when our div gets focus\n",
       "\n",
       "    // location in version 3\n",
       "    if (IPython.notebook.keyboard_manager) {\n",
       "        IPython.notebook.keyboard_manager.register_events(el);\n",
       "    }\n",
       "    else {\n",
       "        // location in version 2\n",
       "        IPython.keyboard_manager.register_events(el);\n",
       "    }\n",
       "\n",
       "}\n",
       "\n",
       "mpl.figure.prototype._key_event_extra = function(event, name) {\n",
       "    var manager = IPython.notebook.keyboard_manager;\n",
       "    if (!manager)\n",
       "        manager = IPython.keyboard_manager;\n",
       "\n",
       "    // Check for shift+enter\n",
       "    if (event.shiftKey && event.which == 13) {\n",
       "        this.canvas_div.blur();\n",
       "        event.shiftKey = false;\n",
       "        // Send a \"J\" for go to next cell\n",
       "        event.which = 74;\n",
       "        event.keyCode = 74;\n",
       "        manager.command_mode();\n",
       "        manager.handle_keydown(event);\n",
       "    }\n",
       "}\n",
       "\n",
       "mpl.figure.prototype.handle_save = function(fig, msg) {\n",
       "    fig.ondownload(fig, null);\n",
       "}\n",
       "\n",
       "\n",
       "mpl.find_output_cell = function(html_output) {\n",
       "    // Return the cell and output element which can be found *uniquely* in the notebook.\n",
       "    // Note - this is a bit hacky, but it is done because the \"notebook_saving.Notebook\"\n",
       "    // IPython event is triggered only after the cells have been serialised, which for\n",
       "    // our purposes (turning an active figure into a static one), is too late.\n",
       "    var cells = IPython.notebook.get_cells();\n",
       "    var ncells = cells.length;\n",
       "    for (var i=0; i<ncells; i++) {\n",
       "        var cell = cells[i];\n",
       "        if (cell.cell_type === 'code'){\n",
       "            for (var j=0; j<cell.output_area.outputs.length; j++) {\n",
       "                var data = cell.output_area.outputs[j];\n",
       "                if (data.data) {\n",
       "                    // IPython >= 3 moved mimebundle to data attribute of output\n",
       "                    data = data.data;\n",
       "                }\n",
       "                if (data['text/html'] == html_output) {\n",
       "                    return [cell, data, j];\n",
       "                }\n",
       "            }\n",
       "        }\n",
       "    }\n",
       "}\n",
       "\n",
       "// Register the function which deals with the matplotlib target/channel.\n",
       "// The kernel may be null if the page has been refreshed.\n",
       "if (IPython.notebook.kernel != null) {\n",
       "    IPython.notebook.kernel.comm_manager.register_target('matplotlib', mpl.mpl_figure_comm);\n",
       "}\n"
      ],
      "text/plain": [
       "<IPython.core.display.Javascript object>"
      ]
     },
     "metadata": {},
     "output_type": "display_data"
    },
    {
     "data": {
      "text/html": [
       "<img src=\"data:image/png;base64,iVBORw0KGgoAAAANSUhEUgAAAtAAAAIcCAYAAADffZlTAAAgAElEQVR4XuydC9hOVfr/7xRChhI5VXQuJYkihBymoqEDQxSlZiqKCIUcYqIhdJ6YiUakiU4zOqmhwoicKp2EcexcNJGM8r/uNb/n/b8P72s/t/fZy97v/qzrcpXX93n2Wp/7vvf+WtZe66Ddu3fvFhoEIAABCEAAAhCAAAQgkBGBgzDQGXFCBAEIQAACEIAABCAAAUcAA00iQAACEIAABCAAAQhAwEAAA22AhRQCEIAABCAAAQhAAAIYaHIAAhCAAAQgAAEIQAACBgIYaAMspBCAAAQgAAEIQAACEMBAkwMQgAAEIAABCEAAAhAwEMBAG2AhhQAEIAABCEAAAhCAAAaaHIAABCAAAQhAAAIQgICBAAbaAAspBCAAAQhAAAIQgAAEMNDkAAQgAAEIQAACEIAABAwEMNAGWEghAAEIQAACEIAABCCAgSYHIAABCEAAAhCAAAQgYCCAgTbAQgoBCEAAAhCAAAQgAAEMNDkAAQhAAAIQgAAEIAABAwEMtAEWUghAAAIQgAAEIAABCGCgyQEIQAACEIAABCAAAQgYCGCgDbCQQgACEIAABCAAAQhAAANNDkAAAhCAAAQgAAEIQMBAAANtgIUUAhCAAAQgAAEIQAACGGhyAAIQgAAEIAABCEAAAgYCGGgDLKQQgAAEIAABCEAAAhDAQJMDEIAABCAAAQhAAAIQMBDAQBtgIYUABCAAAQhAAAIQgAAGmhyAAAQgAAEIQAACEICAgQAG2gALKQQgAAEIQAACEIAABDDQ5AAEIAABCEAAAhCAAAQMBDDQBlhIIQABCEAAAhCAAAQggIEmByAAAQhAAAIQgAAEIGAggIE2wEIKAQhAAAIQgAAEIAABDDQ5AAEIQAACEIAABCAAAQMBDLQBFlIIQAACEIAABCAAAQhgoMkBCEAAAhCAAAQgAAEIGAhgoA2wkEIAAhCAAAQgAAEIQAADTQ5AAAIQgAAEIAABCEDAQAADbYCFFAIQgAAEIAABCEAAAhhocgACEIAABCAAAQhAAAIGAhhoAyykEIAABCAAAQhAAAIQwECTAxCAAAQgAAEIQAACEDAQwEAbYCGFAAQgAAEIQAACEIAABpocgAAEIJCLwOTJk+Waa66RSZMmSdeuXUNno9d4/PHHZe3atVKtWrXQr8cFIAABCECg4AQw0AVnyDdAAAIRIvDvf/9bqlevLr/97W9l+vTp5p5hoP8/siZNmsgbb7whu3fvNnPc8wOpvxxofGgQgAAE4k4AAx33CNJ/CEAgjQAGOnsJgYHOHku+CQIQKFwEMNCFK56MBgKJJ4CBzl4KYKCzx5JvggAEChcBDHThiiejgUDiCeRnoBcvXizDhg2T+fPny44dO+TEE0+Ubt26yc033yxFihTJ4ZZ7CUexYsVk5MiRsmrVKqlUqZLccMMN0rdv3zT9tm3b5N5775Unn3xS1q9fL4cccohUrlxZmjZtKmPGjJGSJUvuMyapNdB6jSlTpri1119++aWcdtppMmTIEGnTpk3O51u0aCFvvvmmfPbZZ3LEEUekfe+uXbukatWqUqpUKfn000/loIMOyve6X3/9tRvXCy+8IBs3bpQSJUrI0UcfLb/+9a/lj3/8o/tcfp9PrQ3/6quv5JFHHpEXX3xRVq9eLf/5z3/kmGOOkXbt2smdd94phx56qPueVDzy6sycOXNETbq27du3O1667GbNmjVuHBdccIH84Q9/kJNOOinxeQ0ACEAgWgQw0NGKB72BAAQKSCAvA/3aa69Jq1atnLnt0KGDlCtXTv7+97/LRx99JFdffbV7iS/VUgb6wgsvdOt/O3bs6PTPPfecM9JquO+///4cvRpcNaLnn3++1K1bV3755RdnYPWaagQrVqyYkYHW67377rvSvn172blzpzPkW7Zskb/97W9yxRVXuO946qmnXP8feOAB6dGjR9r36nh+85vfyF133eUMbH5N+3f22WfLihUrRK95xhlnOPP68ccfy7/+9S9nhLUNHTpUlMW6deuckU+1tm3bSq1ateTll1+Wyy67TJo1aybHHXecHHzwwfL222/LggULnBHXP9emYxg/frz7pa1Xr14536V/edC10Xp9/QvHokWLpHHjxq5/+peIp59+2pl77dcpp5xSwMzg4xCAAASyRwADnT2WfBMEIBABAnsa6J9//lmOP/542bRpkzN4tWvXdr1Uk6oznDojrbOoF110kft5ykDrDOy8efPkvPPOcz//8ccfpX79+s7kLlu2TM4880xnDnUmWE3lM888kzb677//3pm/okWL7pNKaga6SpUqsnz5cjnyyCOdXk24XuNXv/qVM7E6G/7TTz+52W19SfKdd95J+97LL7/cmXzdzUNngvNrapzVAN96660yduzYNNk333zj/rKQavtawvHtt9+6v5Bo/3K3ESNGOAOfe3ZZ/3xfLxHqrL7OPk+YMEGuv/76nK9bsmSJY65xShnyCKQYXYAABCAgGGiSAAIQKFQE9jTQc+fOdbObnTt3dkskcjedYVaTqLPM06ZNSzPQaqjVWOduOhusu3vcfvvtbgmEmuQyZcrIlVdeKVOnTt0vjikDfc8990i/fv3SvuOmm25yyyTUPOqsrraePXu6GXA18jp7rE2Nrxprnb199dVX99kP/Zwa8wEDBrjlEftq+7MGWo21mnCdtdZZ7FTLz0DrX3BUrzPMCxcu3Ks7uiRk5syZot9btmzZ/WLMhyAAAQhkmwAGOttE+T4IQOCAEtjTQKvZVNP56KOPyu9+97u0vql507W6usZ25cqVaQZ6+PDhMmjQoDT9hg0b3OzuxRdfLLNmzXJ/psZWTauazUsvvdQt5VCDuq81yLm/NGWg33rrLWnYsGHa9dTw6xITXZess7TaUga4d+/ebu21ttQY9S8B+peBfTVdK639+/DDD6V169bul/Y5ryUSQQZajf19993nZsPV4OrykFRT1so8yEB/8MEHUqNGDalTp45bZrNnmz17tlsWomvYVUODAAQgEAUCGOgoRIE+QAACWSOwp4FOLSnQ5Q25X8hLXVDXKOsyCzXH2lJLOP70pz/J73//+7R+6RIKNdxqdNXwatM1w7ruWM3r5s2b3c/0ZT6dgb3uuusCx5Uy0Loe++STT07Tv/LKK26dshp5NfSppmut9YVFXZaiyyjOOuss97KevlyYenlvXxf+4osv3DKL1MyuavXaOguem9G+DLSOt1OnTlKhQgVp2bKl6BKU1LX1Zc0uXbo4lkEGWpfQ7PkXh7z6rv+SoDPsNAhAAAJRIICBjkIU6AMEIJA1Ar5noFMd18NGdFZXTe+4ceOcIf/HP/6R56xq7sFaZ6D1s2rub7zxRnn++efl2GOPdWua9fcPP/ywiaPOwOuaaF2qon3WJSk6m6wz1Nr2ZaB1l5CtW7e6z6fWbetn1JzrX0oyNdCpGXX9y8bEiRNN/UcMAQhA4EARwEAfKPJcFwIQCIXAngY6tc75qquukr/+9a9p19SXBBs1amReA92/f38ZNWpUvv1Pfa9ue6drmPfVMlkD/dJLL7mZ6FRT46rb6unyETXQuoxCd7DQmen9bU888YQoIx2Xjk+bvrynLwPqsg/dZSN309lmXf4xY8aMtJ/ry5T6QuOeBlp36vjvf/+bM9Of+pD+TF/E1Bc99eXMTJe+7O84+RwEIACBbBDAQGeDIt8BAQhEhkB+u3Do8gpdR5uaXVXjpvsqq8He3104dC9kXUqh267lbikTqWuvU9u35QcoaBeO0qVLu2voLhy5m66N1j2T9c/VTL///vsZxUB36dAdSPZcLqI7cvTp08fNRKe2mtPt83SZh15f94nO3XQfbZ3B1rXjutuINl1Coi9s6pZ4expoXb+sWjX/e45Fr6d/Cbj77rvdC5q5TbSad909pUGDBhmNDxEEIAABHwQw0D4ocw0IQMAbgX3tA61rnVP7QOvyCn2Bbc+Zacs+0LrtnK4/1iUU+t+jjjrKmc1nn33WHbais8K61GFfLWWgddcPXQ6xr32gc39PamZdf6YvE+pLhZk0XQuuLzvq9nz68p7ugKGGV/eR1v/XJRW6rlnbgw8+6Pa9Pvfcc906ZzW+utd0zZo13TVvu+02Z8T15T99iVCZ6npmvcaeBlq1+hn9S4teW9duK3udQdd9oHU/ad2FQ/+Co1vX6UEqun2fzubrTie6RpwGAQhAICoEMNBRiQT9gAAEskJAT8U74YQT9tq2Ts1sXicR3nLLLfmeRFi8eHE3K6oHqOi6Xl2SoVvNpU4u1H2gdcb29ddfd5rU0grd1eKOO+7I6PCP3CcR6hITPelPZ7ZPPfVUtw1cXi8+pkDprPDnn3/uXiZMmd4giHryoO7aoUszdDZaT1LUlx51iYgu3dD/TzWdpVfjqwea6Npm3WUjdRKh/r/OGut6bDW6OguuLxUOHjxYlNueBlrZqBnX5Si67Z6uGc+9V7S+oKkHxOjLiWrodRZaX0xUM61GWw02DQIQgEBUCGCgoxIJ+gEBCGSFgBplnTHVZQFqbgtrU0OrZldnf3XGlwYBCEAAAv4IYKD9seZKEICABwK6fZxuK6cvxemMaGFtug2dbtGXyU4fhZUB44IABCBwoAhgoA8Uea4LAQhklYAutdBdHPSlN13aoFvKlSxZMqvXiMKXqWnWFyL//Oc/uzXMS5cuZeeKKASGPkAAAokigIFOVLgZLAQKL4HDDz/cDU73Lh4zZozbFq0wNl0brGuMdW3whAkTRHfDoEEAAhCAgF8CGGi/vLkaBCAAAQhAAAIQgEDMCWCgYx5Aug8BCEAAAhCAAAQg4JcABtovb64GAQhAAAIQgAAEIBBzAhjomAeQ7kMAAhCAAAQgAAEI+CWAgfbLm6tBAAIQgAAEIAABCMScAAbaQwB37Ngh77zzjjvJTI+vpUEAAhCAAAQgAIGoEti1a5c75bROnTpy6KGHRrWbB7RfGGgP+OfNmyeNGjXycCUuAQEIQAACEIAABLJD4K233pKGDRtm58sK2bdgoD0E9NNPP3V7tWoi6tG7NAhAAAIQgAAEIBBVAhs3bnQTf6tWrZITTjghqt08oP3CQHvA/+9//1uqV68ua9eulWrVqnm4IpeAAAQgAAEIQAAC+0cA3xLMDQMdzKjAChKxwAj5AghAAAIQgAAEPBHAtwSDxkAHMyqwgkQsMEK+AAIQgAAEIAABTwTwLcGgMdDBjAqsIBELjJAvgAAEIAABCEDAEwF8SzBoDHQwowIrSMQCI+QLIAABCEAAAhDwRADfEgwaAx3MqMAKErHACPkCCEAAAhDYB4FffvlFvv76a9FzB/T/aRDIi0CRIkXcvs5HHnmk6P/n1/AtwfmDgQ5mVGAFiVhghHwBBCAAAQjkQ0AN86ZNm+SHH36QokWLysEHHywHHXQQvCCQRmD37t3y888/y3//+1857LDDpEqVKvmaaHxLcPJgoIMZFVhBIhYYIV8AAQhAAAL5EPjyyy/lm2++kfLly7uZRRoE9kVA/6Xiq6++knLlykmFChXylOJbgnMIAx3MqMAKErHACPkCCEAAAhDIh8D69etl586dHHhBhmRMQA94K1asmBxzzDEY6IyppQsx0PsJzvIxDLSFFloIQAACELAQ0GeM/vO8HthFg0AmBPRgN13mk9/hbviWYIoY6GBGBVaQiAVGyBdAAAIQgEA+BPQZo42TbkmRTAkE5Qy+JZgkBjqYUYEVJGKBEfIFEIAABCCAgSYHskQAA11wkBjogjMM/AYMdCAiBBCAAAQgsJ8EgszQfn7tAfvY0KFDZdiwYTnX123XTjnlFOnRo4d069YtlH5NnjxZrrnmGtmwYYNUrVo1lGtE6UuDcgbfEhwtDHQwowIrSMQCI+QLIAABCEBgP2agq90+64Bx+/eoVvt1bTXQI0aMkHnz5rnP644R999/v7z22msyY8YMufzyy/fre/f1IQx0Oh18S3CKYaCDGRVYQSIWGCFfAAEIQAACCTPQu3btyhnxtm3b5Oijj5ZzzjlHXn755aznAgYaA21NKgy0ldh+6DHQ+wGNj0AAAhCAQEYE9vXP8XGegc5toBXEueeeK99//718+OGHOVx0Vvquu+6SJUuWyCGHHCItWrSQcePGObOdavfdd588+eST8vHHH7udJ2rWrCkjR46U+vXr52gw0BjojIotlwgDbSW2H3oM9H5A4yMQgAAEIJARgSQYaD1tUU1xrVq1ZNas/y1LeeGFF+TSSy+Vdu3ayVVXXSU6S63LP3RP7BUrVkipUqWcrnfv3nL66ae7XUr0qHM100899ZQz3WeccYbTYKAx0BkVGwbaiqlgegx0wfjxaQhAAAIQyJ9AYTXQana16Rroe+65Rx599FF5/fXX5bzzznM/P/744+XUU0+Vf/zjHzlwlMVJJ50k48ePl5tuumkvaHqUte6ZfeaZZ0rz5s1FZ6cx0HvnFr4l+I7DDHQwowIrvCXi0DIF7muivmDo1kQNl8FCAAKFk0BhNNC5d+FIRe3xxx+Xq6++2v121apVzihPnTpV2rdvnxbY2rVruxnnadOmuZ8vXLjQzUzrjLMeY51qv/71r3PWUzMDnV4b3nxLjEsSA+0heN4SEQNtiyYG2sYLNQQgEEkChdFA6y4canx1tlhPzbvzzjtFjyxXE3zaaafJ/PnzpWHDhvnGo2XLlvLKK6/IunXr3DINNdS33HKL26JOt8X7/e9/L6VLl5a5c+cyA50HRW++JZIVlVmnMNCZcSqQylsiYqBtccJA23ihhgAEIkmgsBro3C8RqomuUaOGNG3a1K2B/uijj9zyjXvvvVfOP//8veLyq1/9ys1QT5w4UX73u9/J5s2bpVKlSjm6E044wZlpDHS1PHPam2+JZEVl1qlYGGjd91H/mSb1zy/6IoC+MKAvBhQvXjxnpGvWrJGePXvKnDlzpFixYnLJJZfI2LFjpVy5cmk0li5d6j67aNEi9zfQjh07ujdyS5QokaabPXu2DBgwQN5//30pX768XHfddTJw4EA5+OCDM6P7fypviYiBNsVFMNA2XqghAIFIEkiCgVbwd9xxh4waNUreeecd0WUa1atXF12GoWuj82u6xrlXr17yzTffyBFHHOFk//rXv9w66saNG2Ogq2Gg97eoY2Gg69Wr596ebdu2rVSsWNEl//Dhw6VVq1by9NNPu7Hr1jb6zzRqdHXtlL6N279/f/c3Tv2nHt26Rpv+c46+PKB7Sfbt21c2bdokffr0cVvfTJ8+PYfj4sWLpUGDBnLFFVc446wmWr9PDboWsKVhoC20PGox0B5hcykIQCAsAkkx0GqC1TTr83rmzJny97//XS677DI3Cab/LVu2rJtp1km0Cy+80B24os9u3bnj4osvdks41APoemht+hIiM9AY6P2ty1gYaH0DV41x7qYmVv82qjeOY489VkaPHi2DBg0SnYWuUqWKky5YsMCZYN3qRmejtXXv3t2dZKS61BY3+qJBp06d3LY3uj+kNjXneqTn8uXLpUiRIu5nd999tzPnarqPPPLIjJljoDNG5VeIgfbLm6tBAAKhEEiKgVZ4+q/A+vxfuXKlO977rbfecqcW6npp3b5On/86s9yvXz85+eSTHW99xqtp1jXU+hl9luu/TusSEQw0Bnp/izIWBjqvwenyCn1JQE2ybobepEkTKVq0qOjPc7fU31YnTJjgfqwz2fq3V10XlWo//fSTlClTRgYPHuyWbGgR6tIO/b0Wa6rp31z187qc5Morr8yYOQY6Y1R+hRhov7y5GgQgEAqBfRnoUC7Il8aeQFDOePMtMSYZWwOt5lb/Fvn555+72eCjjjrK/TOO7v2Yu+lMsi7v0L+lbt++3c066ylFuiYqd9OXE3RN1ZQpU9wpR/qW77PPPuuWjeRu+nldP61LSDJt3hKRNdCZhuR/Ogy0jRdqCEAgkgSCzFAkO02nDiiBoJzx5lsOKIWCXTyWBlqP46xTp4506NAhZyZZXxrU2ePU2qYUls6dO8uyZcvcP/fo2ij9551JkyZJ165d08jpdjg6C61v96aWfug6Kp3Zzt30rd02bdrIQw89lC/5LVu2iP5KtY0bN0qjRo3cVjw6gx1aw0Db0GKgbbxQQwACkSQQZIYi2Wk6dUAJBOUMBjo4PLEz0N9++617e1ZfCnz77bdFt6rRpgZal1sMGTIkbdS6tlnXMauB1rXLaoB1w/QuXbqk6XSttL6AoAY6tb+kro3StVS5mxpwnZXel4FWE5/XJvAY6OCE9KrAQHvFzcUgAIFwCASZoXCuyrfGmUBQzmCgg6MbKwOtO2s0a9ZMdEZXZ4mPOeaYnBFGaQkHM9DBiRcJBQY6EmGgExCAQMEIBJmhgn07ny6MBIJyBgMdHPXYGGh90a9169aiezjremZdo5y76VILnYV+9dVX036e10uE+vJh6qVCFef3EqHOZuuykFTjJcLghIqVAgMdq3DRWQhAIG8CQWYIbhDYk0BQzmCgg3MmFgb6559/lnbt2jlz/Prrr8u5556718jGjBnjlnDoMonKlSu7P9dtbXSHjtzb2PXo0SNnG7uSJUs6ne7/rC8g5t7GTs26bmOn66dT29jp1jlqqtnGLjixYqHAQMciTHQSAhDYN4EgMwQ/CGCgs58DsTDQN9xwgztp6K677nJb0OVuuhG67hGdOkilQoUK7kXCH3/80e0DqQev5HWQih7Oogeo6IuF+t/mzZunHaSipxTqi4Xt27eXbt265Rykohuxc5BK9hPxgHwjBvqAYOeiEIBAdglgoLPLMwnfFpQzzEAHZ0EsDLTuXKHLJ/JquXfUWL16tTspUF/+0z2h9fAU3bJuz6O89UjwvI7yTs1Ip66je0rrYS16kpFulXf99de7w1o4yjs4sWKhwEDHIkx0EgIQYAaaHMguAQx0wXnGwkAXfJgH9hu8/U2ObexsgcZA23ihhgAEIkkgyAxFstN06oASCMoZb77lgFIo2MUx0AXjl9GnvSUiBjqjeOSIMNA2XqghAIFIEggyQ5HsNJ06oASCcsabbzmgFAp2cQx0wfhl9GlviYiBzigeGGgbJtQQgEC0CQSZoWj3fu/e5XeWgi6f3LVr1wEdTup5rqcW60FtlqbvVR122GHy8ssvWz6Wsfaxxx5zu5Fl0q+gnPHmWzIeXfSEGGgPMfGWiBhoWzSZgbbxQg0BCESSwD7N0IF8LuznPVYN9IgRI2TevHlpvPUAtbx24fIZlCgbaItBx0AXPGsw0AVnGPgNGOhARAdGsJ839wPTWa4KAQhAIG8ChdVAZzrbrFvd6i+dfQ27YaDDJhyf78dAe4gVBtoD5P25BAZ6f6jxGQhAIGIEkmagUzOtV199tdve9tNPP3W7b5111llu5yzdQWv9+vVyxBFHSKNGjUTPiUidD6Gh08+fcsop8uc//zknkmrWdfeukSNHyu23357z87vvvlseeOABt1Vu06ZN3Z/pd+ZewlG1alXR7XZ1l65U0z6deOKJ8uSTT0qHDh3cj/OaIf7ss8/cgW0vvviibN26VU499VQ3Jt1FLNV0ScY777wjuutYr1695L333hM9JE771qZNm5zv1i17czfdgjf3GHP/GTPQBS9iDHTBGQZ+AwY6ENGBEWCgDwx3rgoBCGSVQGE10Dt27EjjpIea6S81ompQdYvaO++80xnlGjVquBlo/X2zZs1Ez4T44osv5N5775Wvv/5aPvzww5wZ6kwN9IMPPig333yzM60XXXSROwX5r3/9qzPn2TDQ3333nZx99tlua1w135UqVXKGW6/x0ksviZ6arE0NtP5ez7Xo27ev0+m49C8Nn3zyiehWvx988IE7EE6349Xte7Upg+OOOy7PXMNAF7wEMdAFZxj4DRjoQEQHRoCBPjDcuSoEIJBVAoXRQA8bNmwvRnoSsK6PVgP89ttvO/OoM7H5NV3WoTO8Rx99dNqJxJkYaJ2R1s/prPO0adNyLqGHqemMdDYM9ODBg53ZVXOvs9ipdsEFF4j+5WHBggU5Bnrq1KluFloNtzb9y4EaaZ1d13MttLEGOqtlFfhlGOhARAUXYKALzjCUb8BAh4KVL4UABPwSKIwGWl8iXLhwYRpIXYahv9Qo/vDDD7J8+fK9QD/++ONy3333yapVq5wm1UaPHi233XZbjtEMWsKhB7OdcMIJ8re//U3atWuX8z1vvvmmNG7cOCsGWl+I1JOUn3vuubRxqCnWGent27fn7Kqhy1LUNOdu+tlOnTrJ+PHjMdB+S85dDQPtAToG2gPk/bkEBnp/qPEZCEAgYgQKq4HO7yVCNdClSpWSV155JS0STz/9tLRv3166dOkiV1xxhTtBWHfuqFevngwfPjxnjXImM9C6A4iuddZlEmqYU+3jjz9266ezMQOts+ep2OWVUl9++aUz2Kk10B999FGaTGetW7duLX/6058w0AegJjHQHqBjoD1A3p9LYKD3hxqfgQAEIkYgiQY6r/2Uf/vb38rKlSvl/fffz4lQ6vmb20A3b97czWTrWuNU09ldXWOceonQMgOtM9VXXnmle/kv1XSJiRr3fb1EWKdOHTn88MPdNfNqtWrVkkMOOQQDHbF6S3UHA+0hMBhoD5D35xIY6P2hxmcgAIGIEcBA/y8gunPF5s2bZcmSJTkRUuOsa41zG+hrr73WLf9YunRpjk4PIdFdK1IG2rIGWtcsly1bVp555pmc70tdc18GeuDAgTJ58mT3AmCZMmXyzapMZ6D15Uld962z5kGNlwiDCAX/OQY6mFGBFb4MdLXbZxW4r0n6gn+PapWk4TJWCECgkBLAQP8vsKldM3T9cJMmTUTXK0+fPt29bJjbQOvSjwsvvFD69OnjdtdQM61bxOnsde5t7O6//37p2bNn4C4cjz76qHTv3t1do27duu66apx1p5B9GWjdhUP1unOG7vShO2Zs2bJF3n33Xbfe+aGHHnLjytRA9+jRQ3QNuDg3tooAACAASURBVC4v0eUduvzj2GOPzTPrMdAFvxlgoAvOMPAbMNCBiA6IAAN9QLBzUQhAIMsEMND/A6qzr7oPtC7N0BcIda2zmmrdjzm3gVatvmiovz7//HNp0KCB0+na5twGevfu3fKHP/zB/ZnuA61roXXP5vPPPz9tDbReV2ec1byqAU6Z8/POOy9wH2jdYk93F3nhhRecadat+WrWrOlmw3U9t8VAb9q0ye1HrftBqzlnH+gsF9oeX4eBDpev+3YMtAfI+3EJDPR+QOMjEIBA5AgEzSZGrsN06IATCMoZX77lgIMoQAcw0AWAl+lHfSUiSzgyjcj/dBhoGy/UEIBANAkEmaFo9ppeHUgCQTnjy7ccSAYFvTYGuqAEM/i8r0TEQGcQjFwSDLSNF2oIQCCaBILMUDR7Ta8OJIGgnPHlWw4kg4JeGwNdUIIZfN5XImKgMwgGBtoGCTUEIBB5AkFmKPIDoIPeCQTljC/f4n3gWbwgBjqLMPP7Kl+JiIG2BZMZaBsv1BCAQDQJBJmhaPaaXh1IAkE548u3HEgGBb02BrqgBDP4vK9ExEBnEAxmoG2QUEMAApEnoM8Y3TFCT7ajQSATAmvXrnWnNFarVi1PuS/fkklfo6rBQHuIjK9ExEDbgskMtI0XaghAIJoE1q9fLzt37hQ9EY8GgUwI6B7VxYoVk2OOOQYDnQmwPDQY6P0EZ/kYBtpCy58WA+2PNVeCAATCI/Dll1/KN9984w7OOPLII8O7EN9cKAjo3tNfffWV23O6QoUKGOj9jCoGej/BWT6GgbbQ8qfFQPtjzZUgAIHwCPzyyy+ih2jo4SFFixaVgw8+2P3zPA0CuQnoMh899OW///2vHHbYYVKlShUpUqQIBno/0wQDvZ/gLB/DQFto+dNioP2x5koQgEC4BNRE68zijh07RP+fBoG8CKhhPvTQQ92/VORnnvVzvnxLnKOEgfYQPV+JyBpoWzAx0DZeqCEAAQhAIBkEfPmWONPEQHuInq9ExEDbgomBtvFCDQEIQAACySDgy7fEmSYG2kP0fCUiBtoWTAy0jRdqCEAAAhBIBgFfviXONGNhoDdu3CijRo2SRYsWyYoVK9x2PboYfs/25ptvytChQ51G14DVrFlTBg8eLM2aNUuTLl26VHr37u2+r3Tp0tKxY0cZOXKklChRIk03e/ZsGTBggLz//vvu7ebrrrtOBg4c6F7QsDRfiYiBtkRFBANt44UaAhCAAASSQcCXb4kzzVgY6Llz50qHDh2kbt26smXLFpk3b95eBvrdd9+Vc845Rxo3biy33HKLewP5gQcekNdff10WLFggderUcXFat26dnHnmmU7bt29f9+Zynz59pEWLFjJ9+vScWC5evFgaNGggV1xxhTPOaqL79+8vPXv2dGbe0nwlIgbaEhUMtI0WaghAAAIQSAoBX74lzjxjYaB1Njn1tuiIESPkzjvv3MtA68/GjBnj9sIsWbKki8mPP/7o3jS9+eabc0xv9+7dZcaMGbJmzRopVaqU002bNk06derkZq511lpbq1atZMOGDbJ8+fKca999990ybNgwZ7ote236SkQMtK0UmYG28UINAQhAAALJIODLt8SZZiwMdG7A+Rno22+/XR555BE3Q517/8sjjjhCrr/+ernnnnvc1+ixlTrbPHHixJyv/emnn6RMmTJuuYcu2dAlIrq0Q3+vSzZSTWev9fNTp06VK6+8MuO4+0pEDHTGIXFCDLSNF2oIQAACEEgGAV++Jc40C42BXrlypVvioTPM/fr1czG599575eGHH3ZrnU855RTZvn27m3UeN26c9OrVKy1uNWrUkNq1a8uUKVPkww8/lNNOO02effZZadu2bZpOP6/rp4cPH55x3H0lIgY645BgoG2oUEMAAhCAQIII+PItcUZaaAy0BmHhwoVy6aWXyueff+5iorPPzz//vDRs2ND9fvPmze7knUmTJknXrl3T4qYanYWeNWuWWzOt65/nzJkjTZo0SdNVrVpV2rRpIw899FC+cddZcP2VavoSZKNGjWTt2rVuBjushoG2kWUG2sYLNQQgAAEIJIMABjo4zoXGQH/yySdywQUXSP369d1Lf7pLx6OPPiq6M8cbb7whp59+ulu7rAZ48uTJ0qVLlzQ6apjLli3rDPT8+fOd6daXF/WlxNxNDbjOSu/LQOtOILpWes+GgQ5OSJ8KDLRP2lwLAhCAAATiQgADHRypQmOgdbeMjz76SHQ3jtQLh3rmuy7NUPOsLw76WsLBDHRw4kVBgYGOQhToAwQgAAEIRI0ABjo4IoXGQOua5Vq1arkdNXK3du3aic5O6w4b2nQJRcuWLWXChAk5svxeIhwyZIh7qTDVeIkwOKHipMBAxyla9BUCEIAABHwRwEAHky40Bvriiy8WDbju15yagd61a5d7GVB/Pffcc45Gjx49craxS213p/s/62Equbexa926tdvGbtmyZTnfp/s/q6lmG7vgxIqDAgMdhyjRRwhAAAIQ8E0AAx1MPDYGWpdgaJs5c6Y78OTpp5/OmVHWQ1J07bKaXn2JMLUG+k9/+pP7uZ4omDqNMHWQSr169dwBKvpiof63efPmaQep6M4dug66ffv20q1bt5yDVPSQFg5SCU6sOCgw0HGIEn2EAAQgAAHfBDDQwcRjY6Bz7+2ce1j6MqC+FKhNd9zQ/Z51GzrV68yzLsHQ2encbcmSJXke5Z2akU5p1XjfcccdzjzrwSm6n/SgQYM4yjs4r2KhwEDHIkx0EgIQgAAEPBPAQAcDj42BDh5KdBW+EpFt7Gw5gIG28UINAQhAAALJIODLt8SZJgbaQ/R8JSIG2hZMDLSNF2oIQAACEEgGAV++Jc40MdAeoucrETHQtmBioG28UEMAAhCAQDII+PItcaaJgfYQPV+JiIG2BRMDbeOFGgIQgAAEkkHAl2+JM00MtIfo+UpEDLQtmBhoGy/UEIAABCCQDAK+fEucaWKgPUTPVyJioG3BxEDbeKGGAAQgAIFkEPDlW+JMEwPtIXq+EhEDbQsmBtrGCzUEIAABCCSDgC/fEmeaGGgP0fOViBhoWzAx0DZeqCEAAQhAIBkEfPmWONPEQHuInq9ExEDbgomBtvFCDQEIQAACySDgy7fEmSYG2kP0fCUiBtoWTAy0jRdqCEAAAhBIBgFfviXONDHQHqLnKxEx0LZgYqBtvFBDAAIQgEAyCPjyLXGmiYH2ED1fiYiBtgUTA23jhRoCEIAABJJBwJdviTNNDLSH6PlKRAy0LZgYaBsv1BCAAAQgkAwCvnxLnGlioD1Ez1ciYqBtwcRA23ihhgAEIACBZBDw5VviTBMD7SF6vhIRA20LJgbaxgs1BCAAAQgkg4Av3xJnmhhoD9HzlYgYaFswMdA2XqghAAEIQCAZBHz5ljjTxEB7iJ6vRMRA24KJgbbxQg0BCEAAAskg4Mu3xJkmBtpD9HwlIgbaFkwMtI0XaghAAAIQSAYBX74lzjQx0B6i5ysRMdC2YGKgbbxQQwACEIBAMgj48i1xpomB9hA9X4mIgbYFEwNt44UaAhCAAASSQcCXb4kzTQy0h+j5SkQMtC2YGGgbL9QQgAAEIJAMAr58S5xpYqA9RM9XImKgbcHEQNt4oYYABCAAgWQQ8OVb4kwTA+0her4SEQNtCyYG2sYLNQQgAAEIJIOAL98SZ5oYaA/R85WIGGhbMDHQNl6oIQABCEAgGQR8+ZY408RAe4ier0TEQNuCiYG28UINAQhAAALJIODLt8SZJgbaQ/R8JSIG2hZMDLSNF2oIQAACEEgGAV++Jc40MdAeoucrETHQtmBioG28UEMAAhCAQDII+PItcaYZCwO9ceNGGTVqlCxatEhWrFghO3fulN27d+fJfc6cOTJ8+HBZvHix+/OTTz5Z7r33XmncuHGO/quvvpJbb71VZs2aJbt27ZJmzZrJfffdJ8cee2zad65Zs0Z69uwp+p3FihWTSy65RMaOHSvlypUzxdxXImKgTWERDLSNF2oIQAACEEgGAV++Jc40Y2Gg586dKx06dJC6devKli1bZN68eXka6Kefflo6duwo1157rVx++eVy0EEHybJly6RmzZpy0UUXuTj9/PPPcu6558p3330n99xzjxQvXlwGDx4s33//vbz33ntSsmRJp9Pfn3HGGVK+fHkZNmyYbNu2Tfr37y+VKlWS+fPnu+/OtPlKRAx0phH5nw4DbeOFGgIQgAAEkkHAl2+JM81YGOhffvlFihQp4jiPGDFC7rzzzr0MtBrr4447zpnnMWPG5BsTNdnt27d3s9lqyLWtX79ejj/+eDe7fPPNN7ufjR49WgYNGiQ6C12lShX3swULFkiDBg3khRdecLPRmTZfiYiBzjQiGGgbKdQQgAAEIJAkAr58S5yZxsJA5wacn4GeMGGC/P73v5cNGzZI1apV841J165d3QzyqlWr0jRNmzaVokWLyquvvup+3qRJE/f72bNnp+mqV68uLVq0EL1eps1XImKgM40IBtpGCjUEIAABCCSJgC/fEmemhcZAX3PNNW5meNKkSW6phRrkY445Rnr37i09evTIiZEu39BlGM8991xa3Lp37+4+rwZc21FHHeWWg4wfPz5N16pVK7e846233so47r4SEQOdcUickCUcNl6oIQABCEAgGQR8+ZY40yw0BvrCCy+UN954Qw499FC3ZlnXLz/zzDPy4IMPOlOtM8/aTjrpJDnvvPNk8uTJaXHT5Rrjxo1za5216UuDAwYMkKFDh6bpOnfu7NZVr1y5Mt+463IS/ZVq+hJko0aNZO3atVKtWrXQ8gUDbUOLgbbxQg0BCEAAAskggIEOjnOhMdC6rOK1115zJrhXr145I2/durV8+OGHsnr1avezE088URo2bOhMde42cOBAN9uc20Drz4YMGZKm69SpkyxfvnyfBlpNt5r4PRsGOjghfSow0D5pcy0IQAACEIgLAQx0cKQKjYHWXTqeeuopt5PG6aefnjNyNdR9+vSRH374we2w4WMJBzPQwYkXBQUGOgpRoA8QgAAEIBA1Ahjo4IgUGgOtez/rdnR5GWhdB/3tt9/K4Ycf7pZy6G4an3zySRqdvF4i1GUcqZcKU2JeIgxOqrgoMNBxiRT9hAAEIAABnwQw0MG0C42B1gNWatWq5Q5NUcOcahdffLEzy59++qn70YwZM6Rdu3byzjvvyNlnn+1+pi8O6hZ4ubex063wdAmHLruoXLmy0y1cuFDq16/PNnbBeRULBQY6FmGikxCAAAQg4JkABjoYeGwMtBpfbTNnzpTp06eL7uesTV/Kq1Onjvt/fcHv2WefdScR6kuE+v+PPPKIPPHEE6Jrl7XpQSrnnHOObN26Ne0gFf19XgepVKhQwb1I+OOPP0q/fv2kYsWKHKQSnFexUGCgYxEmOgkBCEAAAp4JYKCDgcfGQOd38l+XLl1ydtTYsWOHe+lvypQp8s0337gdN3QnDd2OLnf78ssvc47yVkN9wQUXuKO899whQ1881KO89SRE3RNaD0/RNdUc5R2cWHFQYKDjECX6CAEIQAACvglgoIOJx8ZABw8lugpficg2drYcwEDbeKGGAAQgAIFkEPDlW+JMEwPtIXq+EhEDbQsmBtrGCzUEIAABCCSDgC/fEmeaGGgP0fOViBhoWzAx0DZeqCEAAQhAIBkEfPmWONPEQHuInq9ExEDbgomBtvFCDQEIQAACySDgy7fEmSYG2kP0fCUiBtoWTAy0jRdqCEAAAhBIBgFfviXONDHQHqLnKxEx0LZgYqBtvFBDAAIQgEAyCPjyLXGmiYH2ED1fiYiBtgUTA23jhRoCEIAABJJBwJdviTNNDLSH6PlKRAy0LZgYaBsv1BCAAAQgkAwCvnxLnGlioD1Ez1ciYqBtwcRA23ihhgAEIACBZBDw5VviTBMD7SF6vhIRA20LJgbaxgs1BCAAAQgkg4Av3xJnmhhoD9HzlYgYaFswMdA2XqghAAEIQCAZBHz5ljjTxEB7iJ6vRMRA24KJgbbxQg0BCEAAAskg4Mu3xJkmBtpD9HwlIgbaFkwMtI0XaghAAAIQSAYBX74lzjQx0B6i5ysRMdC2YGKgbbxQQwACEIBAMgj48i1xpomB9hA9X4mIgbYFEwNt44UaAhCAAASSQcCXb4kzTQy0h+j5SkQMtC2YGGgbL9QQgAAEIJAMAr58S5xpYqA9RM9XImKgbcHEQNt4oYYABCAAgWQQ8OVb4kwTA+0her4SEQNtCyYG2sYLNQQgAAEIJIOAL98SZ5oYaA/R85WIGGhbMDHQNl6oIQABCEAgGQR8+ZY408RAe4ier0TEQNuCiYG28UINAQhAAALJIODLt8SZJgbaQ/R8JSIG2hZMDLSNF2oIQAACEEgGAV++Jc40MdAeoucrETHQtmBioG28UEMAAhCAQDII+PItcaaJgfYQPV+JiIG2BRMDbeOFGgIQgAAEkkHAl2+JM00MtIfo+UpEDLQtmBhoGy/UEIAABCCQDAK+fEucaWKgPUTPVyJioG3BxEDbeKGGAAQgAIFkEPDlW+JMEwPtIXq+EhEDbQsmBtrGCzUEIAABCCSDgC/fEmeasTDQGzdulFGjRsmiRYtkxYoVsnPnTtm9e/c+uV988cXy0ksvyfDhw2XQoEFp2jVr1kjPnj1lzpw5UqxYMbnkkktk7NixUq5cuTTd0qVLpXfv3u66pUuXlo4dO8rIkSOlRIkSppj7SkQMtCksgoG28UINAQhAAALJIODLt8SZZiwM9Ny5c6VDhw5St25d2bJli8ybN2+fBnrmzJnSo0cP+fzzz/cy0N9//72cccYZUr58eRk2bJhs27ZN+vfvL5UqVZL58+fLQQcd5OK5bt06OfPMM+Wcc86Rvn37yqZNm6RPnz7SokULmT59uinmvhIRA20KCwbahgs1BCAAAQgkhIAv3xJnnLEw0L/88osUKVLEcR4xYoTceeed+RroH374QU499VS5++675eqrr97LQI8ePdrNSOssdJUqVdx3LliwQBo0aCAvvPCCm43W1r17d5kxY4bTlSpVyv1s2rRp0qlTJzcLXrNmzYzj7isRMdAZh8QJmYG28UINAQhAAALJIODLt8SZZiwMdG7AQQb6tttuk7ffflveeustN5u85xKOJk2aSNGiRWX27NlpcatevbqbXZ4wYYL7ebVq1dzvJ06cmKP76aefpEyZMjJ48GAZMGBAxnH3lYgY6IxDgoG2oUINAQhAAAIJIuDLt8QZaaEy0O+//77UqVPHGWhdfpGXgT7qqKPcWubx48enxa1Vq1aiyzvUeG/fvt3NOo8bN0569eqVpqtRo4bUrl1bpkyZknHcfSUiBjrjkGCgbahQQwACEIBAggj48i1xRlpoDLS+VHj++edLrVq15IEHHnAxyctA60uDOns8dOjQtLh17txZli1bJitXrpTNmze75R2TJk2Srl27pukaNmzoZqFnzZqVb9x1nbb+SjV9CbJRo0aydu1aN7MdVsNA28iyhMPGCzUEIAABCCSDAAY6OM6FxkA/9thjcvvtt8snn3wiZcuW3aeBHjhwoAwZMiSNjq5tXr58uTPQ+sJg1apVZfLkydKlS5c0na6V1u/fl4FWc64vKO7ZMNDBCelTgYH2SZtrQQACEIBAXAhgoIMjVSgMtL44qGuYdWb5mmuuyRn14YcfLmqWdV20zhrrjLSPJRzMQAcnXhQUGOgoRIE+QAACEIBA1AhgoIMjUigMdCrQ+xruhg0b3KyyvkSoyzheffXVNHleLxG2bNky56VCFfMSYXBCxUmBgY5TtOgrBCAAAQj4IoCBDiZdKAz0jh07ZOHChXuNtmnTpnLttdfKVVddJfXr15fixYvLmDFj3Ky0LqeoXLmy+4x+Vv889zZ2uo90ahu7kiVLOp3u/6wvILKNXXBixUGBgY5DlOgjBCAAAQj4JoCBDiYeGwOtZlabHpKiRvbpp592v9eX8nTnjbxaXi8Rpg5SqVChgnuR8Mcff5R+/fpJxYoV8zxIpV69eu4AFX2xUP/bvHlzDlIJzqtYKDDQsQgTnYQABCAAAc8EMNDBwGNjoFMnBO45JH3JT1/2y9RAq2716tXuKG894VD3hNbDU3TLuj2P8l6yZEmeR3mnZqSD8f5P4SsR2YUj04j8X1xGtbJ9ADUEIAABCEAgAQR8+ZY4o4yNgY4zZF+JiIG2ZQkz0DZeqCEAAQhAIBkEfPmWONPEQHuInq9ExEDbgomBtvFCDQEIQAACySDgy7fEmSYG2kP0fCUiBtoWTAy0jRdqCEAAAhBIBgFfviXONDHQHqLnKxEx0LZgYqBtvFBDAAIQgEAyCPjyLXGmiYH2ED1fiYiBtgUTA23jhRoCEIAABJJBwJdviTNNDLSH6PlKRAy0LZgYaBsv1BCAAAQgkAwCvnxLnGlioD1Ez1ciYqBtwcRA23ihhgAEIACBZBDw5VviTBMD7SF6vhIRA20LJgbaxgs1BCAAAQgkg4Av3xJnmhhoD9HzlYgYaFswMdA2XqghAAEIQCAZBHz5ljjTxEB7iJ6vRMRA24KJgbbxQg0BCEAAAskg4Mu3xJkmBtpD9HwlIgbaFkwMtI0XaghAAAIQSAYBX74lzjQx0B6i5ysRMdC2YGKgbbxQQwACEIBAMgj48i1xpomB9hA9X4mIgbYFEwNt44UaAhCAAASSQcCXb4kzTQy0h+j5SkQMtC2YGGgbL9QQgAAEIJAMAr58S5xpYqA9RM9XImKgbcHEQNt4oYYABCAAgWQQ8OVb4kwTA+0her4SEQNtCyYG2sYLNQQgAAEIJIOAL98SZ5oYaA/R85WIGGhbMDHQNl6oIQABCEAgGQR8+ZY408RAe4ier0TEQNuCiYG28UINAQhAAALJIODLt8SZJgbaQ/R8JSIG2hZMDLSNF2oIQAACEEgGAV++Jc40MdAeoucrETHQtmBioG28UEMAAhCAQDII+PItcaaJgfYQPV+JiIG2BRMDbeOFGgIQgAAEkkHAl2+JM00MtIfo+UpEDLQtmBhoGy/UEIAABCCQDAK+fEucaWKgPUTPVyJioG3BxEDbeCVePbRM4hGYAAzdapIjhgAEokPAl2+JzojtPcFA25mZP+ErETHQttBgoG28Eq/GQNtSAANt44UaAhEi4Mu3RGjI5q5goM3I7B/wlYgYaFtsMNA2XolXY6BtKYCBtvFCDYEIEfDlWyI0ZHNXMNBmZPYP+EpEDLQtNhhoG6/EqzHQthTAQNt4oYZAhAj48i0RGrK5KxhoMzL7B3wlIgbaFhsMtI1X4tUYaFsKYKBtvFBDIEIEfPmWCA3Z3JVYGOiNGzfKqFGjZNGiRbJixQrZuXOn7N69O22wr732mkyaNEn+9a9/yWeffSZVq1aVtm3byp133im/+tWv0rRfffWV3HrrrTJr1izZtWuXNGvWTO677z459thj03Rr1qyRnj17ypw5c6RYsWJyySWXyNixY6VcuXIm0L4SEQNtCotgoG28Eq/GQNtSAANt44UaAhEi4Mu3RGjI5q7EwkDPnTtXOnToIHXr1pUtW7bIvHnz9jLQ7dq1k+3bt0v79u2lWrVq8t5778mQIUPkhBNOcKa6SJEiDs7PP/8s5557rnz33Xdyzz33SPHixWXw4MHy/fffu8+ULFnS6fT3Z5xxhpQvX16GDRsm27Ztk/79+0ulSpVk/vz5ctBBB2UM21ciYqAzDokTYqBtvBKvxkDbUgADbeOFGgIRIuDLt0RoyOauxMJA//LLLzkGeMSIEW5Wec8ZaJ1VVrObu02fPl06duwoasAbN27s/ujpp592Jltns9WQa1u/fr0cf/zxbnb55ptvdj8bPXq0DBo0SHQWukqVKu5nCxYskAYNGsgLL7zgZqMzbb4SEQOdaUT+p8NA23glXo2BtqUABtrGCzUEIkTAl2+J0JDNXYmFgc49qvwMdF4jX7VqlZx00kkybdo0Z6S1de3a1c0g65/lbk2bNpWiRYvKq6++6n7cpEkT9/vZs2en6apXry4tWrSQCRMmZAzbVyJioDMOCQbahgq1EsBA2/IAA23jhRoCESLgy7dEaMjmrhRqA/3YY49Jt27dZNmyZVKrVi0HR5dv6DKM5557Lg1W9+7d3czyhg0b3M+POuooZ7rHjx+fpmvVqpVb3vHWW29lDNtXImKgMw4JBtqGCjUG2p4DGGg7Mz4BgYgQ8OVbIjLc/epGoTXQuqRDTfNpp52WNousM9LnnXeeTJ48OQ2YLtcYN26cW+usTV8aHDBggAwdOjRN17lzZ2fIV65cmS9wXaetv1JNX4Js1KiRrF271q3PDqthoG1kWcJh45V4NTPQthTAQNt4oYZAhAhgoIODUSgN9I4dO6Rly5byySefyOLFi+Xoo4/OIXHiiSdKw4YN3Y4dudvAgQPdbHNuA60/0xcRc7dOnTrJ8uXL92mg1XTri4d7Ngx0cEL6VGCgfdIuBNfCQNuCiIG28UINgQgRwEAHB6PQGWjdZePyyy93W8/py4NnnXVWGgUfSziYgQ5OvCgoMNBRiEKM+oCBtgULA23jhRoCESKAgQ4ORqEy0Lozh74k+NRTT8nLL7/sXgTcs+mf624aOjudu+X1EqEu40i9VJjS8hJhcFLFRYGBjkukotFPlkjZ4kB92XihhkCUCGCgg6NRqAz0LbfcIg8//LDMmDHDHaKSV9M/0z2j33nnHTn77LOdRF8cPO6449K2sRszZozoEg5ddlG5cmWnW7hwodSvX59t7ILzKhYKHvCxCFNkOomBtoWC+rLxQg2BKBHAQAdHIzYGWo2vtpkzZ4ru76z7OWvTl/Lq1KnjTiq844475MYbb5Srr746beR6KqH+0qZLPM455xzZunVr2kEq+vu8DlKpUKGCe5Hwxx9/lH79+knFihU5SCU4r2Kh4AEfizBFppMYaFsoqC8bL9QQiBIBDHRwNGJjoPM7cIfYrgAAIABJREFU+a9Lly5uRw1drvHGG2/kOWJ9ETD3bhpffvllzlHeaqgvuOACd5T3njtkrF692h3lrWupdU9oPTxFd+rgKO/gxIqDggd8HKIUnT5ioG2xoL5svFBDIEoEMNDB0YiNgQ4eSnQVvhKRB7wtB3jA23glXU192TKA+rLxQg2BKBHw5VuiNGZrXzDQVmL7ofeViDzgbcHhAW/jlXQ19WXLAOrLxgs1BKJEwJdvidKYrX3BQFuJ7YfeVyLygLcFhwe8jVfS1dSXLQOoLxsv1BCIEgFfviVKY7b2JXQD/emnn8pHH33kjtAuX768tX+FQu8rEXnA29KFB7yNV9LV1JctA6gvGy/UEIgSAV++JUpjtvYlqwZat5HTl/Ieeugh14/nnntO2rdvL7t27ZKyZcu6I7VTW8dZOxpnva9E5AFvyxIe8DZeSVdTX7YMoL5svFBDIEoEfPmWKI3Z2pesGmjdS1mPsL7qqqtcP04//XQ5/vjjZcSIEXLbbbfJIYccIrNmzbL2MfZ6X4nIA96WKjzgbbySrqa+bBlAfdl4oYZAlAj48i1RGrO1L1k10CVLlnQnAJ5//vmyfv16ty2cHj6i+y6rcb7mmmtEt5BLWvOViDzgbZnFA97GK+lq6suWAdSXjRdqCESJgC/fEqUxW/uSVQOta5z/8pe/yG9+8xt5/PHHpVevXvLtt9+K7uH8z3/+0+2jvG3bNmsfY6/3lYg84G2pwgPexivpaurLlgHUl40XaghEiYAv3xKlMVv7klUDrQb566+/dkdg66mANWvWlKlTp7o+TZw4UUaPHi2ffPKJtY+x1/tKRB7wtlThAW/jlXQ19WXLAOrLxgs1BKJEwJdvidKYrX3JqoHW3TZat24ta9asccs3XnvtNdF10dqaN2/ujtPWUwOT1nwlIg94W2bxgLfxSrqa+rJlAPVl44UaAlEi4Mu3RGnM1r5k1UCnLv7NN9/sddz1e++9JxUrVkzkVna+EpEHvC39ecDbeCVdTX3ZMoD6svFCDYEoEfDlW6I0ZmtfQjHQ2ondu3e75RxHHnmkWwOd5OYrEXnA27KMB7yNV9LV1JctA6gvGy/UEIgSAV++JUpjtvYl6wb69ddfl6FDh8rixYvlv//9rxQtWlTq1q0rQ4YMccs4kth8JSIPeFt28YC38Uq6mvqyZQD1ZeOFGgJRIuDLt0RpzNa+ZNVAT5kyRbp06SK1a9eWyy+/XI466ij54osvZMaMGbJ8+XK3/jm1R7S1o3HW+0pEHvC2LOEBb+OVdDX1ZcsA6svGCzUEokTAl2+J0pitfcmqgT7hhBPckd2pnTdyd6Zjx45uVlqP9k5a85WIPOBtmcUD3sYr6Wrqy5YB1JeNF2oIRImAL98SpTFb+5JVA60Hqejx3S1bttyrH6+88opceumlsn37dmsfY6/3lYg84G2pwgPexivpaurLlgHUl40XaghEiYAv3xKlMVv7klUD3bBhQ2nXrp307Nlzr36MHz9e/va3v8mCBQusfYy93lci8oC3pQoPeBuvpKupL1sGUF82XqghECUCvnxLlMZs7UtWDfS7777r1j7feuut7r8VKlRwR3frGmg10DNnznSHqySt+UpEHvC2zOIBb+OVdDX1ZcsA6svGCzUEokTAl2+J0pitfSmwgdZdNnJvU/fLL7+4Lez2bKo5+OCD5aeffrL2MfZ6X4nIA96WKjzgbbySrqa+bBlAfdl4oYZAlAj48i1RGrO1LwU20LplnWWfZ93OLmnNVyLygLdlFg94G6+kq6kvWwZQXzZeqCEQJQK+fEuUxmztS4ENtPWCSdT7SkQe8Lbs4gFv45V0NfVlywDqy8YLNQSiRMCXb4nSmK19Cc1Ar169Wr799ls54ogj5Pjjj7f2q1DpfSUiD3hb2vCAt/FKupr6smUA9WXjhRoCUSLgy7dEaczWvmTdQOthKXfeeads3rw5py+VK1eWESNGuENWkth8JSIPeFt28YC38Uq6mvqyZQD1ZeOFGgJRIuDLt0RpzNa+ZNVAT5s2TTp37uz2gdaDUypWrCiff/65TJ8+XV599VV54okn3M+T1nwlIg94W2bxgLfxSrqa+rJlAPVl44UaAlEi4Mu3RGnM1r5k1UCfeeaZ7hjvSZMm7dWPa665RpYuXSorVqyw9jH2el+JyAPelio84G28kq6mvmwZQH3ZeKGGQJQI+PItURqztS9ZNdAlSpSQ559/Ps+TCHUGuk2bNvLjjz9a+xh7va9E5AFvSxUe8DZeSVdTX7YMoL5svFBDIEoEfPmWKI3Z2pesGuhKlSqJblN3ww037NWPhx9+WIYPHy6fffaZtY+x1/tKRB7wtlThAW/jlXQ19WXLAOrLxgs1BKJEwJdvidKYrX3JqoG+8cYb3XpnXcLRtm3bnL48++yz0q1bN+nQoYOokba2jRs3yqhRo2TRokVuCcjOnTvzPKzlq6++cqcgzpo1S3bt2iXNmjWT++67T4499ti0S65Zs8YdNz5nzhwpVqyYXHLJJTJ27FgpV65cmk6XnPTu3dtdt3Tp0m799siRI0Vn2i3NVyLygLdERYQHvI1X0tXUly0DqC8bL9QQiBIBX74lSmO29iWrBvr777+Xiy++WBYsWCCHHnqolC9fXtTU6umD5513nrz44ovOiFrb3LlznfmuW7eubNmyRebNm7eXgf7555/l3HPPle+++07uueceKV68uAwePFi0T++9956ULFnSXVZ/f8YZZ7i+DRs2TLZt2yb9+/cXnT2fP39+zqEw69atE13Tfc4550jfvn1l06ZN0qdPH2nRooX7S4Kl+UpEHvCWqGCgbbRQU1+2HMBA23ihhkCUCPjyLVEas7UvWTXQenE9xltngN98801nZnUf6PPPP98Za8uJhbkHoseDFylSxP1It8PTbfL2PC786aeflvbt27vZYjXa2tavX+/2oNbZ5Ztvvtn9bPTo0TJo0CDRWegqVaq4n6nhb9CggbzwwgtuNlpb9+7dZcaMGU5XqlQp9zPdZaRTp05uFrxmzZoZs/aViDzgMw6JE/KAt/FKupr6smUA9WXjhRoCUSLgy7dEaczWvmTdQFs7YNXnZ6C7du3qZpBXrVqV9pVNmzaVokWLum30tDVp0sT9fvbs2Wm66tWru9nlCRMmuJ9Xq1bN/X7ixIk5Op1JL1OmjJvZHjBgQMZd95WIPOAzDgkG2oYKtd4Tbp8FBwMBDLQBFlIIRIyAL98SsWGbulNgA61mNJOZZdXosgpdj9yuXTtnQA855BBTZ1Wcn4HW5Ru6DOO5555L+06dSdaZ5Q0bNrifH3XUUW4t8/jx49N0rVq1css73nrrLdm+fbubdR43bpz06tUrTVejRg23Vd+UKVMy7ruvROQBn3FIMNA2VKgx0OYcwECbkfEBCESGgC/fEpkB70dHCmyghw4dmpGB1r7pFnaffvqp/OMf/3Av++kLedaWn4E+6aST3DprPQkxd9PlGmqEda2zNn1pUM279jt30wNgli1bJitXrnSnKOryDn0ZUme2c7eGDRu6WWhdppJf03Xa+ivV9CXIRo0aydq1a93MdlgNA20jywPexivpaurLlgHUl40XaghEiQAGOjgaBTbQwZfYW6E7Y+gMsBpKa8vPQJ944omi5nbPQ1wGDhzorpXbQOvPdLu93E3XNi9fvtwZaH1hsGrVqs6M73n8uK6VLlu27D4NtJpzfUFxz4aBtkY7XD0P+HD5FrZvx0DbIkp92XihhkCUCGCgg6NxQAy0voR37bXXypIlS4J7uIciDks4mIE2h/WAfIAH/AHBHtuLYqBtoaO+bLxQQyBKBDDQwdE4IAY6uFv5K/b1EqHupvHJJ5+kfTivlwh1GUfqpcKUOK+XCFu2bJnzUqHqeImwIJGL3md5wEcvJlHuEQbaFh3qy8YLNQSiRAADHRyNQmOgdcs5fTnxnXfekbPPPtuNXF8cPO6449K2sRszZozoEg5dTlG5cmWnW7hwodSvXz9tG7sePXrkbGOX2kNa93/WFxDZxi44seKg4AEfhyhFp48YaFssqC8bL9QQiBIBDHRwNGJjoNUga5s5c6Y7yET3fdamL+XVqVNH9CAVPfRk69ataQep6O/zOkilQoUK7kVCfbGxX79+UrFixTwPUqlXr547QEVfLNT/Nm/enINUgvMqFgoe8LEIU2Q6iYG2hYL6svFKvHpomcQjMAEYutUkt4ox0MHEYmOg89sqT1/yS+288eWXX+Yc5a2G+oILLnBHee+588Xq1avdUd56wqFuw6eHp+hOHXse5a1rtPM6yjs1Ix2M938KX4nIAz7TiPxfXEa1sn0AdaIJUF+28GOgbbwSr8ZA21IAA23jFYI6NgY6hLF7+0oMtDfUpgvxgDfhSrwYA21LAerLxivxagy0LQUw0DZeIagx0CFA3fMrMdAeIO/HJXjA7we0BH8EA20LPvVl45V4NQbalgIYaBuvENQY6BCgYqA9QM3CJXjAZwFigr4CA20LNvVl45V4NQbalgIYaBuvENQY6BCgYqA9QM3CJXjAZwFigr4CA20LNvVl45V4NQbalgIYaBuvENQY6BCgYqA9QM3CJXjAZwFigr4CA20LNvVl45V4NQbalgIYaBuvENQY6BCgYqA9QM3CJXjAZwFigr4CA20LNvVl45V4NQbalgIYaBuvENQY6BCgYqA9QM3CJXjAZwFigr4CA20LNvVl45V4NQbalgIYaBuvENQY6BCgYqA9QM3CJXjAZwFigr4CA20LNvVl45V4NQbalgIYaBuvENQY6BCgYqA9QM3CJXjAZwFigr4CA20LNvVl45V4NQbalgIYaBuvENQY6BCgYqA9QM3CJXjAZwFigr4CA20LNvVl45V4NQbalgIYaBuvENQY6BCgYqA9QM3CJXjAZwFigr4CA20LNvVl45V4NQbalgIYaBuvENQY6BCgYqA9QM3CJXjAZwFigr4CA20LNvVl45V4NQbalgIYaBuvENQY6BCgYqA9QM3CJXjAZwFigr4CA20LNvVl45V4NQbalgIYaBuvENQY6BCgYqA9QM3CJXjAZwFigr4CA20LNvVl45V4NQbalgIYaBuvENQY6BCgYqA9QM3CJXjAZwFigr4CA20LNvVl45V4NQbalgIYaBuvENQY6BCgYqA9QM3CJXjAZwFigr4CA20LNvVl45V4NQbalgIYaBuvENQY6BCgYqA9QM3CJXjAZwFigr4CA20LNvVl45V4NQbalgIYaBuvENQY6BCgYqA9QM3CJXjAZwFigr4CA20LNvVl45V4NQbalgIYaBuvENQY6BCgYqA9QM3CJXjAZwFigr4CA20LNvVl45V4NQbalgIYaBuvENQY6BCgYqA9QM3CJXjAZwFigr4CA20LNvVl45V4NQbalgIYaBuvENQY6BCgYqA9QM3CJXjAZwFigr4CA20LNvVl45V4NQbalgIYaBuvENQY6BCgYqA9QM3CJXjAZwFigr4CA20LNvVl45V4NQbalgIYaBuvENQY6BCgYqA9QM3CJXjAZwFigr4CA20LNvVl45V4NQbalgIYaBuvENQY6BCgYqA9QM3CJXjAZwFigr4CA20LNvVl45V4NQbalgIYaBuvENQY6BCgYqA9QM3CJXjAZwFigr4CA20LNvVl45V4NQbalgIYaBuvENQY6BCgYqA9QM3CJXjAZwFigr4CA20LNvVl45V4NQbalgIYaBuvENSFzkA///zzMnLkSPnggw+kePHiUrduXRkxYoTUrl07Dd/s2bNlwIAB8v7770v58uXluuuuk4EDB8rBBx+cpnvyySflD3/4g3z66ady9NFHy6233io33XSTKRT//ve/pXr16rJ27VqpVq2a6bMWMQ94Cy0RHvA2XklXU1+2DKC+bLwSr8ZA21IAA23jFYK6UBnol19+WS6++GLp2LGjdOnSRbZt2yajRo2Sjz/+WN5991055phjHMLFixdLgwYN5IorrnDGWU10//79pWfPnk6fas8995xceuml7udt2rSRN998U+666y556KGH5IYbbsg4HBjojFF5FfKA94o79hfDQNtCSH3ZeCVejYG2pQAG2sYrBHWhMtBXXXWVzJs3T1avXi1FihRxuNavXy/HHnusPPLIIzmmt1WrVrJhwwZZvnx5ju7uu++WYcOGyaZNm+TII490n61Ro4abMZ41a1YO+t/97neis9yqO+SQQzIKCQY6I0zeRTzgvSOP9QUx0LbwUV82XklXU1+2DAi7vnz5Ftuoo6UuVAa6Q4cObumGzjan2tatW6Vs2bLy8MMPy4033ig7d+6U0qVLy+DBg92SjVRbt26dM8tTp06VK6+8UlLJ88QTT0inTp1ydG+88YY0adJE5s+fL+edd15G0fSViNyAMgpHjijsG5CtN6ijToD6skWI+rLxSrqa+rJlQNj15cu32EYdLXWhMtC6rvmiiy6SMWPGuCUc27dvd+uc9efvvfeelCtXTj788EM57bTT5Nlnn5W2bdumRaNUqVLSu3dvGT58uLz00ktuOciyZcukVq1aObqvvvpKKlSoIH/+85+lW7duGUXTVyJyA8ooHBhoGybU/0eA+rKlQtgPeFtvUEedAPVli1DY9eXLt9hGHS11oTLQivbvf/+7dO7cWb7//ntHWpdvqBk+9dRT3e8XLFjg1j/PmTPHzSTnblWrVnVrnXWN87Rp09zM854v/u3atUuKFi0qf/zjH6Vv3755RnPLli2iv1Jt48aN0qhRI14ijFbu8xJhxOIR9e7wgLdFKOwHvK03qKNOgPqyRSjs+sJAB8ejUBloNcc6a6xLMC6//HL3EqHORut6Z/2zSpUquaUXDRs2lLlz50rjxo3TCFWpUsXNSquB1qUcasQ1idSEp1omBnro0KFuPfWejV04ghPSpyLsG5DPsXCt8AnwgLcxpr5svJKupr5sGRB2fWGgg+NRqAx0nTp13PKKF198MWfk//nPf9zuG7rcQs20jyUczEAHJ14UFGHfgKIwRvqQPQI84G0sqS8br6SrqS9bBoRdXxjo4HgUKgNdsmRJ6dWrl+iOGrmb7gVduXJlt3tG6iXCIUOGuPXRqZbfS4SplwpTOl4iDE6quCjCvgHFhQP9zIwAD/jMOKVU1JeNV9LV1JctA8KuLwx0cDwKlYHWlwP1sJNXXnklZ+S6C4cuwejatauMHz/e/bx169ZuWYe+IJja7k73f1ZTnXsbu9NPP90dgKLrqlNN93/WFxDZxi44uaKuCPsGFPXx0z8bAR7wNl7Ul41X0tXUly0Dwq4vDHRwPAqVgdat6rp37y7XX3+9OyTlhx9+kHvvvVeWLFkiS5cudbtvaFu0aJFbB92+fXu3tCN1kMott9ySdpCKGuXLLrvMnT74m9/8xh2komubOUglOLHioAj7BhQHBvQxcwI84DNnpUrqy8Yr6Wrqy5YBYdcXBjo4HoXKQO/evVsmTZokDz74oKxatUpKlCjhtqDT0wPr1auXRkO3trvjjjucedaDU9R0Dxo0aK+jvHU3jj2P8laTbmm+EpEbkCUqPOBttFBTX7YcCPsBb+sN6qgToL5sEQq7vnz5Ftuoo6UuVAY6Wmj/f298JSI3IFsGhH0DsvUGddQJUF+2CFFfNl5JV1NftgwIu758+RbbqKOlxkB7iIevROQGZAtm2DcgW29QR50A9WWLEPVl45V0NfVly4Cw68uXb7GNOlpqDLSHePhKRG5AtmCGfQOy9QZ11AlQX7YIUV82XklXU1+2DAi7vnz5Ftuoo6XGQHuIh69E5AZkC2bYNyBbb1BHnQD1ZYsQ9WXjlXQ19WXLgLDry5dvsY06WmoMtId4+EpEbkC2YIZ9A7L1BnXUCVBftghRXzZeSVdTX7YMCLu+fPkW26ijpcZAe4iHr0TkBmQLZtg3IFtvUEedAPVlixD1ZeOVdDX1ZcuAsOvLl2+xjTpaagy0h3j4SkRuQLZghn0DsvUGddQJUF+2CFFfNl5JV1NftgwIu758+RbbqKOlxkB7iIevROQGZAtm2DcgW29QR50A9WWLEPVl45V0NfVly4Cw68uXb7GNOlpqDLSHePhKRG5AtmCGfQOy9QZ11AlQX7YIUV82XklXU1+2DAi7vnz5Ftuoo6XGQHuIh69E5AZkC2bYNyBbb1BHnQD1ZYsQ9WXjlXQ19WXLgLDry5dvsY06WmoMtId4+EpEbkC2YIZ9A7L1BnXUCVBftghRXzZeSVdTX7YMCLu+fPkW26ijpcZAe4iHr0TkBmQLZtg3IFtvUEedAPVlixD1ZeOVdDX1ZcuAsOvLl2+xjTpaagy0h3j4SkRuQLZghn0DsvUGddQJUF+2CFFfNl5JV1NftgwIu758+RbbqKOlxkB7iIevROQGZAtm2DcgW29QR50A9WWLEPVl45V0NfVly4Cw68uXb7GNOlpqDLSHePhKRG5AtmCGfQOy9QZ11AlQX7YIUV82XklXU1+2DAi7vnz5Ftuoo6XGQHuIh69E5AZkC2bYNyBbb1BHnQD1ZYsQ9WXjlXQ19WXLgLDry5dvsY06WmoMtId4+EpEbkC2YIZ9A7L1BnXUCVBftghRXzZeSVdTX7YMCLu+fPkW26ijpcZAe4iHr0TkBmQLZtg3IFtvUEedAPVlixD1ZeOVdDX1ZcuAsOvLl2+xjTpaagy0h3j4SkRuQLZghn0DsvUGddQJUF+2CFFfNl5JV1NftgwIu758+RbbqKOlxkB7iIevROQGZAtm2DcgW29QR50A9WWLEPVl45V0NfVly4Cw68uXb7GNOlpqDLSHePhKRG5AtmCGfQOy9QZ11AlQX7YIUV82XklXU1+2DAi7vnz5Ftuoo6XGQHuIh69E5AZkC2bYNyBbb1BHnQD1ZYsQ9WXjlXQ19WXLgLDry5dvsY06WmoMtId4+EpEbkC2YIZ9A7L1BnXUCVBftghRXzZeSVdTX7YMCLu+fPkW26ijpcZAe4iHr0TkBmQLZtg3IFtvUEedAPVlixD1ZeOVdDX1ZcuAsOvLl2+xjTpaagy0h3j4SkRuQLZghn0DsvUGddQJUF+2CFFfNl5JV1NftgwIu758+RbbqKOlxkB7iIevROQGZAtm2DcgW29QR50A9WWLEPVl45V0NfVly4Cw68uXb7GNOlpqDLSHePhKRG5AtmCGfQOy9QZ11AlQX7YIUV82XklXU1+2DAi7vnz5Ftuoo6UudAZ6xowZMmbMGHn33XelWLFicvrpp8ujjz4qNWrUcOTXrFkjPXv2lDlz5rg/v+SSS2Ts2LFSrly5tMgsXbpUevfuLYsWLZLSpUtLx44dZeTIkVKiRAlzBH0lIjcgW2jCvgHZeoM66gSoL1uEqC8br6SrqS9bBoRdX758i23U0VIXKgOtRrh///7O+P7617+WHTt2yNtvv+1Mcp06deT777+XM844Q8qXLy/Dhg2Tbdu2OX2lSpVk/vz5ctBBB7norFu3Ts4880w555xzpG/fvrJp0ybp06ePtGjRQqZPn26OoK9E5AZkC03YNyBbb1BHnQD1ZYsQ9WXjlXQ19WXLgLDry5dvsY06WupCY6A//fRTOe2009xsco8ePfKkPHr0aBk0aJCbha5SpYrTLFiwQBo0aCAvvPCCM9raunfvLjqTrbpSpUq5n02bNk06deokK1askJo1a5qi6CsRuQGZwiJh34BsvUEddQLUly1C1JeNV9LV1JctA8KuL1++xTbqaKkLjYEeMGCA3H///fLNN99I8eLF86TcpEkTKVq0qMyePTvtz6tXr+5mlydMmOB+Xq1aNff7iRMn5uh++uknKVOmjAwePFj0WpbmKxG5AVmiIhhoG67Eq6kvWwqE/YC39QZ11AlQX7YIhV1fvnyLbdTRUhcaA920aVO3ROOmm26S4cOHy8aNG+Xkk0+WIUOGSPv27R31o446yq1lHj9+fFoUWrVq5T771ltvyfbt292s87hx46RXr15pOl1HXbt2bZkyZYopir4SkRuQKSwYaBuuxKupL1sKhP2At/UGddQJUF+2CIVdX758i23U0VIXGgN9yimnuLXK+pLfPffcI0cffbT85S9/cWuW//nPf4oabH1pUGePhw4dmhaFzp07y7Jly2TlypWyefNmt7xj0qRJ0rVr1zRdw4YN3Sz0rFmz9hnFLVu2iP5KNTXzjRo1krVr17rZ7bAaNyAb2bBvQLbeoI46AerLFiHqy8Yr6Wrqy5YBYdcXBjo4HoXGQJ944omi66CfffZZadu2rRv57t273cuA+tLg66+/7gz0wIED3ax07qZrm5cvX+4MtJrwqlWryuTJk6VLly5pOl0rXbZs2UADrQZdX1Lcs2GggxPSpyLsG5DPsXCt8AnwgLcxpr5svJKupr5sGRB2fWGgg+NRaAx0vXr13I4b//nPf+Swww7LGbluWaez0F988YW3JRzMQAcnXhQUYd+AojBG+pA9AjzgbSypLxuvpKupL1sGhF1fGOjgeBQaA92tWzd57LHH8jTQOpu8detW0ZcIdRb61VdfTSOT10uELVu2zHmpUMW8RBicTHFThH0DihsP+rtvAjzgbRlCfdl4JV1NfdkyIOz6wkAHx6PQGGjdhq5NmzYyc+ZMueyyy9zIf/nlF7flXMWKFeW1115zB6zoEg5dSlG5cmWnWbhwodSvXz9tGzvdBi+1jV3JkiWdTmex9QVEtrELTqq4KMK+AcWFA/3MjAAP+Mw4pVTUl41X0tXUly0Dwq4vDHRwPAqNgdb1zo0bN5YPPvjAnRiYeolQ10Tr+mf9s9RBKhUqVHAvEv7444/Sr18/Z7DzOkhFl4XoASr6YqH+t3nz5hykEpxTsVGEfQOKDQg6mhEBHvAZYcoRUV82XklXU1+2DAi7vjDQwfEoNAZah6prj9UQP/PMM24px1lnneW2tNM9nVNt9erV7ijvuXPnuj2h9fAU3bJuz6O8lyxZkudR3qkZ6WC0/1+RuyCsAAAgAElEQVThKxG5AVmiwj7QNlqoqS9bDoT9gLf1BnXUCVBftgiFXV++fItt1NFSFyoDHS20GOioxiPVr7BvQFEfP/2zEeABb+NFfdl4JV1NfdkyIOz6wkAHxwMDHcyowApficgNyBaqsG9Att6gjjoB6ssWIerLxivpaurLlgFh15cv32IbdbTUGGgP8fCViNyAbMEM+wZk6w3qqBOgvmwRor5svJKupr5sGRB2ffnyLbZRR0uNgfYQD1+JyA3IFsywb0C23qCOOgHqyxYh6svGK+lq6suWAWHXly/fYht1tNQYaA/x8JWI3IBswQz7BmTrDeqoE6C+bBGivmy8kq6mvmwZEHZ9+fIttlFHS42B9hAPX4nIDcgWzLBvQLbeoI46AerLFiHqy8Yr6Wrqy5YBYdeXL99iG3W01BhoD/HwlYjcgGzBDPsGZOsN6qgToL5sEaK+bLySrqa+bBkQdn358i22UUdLjYH2EA9ficgNyBbMsG9Att6gjjoB6ssWIerLxivpaurLlgFh15cv32IbdbTUGGgP8fCViNyAbMEM+wZk6w3qqBOgvmwRor5svJKupr5sGRB2ffnyLbZRR0uNgfYQD1+JyA3IFsywb0C23qCOOgHqyxYh6svGK+lq6suWAWHXly/fYht1tNQYaA/x8JWI3IBswQz7BmTrDeqoE6C+bBGivmy8kq6mvmwZEHZ9+fIttlFHS42B9hAPX4nIDcgWzLBvQLbeoI46AerLFiHqy8Yr6Wrqy5YBYdeXL99iG3W01BhoD/HwlYjcgGzBDPsGZOsN6qgToL5sEaK+bLySrqa+bBkQdn358i22UUdLjYH2EA9ficgNyBbMsG9Att6gjjoB6ssWIerLxivpaurLlgFh15cv32IbdbTUGGgP8fCViNyAbMEM+wZk6w3qqBOgvmwRor5svJKupr5sGRB2ffnyLbZRR0uNgfYQD1+JyA3IFsywb0C23qCOOgHqyxYh6svGK+lq6suWAWHXly/fYht1tNQYaA/x8JWI3IBswQz7BmTrDeqoE6C+bBGivmy8kq6mvmwZEHZ9+fIttlFHS42B9hAPX4nIDcgWzLBvQLbeoI46AerLFiHqy8Yr6Wrqy5YBYdeXL99iG3W01BhoD/HwlYjcgGzBDPsGZOsN6qgToL5sEaK+bLySrqa+bBkQdn358i22UUdLjYH2EA9ficgNyBbMsG9Att6gjjoB6ssWIerLxivpaurLlgFh15cv32IbdbTUGGgP8fCViNyAbMEM+wZk6w3qqBOgvmwRor5svJKupr5sGRB2ffnyLbZRR0uNgfYQD1+JyA3IFsywb0C23qCOOgHqyxYh6svGK+lq6suWAWHXly/fYht1tNQYaA/x8JWI3IBswQz7BmTrDeqoE6C+bBGivmy8kq6mvmwZEHZ9+fIttlFHS42B9hAPX4nIDcgWzLBvQLbeoI46AerLFiHqy8Yr6Wrqy5YBYdeXL99iG3W01BhoD/HwlYjcgGzBDPsGZOsN6qgToL5sEaK+bLySrqa+bBkQdn358i22UUdLjYH2EA9ficgNyBbMsG9Att6gjjoB6ssWIerLxivpaurLlgFh15cv32IbdbTUhdZA79q1S2rXri3vvfeeTJkyRTp37pxDfunSpdK7d29ZtGiRlC5dWjp27CgjR46UEiVKpEVn9uzZMmDAAHn//felfPnyct1118nAgQPl4IMPNkXRVyJyAzKFRcK+Adl6gzrqBKgvW4SoLxuvpKupL1sGhF1fvnyLbdTRUhdaA33vvffKmDFj5PPPP08z0OvWrZMzzzxTzjnnHOnbt69s2rRJ+vTpIy1atJDp06fnRGfx4sXSoEEDueKKK5xxVhPdv39/6dmzp4waNcoURV+JyA3IFBYMtA1X4tXUly0Fwn7A23qDOuoEqC9bhMKuL1++xTbqaKkLpYFWU3zqqafKgw8+KF26dEkz0N27d5cZM2bImjVrpFSpUi4a06ZNk06dOsmKFSukZs2a7metWrWSDRs2yPLly6VIkSLuZ3fffbcMGzbMme4jjzwy40j6SkRuQBmHxAnDvgHZeoM66gSoL1uEqC8br6SrqS9bBoRdX758i23U0VIXSgOts8aHHnqojBgxQqpXr55moKtVq+ZmmydOnJgTiZ9++knKlCkjgwcPdks2du7c6ZZ26O91yUaq6ey1fn7q1Kly5ZVXZhxJX4nIDSjjkGCgbahQiwj1ZUuDsB/wtt6gjjoB6ssWobDry5dvsY06WupCZ6Bffvllad++vXz88ceixji3gd6+fbubdR43bpz06tUrLRI1atRwa6Z1vfSHH34op512mjz77LPStm3bNJ1+XtdPDx8+PONI+kpEbkAZhwQDbUOFGgNtzoGwH/DmDvGBSBPg+WULT9j15cu32EYdLXWhMtA7duyQ008/XW688Ua3rjmVAKmXCDdv3ixVqlSRSZMmSdeuXdMi0bBhQzcLPWvWLFmwYIFb/zxnzhxp0qRJmq5q1arSpk0beeihh/KN5JYtW0R/pdrGjRulUaNGsnbtWjeDHVbjBmQjG/YNyNYb1FEnQH3ZIkR92XglXU192TIg7PrCQAfHo1AZaF1yoeubdS1z0aJF9zLQunZZDfDkyZPd2ujcTQ1z2bJlnYGeP3++qKGeO3euNG7cOE2nBlxnpfdloIcOHerWSu/ZMNDBCelTEfYNyOdYuFb4BHjA2xhTXzZeSVdTX7YMCLu+MNDB8Sg0BlrXJ5988slufXKzZs3cyNevX+923Hj00Uflt7/9rTPVPpZwMAMdnHhRUIR9A4rCGOlD9gjwgLexpL5svJKupr5sGRB2fWGgg+NRaAy0zhY3bdo03xHr3s26N7QuoWjZsqVMmDAhR5vfS4RDhgxxLxWmGi8RBidUnBRh34DixIK+BhPgAR/MKLeC+rLxSrqa+rJlQNj1hYEOjkehMdA666tbzuVuuge0HpKiJlhNsy7H6NGjR842diVLlnRy3f9Zdbm3sWvdurXbxm7ZsmU529jp/s9qqtnGLjix4qAI+wYUBwb0MXMCPOAzZ6VK6svGK+lq6suWAWHXFwY6OB6FxkDnNdQ9XyJUTeoglXr16rkXDfXFQv1v8+bN0w5S0VMKdR207ujRrVu3nINUbrnlFg5SCc6rWCjCvgHFAgKdzJgAD/iMUTkh9WXjlXQ19WXLgLDrCwMdHI/EGWhFsmTJkjyP8k7NSKew6VHed9xxhzPPenDK9ddfL4MGDeIo7+C8ioUi7BtQLCDQyYwJ8IDPGBUG2oYKNdtEmnMg7OcXBjo4JIXaQAcP34/CVyLygLfFM+wbkK03qKNOgPqyRYj6svFKupr6smVA2PXly7fYRh0tNQbaQzx8JSI3IFsww74B2XqDOuoEqC9bhKgvG6+kq6kvWwaEXV++fItt1NFSY6A9xMNXInIDsgUz7BuQrTeoo06A+rJFiPqy8Uq6mvqyZUDY9eXLt9hGHS01BtpDPHwlIjcgWzDDvgHZeoM66gSoL1uEqC8br6SrqS9bBoRdX758i23U0VJjoD3Ew1cicgOyBTPsG5CtN6ijToD6skWI+rLxSrqa+rJlQNj15cu32EYdLTUG2kM8fCUiNyBbMMO+Adl6gzrqBKgvW4SoLxuvpKupL1sGhF1fvnyLbdTRUmOgPcTDVyJyA7IFM+wbkK03qKNOgPqyRYj6svFKupr6smVA2PXly7fYRh0tNQbaQzx8JSI3IFsww74B2XqDOuoEqC9bhKgvG6+kq6kvWwaEXV++fItt1NFSY6A9xMNXInIDsgUz7BuQrTeoo06A+rJFiPqy8Uq6mvqyZUDY9eXLt9hGHS01BtpDPHwlIjcgWzDDvgHZeoM66gSoL1uEqC8br6SrqS9bBoRdX758i23U0VJjoD3Ew1cicgOyBTPsG5CtN6ijToD6skWI+rLxSrqa+rJlQNj15cu32EYdLTUG2kM8fCUiNyBbMMO+Adl6gzrqBKgvW4SoLxuvpKupL1sGhF1fvnyLbdTRUmOgPcTDVyJyA7IFM+wbkK03qKNOgPqyRYj6svFKupr6smVA2PXly7fYRh0tNQbaQzx8JSI3IFsww74B2XqDOuoEqC9bhKgvG6+kq6kvWwaEXV++fItt1NFSY6A9xMNXInIDsgUz7BuQrTeoo06A+rJFiPqy8Uq6mvqyZUDY9eXLt9hGHS01BtpDPHwlIjcgWzDDvgHZeoM66gSoL1uEqC8br6SrqS9bBoRdX758i23U0VJjoD3Ew1cicgOyBTPsG5CtN6ijToD6skWI+rLxSrqa+rJlQNj15cu32EYdLTUG2kM8fCUiNyBbMMO+Adl6gzrqBKgvW4SoLxuvpKupL1sGhF1fvnyLbdTRUmOgPcTDVyJyA7IFM+wbkK03qKNOgPqyRYj6svFKupr6smVA2PXly7fYRh0tNQbaQzx8JSI3IFsww74B2XqDOuoEqC9bhKgvG6+kq6kvWwaEXV++fItt1NFSY6A9xMNXInIDsgUz7BuQrTeoo06A+rJFiPqy8Uq6mvqyZUDY9eXLt9hGHS01BtpDPHwlIjcgWzDDvgHZeoM66gSoL1uEqC8br6SrqS9bBoRdX758i23U0VJjoD3Ew1cicgOyBTPsG5CtN6ijToD6skWI+rLxSrqa+rJlQNj15cu32EYdLTUG2kM8fCUiNyBbMMO+Adl6gzrqBKgvW4SoLxuvpKupL1sGhF1fvnyLbdTRUmOgPcTDVyJyA7IFM+wbkK03qKNOgPqyRYj6svFKupr6smVA2PXly7fYRh0tNQbaQzx8JSI3IFsww74B2XqDOuoEqC9bhKgvG6+kq6kvWwaEXV++fItt1NFSY6A9xMNXInIDsgUz7BuQrTeoo06A+rJFiPqy8Uq6mvqyZUDY9eXLt9hGHS11oTHQM2bMkKlTp8qSJUvk66+/lmrVqslVV10lvXv3luLFi+dQX7NmjfTs2VPmzJkjxYoVk0suuUTGjh0r5cqVS4vM0qVL3WcXLVokpUuXlo4dO8rIkSOlRIkS5gj6SkRuQLbQhH0DsvXm/7V37iFeVVscX0MqpZRSvjXDVCpNLTPzMZJeHYsssMLSxtCKqNDIHjr5yEeWPRSVqD+aIi3LHkbBVFSaJZmvXjNWFiImktpUYCaZGkmXtS8zd37emfn91m32nv0753MgpHF5fnt91vru853z22cfomMngL5sFUJfNl5pj0Zftg7wra9QvsWWdVzRiTHQAwcOdKZ5zJgx0r59e9m8ebMsWLBARo8eLatXr3bUDx06JL1795Y2bdrI/Pnz5fDhw1JSUiIdOnSQjRs3SkFBgYvbs2eP9O3bVwYMGCDTpk2Tffv2yb333itFRUXyyiuvmCsYqhGZgGyl8T0B2UZDdOwE0JetQujLxivt0ejL1gG+9RXKt9iyjis6MQb6l19+cca45vHoo4/KjBkzRBvhrLPOkkWLFsns2bNF70J36tTJhW7atEmGDBkiZWVl7m60HpMnTxa9o61xLVq0cD9btWqVFBcXy7Zt26RPnz6mKoZqRCYgU1nE9wRkGw3RsRNAX7YKoS8br7RHoy9bB/jWVyjfYss6rujEGOjasK5du1ZGjRrlTPKgQYNk2LBh0rRpU9Gf1zy6du3q7i6Xlpa6H+udbP3/Z555pjrs2LFj0rJlS5kzZ47MnDnTVMVQjcgEZCoLBtqGK/XR6MvWAr4v8LbREB07AfRlq5BvfYXyLbas44pOtIFWs7tw4UKprKyU1q1bS7t27dxa5mXLlmVUQZd56PKODRs2yB9//OHuOi9dulSmTp2aEderVy/p16+frFy50lTFUI3IBGQqCwbahiv10ejL1gK+L/C20RAdOwH0ZauQb32F8i22rOOKTqyB3rFjh/Tv31/GjRtXfSdZHxrUu8fz5s3LqMKECROkvLxctm/fLvv373fLO5YvXy6TJk3KiCssLHR3od955516q3jw4EHR/6qOvXv3ytChQ2X37t3u7ravgwnIRtb3BGQbDdGxE0BftgqhLxuvtEejL1sH+NYXBjp7PRJpoA8cOCCDBw92DwVu3bpVTjvtNEdCDfSsWbNk7ty5GWR0bXNFRYUz0PrAYOfOnWXFihUyceLEjDhdK92qVausBloNuj6keOKBgc7ekCEjfE9AIXPhs/wT4AJvY4y+bLzSHo2+bB3gW18Y6Oz1SJyB1p01RowYIXrXV9c+d+nSpZpCqCUc3IHO3ngxRPiegGLIkTE0HAEu8DaW6MvGK+3R6MvWAb71hYHOXo9EGWh90O/KK68U3cNZ1zP37Nkzg4A+RKh3odesWZPx89oeItSHD6seKtRgHiLM3kz5FuF7Aso3Hoy3fgJc4G0dgr5svNIejb5sHeBbXxjo7PVIjIE+fvy4jB071pnjdevWySWXXPI/2S9evNgt4dClFB07dnR/v2XLFrdDR81t7KZMmVK9jV3z5s1dnO7/rA8gso1d9qbKlwjfE1C+cGCcuRHgAp8bp6oo9GXjlfZo9GXrAN/6wkBnr0diDPTtt98uTz/9tDz44INuC7qaR7du3dwe0VUvUmnbtq17kPDIkSMyffp09+KV2l6koi9n0Reo6IOF+ufIkSN5kUr2nsqbCN8TUN6AYKA5EeACnxOm6iD0ZeOV9mj0ZesA3/rCQGevR2IMtO5uoW8QrO2ouaPGrl273Ku8169f7/aE1pen6JZ1J77KW18JXturvKvuSGdH+9+IUI3IBGSpirCNnQ1X6qPRl60FfF/gbaMhOnYC6MtWId/6CuVbbFnHFZ0YAx0X1szRhGpEJiBbF/iegGyjITp2AujLViH0ZeOV9mj0ZesA3/oK5VtsWccVjYEOUI9QjcgEZCum7wnINhqiYyeAvmwVQl82XmmPRl+2DvCtr1C+xZZ1XNEY6AD1CNWITEC2YvqegGyjITp2AujLViH0ZeOV9mj0ZesA3/oK5VtsWccVjYEOUI9QjcgEZCum7wnINhqiYyeAvmwVQl82XmmPRl+2DvCtr1C+xZZ1XNEY6AD1CNWITEC2YvqegGyjITp2AujLViH0ZeOV9mj0ZesA3/oK5VtsWccVjYEOUI9QjcgEZCum7wnINhqiYyeAvmwVQl82XmmPRl+2DvCtr1C+xZZ1XNEY6AD1CNWITEC2YvqegGyjITp2AujLViH0ZeOV9mj0ZesA3/oK5VtsWccVjYEOUI9QjcgEZCum7wnINhqiYyeAvmwVQl82XmmPRl+2DvCtr1C+xZZ1XNEY6AD1CNWITEC2YvqegGyjITp2AujLViH0ZeOV9mj0ZesA3/oK5VtsWccVjYEOUI9QjcgEZCum7wnINhqiYyeAvmwVQl82XmmPRl+2DvCtr1C+xZZ1XNEY6AD1CNWITEC2YvqegGyjITp2AujLViH0ZeOV9mj0ZesA3/oK5VtsWccVjYEOUI9QjcgEZCum7wnINhqiYyeAvmwVQl82XmmPRl+2DvCtr1C+xZZ1XNEY6AD1CNWITEC2YvqegGyjITp2AujLViH0ZeOV9mj0ZesA3/oK5VtsWccVjYEOUI9QjcgEZCum7wnINhqiYyeAvmwVQl82XmmPRl+2DvCtr1C+xZZ1XNEY6AD1CNWITEC2YvqegGyjITp2AujLViH0ZeOV9mj0ZesA3/oK5VtsWccVjYEOUI9QjcgEZCum7wnINhqiYyeAvmwVQl82XmmPRl+2DvCtr1C+xZZ1XNEY6AD1CNWITEC2YvqegGyjITp2AujLViH0ZeOV9mj0ZesA3/oK5VtsWccVjYEOUI9QjcgEZCum7wnINhqiYyeAvmwVQl82XmmPRl+2DvCtr1C+xZZ1XNEY6AD1CNWITEC2YvqegGyjITp2AujLViH0ZeOV9mj0ZesA3/oK5VtsWccVjYEOUI9QjcgEZCum7wnINhqiYyeAvmwVQl82XmmPRl+2DvCtr1C+xZZ1XNEY6AD1CNWITEC2YvqegGyjITp2AujLViH0ZeOV9mj0ZesA3/oK5VtsWccVjYEOUI9QjcgEZCum7wnINhqiYyeAvmwVQl82XmmPRl+2DvCtr1C+xZZ1XNEY6AD1CNWITEC2YvqegGyjITp2AujLViH0ZeOV9mj0ZesA3/oK5VtsWccVjYEOUI9QjcgEZCum7wnINhqiYyeAvmwVQl82XmmPRl+2DvCtr1C+xZZ1XNEY6AD1CNWITEC2YvqegGyjITp2AujLViH0ZeOV9mj0ZesA3/oK5VtsWccVjYEOUI9QjcgEZCum7wnINhqiYyeAvmwVQl82XmmPRl+2DvCtr1C+xZZ1XNEY6AD1CNWITEC2YvqegGyjITp2AujLViH0ZeOV9mj0ZesA3/oK5VtsWccVjYGupx7ff/+93HXXXfLRRx9Js2bN5KqrrpIlS5bIGWecYapiqEZkAjKVRXxPQLbREB07AfRlqxD6svFKezT6snWAb32F8i22rOOKxkDXUY9Dhw5J7969pU2bNjJ//nw5fPiwlJSUSIcOHWTjxo1SUFCQcyVDNSITUM4lcYG+JyDbaIiOnQD6slUIfdl4pT0afdk6wLe+QvkWW9ZxRWOg66jHokWLZPbs2aJ3oTt16uSiNm3aJEOGDJGysjJ3NzrXI1QjMgHlWpH/xPmegGyjITp2AujLViH0ZeOV9mj0ZesA3/oK5VtsWccVjYGuox7Dhg2Tpk2bytq1azMiunbtKkVFRVJaWppzJUM1IhNQziXBQNtQES0i6MvWBr4v8LbREB07AfRlq5BvfYXyLbas44rGQNdRj3bt2sn48eNl2bJlGRGjR48WXd6xYcOGnCsZqhGZgHIuCQbahopoDLS5B3xf4M0D4h9ETYDrl608vvUVyrfYso4rGgNdRz30ocGZM2fKvHnzMiImTJgg5eXlsn379jorefDgQdH/qg5txOHDhzvT3blzZ28dUPjYh97OncQTf1LyrySmRU6eCKAvG1j0ZeOV9mj0ZesA3/rau3evDB06VHbu3Cndu3e3DS4l0Rjoegz0rFmzZO7cuRkRxcXFUlFRUa+BVtOtDx5yQAACEIAABCAAgXwloDf+CgsL83X4XseNga4D7z9ZwnHiHeijR4/K7t27pUePHtKkSROvBY3t5FW/xfq++x5b3owHAiEIoK8QlPmMtBJIs77++usvqayslP79+8vJJ5+c1haoN28MdB149CFCXcaxZs2ajIj/5yHCNHce66jSXH1y900AffkmzPnTTAB9pbn62XPHQNfBaPHixaJLOPTOcceOHV3Uli1bZNCgQeZt7LKXIbkRTEDJrS2ZNT4B9NX4NWAEySWAvpJb24bIDANdB8WqF6m0bdvWPUh45MgRmT59urRv3978IpWGKFS+noMJKF8rx7jzgQD6yocqMcZ8JYC+8rVyYcaNga6H865du9yrvNevX+/2hNaXpyxdutT8Ku8wpYzzU3Q9uG4FOHXqVGnVqlWcg2RUEMhTAugrTwvHsPOCAPrKizI12iAx0I2Gng+GAAQgAAEIQAACEMhHAhjofKwaY4YABCAAAQhAAAIQaDQCGOhGQ88HQwACEIAABCAAAQjkIwEMdD5WjTFDAAIQgAAEIAABCDQaAQx0o6HngyEAAQhAAAIQgAAE8pEABjofqxbhmD/88EO324bulf3rr79K69atRV9Gc88998jFF1+cMeKePXvKd999515SU1RUFGE2DAkCcRDQLTTnz58vF1xwgXz55ZdSUFBQPbAVK1bITTfdJB9//LFcfvnlcuuttzoN1jz0bWL6JrGTTjpJPv30U/cnBwQgIBlaqovHxIkTnf569eolkyZNkieffDIj9LnnnpNbbrlF3n//fRk1ahRYU0YAA52ygvtI9+GHH5bZs2fL6NGjZcKECe7FMz/++KO88cYbsnr1ameoW7Zs6T76iy++cBd0PW688UZ54YUXfAyJc0IgEQSqDLQmo3q6+uqr/8dA//DDD/Laa6/JtGnT3C+wNX9hffzxx90LodQ8X3jhhYlgQhIQaAgCqpWax9ixY6VPnz7ywAMPVP+4TZs20q1bN7d97X333SeffPKJe5maHj/99JOcd955csUVV8iLL77YEEPiHHlGAAOdZwWLbbgffPCBu4usF2+9WJ94rFu3zk04zZs3d3+l+0Hrb/HDhw+XzZs3u0moRYsWsaXFeCAQBQE10A899JAMHTpUDhw4IBUVFdV3zqruQKuB7tChg9PZn3/+KZ9//rk0adLEvUX1/PPPlylTpshjjz0WRT4MAgKxEujevbsUFhaK6urE4/jx4zJw4ED3QrXy8nL3Xojrr79e9Pqm36aq0eZIHwEMdPpq3qAZ69dW27ZtE72IN2vWrN5z6yTUqVMn93W0vqCm6jf34uLiBh0TJ4NAUghUGWhdInXppZfK66+/Ltdee61Lr6aB7ty5s3z11Vfu250FCxZISUmJW9ahL4PSn59yyilJQUIeEPBCoD4DrR+ov7zqtztz58511zB9sZpqUJd5cKSTAAY6nXVvkKx1feWpp54q11xzjbz00ktZz/nuu+8607xy5UoZP358tZl+7733sv5bAiCQRgJVBlq1NmLECPn555+dIda10CcaaOWjyzX062b9U5dVqfHWb3s4IACB+glkM9D6r6dPny5PPPGEnH766aLP8ug3sBzpJYCBTm/t/3Hmuvyiffv2cv/998sjjzyS9Xw33HCDlJWVVS/b0LvQTz31lOzdu9edhwMCEMgkUNNA6/pLXcrx6quvynXXXVergT527Jj07dtXduzY4R5uevbZZ0EKAQjkQCAXA3348GG3XOPo0aNOYz169MjhzIQklQAGOqmVDZBXZWWlW3s5Y8YMWbhwYb2f+Pvvv0u7du3cQ1BVD1x89tlnMmDAAFmyZIncfffdAUbMR0AgvwjUNNA6cn3eYP/+/fL111+7B3B1Fw5dPqVLOKqO0tJSue2229zyjbPPPju/Ema0EGgkArkYaOWrkxgAAATjSURBVL3hc+edd8rff/8tqjPd+YYjvQQw0Omt/T/OvGoJh67JzPYU8vPPP++2AdK7ZzW3+7nooovcDh26RRcHBCBQ9x1o/Rt98Hbw4MHy8ssvu7tgtRno2pZ2wBUCEKifQDYDvW/fPrdsY9y4ce5hwrfffts9QKg3hjjSSQADnc66N1jWl112WfVDhPpkcl3HyJEj3RPLdR3ffPON22uTAwIQ+C+BE+9A69/ow4F79uxxO9/oMo0T70BjoOkgCNgJZDPQ+u2pbn2npllvHp177rnuZtCqVavsH8a/SAQBDHQiyth4SVRtY1fXOmh9iOmcc86RLl26iO62cfPNN2cM9tChQzJmzBi3a0Au66gbL1M+GQLhCdRmoLdu3eq21NLlHGvXrsVAhy8Ln5hAAvUZaN2DXb9p1f3Wdb9oPZYvX+6uZ/oQvN5I4kgfAQx0+mre4BnrPrW6+bxu66MvUtF10bo++s0333RLNubMmSNqBHQbIH3A6cRDdxfYuXOnu6tW801rDT5QTgiBPCNQm4HWFHQ3G93VRg/uQOdZURlulATqMtB6k0dfmNKvXz956623Msaub9tV/ek3qGwVGWVZvQ4KA+0Vb3pOrssz9DXCukbzt99+c6/y1h0DJk+e7B660FcI6wb0tR26flrfSsiWW+npFzLNjUBdBrrqAVwMdG4ciYJANgJ1Geg77rjDPePz7bffyplnnplxGt2JQ28K6UPwfIOajXDy/h4DnbyakhEEIAABCEAAAhCAgEcCGGiPcDk1BCAAAQhAAAIQgEDyCGCgk1dTMoIABCAAAQhAAAIQ8EgAA+0RLqeGAAQgAAEIQAACEEgeAQx08mpKRhCAAAQgAAEIQAACHglgoD3C5dQQgAAEIAABCEAAAskjgIFOXk3JCAIQgAAEIAABCEDAIwEMtEe4nBoCEIAABCAAAQhAIHkEMNDJqykZQQACEIAABCAAAQh4JICB9giXU0MAAhCAAAQgAAEIJI8ABjp5NSUjCEAAAhCAAAQgAAGPBDDQHuFyaghAAAIQgAAEIACB5BHAQCevpmQEAQhAAAIQgAAEIOCRAAbaI1xODQEIQAACEIAABCCQPAIY6OTVlIwgAAEIQAACEIAABDwSwEB7hMupIQABCEAAAhCAAASSRwADnbyakhEEIAABCEAAAhCAgEcCGGiPcDk1BCAAAQhAAAIQgEDyCGCgk1dTMoIABCAAAQhAAAIQ8EgAA+0RLqeGAAQgAAEIQAACEEgeAQx08mpKRhCAAAQgAAEIQAACHglgoD3C5dQQgAAEIAABCEAAAskjgIFOXk3JCAIQgAAEIAABCEDAIwEMtEe4nBoCEIAABCAAAQhAIHkEMNDJqykZQQACEIAABCAAAQh4JICB9giXU0MAAhCAAAQgAAEIJI8ABjp5NSUjCEAAAhCAAAQgAAGPBDDQHuFyaghAAAIQgAAEIACB5BHAQCevpmQEAQhAAAIQgAAEIOCRAAbaI1xODQEIQAACEIAABCCQPAIY6OTVlIwgAAEIQAACEIAABDwSwEB7hMupIQABCEAAAhCAAASSRwADnbyakhEEIAABCEAAAhCAgEcCGGiPcDk1BCAAAQhAAAIQgEDyCGCgk1dTMoIABCAAAQhAAAIQ8EgAA+0RLqeGAAQgAAEIQAACEEgegX8DD/p9x5mvuEcAAAAASUVORK5CYII=\" width=\"640\">"
      ],
      "text/plain": [
       "<IPython.core.display.HTML object>"
      ]
     },
     "metadata": {},
     "output_type": "display_data"
    }
   ],
   "source": [
    "N = 3\n",
    "menMeans = (1908, 1191, 823)\n",
    "womenMeans = (143, 68, 152)\n",
    "\n",
    "ind = np.arange(N)    # the x locations for the groups\n",
    "width = 0.35       # the width of the bars: can also be len(x) sequence\n",
    "\n",
    "p1 = plt.bar(ind, menMeans, width,)\n",
    "p2 = plt.bar(ind, womenMeans, width,\n",
    "             bottom=menMeans,)\n",
    "\n",
    "plt.ylabel('Jobs')\n",
    "plt.title('Jobs by state')\n",
    "plt.xticks(ind, ('CA', 'NY', 'TX'))\n",
    "plt.yticks(np.arange(0, 2200, 200))\n",
    "plt.legend((p1[0], p2[0]), ('Real', 'Fraudulent'))\n",
    "\n",
    "plt.show()"
   ]
  },
  {
   "cell_type": "code",
   "execution_count": 76,
   "metadata": {},
   "outputs": [
    {
     "ename": "KeyError",
     "evalue": "'Job Count'",
     "output_type": "error",
     "traceback": [
      "\u001b[1;31m---------------------------------------------------------------------------\u001b[0m",
      "\u001b[1;31mKeyError\u001b[0m                                  Traceback (most recent call last)",
      "\u001b[1;32m~\\Anaconda3\\lib\\site-packages\\pandas\\core\\indexes\\base.py\u001b[0m in \u001b[0;36mget_loc\u001b[1;34m(self, key, method, tolerance)\u001b[0m\n\u001b[0;32m   2896\u001b[0m             \u001b[1;32mtry\u001b[0m\u001b[1;33m:\u001b[0m\u001b[1;33m\u001b[0m\u001b[1;33m\u001b[0m\u001b[0m\n\u001b[1;32m-> 2897\u001b[1;33m                 \u001b[1;32mreturn\u001b[0m \u001b[0mself\u001b[0m\u001b[1;33m.\u001b[0m\u001b[0m_engine\u001b[0m\u001b[1;33m.\u001b[0m\u001b[0mget_loc\u001b[0m\u001b[1;33m(\u001b[0m\u001b[0mkey\u001b[0m\u001b[1;33m)\u001b[0m\u001b[1;33m\u001b[0m\u001b[1;33m\u001b[0m\u001b[0m\n\u001b[0m\u001b[0;32m   2898\u001b[0m             \u001b[1;32mexcept\u001b[0m \u001b[0mKeyError\u001b[0m\u001b[1;33m:\u001b[0m\u001b[1;33m\u001b[0m\u001b[1;33m\u001b[0m\u001b[0m\n",
      "\u001b[1;32mpandas\\_libs\\index.pyx\u001b[0m in \u001b[0;36mpandas._libs.index.IndexEngine.get_loc\u001b[1;34m()\u001b[0m\n",
      "\u001b[1;32mpandas\\_libs\\index.pyx\u001b[0m in \u001b[0;36mpandas._libs.index.IndexEngine.get_loc\u001b[1;34m()\u001b[0m\n",
      "\u001b[1;32mpandas\\_libs\\hashtable_class_helper.pxi\u001b[0m in \u001b[0;36mpandas._libs.hashtable.PyObjectHashTable.get_item\u001b[1;34m()\u001b[0m\n",
      "\u001b[1;32mpandas\\_libs\\hashtable_class_helper.pxi\u001b[0m in \u001b[0;36mpandas._libs.hashtable.PyObjectHashTable.get_item\u001b[1;34m()\u001b[0m\n",
      "\u001b[1;31mKeyError\u001b[0m: 'Job Count'",
      "\nDuring handling of the above exception, another exception occurred:\n",
      "\u001b[1;31mKeyError\u001b[0m                                  Traceback (most recent call last)",
      "\u001b[1;32m<ipython-input-76-970e6199d03a>\u001b[0m in \u001b[0;36m<module>\u001b[1;34m\u001b[0m\n\u001b[0;32m      1\u001b[0m \u001b[0mca_nf_count\u001b[0m \u001b[1;33m=\u001b[0m \u001b[0mstate_fraud_counts\u001b[0m\u001b[1;33m[\u001b[0m\u001b[0mstate_fraud_counts\u001b[0m\u001b[1;33m[\u001b[0m\u001b[1;34m'STATE'\u001b[0m\u001b[1;33m]\u001b[0m \u001b[1;33m==\u001b[0m \u001b[1;34m\"CA\"\u001b[0m\u001b[1;33m]\u001b[0m\u001b[1;33m[\u001b[0m\u001b[1;34m'CITY'\u001b[0m\u001b[1;33m]\u001b[0m\u001b[1;33m[\u001b[0m\u001b[1;36m0\u001b[0m\u001b[1;33m]\u001b[0m\u001b[1;33m\u001b[0m\u001b[1;33m\u001b[0m\u001b[0m\n\u001b[1;32m----> 2\u001b[1;33m \u001b[0mtx_nf_count\u001b[0m \u001b[1;33m=\u001b[0m \u001b[0mstate_fraud_counts\u001b[0m\u001b[1;33m[\u001b[0m\u001b[0mstate_fraud_counts\u001b[0m\u001b[1;33m[\u001b[0m\u001b[1;34m'STATE'\u001b[0m\u001b[1;33m]\u001b[0m \u001b[1;33m==\u001b[0m \u001b[1;34m\"TX\"\u001b[0m\u001b[1;33m]\u001b[0m\u001b[1;33m[\u001b[0m\u001b[1;34m'Job Count'\u001b[0m\u001b[1;33m]\u001b[0m\u001b[1;33m[\u001b[0m\u001b[1;36m0\u001b[0m\u001b[1;33m]\u001b[0m\u001b[1;33m\u001b[0m\u001b[1;33m\u001b[0m\u001b[0m\n\u001b[0m\u001b[0;32m      3\u001b[0m \u001b[0mny_nf_count\u001b[0m \u001b[1;33m=\u001b[0m \u001b[0mstate_fraud_counts\u001b[0m\u001b[1;33m[\u001b[0m\u001b[0mstate_fraud_counts\u001b[0m\u001b[1;33m[\u001b[0m\u001b[1;34m'STATE'\u001b[0m\u001b[1;33m]\u001b[0m \u001b[1;33m==\u001b[0m \u001b[1;34m\"NY\"\u001b[0m\u001b[1;33m]\u001b[0m\u001b[1;33m[\u001b[0m\u001b[1;34m'Job Count'\u001b[0m\u001b[1;33m]\u001b[0m\u001b[1;33m[\u001b[0m\u001b[1;36m0\u001b[0m\u001b[1;33m]\u001b[0m\u001b[1;33m\u001b[0m\u001b[1;33m\u001b[0m\u001b[0m\n\u001b[0;32m      4\u001b[0m \u001b[0mca_f_count\u001b[0m \u001b[1;33m=\u001b[0m \u001b[0mstate_fraud_counts\u001b[0m\u001b[1;33m[\u001b[0m\u001b[0mstate_fraud_counts\u001b[0m\u001b[1;33m[\u001b[0m\u001b[1;34m'STATE'\u001b[0m\u001b[1;33m]\u001b[0m \u001b[1;33m==\u001b[0m \u001b[1;34m\"CA\"\u001b[0m\u001b[1;33m]\u001b[0m\u001b[1;33m[\u001b[0m\u001b[1;34m'Job Count'\u001b[0m\u001b[1;33m]\u001b[0m\u001b[1;33m[\u001b[0m\u001b[1;36m0\u001b[0m\u001b[1;33m]\u001b[0m\u001b[1;33m\u001b[0m\u001b[1;33m\u001b[0m\u001b[0m\n\u001b[0;32m      5\u001b[0m \u001b[0mtx_f_count\u001b[0m \u001b[1;33m=\u001b[0m \u001b[0mstate_fraud_counts\u001b[0m\u001b[1;33m[\u001b[0m\u001b[0mstate_fraud_counts\u001b[0m\u001b[1;33m[\u001b[0m\u001b[1;34m'STATE'\u001b[0m\u001b[1;33m]\u001b[0m \u001b[1;33m==\u001b[0m \u001b[1;34m\"TX\"\u001b[0m\u001b[1;33m]\u001b[0m\u001b[1;33m[\u001b[0m\u001b[1;34m'Job Count'\u001b[0m\u001b[1;33m]\u001b[0m\u001b[1;33m[\u001b[0m\u001b[1;36m0\u001b[0m\u001b[1;33m]\u001b[0m\u001b[1;33m\u001b[0m\u001b[1;33m\u001b[0m\u001b[0m\n",
      "\u001b[1;32m~\\Anaconda3\\lib\\site-packages\\pandas\\core\\frame.py\u001b[0m in \u001b[0;36m__getitem__\u001b[1;34m(self, key)\u001b[0m\n\u001b[0;32m   2978\u001b[0m             \u001b[1;32mif\u001b[0m \u001b[0mself\u001b[0m\u001b[1;33m.\u001b[0m\u001b[0mcolumns\u001b[0m\u001b[1;33m.\u001b[0m\u001b[0mnlevels\u001b[0m \u001b[1;33m>\u001b[0m \u001b[1;36m1\u001b[0m\u001b[1;33m:\u001b[0m\u001b[1;33m\u001b[0m\u001b[1;33m\u001b[0m\u001b[0m\n\u001b[0;32m   2979\u001b[0m                 \u001b[1;32mreturn\u001b[0m \u001b[0mself\u001b[0m\u001b[1;33m.\u001b[0m\u001b[0m_getitem_multilevel\u001b[0m\u001b[1;33m(\u001b[0m\u001b[0mkey\u001b[0m\u001b[1;33m)\u001b[0m\u001b[1;33m\u001b[0m\u001b[1;33m\u001b[0m\u001b[0m\n\u001b[1;32m-> 2980\u001b[1;33m             \u001b[0mindexer\u001b[0m \u001b[1;33m=\u001b[0m \u001b[0mself\u001b[0m\u001b[1;33m.\u001b[0m\u001b[0mcolumns\u001b[0m\u001b[1;33m.\u001b[0m\u001b[0mget_loc\u001b[0m\u001b[1;33m(\u001b[0m\u001b[0mkey\u001b[0m\u001b[1;33m)\u001b[0m\u001b[1;33m\u001b[0m\u001b[1;33m\u001b[0m\u001b[0m\n\u001b[0m\u001b[0;32m   2981\u001b[0m             \u001b[1;32mif\u001b[0m \u001b[0mis_integer\u001b[0m\u001b[1;33m(\u001b[0m\u001b[0mindexer\u001b[0m\u001b[1;33m)\u001b[0m\u001b[1;33m:\u001b[0m\u001b[1;33m\u001b[0m\u001b[1;33m\u001b[0m\u001b[0m\n\u001b[0;32m   2982\u001b[0m                 \u001b[0mindexer\u001b[0m \u001b[1;33m=\u001b[0m \u001b[1;33m[\u001b[0m\u001b[0mindexer\u001b[0m\u001b[1;33m]\u001b[0m\u001b[1;33m\u001b[0m\u001b[1;33m\u001b[0m\u001b[0m\n",
      "\u001b[1;32m~\\Anaconda3\\lib\\site-packages\\pandas\\core\\indexes\\base.py\u001b[0m in \u001b[0;36mget_loc\u001b[1;34m(self, key, method, tolerance)\u001b[0m\n\u001b[0;32m   2897\u001b[0m                 \u001b[1;32mreturn\u001b[0m \u001b[0mself\u001b[0m\u001b[1;33m.\u001b[0m\u001b[0m_engine\u001b[0m\u001b[1;33m.\u001b[0m\u001b[0mget_loc\u001b[0m\u001b[1;33m(\u001b[0m\u001b[0mkey\u001b[0m\u001b[1;33m)\u001b[0m\u001b[1;33m\u001b[0m\u001b[1;33m\u001b[0m\u001b[0m\n\u001b[0;32m   2898\u001b[0m             \u001b[1;32mexcept\u001b[0m \u001b[0mKeyError\u001b[0m\u001b[1;33m:\u001b[0m\u001b[1;33m\u001b[0m\u001b[1;33m\u001b[0m\u001b[0m\n\u001b[1;32m-> 2899\u001b[1;33m                 \u001b[1;32mreturn\u001b[0m \u001b[0mself\u001b[0m\u001b[1;33m.\u001b[0m\u001b[0m_engine\u001b[0m\u001b[1;33m.\u001b[0m\u001b[0mget_loc\u001b[0m\u001b[1;33m(\u001b[0m\u001b[0mself\u001b[0m\u001b[1;33m.\u001b[0m\u001b[0m_maybe_cast_indexer\u001b[0m\u001b[1;33m(\u001b[0m\u001b[0mkey\u001b[0m\u001b[1;33m)\u001b[0m\u001b[1;33m)\u001b[0m\u001b[1;33m\u001b[0m\u001b[1;33m\u001b[0m\u001b[0m\n\u001b[0m\u001b[0;32m   2900\u001b[0m         \u001b[0mindexer\u001b[0m \u001b[1;33m=\u001b[0m \u001b[0mself\u001b[0m\u001b[1;33m.\u001b[0m\u001b[0mget_indexer\u001b[0m\u001b[1;33m(\u001b[0m\u001b[1;33m[\u001b[0m\u001b[0mkey\u001b[0m\u001b[1;33m]\u001b[0m\u001b[1;33m,\u001b[0m \u001b[0mmethod\u001b[0m\u001b[1;33m=\u001b[0m\u001b[0mmethod\u001b[0m\u001b[1;33m,\u001b[0m \u001b[0mtolerance\u001b[0m\u001b[1;33m=\u001b[0m\u001b[0mtolerance\u001b[0m\u001b[1;33m)\u001b[0m\u001b[1;33m\u001b[0m\u001b[1;33m\u001b[0m\u001b[0m\n\u001b[0;32m   2901\u001b[0m         \u001b[1;32mif\u001b[0m \u001b[0mindexer\u001b[0m\u001b[1;33m.\u001b[0m\u001b[0mndim\u001b[0m \u001b[1;33m>\u001b[0m \u001b[1;36m1\u001b[0m \u001b[1;32mor\u001b[0m \u001b[0mindexer\u001b[0m\u001b[1;33m.\u001b[0m\u001b[0msize\u001b[0m \u001b[1;33m>\u001b[0m \u001b[1;36m1\u001b[0m\u001b[1;33m:\u001b[0m\u001b[1;33m\u001b[0m\u001b[1;33m\u001b[0m\u001b[0m\n",
      "\u001b[1;32mpandas\\_libs\\index.pyx\u001b[0m in \u001b[0;36mpandas._libs.index.IndexEngine.get_loc\u001b[1;34m()\u001b[0m\n",
      "\u001b[1;32mpandas\\_libs\\index.pyx\u001b[0m in \u001b[0;36mpandas._libs.index.IndexEngine.get_loc\u001b[1;34m()\u001b[0m\n",
      "\u001b[1;32mpandas\\_libs\\hashtable_class_helper.pxi\u001b[0m in \u001b[0;36mpandas._libs.hashtable.PyObjectHashTable.get_item\u001b[1;34m()\u001b[0m\n",
      "\u001b[1;32mpandas\\_libs\\hashtable_class_helper.pxi\u001b[0m in \u001b[0;36mpandas._libs.hashtable.PyObjectHashTable.get_item\u001b[1;34m()\u001b[0m\n",
      "\u001b[1;31mKeyError\u001b[0m: 'Job Count'"
     ]
    }
   ],
   "source": [
    "ca_nf_count = state_fraud_counts[state_fraud_counts['STATE'] == \"CA\"]['CITY'][0]\n",
    "tx_nf_count = state_fraud_counts[state_fraud_counts['STATE'] == \"TX\"]['Job Count'][0]\n",
    "ny_nf_count = state_fraud_counts[state_fraud_counts['STATE'] == \"NY\"]['Job Count'][0]\n",
    "ca_f_count = state_fraud_counts[state_fraud_counts['STATE'] == \"CA\"]['Job Count'][0]\n",
    "tx_f_count = state_fraud_counts[state_fraud_counts['STATE'] == \"TX\"]['Job Count'][0]\n",
    "ny_f_count = state_fraud_counts[state_fraud_counts['STATE'] == \"NY\"]['Job Count'][0]"
   ]
  },
  {
   "cell_type": "code",
   "execution_count": 77,
   "metadata": {},
   "outputs": [
    {
     "data": {
      "text/html": [
       "<div>\n",
       "<style scoped>\n",
       "    .dataframe tbody tr th:only-of-type {\n",
       "        vertical-align: middle;\n",
       "    }\n",
       "\n",
       "    .dataframe tbody tr th {\n",
       "        vertical-align: top;\n",
       "    }\n",
       "\n",
       "    .dataframe thead th {\n",
       "        text-align: right;\n",
       "    }\n",
       "</style>\n",
       "<table border=\"1\" class=\"dataframe\">\n",
       "  <thead>\n",
       "    <tr style=\"text-align: right;\">\n",
       "      <th></th>\n",
       "      <th>JOB ID</th>\n",
       "      <th>TITLE</th>\n",
       "      <th>DEPARTMENT</th>\n",
       "      <th>SALARY RANGE</th>\n",
       "      <th>COMPANY PROFILE</th>\n",
       "      <th>DESCRIPTION</th>\n",
       "      <th>REQUIREMENTS</th>\n",
       "      <th>BENEFITS</th>\n",
       "      <th>TELECOMMUTING</th>\n",
       "      <th>HAS COMPANY LOGO</th>\n",
       "      <th>HAS QUESTIONS</th>\n",
       "      <th>EMPLOYMENT TYPE</th>\n",
       "      <th>REQUIRED EXPERIENCE</th>\n",
       "      <th>REQUIRED EDUCATION</th>\n",
       "      <th>INDUSTRY</th>\n",
       "      <th>FUNCTION</th>\n",
       "      <th>FRAUDULENT</th>\n",
       "      <th>CITY</th>\n",
       "      <th>STATE</th>\n",
       "      <th>COUNTRY</th>\n",
       "    </tr>\n",
       "  </thead>\n",
       "  <tbody>\n",
       "    <tr>\n",
       "      <td>0</td>\n",
       "      <td>1</td>\n",
       "      <td>Marketing Intern</td>\n",
       "      <td>Marketing</td>\n",
       "      <td>NaN</td>\n",
       "      <td>We're Food52, and we've created a groundbreaki...</td>\n",
       "      <td>Food52, a fast-growing, James Beard Award-winn...</td>\n",
       "      <td>Experience with content management systems a m...</td>\n",
       "      <td>NaN</td>\n",
       "      <td>0</td>\n",
       "      <td>1</td>\n",
       "      <td>0</td>\n",
       "      <td>Other</td>\n",
       "      <td>Internship</td>\n",
       "      <td>NaN</td>\n",
       "      <td>NaN</td>\n",
       "      <td>Marketing</td>\n",
       "      <td>0</td>\n",
       "      <td>New York</td>\n",
       "      <td>NY,</td>\n",
       "      <td>US,</td>\n",
       "    </tr>\n",
       "    <tr>\n",
       "      <td>1</td>\n",
       "      <td>2</td>\n",
       "      <td>Customer Service - Cloud Video Production</td>\n",
       "      <td>Success</td>\n",
       "      <td>NaN</td>\n",
       "      <td>90 Seconds, the worlds Cloud Video Production ...</td>\n",
       "      <td>Organised - Focused - Vibrant - Awesome!Do you...</td>\n",
       "      <td>What we expect from you:Your key responsibilit...</td>\n",
       "      <td>What you will get from usThrough being part of...</td>\n",
       "      <td>0</td>\n",
       "      <td>1</td>\n",
       "      <td>0</td>\n",
       "      <td>Full-time</td>\n",
       "      <td>Not Applicable</td>\n",
       "      <td>NaN</td>\n",
       "      <td>Marketing and Advertising</td>\n",
       "      <td>Customer Service</td>\n",
       "      <td>0</td>\n",
       "      <td>Auckland</td>\n",
       "      <td>,</td>\n",
       "      <td>NZ,</td>\n",
       "    </tr>\n",
       "    <tr>\n",
       "      <td>2</td>\n",
       "      <td>3</td>\n",
       "      <td>Commissioning Machinery Assistant (CMA)</td>\n",
       "      <td>NaN</td>\n",
       "      <td>NaN</td>\n",
       "      <td>Valor Services provides Workforce Solutions th...</td>\n",
       "      <td>Our client, located in Houston, is actively se...</td>\n",
       "      <td>Implement pre-commissioning and commissioning ...</td>\n",
       "      <td>NaN</td>\n",
       "      <td>0</td>\n",
       "      <td>1</td>\n",
       "      <td>0</td>\n",
       "      <td>NaN</td>\n",
       "      <td>NaN</td>\n",
       "      <td>NaN</td>\n",
       "      <td>NaN</td>\n",
       "      <td>NaN</td>\n",
       "      <td>0</td>\n",
       "      <td>Wever</td>\n",
       "      <td>IA,</td>\n",
       "      <td>US,</td>\n",
       "    </tr>\n",
       "    <tr>\n",
       "      <td>3</td>\n",
       "      <td>4</td>\n",
       "      <td>Account Executive - Washington DC</td>\n",
       "      <td>Sales</td>\n",
       "      <td>NaN</td>\n",
       "      <td>Our passion for improving quality of life thro...</td>\n",
       "      <td>THE COMPANY: ESRI – Environmental Systems Rese...</td>\n",
       "      <td>EDUCATION: Bachelor’s or Master’s in GIS, busi...</td>\n",
       "      <td>Our culture is anything but corporate—we have ...</td>\n",
       "      <td>0</td>\n",
       "      <td>1</td>\n",
       "      <td>0</td>\n",
       "      <td>Full-time</td>\n",
       "      <td>Mid-Senior level</td>\n",
       "      <td>Bachelor's Degree</td>\n",
       "      <td>Computer Software</td>\n",
       "      <td>Sales</td>\n",
       "      <td>0</td>\n",
       "      <td>Washington</td>\n",
       "      <td>DC,</td>\n",
       "      <td>US,</td>\n",
       "    </tr>\n",
       "    <tr>\n",
       "      <td>4</td>\n",
       "      <td>5</td>\n",
       "      <td>Bill Review Manager</td>\n",
       "      <td>NaN</td>\n",
       "      <td>NaN</td>\n",
       "      <td>SpotSource Solutions LLC is a Global Human Cap...</td>\n",
       "      <td>JOB TITLE: Itemization Review ManagerLOCATION:...</td>\n",
       "      <td>QUALIFICATIONS:RN license in the State of Texa...</td>\n",
       "      <td>Full Benefits Offered</td>\n",
       "      <td>0</td>\n",
       "      <td>1</td>\n",
       "      <td>1</td>\n",
       "      <td>Full-time</td>\n",
       "      <td>Mid-Senior level</td>\n",
       "      <td>Bachelor's Degree</td>\n",
       "      <td>Hospital &amp; Health Care</td>\n",
       "      <td>Health Care Provider</td>\n",
       "      <td>0</td>\n",
       "      <td>Fort Worth</td>\n",
       "      <td>FL,</td>\n",
       "      <td>US,</td>\n",
       "    </tr>\n",
       "    <tr>\n",
       "      <td>...</td>\n",
       "      <td>...</td>\n",
       "      <td>...</td>\n",
       "      <td>...</td>\n",
       "      <td>...</td>\n",
       "      <td>...</td>\n",
       "      <td>...</td>\n",
       "      <td>...</td>\n",
       "      <td>...</td>\n",
       "      <td>...</td>\n",
       "      <td>...</td>\n",
       "      <td>...</td>\n",
       "      <td>...</td>\n",
       "      <td>...</td>\n",
       "      <td>...</td>\n",
       "      <td>...</td>\n",
       "      <td>...</td>\n",
       "      <td>...</td>\n",
       "      <td>...</td>\n",
       "      <td>...</td>\n",
       "      <td>...</td>\n",
       "    </tr>\n",
       "    <tr>\n",
       "      <td>17875</td>\n",
       "      <td>17876</td>\n",
       "      <td>Account Director - Distribution</td>\n",
       "      <td>Sales</td>\n",
       "      <td>NaN</td>\n",
       "      <td>Vend is looking for some awesome new talent to...</td>\n",
       "      <td>Just in case this is the first time you’ve vis...</td>\n",
       "      <td>To ace this role you:Will eat comprehensive St...</td>\n",
       "      <td>What can you expect from us?We have an open cu...</td>\n",
       "      <td>0</td>\n",
       "      <td>1</td>\n",
       "      <td>1</td>\n",
       "      <td>Full-time</td>\n",
       "      <td>Mid-Senior level</td>\n",
       "      <td>NaN</td>\n",
       "      <td>Computer Software</td>\n",
       "      <td>Sales</td>\n",
       "      <td>0</td>\n",
       "      <td>Toronto</td>\n",
       "      <td>ON,</td>\n",
       "      <td>CA,</td>\n",
       "    </tr>\n",
       "    <tr>\n",
       "      <td>17876</td>\n",
       "      <td>17877</td>\n",
       "      <td>Payroll Accountant</td>\n",
       "      <td>Accounting</td>\n",
       "      <td>NaN</td>\n",
       "      <td>WebLinc is the e-commerce platform and service...</td>\n",
       "      <td>The Payroll Accountant will focus primarily on...</td>\n",
       "      <td>- B.A. or B.S. in Accounting- Desire to have f...</td>\n",
       "      <td>Health &amp;amp; WellnessMedical planPrescription ...</td>\n",
       "      <td>0</td>\n",
       "      <td>1</td>\n",
       "      <td>1</td>\n",
       "      <td>Full-time</td>\n",
       "      <td>Mid-Senior level</td>\n",
       "      <td>Bachelor's Degree</td>\n",
       "      <td>Internet</td>\n",
       "      <td>Accounting/Auditing</td>\n",
       "      <td>0</td>\n",
       "      <td>Philadelphia</td>\n",
       "      <td>PA,</td>\n",
       "      <td>US,</td>\n",
       "    </tr>\n",
       "    <tr>\n",
       "      <td>17877</td>\n",
       "      <td>17878</td>\n",
       "      <td>Project Cost Control Staff Engineer - Cost Con...</td>\n",
       "      <td>NaN</td>\n",
       "      <td>NaN</td>\n",
       "      <td>We Provide Full Time Permanent Positions for m...</td>\n",
       "      <td>Experienced Project Cost Control Staff Enginee...</td>\n",
       "      <td>At least 12 years professional experience.Abil...</td>\n",
       "      <td>NaN</td>\n",
       "      <td>0</td>\n",
       "      <td>0</td>\n",
       "      <td>0</td>\n",
       "      <td>Full-time</td>\n",
       "      <td>NaN</td>\n",
       "      <td>NaN</td>\n",
       "      <td>NaN</td>\n",
       "      <td>NaN</td>\n",
       "      <td>0</td>\n",
       "      <td>Houston</td>\n",
       "      <td>TX,</td>\n",
       "      <td>US,</td>\n",
       "    </tr>\n",
       "    <tr>\n",
       "      <td>17878</td>\n",
       "      <td>17879</td>\n",
       "      <td>Graphic Designer</td>\n",
       "      <td>NaN</td>\n",
       "      <td>NaN</td>\n",
       "      <td>NaN</td>\n",
       "      <td>Nemsia Studios is looking for an experienced v...</td>\n",
       "      <td>1. Must be fluent in the latest versions of Co...</td>\n",
       "      <td>Competitive salary (compensation will be based...</td>\n",
       "      <td>0</td>\n",
       "      <td>0</td>\n",
       "      <td>1</td>\n",
       "      <td>Contract</td>\n",
       "      <td>Not Applicable</td>\n",
       "      <td>Professional</td>\n",
       "      <td>Graphic Design</td>\n",
       "      <td>Design</td>\n",
       "      <td>0</td>\n",
       "      <td>Lagos</td>\n",
       "      <td>LA,</td>\n",
       "      <td>NG,</td>\n",
       "    </tr>\n",
       "    <tr>\n",
       "      <td>17879</td>\n",
       "      <td>17880</td>\n",
       "      <td>Web Application Developers</td>\n",
       "      <td>Engineering</td>\n",
       "      <td>NaN</td>\n",
       "      <td>Vend is looking for some awesome new talent to...</td>\n",
       "      <td>Who are we?Vend is an award winning web based ...</td>\n",
       "      <td>We want to hear from you if:You have an in-dep...</td>\n",
       "      <td>NaN</td>\n",
       "      <td>0</td>\n",
       "      <td>1</td>\n",
       "      <td>1</td>\n",
       "      <td>Full-time</td>\n",
       "      <td>Mid-Senior level</td>\n",
       "      <td>NaN</td>\n",
       "      <td>Computer Software</td>\n",
       "      <td>Engineering</td>\n",
       "      <td>0</td>\n",
       "      <td>Wellington</td>\n",
       "      <td>N,</td>\n",
       "      <td>NZ,</td>\n",
       "    </tr>\n",
       "  </tbody>\n",
       "</table>\n",
       "<p>17534 rows × 20 columns</p>\n",
       "</div>"
      ],
      "text/plain": [
       "       JOB ID                                              TITLE   DEPARTMENT  \\\n",
       "0           1                                   Marketing Intern    Marketing   \n",
       "1           2          Customer Service - Cloud Video Production      Success   \n",
       "2           3            Commissioning Machinery Assistant (CMA)          NaN   \n",
       "3           4                  Account Executive - Washington DC        Sales   \n",
       "4           5                                Bill Review Manager          NaN   \n",
       "...       ...                                                ...          ...   \n",
       "17875   17876                   Account Director - Distribution         Sales   \n",
       "17876   17877                                 Payroll Accountant   Accounting   \n",
       "17877   17878  Project Cost Control Staff Engineer - Cost Con...          NaN   \n",
       "17878   17879                                   Graphic Designer          NaN   \n",
       "17879   17880                         Web Application Developers  Engineering   \n",
       "\n",
       "      SALARY RANGE                                    COMPANY PROFILE  \\\n",
       "0              NaN  We're Food52, and we've created a groundbreaki...   \n",
       "1              NaN  90 Seconds, the worlds Cloud Video Production ...   \n",
       "2              NaN  Valor Services provides Workforce Solutions th...   \n",
       "3              NaN  Our passion for improving quality of life thro...   \n",
       "4              NaN  SpotSource Solutions LLC is a Global Human Cap...   \n",
       "...            ...                                                ...   \n",
       "17875          NaN  Vend is looking for some awesome new talent to...   \n",
       "17876          NaN  WebLinc is the e-commerce platform and service...   \n",
       "17877          NaN  We Provide Full Time Permanent Positions for m...   \n",
       "17878          NaN                                                NaN   \n",
       "17879          NaN  Vend is looking for some awesome new talent to...   \n",
       "\n",
       "                                             DESCRIPTION  \\\n",
       "0      Food52, a fast-growing, James Beard Award-winn...   \n",
       "1      Organised - Focused - Vibrant - Awesome!Do you...   \n",
       "2      Our client, located in Houston, is actively se...   \n",
       "3      THE COMPANY: ESRI – Environmental Systems Rese...   \n",
       "4      JOB TITLE: Itemization Review ManagerLOCATION:...   \n",
       "...                                                  ...   \n",
       "17875  Just in case this is the first time you’ve vis...   \n",
       "17876  The Payroll Accountant will focus primarily on...   \n",
       "17877  Experienced Project Cost Control Staff Enginee...   \n",
       "17878  Nemsia Studios is looking for an experienced v...   \n",
       "17879  Who are we?Vend is an award winning web based ...   \n",
       "\n",
       "                                            REQUIREMENTS  \\\n",
       "0      Experience with content management systems a m...   \n",
       "1      What we expect from you:Your key responsibilit...   \n",
       "2      Implement pre-commissioning and commissioning ...   \n",
       "3      EDUCATION: Bachelor’s or Master’s in GIS, busi...   \n",
       "4      QUALIFICATIONS:RN license in the State of Texa...   \n",
       "...                                                  ...   \n",
       "17875  To ace this role you:Will eat comprehensive St...   \n",
       "17876  - B.A. or B.S. in Accounting- Desire to have f...   \n",
       "17877  At least 12 years professional experience.Abil...   \n",
       "17878  1. Must be fluent in the latest versions of Co...   \n",
       "17879  We want to hear from you if:You have an in-dep...   \n",
       "\n",
       "                                                BENEFITS  TELECOMMUTING  \\\n",
       "0                                                    NaN              0   \n",
       "1      What you will get from usThrough being part of...              0   \n",
       "2                                                    NaN              0   \n",
       "3      Our culture is anything but corporate—we have ...              0   \n",
       "4                                  Full Benefits Offered              0   \n",
       "...                                                  ...            ...   \n",
       "17875  What can you expect from us?We have an open cu...              0   \n",
       "17876  Health &amp; WellnessMedical planPrescription ...              0   \n",
       "17877                                                NaN              0   \n",
       "17878  Competitive salary (compensation will be based...              0   \n",
       "17879                                                NaN              0   \n",
       "\n",
       "       HAS COMPANY LOGO  HAS QUESTIONS EMPLOYMENT TYPE REQUIRED EXPERIENCE  \\\n",
       "0                     1              0           Other          Internship   \n",
       "1                     1              0       Full-time      Not Applicable   \n",
       "2                     1              0             NaN                 NaN   \n",
       "3                     1              0       Full-time    Mid-Senior level   \n",
       "4                     1              1       Full-time    Mid-Senior level   \n",
       "...                 ...            ...             ...                 ...   \n",
       "17875                 1              1       Full-time    Mid-Senior level   \n",
       "17876                 1              1       Full-time    Mid-Senior level   \n",
       "17877                 0              0       Full-time                 NaN   \n",
       "17878                 0              1        Contract      Not Applicable   \n",
       "17879                 1              1       Full-time    Mid-Senior level   \n",
       "\n",
       "      REQUIRED EDUCATION                   INDUSTRY              FUNCTION  \\\n",
       "0                    NaN                        NaN             Marketing   \n",
       "1                    NaN  Marketing and Advertising      Customer Service   \n",
       "2                    NaN                        NaN                   NaN   \n",
       "3      Bachelor's Degree          Computer Software                 Sales   \n",
       "4      Bachelor's Degree     Hospital & Health Care  Health Care Provider   \n",
       "...                  ...                        ...                   ...   \n",
       "17875                NaN          Computer Software                 Sales   \n",
       "17876  Bachelor's Degree                   Internet   Accounting/Auditing   \n",
       "17877                NaN                        NaN                   NaN   \n",
       "17878       Professional             Graphic Design                Design   \n",
       "17879                NaN          Computer Software           Engineering   \n",
       "\n",
       "       FRAUDULENT          CITY STATE COUNTRY  \n",
       "0               0      New York   NY,     US,  \n",
       "1               0      Auckland     ,     NZ,  \n",
       "2               0         Wever   IA,     US,  \n",
       "3               0    Washington   DC,     US,  \n",
       "4               0    Fort Worth   FL,     US,  \n",
       "...           ...           ...   ...     ...  \n",
       "17875           0       Toronto   ON,     CA,  \n",
       "17876           0  Philadelphia   PA,     US,  \n",
       "17877           0       Houston   TX,     US,  \n",
       "17878           0         Lagos   LA,     NG,  \n",
       "17879           0    Wellington    N,     NZ,  \n",
       "\n",
       "[17534 rows x 20 columns]"
      ]
     },
     "execution_count": 77,
     "metadata": {},
     "output_type": "execute_result"
    }
   ],
   "source": [
    "# remove underscores from columns\n",
    "job_postings.columns = job_postings.columns.str.replace('_', ' ')\n",
    "# uppercase all columns titles\n",
    "job_postings.columns = job_postings.columns.str.upper()\n",
    "job_postings"
   ]
  },
  {
   "cell_type": "code",
   "execution_count": 78,
   "metadata": {},
   "outputs": [
    {
     "data": {
      "text/html": [
       "<div>\n",
       "<style scoped>\n",
       "    .dataframe tbody tr th:only-of-type {\n",
       "        vertical-align: middle;\n",
       "    }\n",
       "\n",
       "    .dataframe tbody tr th {\n",
       "        vertical-align: top;\n",
       "    }\n",
       "\n",
       "    .dataframe thead th {\n",
       "        text-align: right;\n",
       "    }\n",
       "</style>\n",
       "<table border=\"1\" class=\"dataframe\">\n",
       "  <thead>\n",
       "    <tr style=\"text-align: right;\">\n",
       "      <th></th>\n",
       "      <th>JOB ID</th>\n",
       "      <th>TITLE</th>\n",
       "      <th>DEPARTMENT</th>\n",
       "      <th>SALARY RANGE</th>\n",
       "      <th>COMPANY PROFILE</th>\n",
       "      <th>DESCRIPTION</th>\n",
       "      <th>REQUIREMENTS</th>\n",
       "      <th>BENEFITS</th>\n",
       "      <th>TELECOMMUTING</th>\n",
       "      <th>HAS COMPANY LOGO</th>\n",
       "      <th>HAS QUESTIONS</th>\n",
       "      <th>EMPLOYMENT TYPE</th>\n",
       "      <th>REQUIRED EXPERIENCE</th>\n",
       "      <th>REQUIRED EDUCATION</th>\n",
       "      <th>INDUSTRY</th>\n",
       "      <th>FUNCTION</th>\n",
       "      <th>FRAUDULENT</th>\n",
       "      <th>CITY</th>\n",
       "      <th>STATE</th>\n",
       "      <th>COUNTRY</th>\n",
       "    </tr>\n",
       "  </thead>\n",
       "  <tbody>\n",
       "    <tr>\n",
       "      <td>0</td>\n",
       "      <td>1</td>\n",
       "      <td>Marketing Intern</td>\n",
       "      <td>Marketing</td>\n",
       "      <td>NaN</td>\n",
       "      <td>We're Food52, and we've created a groundbreaki...</td>\n",
       "      <td>Food52, a fast-growing, James Beard Award-winn...</td>\n",
       "      <td>Experience with content management systems a m...</td>\n",
       "      <td>NaN</td>\n",
       "      <td>0</td>\n",
       "      <td>1</td>\n",
       "      <td>0</td>\n",
       "      <td>Other</td>\n",
       "      <td>Internship</td>\n",
       "      <td>NaN</td>\n",
       "      <td>NaN</td>\n",
       "      <td>Marketing</td>\n",
       "      <td>0</td>\n",
       "      <td>New York</td>\n",
       "      <td>NY</td>\n",
       "      <td>US</td>\n",
       "    </tr>\n",
       "    <tr>\n",
       "      <td>1</td>\n",
       "      <td>2</td>\n",
       "      <td>Customer Service - Cloud Video Production</td>\n",
       "      <td>Success</td>\n",
       "      <td>NaN</td>\n",
       "      <td>90 Seconds, the worlds Cloud Video Production ...</td>\n",
       "      <td>Organised - Focused - Vibrant - Awesome!Do you...</td>\n",
       "      <td>What we expect from you:Your key responsibilit...</td>\n",
       "      <td>What you will get from usThrough being part of...</td>\n",
       "      <td>0</td>\n",
       "      <td>1</td>\n",
       "      <td>0</td>\n",
       "      <td>Full-time</td>\n",
       "      <td>Not Applicable</td>\n",
       "      <td>NaN</td>\n",
       "      <td>Marketing and Advertising</td>\n",
       "      <td>Customer Service</td>\n",
       "      <td>0</td>\n",
       "      <td>Auckland</td>\n",
       "      <td></td>\n",
       "      <td>NZ</td>\n",
       "    </tr>\n",
       "    <tr>\n",
       "      <td>2</td>\n",
       "      <td>3</td>\n",
       "      <td>Commissioning Machinery Assistant (CMA)</td>\n",
       "      <td>NaN</td>\n",
       "      <td>NaN</td>\n",
       "      <td>Valor Services provides Workforce Solutions th...</td>\n",
       "      <td>Our client, located in Houston, is actively se...</td>\n",
       "      <td>Implement pre-commissioning and commissioning ...</td>\n",
       "      <td>NaN</td>\n",
       "      <td>0</td>\n",
       "      <td>1</td>\n",
       "      <td>0</td>\n",
       "      <td>NaN</td>\n",
       "      <td>NaN</td>\n",
       "      <td>NaN</td>\n",
       "      <td>NaN</td>\n",
       "      <td>NaN</td>\n",
       "      <td>0</td>\n",
       "      <td>Wever</td>\n",
       "      <td>IA</td>\n",
       "      <td>US</td>\n",
       "    </tr>\n",
       "    <tr>\n",
       "      <td>3</td>\n",
       "      <td>4</td>\n",
       "      <td>Account Executive - Washington DC</td>\n",
       "      <td>Sales</td>\n",
       "      <td>NaN</td>\n",
       "      <td>Our passion for improving quality of life thro...</td>\n",
       "      <td>THE COMPANY: ESRI – Environmental Systems Rese...</td>\n",
       "      <td>EDUCATION: Bachelor’s or Master’s in GIS, busi...</td>\n",
       "      <td>Our culture is anything but corporate—we have ...</td>\n",
       "      <td>0</td>\n",
       "      <td>1</td>\n",
       "      <td>0</td>\n",
       "      <td>Full-time</td>\n",
       "      <td>Mid-Senior level</td>\n",
       "      <td>Bachelor's Degree</td>\n",
       "      <td>Computer Software</td>\n",
       "      <td>Sales</td>\n",
       "      <td>0</td>\n",
       "      <td>Washington</td>\n",
       "      <td>DC</td>\n",
       "      <td>US</td>\n",
       "    </tr>\n",
       "    <tr>\n",
       "      <td>4</td>\n",
       "      <td>5</td>\n",
       "      <td>Bill Review Manager</td>\n",
       "      <td>NaN</td>\n",
       "      <td>NaN</td>\n",
       "      <td>SpotSource Solutions LLC is a Global Human Cap...</td>\n",
       "      <td>JOB TITLE: Itemization Review ManagerLOCATION:...</td>\n",
       "      <td>QUALIFICATIONS:RN license in the State of Texa...</td>\n",
       "      <td>Full Benefits Offered</td>\n",
       "      <td>0</td>\n",
       "      <td>1</td>\n",
       "      <td>1</td>\n",
       "      <td>Full-time</td>\n",
       "      <td>Mid-Senior level</td>\n",
       "      <td>Bachelor's Degree</td>\n",
       "      <td>Hospital &amp; Health Care</td>\n",
       "      <td>Health Care Provider</td>\n",
       "      <td>0</td>\n",
       "      <td>Fort Worth</td>\n",
       "      <td>FL</td>\n",
       "      <td>US</td>\n",
       "    </tr>\n",
       "    <tr>\n",
       "      <td>...</td>\n",
       "      <td>...</td>\n",
       "      <td>...</td>\n",
       "      <td>...</td>\n",
       "      <td>...</td>\n",
       "      <td>...</td>\n",
       "      <td>...</td>\n",
       "      <td>...</td>\n",
       "      <td>...</td>\n",
       "      <td>...</td>\n",
       "      <td>...</td>\n",
       "      <td>...</td>\n",
       "      <td>...</td>\n",
       "      <td>...</td>\n",
       "      <td>...</td>\n",
       "      <td>...</td>\n",
       "      <td>...</td>\n",
       "      <td>...</td>\n",
       "      <td>...</td>\n",
       "      <td>...</td>\n",
       "      <td>...</td>\n",
       "    </tr>\n",
       "    <tr>\n",
       "      <td>17875</td>\n",
       "      <td>17876</td>\n",
       "      <td>Account Director - Distribution</td>\n",
       "      <td>Sales</td>\n",
       "      <td>NaN</td>\n",
       "      <td>Vend is looking for some awesome new talent to...</td>\n",
       "      <td>Just in case this is the first time you’ve vis...</td>\n",
       "      <td>To ace this role you:Will eat comprehensive St...</td>\n",
       "      <td>What can you expect from us?We have an open cu...</td>\n",
       "      <td>0</td>\n",
       "      <td>1</td>\n",
       "      <td>1</td>\n",
       "      <td>Full-time</td>\n",
       "      <td>Mid-Senior level</td>\n",
       "      <td>NaN</td>\n",
       "      <td>Computer Software</td>\n",
       "      <td>Sales</td>\n",
       "      <td>0</td>\n",
       "      <td>Toronto</td>\n",
       "      <td>ON</td>\n",
       "      <td>CA</td>\n",
       "    </tr>\n",
       "    <tr>\n",
       "      <td>17876</td>\n",
       "      <td>17877</td>\n",
       "      <td>Payroll Accountant</td>\n",
       "      <td>Accounting</td>\n",
       "      <td>NaN</td>\n",
       "      <td>WebLinc is the e-commerce platform and service...</td>\n",
       "      <td>The Payroll Accountant will focus primarily on...</td>\n",
       "      <td>- B.A. or B.S. in Accounting- Desire to have f...</td>\n",
       "      <td>Health &amp;amp; WellnessMedical planPrescription ...</td>\n",
       "      <td>0</td>\n",
       "      <td>1</td>\n",
       "      <td>1</td>\n",
       "      <td>Full-time</td>\n",
       "      <td>Mid-Senior level</td>\n",
       "      <td>Bachelor's Degree</td>\n",
       "      <td>Internet</td>\n",
       "      <td>Accounting/Auditing</td>\n",
       "      <td>0</td>\n",
       "      <td>Philadelphia</td>\n",
       "      <td>PA</td>\n",
       "      <td>US</td>\n",
       "    </tr>\n",
       "    <tr>\n",
       "      <td>17877</td>\n",
       "      <td>17878</td>\n",
       "      <td>Project Cost Control Staff Engineer - Cost Con...</td>\n",
       "      <td>NaN</td>\n",
       "      <td>NaN</td>\n",
       "      <td>We Provide Full Time Permanent Positions for m...</td>\n",
       "      <td>Experienced Project Cost Control Staff Enginee...</td>\n",
       "      <td>At least 12 years professional experience.Abil...</td>\n",
       "      <td>NaN</td>\n",
       "      <td>0</td>\n",
       "      <td>0</td>\n",
       "      <td>0</td>\n",
       "      <td>Full-time</td>\n",
       "      <td>NaN</td>\n",
       "      <td>NaN</td>\n",
       "      <td>NaN</td>\n",
       "      <td>NaN</td>\n",
       "      <td>0</td>\n",
       "      <td>Houston</td>\n",
       "      <td>TX</td>\n",
       "      <td>US</td>\n",
       "    </tr>\n",
       "    <tr>\n",
       "      <td>17878</td>\n",
       "      <td>17879</td>\n",
       "      <td>Graphic Designer</td>\n",
       "      <td>NaN</td>\n",
       "      <td>NaN</td>\n",
       "      <td>NaN</td>\n",
       "      <td>Nemsia Studios is looking for an experienced v...</td>\n",
       "      <td>1. Must be fluent in the latest versions of Co...</td>\n",
       "      <td>Competitive salary (compensation will be based...</td>\n",
       "      <td>0</td>\n",
       "      <td>0</td>\n",
       "      <td>1</td>\n",
       "      <td>Contract</td>\n",
       "      <td>Not Applicable</td>\n",
       "      <td>Professional</td>\n",
       "      <td>Graphic Design</td>\n",
       "      <td>Design</td>\n",
       "      <td>0</td>\n",
       "      <td>Lagos</td>\n",
       "      <td>LA</td>\n",
       "      <td>NG</td>\n",
       "    </tr>\n",
       "    <tr>\n",
       "      <td>17879</td>\n",
       "      <td>17880</td>\n",
       "      <td>Web Application Developers</td>\n",
       "      <td>Engineering</td>\n",
       "      <td>NaN</td>\n",
       "      <td>Vend is looking for some awesome new talent to...</td>\n",
       "      <td>Who are we?Vend is an award winning web based ...</td>\n",
       "      <td>We want to hear from you if:You have an in-dep...</td>\n",
       "      <td>NaN</td>\n",
       "      <td>0</td>\n",
       "      <td>1</td>\n",
       "      <td>1</td>\n",
       "      <td>Full-time</td>\n",
       "      <td>Mid-Senior level</td>\n",
       "      <td>NaN</td>\n",
       "      <td>Computer Software</td>\n",
       "      <td>Engineering</td>\n",
       "      <td>0</td>\n",
       "      <td>Wellington</td>\n",
       "      <td>N</td>\n",
       "      <td>NZ</td>\n",
       "    </tr>\n",
       "  </tbody>\n",
       "</table>\n",
       "<p>17534 rows × 20 columns</p>\n",
       "</div>"
      ],
      "text/plain": [
       "       JOB ID                                              TITLE   DEPARTMENT  \\\n",
       "0           1                                   Marketing Intern    Marketing   \n",
       "1           2          Customer Service - Cloud Video Production      Success   \n",
       "2           3            Commissioning Machinery Assistant (CMA)          NaN   \n",
       "3           4                  Account Executive - Washington DC        Sales   \n",
       "4           5                                Bill Review Manager          NaN   \n",
       "...       ...                                                ...          ...   \n",
       "17875   17876                   Account Director - Distribution         Sales   \n",
       "17876   17877                                 Payroll Accountant   Accounting   \n",
       "17877   17878  Project Cost Control Staff Engineer - Cost Con...          NaN   \n",
       "17878   17879                                   Graphic Designer          NaN   \n",
       "17879   17880                         Web Application Developers  Engineering   \n",
       "\n",
       "      SALARY RANGE                                    COMPANY PROFILE  \\\n",
       "0              NaN  We're Food52, and we've created a groundbreaki...   \n",
       "1              NaN  90 Seconds, the worlds Cloud Video Production ...   \n",
       "2              NaN  Valor Services provides Workforce Solutions th...   \n",
       "3              NaN  Our passion for improving quality of life thro...   \n",
       "4              NaN  SpotSource Solutions LLC is a Global Human Cap...   \n",
       "...            ...                                                ...   \n",
       "17875          NaN  Vend is looking for some awesome new talent to...   \n",
       "17876          NaN  WebLinc is the e-commerce platform and service...   \n",
       "17877          NaN  We Provide Full Time Permanent Positions for m...   \n",
       "17878          NaN                                                NaN   \n",
       "17879          NaN  Vend is looking for some awesome new talent to...   \n",
       "\n",
       "                                             DESCRIPTION  \\\n",
       "0      Food52, a fast-growing, James Beard Award-winn...   \n",
       "1      Organised - Focused - Vibrant - Awesome!Do you...   \n",
       "2      Our client, located in Houston, is actively se...   \n",
       "3      THE COMPANY: ESRI – Environmental Systems Rese...   \n",
       "4      JOB TITLE: Itemization Review ManagerLOCATION:...   \n",
       "...                                                  ...   \n",
       "17875  Just in case this is the first time you’ve vis...   \n",
       "17876  The Payroll Accountant will focus primarily on...   \n",
       "17877  Experienced Project Cost Control Staff Enginee...   \n",
       "17878  Nemsia Studios is looking for an experienced v...   \n",
       "17879  Who are we?Vend is an award winning web based ...   \n",
       "\n",
       "                                            REQUIREMENTS  \\\n",
       "0      Experience with content management systems a m...   \n",
       "1      What we expect from you:Your key responsibilit...   \n",
       "2      Implement pre-commissioning and commissioning ...   \n",
       "3      EDUCATION: Bachelor’s or Master’s in GIS, busi...   \n",
       "4      QUALIFICATIONS:RN license in the State of Texa...   \n",
       "...                                                  ...   \n",
       "17875  To ace this role you:Will eat comprehensive St...   \n",
       "17876  - B.A. or B.S. in Accounting- Desire to have f...   \n",
       "17877  At least 12 years professional experience.Abil...   \n",
       "17878  1. Must be fluent in the latest versions of Co...   \n",
       "17879  We want to hear from you if:You have an in-dep...   \n",
       "\n",
       "                                                BENEFITS  TELECOMMUTING  \\\n",
       "0                                                    NaN              0   \n",
       "1      What you will get from usThrough being part of...              0   \n",
       "2                                                    NaN              0   \n",
       "3      Our culture is anything but corporate—we have ...              0   \n",
       "4                                  Full Benefits Offered              0   \n",
       "...                                                  ...            ...   \n",
       "17875  What can you expect from us?We have an open cu...              0   \n",
       "17876  Health &amp; WellnessMedical planPrescription ...              0   \n",
       "17877                                                NaN              0   \n",
       "17878  Competitive salary (compensation will be based...              0   \n",
       "17879                                                NaN              0   \n",
       "\n",
       "       HAS COMPANY LOGO  HAS QUESTIONS EMPLOYMENT TYPE REQUIRED EXPERIENCE  \\\n",
       "0                     1              0           Other          Internship   \n",
       "1                     1              0       Full-time      Not Applicable   \n",
       "2                     1              0             NaN                 NaN   \n",
       "3                     1              0       Full-time    Mid-Senior level   \n",
       "4                     1              1       Full-time    Mid-Senior level   \n",
       "...                 ...            ...             ...                 ...   \n",
       "17875                 1              1       Full-time    Mid-Senior level   \n",
       "17876                 1              1       Full-time    Mid-Senior level   \n",
       "17877                 0              0       Full-time                 NaN   \n",
       "17878                 0              1        Contract      Not Applicable   \n",
       "17879                 1              1       Full-time    Mid-Senior level   \n",
       "\n",
       "      REQUIRED EDUCATION                   INDUSTRY              FUNCTION  \\\n",
       "0                    NaN                        NaN             Marketing   \n",
       "1                    NaN  Marketing and Advertising      Customer Service   \n",
       "2                    NaN                        NaN                   NaN   \n",
       "3      Bachelor's Degree          Computer Software                 Sales   \n",
       "4      Bachelor's Degree     Hospital & Health Care  Health Care Provider   \n",
       "...                  ...                        ...                   ...   \n",
       "17875                NaN          Computer Software                 Sales   \n",
       "17876  Bachelor's Degree                   Internet   Accounting/Auditing   \n",
       "17877                NaN                        NaN                   NaN   \n",
       "17878       Professional             Graphic Design                Design   \n",
       "17879                NaN          Computer Software           Engineering   \n",
       "\n",
       "       FRAUDULENT          CITY STATE COUNTRY  \n",
       "0               0      New York    NY      US  \n",
       "1               0      Auckland            NZ  \n",
       "2               0         Wever    IA      US  \n",
       "3               0    Washington    DC      US  \n",
       "4               0    Fort Worth    FL      US  \n",
       "...           ...           ...   ...     ...  \n",
       "17875           0       Toronto    ON      CA  \n",
       "17876           0  Philadelphia    PA      US  \n",
       "17877           0       Houston    TX      US  \n",
       "17878           0         Lagos    LA      NG  \n",
       "17879           0    Wellington     N      NZ  \n",
       "\n",
       "[17534 rows x 20 columns]"
      ]
     },
     "execution_count": 78,
     "metadata": {},
     "output_type": "execute_result"
    }
   ],
   "source": [
    "# remove , in the Country and State columns\n",
    "job_postings['COUNTRY'] = job_postings['COUNTRY'].str.replace(',', '').astype(str)\n",
    "job_postings['STATE'] = job_postings['STATE'].str.replace(',', '').astype(str)\n",
    "job_postings"
   ]
  },
  {
   "cell_type": "code",
   "execution_count": 79,
   "metadata": {},
   "outputs": [
    {
     "data": {
      "text/plain": [
       "JOB ID                     0\n",
       "TITLE                      0\n",
       "DEPARTMENT             11252\n",
       "SALARY RANGE           14688\n",
       "COMPANY PROFILE         3246\n",
       "DESCRIPTION                1\n",
       "REQUIREMENTS            2519\n",
       "BENEFITS                6960\n",
       "TELECOMMUTING              0\n",
       "HAS COMPANY LOGO           0\n",
       "HAS QUESTIONS              0\n",
       "EMPLOYMENT TYPE         3257\n",
       "REQUIRED EXPERIENCE     6797\n",
       "REQUIRED EDUCATION      7821\n",
       "INDUSTRY                4655\n",
       "FUNCTION                6193\n",
       "FRAUDULENT                 0\n",
       "CITY                      94\n",
       "STATE                      0\n",
       "COUNTRY                    0\n",
       "dtype: int64"
      ]
     },
     "execution_count": 79,
     "metadata": {},
     "output_type": "execute_result"
    }
   ],
   "source": [
    "# counting all the nans in each column\n",
    "job_postings.isnull().sum(axis = 0)"
   ]
  },
  {
   "cell_type": "code",
   "execution_count": 80,
   "metadata": {},
   "outputs": [
    {
     "ename": "PermissionError",
     "evalue": "[Errno 13] Permission denied: 'job_postings_clean.csv'",
     "output_type": "error",
     "traceback": [
      "\u001b[1;31m---------------------------------------------------------------------------\u001b[0m",
      "\u001b[1;31mPermissionError\u001b[0m                           Traceback (most recent call last)",
      "\u001b[1;32m<ipython-input-80-dff28a4c16ff>\u001b[0m in \u001b[0;36m<module>\u001b[1;34m\u001b[0m\n\u001b[0;32m      1\u001b[0m \u001b[1;31m# save dataframe csv file with no index to folder jupyter notebook is working out of\u001b[0m\u001b[1;33m\u001b[0m\u001b[1;33m\u001b[0m\u001b[1;33m\u001b[0m\u001b[0m\n\u001b[1;32m----> 2\u001b[1;33m \u001b[0mjob_postings\u001b[0m\u001b[1;33m.\u001b[0m\u001b[0mto_csv\u001b[0m\u001b[1;33m(\u001b[0m\u001b[1;34m'job_postings_clean.csv'\u001b[0m\u001b[1;33m,\u001b[0m \u001b[0mindex\u001b[0m \u001b[1;33m=\u001b[0m \u001b[1;32mFalse\u001b[0m\u001b[1;33m)\u001b[0m\u001b[1;33m\u001b[0m\u001b[1;33m\u001b[0m\u001b[0m\n\u001b[0m",
      "\u001b[1;32m~\\Anaconda3\\lib\\site-packages\\pandas\\core\\generic.py\u001b[0m in \u001b[0;36mto_csv\u001b[1;34m(self, path_or_buf, sep, na_rep, float_format, columns, header, index, index_label, mode, encoding, compression, quoting, quotechar, line_terminator, chunksize, date_format, doublequote, escapechar, decimal)\u001b[0m\n\u001b[0;32m   3226\u001b[0m             \u001b[0mdecimal\u001b[0m\u001b[1;33m=\u001b[0m\u001b[0mdecimal\u001b[0m\u001b[1;33m,\u001b[0m\u001b[1;33m\u001b[0m\u001b[1;33m\u001b[0m\u001b[0m\n\u001b[0;32m   3227\u001b[0m         )\n\u001b[1;32m-> 3228\u001b[1;33m         \u001b[0mformatter\u001b[0m\u001b[1;33m.\u001b[0m\u001b[0msave\u001b[0m\u001b[1;33m(\u001b[0m\u001b[1;33m)\u001b[0m\u001b[1;33m\u001b[0m\u001b[1;33m\u001b[0m\u001b[0m\n\u001b[0m\u001b[0;32m   3229\u001b[0m \u001b[1;33m\u001b[0m\u001b[0m\n\u001b[0;32m   3230\u001b[0m         \u001b[1;32mif\u001b[0m \u001b[0mpath_or_buf\u001b[0m \u001b[1;32mis\u001b[0m \u001b[1;32mNone\u001b[0m\u001b[1;33m:\u001b[0m\u001b[1;33m\u001b[0m\u001b[1;33m\u001b[0m\u001b[0m\n",
      "\u001b[1;32m~\\Anaconda3\\lib\\site-packages\\pandas\\io\\formats\\csvs.py\u001b[0m in \u001b[0;36msave\u001b[1;34m(self)\u001b[0m\n\u001b[0;32m    181\u001b[0m                 \u001b[0mself\u001b[0m\u001b[1;33m.\u001b[0m\u001b[0mmode\u001b[0m\u001b[1;33m,\u001b[0m\u001b[1;33m\u001b[0m\u001b[1;33m\u001b[0m\u001b[0m\n\u001b[0;32m    182\u001b[0m                 \u001b[0mencoding\u001b[0m\u001b[1;33m=\u001b[0m\u001b[0mself\u001b[0m\u001b[1;33m.\u001b[0m\u001b[0mencoding\u001b[0m\u001b[1;33m,\u001b[0m\u001b[1;33m\u001b[0m\u001b[1;33m\u001b[0m\u001b[0m\n\u001b[1;32m--> 183\u001b[1;33m                 \u001b[0mcompression\u001b[0m\u001b[1;33m=\u001b[0m\u001b[0mself\u001b[0m\u001b[1;33m.\u001b[0m\u001b[0mcompression\u001b[0m\u001b[1;33m,\u001b[0m\u001b[1;33m\u001b[0m\u001b[1;33m\u001b[0m\u001b[0m\n\u001b[0m\u001b[0;32m    184\u001b[0m             )\n\u001b[0;32m    185\u001b[0m             \u001b[0mclose\u001b[0m \u001b[1;33m=\u001b[0m \u001b[1;32mTrue\u001b[0m\u001b[1;33m\u001b[0m\u001b[1;33m\u001b[0m\u001b[0m\n",
      "\u001b[1;32m~\\Anaconda3\\lib\\site-packages\\pandas\\io\\common.py\u001b[0m in \u001b[0;36m_get_handle\u001b[1;34m(path_or_buf, mode, encoding, compression, memory_map, is_text)\u001b[0m\n\u001b[0;32m    397\u001b[0m         \u001b[1;32mif\u001b[0m \u001b[0mencoding\u001b[0m\u001b[1;33m:\u001b[0m\u001b[1;33m\u001b[0m\u001b[1;33m\u001b[0m\u001b[0m\n\u001b[0;32m    398\u001b[0m             \u001b[1;31m# Encoding\u001b[0m\u001b[1;33m\u001b[0m\u001b[1;33m\u001b[0m\u001b[1;33m\u001b[0m\u001b[0m\n\u001b[1;32m--> 399\u001b[1;33m             \u001b[0mf\u001b[0m \u001b[1;33m=\u001b[0m \u001b[0mopen\u001b[0m\u001b[1;33m(\u001b[0m\u001b[0mpath_or_buf\u001b[0m\u001b[1;33m,\u001b[0m \u001b[0mmode\u001b[0m\u001b[1;33m,\u001b[0m \u001b[0mencoding\u001b[0m\u001b[1;33m=\u001b[0m\u001b[0mencoding\u001b[0m\u001b[1;33m,\u001b[0m \u001b[0mnewline\u001b[0m\u001b[1;33m=\u001b[0m\u001b[1;34m\"\"\u001b[0m\u001b[1;33m)\u001b[0m\u001b[1;33m\u001b[0m\u001b[1;33m\u001b[0m\u001b[0m\n\u001b[0m\u001b[0;32m    400\u001b[0m         \u001b[1;32melif\u001b[0m \u001b[0mis_text\u001b[0m\u001b[1;33m:\u001b[0m\u001b[1;33m\u001b[0m\u001b[1;33m\u001b[0m\u001b[0m\n\u001b[0;32m    401\u001b[0m             \u001b[1;31m# No explicit encoding\u001b[0m\u001b[1;33m\u001b[0m\u001b[1;33m\u001b[0m\u001b[1;33m\u001b[0m\u001b[0m\n",
      "\u001b[1;31mPermissionError\u001b[0m: [Errno 13] Permission denied: 'job_postings_clean.csv'"
     ]
    }
   ],
   "source": [
    "# save dataframe csv file with no index to folder jupyter notebook is working out of\n",
    "job_postings.to_csv('job_postings_clean.csv', index = False)"
   ]
  },
  {
   "cell_type": "code",
   "execution_count": 81,
   "metadata": {},
   "outputs": [],
   "source": [
    "#count = job_postings.groupby(['COUNTRY']).count()\n",
    "country_groupby = job_postings.groupby(\"COUNTRY\")\n",
    "country_list = country_groupby[\"COUNTRY\"].first()\n"
   ]
  },
  {
   "cell_type": "code",
   "execution_count": 82,
   "metadata": {},
   "outputs": [],
   "source": [
    "country_groups = country_groupby.groups\n",
    "\n",
    "country_counts = []\n",
    "\n",
    "for i in country_list:\n",
    "    country_counts.append(len(country_groups[i]))\n",
    "    "
   ]
  },
  {
   "cell_type": "code",
   "execution_count": 83,
   "metadata": {},
   "outputs": [],
   "source": [
    "country_job_df = pd.DataFrame({\"Country\": country_list, \"Job Count\": country_counts})"
   ]
  },
  {
   "cell_type": "code",
   "execution_count": 84,
   "metadata": {},
   "outputs": [
    {
     "data": {
      "text/html": [
       "<div>\n",
       "<style scoped>\n",
       "    .dataframe tbody tr th:only-of-type {\n",
       "        vertical-align: middle;\n",
       "    }\n",
       "\n",
       "    .dataframe tbody tr th {\n",
       "        vertical-align: top;\n",
       "    }\n",
       "\n",
       "    .dataframe thead th {\n",
       "        text-align: right;\n",
       "    }\n",
       "</style>\n",
       "<table border=\"1\" class=\"dataframe\">\n",
       "  <thead>\n",
       "    <tr style=\"text-align: right;\">\n",
       "      <th></th>\n",
       "      <th>Country</th>\n",
       "      <th>Job Count</th>\n",
       "    </tr>\n",
       "    <tr>\n",
       "      <th>COUNTRY</th>\n",
       "      <th></th>\n",
       "      <th></th>\n",
       "    </tr>\n",
       "  </thead>\n",
       "  <tbody>\n",
       "    <tr>\n",
       "      <td>AE</td>\n",
       "      <td>AE</td>\n",
       "      <td>54</td>\n",
       "    </tr>\n",
       "    <tr>\n",
       "      <td>AL</td>\n",
       "      <td>AL</td>\n",
       "      <td>1</td>\n",
       "    </tr>\n",
       "    <tr>\n",
       "      <td>AM</td>\n",
       "      <td>AM</td>\n",
       "      <td>2</td>\n",
       "    </tr>\n",
       "    <tr>\n",
       "      <td>AR</td>\n",
       "      <td>AR</td>\n",
       "      <td>9</td>\n",
       "    </tr>\n",
       "    <tr>\n",
       "      <td>AT</td>\n",
       "      <td>AT</td>\n",
       "      <td>14</td>\n",
       "    </tr>\n",
       "    <tr>\n",
       "      <td>...</td>\n",
       "      <td>...</td>\n",
       "      <td>...</td>\n",
       "    </tr>\n",
       "    <tr>\n",
       "      <td>US</td>\n",
       "      <td>US</td>\n",
       "      <td>10656</td>\n",
       "    </tr>\n",
       "    <tr>\n",
       "      <td>VI</td>\n",
       "      <td>VI</td>\n",
       "      <td>3</td>\n",
       "    </tr>\n",
       "    <tr>\n",
       "      <td>VN</td>\n",
       "      <td>VN</td>\n",
       "      <td>4</td>\n",
       "    </tr>\n",
       "    <tr>\n",
       "      <td>ZA</td>\n",
       "      <td>ZA</td>\n",
       "      <td>40</td>\n",
       "    </tr>\n",
       "    <tr>\n",
       "      <td>ZM</td>\n",
       "      <td>ZM</td>\n",
       "      <td>2</td>\n",
       "    </tr>\n",
       "  </tbody>\n",
       "</table>\n",
       "<p>90 rows × 2 columns</p>\n",
       "</div>"
      ],
      "text/plain": [
       "        Country  Job Count\n",
       "COUNTRY                   \n",
       "AE           AE         54\n",
       "AL           AL          1\n",
       "AM           AM          2\n",
       "AR           AR          9\n",
       "AT           AT         14\n",
       "...         ...        ...\n",
       "US           US      10656\n",
       "VI           VI          3\n",
       "VN           VN          4\n",
       "ZA           ZA         40\n",
       "ZM           ZM          2\n",
       "\n",
       "[90 rows x 2 columns]"
      ]
     },
     "execution_count": 84,
     "metadata": {},
     "output_type": "execute_result"
    }
   ],
   "source": [
    "country_job_df"
   ]
  },
  {
   "cell_type": "code",
   "execution_count": 85,
   "metadata": {},
   "outputs": [],
   "source": [
    "countries.get('us')\n",
    "three_letters_list = []\n",
    "country_name = []\n",
    "for i in country_job_df['Country']:\n",
    "    three_letters_list.append(countries.get(i)[2])\n",
    "    country_name.append(countries.get(i)[0])\n",
    "    \n"
   ]
  },
  {
   "cell_type": "code",
   "execution_count": 86,
   "metadata": {
    "scrolled": true
   },
   "outputs": [
    {
     "data": {
      "text/html": [
       "<div>\n",
       "<style scoped>\n",
       "    .dataframe tbody tr th:only-of-type {\n",
       "        vertical-align: middle;\n",
       "    }\n",
       "\n",
       "    .dataframe tbody tr th {\n",
       "        vertical-align: top;\n",
       "    }\n",
       "\n",
       "    .dataframe thead th {\n",
       "        text-align: right;\n",
       "    }\n",
       "</style>\n",
       "<table border=\"1\" class=\"dataframe\">\n",
       "  <thead>\n",
       "    <tr style=\"text-align: right;\">\n",
       "      <th></th>\n",
       "      <th>Country</th>\n",
       "      <th>Job Count</th>\n",
       "      <th>three letter country</th>\n",
       "      <th>country name</th>\n",
       "    </tr>\n",
       "    <tr>\n",
       "      <th>COUNTRY</th>\n",
       "      <th></th>\n",
       "      <th></th>\n",
       "      <th></th>\n",
       "      <th></th>\n",
       "    </tr>\n",
       "  </thead>\n",
       "  <tbody>\n",
       "    <tr>\n",
       "      <td>AE</td>\n",
       "      <td>AE</td>\n",
       "      <td>54</td>\n",
       "      <td>ARE</td>\n",
       "      <td>United Arab Emirates</td>\n",
       "    </tr>\n",
       "    <tr>\n",
       "      <td>AL</td>\n",
       "      <td>AL</td>\n",
       "      <td>1</td>\n",
       "      <td>ALB</td>\n",
       "      <td>Albania</td>\n",
       "    </tr>\n",
       "    <tr>\n",
       "      <td>AM</td>\n",
       "      <td>AM</td>\n",
       "      <td>2</td>\n",
       "      <td>ARM</td>\n",
       "      <td>Armenia</td>\n",
       "    </tr>\n",
       "    <tr>\n",
       "      <td>AR</td>\n",
       "      <td>AR</td>\n",
       "      <td>9</td>\n",
       "      <td>ARG</td>\n",
       "      <td>Argentina</td>\n",
       "    </tr>\n",
       "    <tr>\n",
       "      <td>AT</td>\n",
       "      <td>AT</td>\n",
       "      <td>14</td>\n",
       "      <td>AUT</td>\n",
       "      <td>Austria</td>\n",
       "    </tr>\n",
       "    <tr>\n",
       "      <td>...</td>\n",
       "      <td>...</td>\n",
       "      <td>...</td>\n",
       "      <td>...</td>\n",
       "      <td>...</td>\n",
       "    </tr>\n",
       "    <tr>\n",
       "      <td>US</td>\n",
       "      <td>US</td>\n",
       "      <td>10656</td>\n",
       "      <td>USA</td>\n",
       "      <td>United States of America</td>\n",
       "    </tr>\n",
       "    <tr>\n",
       "      <td>VI</td>\n",
       "      <td>VI</td>\n",
       "      <td>3</td>\n",
       "      <td>VIR</td>\n",
       "      <td>Virgin Islands, U.S.</td>\n",
       "    </tr>\n",
       "    <tr>\n",
       "      <td>VN</td>\n",
       "      <td>VN</td>\n",
       "      <td>4</td>\n",
       "      <td>VNM</td>\n",
       "      <td>Viet Nam</td>\n",
       "    </tr>\n",
       "    <tr>\n",
       "      <td>ZA</td>\n",
       "      <td>ZA</td>\n",
       "      <td>40</td>\n",
       "      <td>ZAF</td>\n",
       "      <td>South Africa</td>\n",
       "    </tr>\n",
       "    <tr>\n",
       "      <td>ZM</td>\n",
       "      <td>ZM</td>\n",
       "      <td>2</td>\n",
       "      <td>ZMB</td>\n",
       "      <td>Zambia</td>\n",
       "    </tr>\n",
       "  </tbody>\n",
       "</table>\n",
       "<p>90 rows × 4 columns</p>\n",
       "</div>"
      ],
      "text/plain": [
       "        Country  Job Count three letter country              country name\n",
       "COUNTRY                                                                  \n",
       "AE           AE         54                  ARE      United Arab Emirates\n",
       "AL           AL          1                  ALB                   Albania\n",
       "AM           AM          2                  ARM                   Armenia\n",
       "AR           AR          9                  ARG                 Argentina\n",
       "AT           AT         14                  AUT                   Austria\n",
       "...         ...        ...                  ...                       ...\n",
       "US           US      10656                  USA  United States of America\n",
       "VI           VI          3                  VIR      Virgin Islands, U.S.\n",
       "VN           VN          4                  VNM                  Viet Nam\n",
       "ZA           ZA         40                  ZAF              South Africa\n",
       "ZM           ZM          2                  ZMB                    Zambia\n",
       "\n",
       "[90 rows x 4 columns]"
      ]
     },
     "execution_count": 86,
     "metadata": {},
     "output_type": "execute_result"
    }
   ],
   "source": [
    "country_job_df[\"three letter country\"] = three_letters_list\n",
    "country_job_df[\"country name\"] = country_name\n",
    "country_job_df"
   ]
  },
  {
   "cell_type": "code",
   "execution_count": 87,
   "metadata": {
    "scrolled": false
   },
   "outputs": [
    {
     "data": {
      "application/vnd.plotly.v1+json": {
       "config": {
        "plotlyServerURL": "https://plot.ly"
       },
       "data": [
        {
         "coloraxis": "coloraxis",
         "geo": "geo",
         "hoverlabel": {
          "namelength": 0
         },
         "hovertemplate": "<b>%{hovertext}</b><br><br>three letter country=%{location}<br>Job Count=%{z}",
         "hovertext": [
          "United Arab Emirates",
          "Albania",
          "Armenia",
          "Argentina",
          "Austria",
          "Australia",
          "Bangladesh",
          "Belgium",
          "Bulgaria",
          "Bahrain",
          "Brazil",
          "Belarus",
          "Canada",
          "Switzerland",
          "Chile",
          "Cameroon",
          "China",
          "Colombia",
          "Cyprus",
          "Czechia",
          "Germany",
          "Denmark",
          "Estonia",
          "Egypt",
          "Spain",
          "Finland",
          "France",
          "United Kingdom of Great Britain and Northern Ireland",
          "Ghana",
          "Greece",
          "Hong Kong",
          "Croatia",
          "Hungary",
          "Indonesia",
          "Ireland",
          "Israel",
          "India",
          "Iraq",
          "Iceland",
          "Italy",
          "Jamaica",
          "Japan",
          "Kenya",
          "Cambodia",
          "Korea, Republic of",
          "Kuwait",
          "Kazakhstan",
          "Sri Lanka",
          "Lithuania",
          "Luxembourg",
          "Latvia",
          "Morocco",
          "Malta",
          "Mauritius",
          "Mexico",
          "Malaysia",
          "Nigeria",
          "Nicaragua",
          "Netherlands",
          "Norway",
          "New Zealand",
          "Panama",
          "Peru",
          "Philippines",
          "Pakistan",
          "Poland",
          "Portugal",
          "Qatar",
          "Romania",
          "Serbia",
          "Russian Federation",
          "Saudi Arabia",
          "Sudan",
          "Sweden",
          "Singapore",
          "Slovenia",
          "Slovakia",
          "El Salvador",
          "Thailand",
          "Tunisia",
          "Turkey",
          "Trinidad and Tobago",
          "Taiwan, Province of China",
          "Ukraine",
          "Uganda",
          "United States of America",
          "Virgin Islands, U.S.",
          "Viet Nam",
          "South Africa",
          "Zambia"
         ],
         "locations": [
          "ARE",
          "ALB",
          "ARM",
          "ARG",
          "AUT",
          "AUS",
          "BGD",
          "BEL",
          "BGR",
          "BHR",
          "BRA",
          "BLR",
          "CAN",
          "CHE",
          "CHL",
          "CMR",
          "CHN",
          "COL",
          "CYP",
          "CZE",
          "DEU",
          "DNK",
          "EST",
          "EGY",
          "ESP",
          "FIN",
          "FRA",
          "GBR",
          "GHA",
          "GRC",
          "HKG",
          "HRV",
          "HUN",
          "IDN",
          "IRL",
          "ISR",
          "IND",
          "IRQ",
          "ISL",
          "ITA",
          "JAM",
          "JPN",
          "KEN",
          "KHM",
          "KOR",
          "KWT",
          "KAZ",
          "LKA",
          "LTU",
          "LUX",
          "LVA",
          "MAR",
          "MLT",
          "MUS",
          "MEX",
          "MYS",
          "NGA",
          "NIC",
          "NLD",
          "NOR",
          "NZL",
          "PAN",
          "PER",
          "PHL",
          "PAK",
          "POL",
          "PRT",
          "QAT",
          "ROU",
          "SRB",
          "RUS",
          "SAU",
          "SDN",
          "SWE",
          "SGP",
          "SVN",
          "SVK",
          "SLV",
          "THA",
          "TUN",
          "TUR",
          "TTO",
          "TWN",
          "UKR",
          "UGA",
          "USA",
          "VIR",
          "VNM",
          "ZAF",
          "ZMB"
         ],
         "name": "",
         "type": "choropleth",
         "z": [
          54,
          1,
          2,
          9,
          14,
          214,
          2,
          117,
          17,
          9,
          36,
          9,
          457,
          15,
          2,
          1,
          15,
          1,
          11,
          6,
          383,
          42,
          72,
          52,
          66,
          29,
          70,
          2384,
          1,
          940,
          77,
          1,
          14,
          13,
          114,
          72,
          276,
          10,
          2,
          31,
          1,
          20,
          7,
          1,
          10,
          2,
          1,
          2,
          23,
          9,
          6,
          1,
          13,
          14,
          18,
          21,
          10,
          4,
          127,
          8,
          333,
          9,
          1,
          132,
          27,
          76,
          18,
          21,
          46,
          7,
          20,
          15,
          1,
          49,
          80,
          1,
          2,
          1,
          10,
          2,
          17,
          4,
          4,
          13,
          1,
          10656,
          3,
          4,
          40,
          2
         ]
        }
       ],
       "layout": {
        "coloraxis": {
         "colorbar": {
          "title": {
           "text": "Job Count"
          }
         },
         "colorscale": [
          [
           0,
           "rgb(36, 86, 104)"
          ],
          [
           0.16666666666666666,
           "rgb(15, 114, 121)"
          ],
          [
           0.3333333333333333,
           "rgb(13, 143, 129)"
          ],
          [
           0.5,
           "rgb(57, 171, 126)"
          ],
          [
           0.6666666666666666,
           "rgb(110, 197, 116)"
          ],
          [
           0.8333333333333334,
           "rgb(169, 220, 103)"
          ],
          [
           1,
           "rgb(237, 239, 93)"
          ]
         ]
        },
        "geo": {
         "center": {},
         "domain": {
          "x": [
           0,
           1
          ],
          "y": [
           0,
           1
          ]
         }
        },
        "legend": {
         "tracegroupgap": 0
        },
        "margin": {
         "t": 60
        },
        "template": {
         "data": {
          "bar": [
           {
            "error_x": {
             "color": "#2a3f5f"
            },
            "error_y": {
             "color": "#2a3f5f"
            },
            "marker": {
             "line": {
              "color": "#E5ECF6",
              "width": 0.5
             }
            },
            "type": "bar"
           }
          ],
          "barpolar": [
           {
            "marker": {
             "line": {
              "color": "#E5ECF6",
              "width": 0.5
             }
            },
            "type": "barpolar"
           }
          ],
          "carpet": [
           {
            "aaxis": {
             "endlinecolor": "#2a3f5f",
             "gridcolor": "white",
             "linecolor": "white",
             "minorgridcolor": "white",
             "startlinecolor": "#2a3f5f"
            },
            "baxis": {
             "endlinecolor": "#2a3f5f",
             "gridcolor": "white",
             "linecolor": "white",
             "minorgridcolor": "white",
             "startlinecolor": "#2a3f5f"
            },
            "type": "carpet"
           }
          ],
          "choropleth": [
           {
            "colorbar": {
             "outlinewidth": 0,
             "ticks": ""
            },
            "type": "choropleth"
           }
          ],
          "contour": [
           {
            "colorbar": {
             "outlinewidth": 0,
             "ticks": ""
            },
            "colorscale": [
             [
              0,
              "#0d0887"
             ],
             [
              0.1111111111111111,
              "#46039f"
             ],
             [
              0.2222222222222222,
              "#7201a8"
             ],
             [
              0.3333333333333333,
              "#9c179e"
             ],
             [
              0.4444444444444444,
              "#bd3786"
             ],
             [
              0.5555555555555556,
              "#d8576b"
             ],
             [
              0.6666666666666666,
              "#ed7953"
             ],
             [
              0.7777777777777778,
              "#fb9f3a"
             ],
             [
              0.8888888888888888,
              "#fdca26"
             ],
             [
              1,
              "#f0f921"
             ]
            ],
            "type": "contour"
           }
          ],
          "contourcarpet": [
           {
            "colorbar": {
             "outlinewidth": 0,
             "ticks": ""
            },
            "type": "contourcarpet"
           }
          ],
          "heatmap": [
           {
            "colorbar": {
             "outlinewidth": 0,
             "ticks": ""
            },
            "colorscale": [
             [
              0,
              "#0d0887"
             ],
             [
              0.1111111111111111,
              "#46039f"
             ],
             [
              0.2222222222222222,
              "#7201a8"
             ],
             [
              0.3333333333333333,
              "#9c179e"
             ],
             [
              0.4444444444444444,
              "#bd3786"
             ],
             [
              0.5555555555555556,
              "#d8576b"
             ],
             [
              0.6666666666666666,
              "#ed7953"
             ],
             [
              0.7777777777777778,
              "#fb9f3a"
             ],
             [
              0.8888888888888888,
              "#fdca26"
             ],
             [
              1,
              "#f0f921"
             ]
            ],
            "type": "heatmap"
           }
          ],
          "heatmapgl": [
           {
            "colorbar": {
             "outlinewidth": 0,
             "ticks": ""
            },
            "colorscale": [
             [
              0,
              "#0d0887"
             ],
             [
              0.1111111111111111,
              "#46039f"
             ],
             [
              0.2222222222222222,
              "#7201a8"
             ],
             [
              0.3333333333333333,
              "#9c179e"
             ],
             [
              0.4444444444444444,
              "#bd3786"
             ],
             [
              0.5555555555555556,
              "#d8576b"
             ],
             [
              0.6666666666666666,
              "#ed7953"
             ],
             [
              0.7777777777777778,
              "#fb9f3a"
             ],
             [
              0.8888888888888888,
              "#fdca26"
             ],
             [
              1,
              "#f0f921"
             ]
            ],
            "type": "heatmapgl"
           }
          ],
          "histogram": [
           {
            "marker": {
             "colorbar": {
              "outlinewidth": 0,
              "ticks": ""
             }
            },
            "type": "histogram"
           }
          ],
          "histogram2d": [
           {
            "colorbar": {
             "outlinewidth": 0,
             "ticks": ""
            },
            "colorscale": [
             [
              0,
              "#0d0887"
             ],
             [
              0.1111111111111111,
              "#46039f"
             ],
             [
              0.2222222222222222,
              "#7201a8"
             ],
             [
              0.3333333333333333,
              "#9c179e"
             ],
             [
              0.4444444444444444,
              "#bd3786"
             ],
             [
              0.5555555555555556,
              "#d8576b"
             ],
             [
              0.6666666666666666,
              "#ed7953"
             ],
             [
              0.7777777777777778,
              "#fb9f3a"
             ],
             [
              0.8888888888888888,
              "#fdca26"
             ],
             [
              1,
              "#f0f921"
             ]
            ],
            "type": "histogram2d"
           }
          ],
          "histogram2dcontour": [
           {
            "colorbar": {
             "outlinewidth": 0,
             "ticks": ""
            },
            "colorscale": [
             [
              0,
              "#0d0887"
             ],
             [
              0.1111111111111111,
              "#46039f"
             ],
             [
              0.2222222222222222,
              "#7201a8"
             ],
             [
              0.3333333333333333,
              "#9c179e"
             ],
             [
              0.4444444444444444,
              "#bd3786"
             ],
             [
              0.5555555555555556,
              "#d8576b"
             ],
             [
              0.6666666666666666,
              "#ed7953"
             ],
             [
              0.7777777777777778,
              "#fb9f3a"
             ],
             [
              0.8888888888888888,
              "#fdca26"
             ],
             [
              1,
              "#f0f921"
             ]
            ],
            "type": "histogram2dcontour"
           }
          ],
          "mesh3d": [
           {
            "colorbar": {
             "outlinewidth": 0,
             "ticks": ""
            },
            "type": "mesh3d"
           }
          ],
          "parcoords": [
           {
            "line": {
             "colorbar": {
              "outlinewidth": 0,
              "ticks": ""
             }
            },
            "type": "parcoords"
           }
          ],
          "pie": [
           {
            "automargin": true,
            "type": "pie"
           }
          ],
          "scatter": [
           {
            "marker": {
             "colorbar": {
              "outlinewidth": 0,
              "ticks": ""
             }
            },
            "type": "scatter"
           }
          ],
          "scatter3d": [
           {
            "line": {
             "colorbar": {
              "outlinewidth": 0,
              "ticks": ""
             }
            },
            "marker": {
             "colorbar": {
              "outlinewidth": 0,
              "ticks": ""
             }
            },
            "type": "scatter3d"
           }
          ],
          "scattercarpet": [
           {
            "marker": {
             "colorbar": {
              "outlinewidth": 0,
              "ticks": ""
             }
            },
            "type": "scattercarpet"
           }
          ],
          "scattergeo": [
           {
            "marker": {
             "colorbar": {
              "outlinewidth": 0,
              "ticks": ""
             }
            },
            "type": "scattergeo"
           }
          ],
          "scattergl": [
           {
            "marker": {
             "colorbar": {
              "outlinewidth": 0,
              "ticks": ""
             }
            },
            "type": "scattergl"
           }
          ],
          "scattermapbox": [
           {
            "marker": {
             "colorbar": {
              "outlinewidth": 0,
              "ticks": ""
             }
            },
            "type": "scattermapbox"
           }
          ],
          "scatterpolar": [
           {
            "marker": {
             "colorbar": {
              "outlinewidth": 0,
              "ticks": ""
             }
            },
            "type": "scatterpolar"
           }
          ],
          "scatterpolargl": [
           {
            "marker": {
             "colorbar": {
              "outlinewidth": 0,
              "ticks": ""
             }
            },
            "type": "scatterpolargl"
           }
          ],
          "scatterternary": [
           {
            "marker": {
             "colorbar": {
              "outlinewidth": 0,
              "ticks": ""
             }
            },
            "type": "scatterternary"
           }
          ],
          "surface": [
           {
            "colorbar": {
             "outlinewidth": 0,
             "ticks": ""
            },
            "colorscale": [
             [
              0,
              "#0d0887"
             ],
             [
              0.1111111111111111,
              "#46039f"
             ],
             [
              0.2222222222222222,
              "#7201a8"
             ],
             [
              0.3333333333333333,
              "#9c179e"
             ],
             [
              0.4444444444444444,
              "#bd3786"
             ],
             [
              0.5555555555555556,
              "#d8576b"
             ],
             [
              0.6666666666666666,
              "#ed7953"
             ],
             [
              0.7777777777777778,
              "#fb9f3a"
             ],
             [
              0.8888888888888888,
              "#fdca26"
             ],
             [
              1,
              "#f0f921"
             ]
            ],
            "type": "surface"
           }
          ],
          "table": [
           {
            "cells": {
             "fill": {
              "color": "#EBF0F8"
             },
             "line": {
              "color": "white"
             }
            },
            "header": {
             "fill": {
              "color": "#C8D4E3"
             },
             "line": {
              "color": "white"
             }
            },
            "type": "table"
           }
          ]
         },
         "layout": {
          "annotationdefaults": {
           "arrowcolor": "#2a3f5f",
           "arrowhead": 0,
           "arrowwidth": 1
          },
          "coloraxis": {
           "colorbar": {
            "outlinewidth": 0,
            "ticks": ""
           }
          },
          "colorscale": {
           "diverging": [
            [
             0,
             "#8e0152"
            ],
            [
             0.1,
             "#c51b7d"
            ],
            [
             0.2,
             "#de77ae"
            ],
            [
             0.3,
             "#f1b6da"
            ],
            [
             0.4,
             "#fde0ef"
            ],
            [
             0.5,
             "#f7f7f7"
            ],
            [
             0.6,
             "#e6f5d0"
            ],
            [
             0.7,
             "#b8e186"
            ],
            [
             0.8,
             "#7fbc41"
            ],
            [
             0.9,
             "#4d9221"
            ],
            [
             1,
             "#276419"
            ]
           ],
           "sequential": [
            [
             0,
             "#0d0887"
            ],
            [
             0.1111111111111111,
             "#46039f"
            ],
            [
             0.2222222222222222,
             "#7201a8"
            ],
            [
             0.3333333333333333,
             "#9c179e"
            ],
            [
             0.4444444444444444,
             "#bd3786"
            ],
            [
             0.5555555555555556,
             "#d8576b"
            ],
            [
             0.6666666666666666,
             "#ed7953"
            ],
            [
             0.7777777777777778,
             "#fb9f3a"
            ],
            [
             0.8888888888888888,
             "#fdca26"
            ],
            [
             1,
             "#f0f921"
            ]
           ],
           "sequentialminus": [
            [
             0,
             "#0d0887"
            ],
            [
             0.1111111111111111,
             "#46039f"
            ],
            [
             0.2222222222222222,
             "#7201a8"
            ],
            [
             0.3333333333333333,
             "#9c179e"
            ],
            [
             0.4444444444444444,
             "#bd3786"
            ],
            [
             0.5555555555555556,
             "#d8576b"
            ],
            [
             0.6666666666666666,
             "#ed7953"
            ],
            [
             0.7777777777777778,
             "#fb9f3a"
            ],
            [
             0.8888888888888888,
             "#fdca26"
            ],
            [
             1,
             "#f0f921"
            ]
           ]
          },
          "colorway": [
           "#636efa",
           "#EF553B",
           "#00cc96",
           "#ab63fa",
           "#FFA15A",
           "#19d3f3",
           "#FF6692",
           "#B6E880",
           "#FF97FF",
           "#FECB52"
          ],
          "font": {
           "color": "#2a3f5f"
          },
          "geo": {
           "bgcolor": "white",
           "lakecolor": "white",
           "landcolor": "#E5ECF6",
           "showlakes": true,
           "showland": true,
           "subunitcolor": "white"
          },
          "hoverlabel": {
           "align": "left"
          },
          "hovermode": "closest",
          "mapbox": {
           "style": "light"
          },
          "paper_bgcolor": "white",
          "plot_bgcolor": "#E5ECF6",
          "polar": {
           "angularaxis": {
            "gridcolor": "white",
            "linecolor": "white",
            "ticks": ""
           },
           "bgcolor": "#E5ECF6",
           "radialaxis": {
            "gridcolor": "white",
            "linecolor": "white",
            "ticks": ""
           }
          },
          "scene": {
           "xaxis": {
            "backgroundcolor": "#E5ECF6",
            "gridcolor": "white",
            "gridwidth": 2,
            "linecolor": "white",
            "showbackground": true,
            "ticks": "",
            "zerolinecolor": "white"
           },
           "yaxis": {
            "backgroundcolor": "#E5ECF6",
            "gridcolor": "white",
            "gridwidth": 2,
            "linecolor": "white",
            "showbackground": true,
            "ticks": "",
            "zerolinecolor": "white"
           },
           "zaxis": {
            "backgroundcolor": "#E5ECF6",
            "gridcolor": "white",
            "gridwidth": 2,
            "linecolor": "white",
            "showbackground": true,
            "ticks": "",
            "zerolinecolor": "white"
           }
          },
          "shapedefaults": {
           "line": {
            "color": "#2a3f5f"
           }
          },
          "ternary": {
           "aaxis": {
            "gridcolor": "white",
            "linecolor": "white",
            "ticks": ""
           },
           "baxis": {
            "gridcolor": "white",
            "linecolor": "white",
            "ticks": ""
           },
           "bgcolor": "#E5ECF6",
           "caxis": {
            "gridcolor": "white",
            "linecolor": "white",
            "ticks": ""
           }
          },
          "title": {
           "x": 0.05
          },
          "xaxis": {
           "automargin": true,
           "gridcolor": "white",
           "linecolor": "white",
           "ticks": "",
           "title": {
            "standoff": 15
           },
           "zerolinecolor": "white",
           "zerolinewidth": 2
          },
          "yaxis": {
           "automargin": true,
           "gridcolor": "white",
           "linecolor": "white",
           "ticks": "",
           "title": {
            "standoff": 15
           },
           "zerolinecolor": "white",
           "zerolinewidth": 2
          }
         }
        }
       }
      },
      "text/html": [
       "<div>\n",
       "        \n",
       "        \n",
       "            <div id=\"2aa8e73a-932d-4e5a-9f9c-069235e5dbc2\" class=\"plotly-graph-div\" style=\"height:525px; width:100%;\"></div>\n",
       "            <script type=\"text/javascript\">\n",
       "                require([\"plotly\"], function(Plotly) {\n",
       "                    window.PLOTLYENV=window.PLOTLYENV || {};\n",
       "                    \n",
       "                if (document.getElementById(\"2aa8e73a-932d-4e5a-9f9c-069235e5dbc2\")) {\n",
       "                    Plotly.newPlot(\n",
       "                        '2aa8e73a-932d-4e5a-9f9c-069235e5dbc2',\n",
       "                        [{\"coloraxis\": \"coloraxis\", \"geo\": \"geo\", \"hoverlabel\": {\"namelength\": 0}, \"hovertemplate\": \"<b>%{hovertext}</b><br><br>three letter country=%{location}<br>Job Count=%{z}\", \"hovertext\": [\"United Arab Emirates\", \"Albania\", \"Armenia\", \"Argentina\", \"Austria\", \"Australia\", \"Bangladesh\", \"Belgium\", \"Bulgaria\", \"Bahrain\", \"Brazil\", \"Belarus\", \"Canada\", \"Switzerland\", \"Chile\", \"Cameroon\", \"China\", \"Colombia\", \"Cyprus\", \"Czechia\", \"Germany\", \"Denmark\", \"Estonia\", \"Egypt\", \"Spain\", \"Finland\", \"France\", \"United Kingdom of Great Britain and Northern Ireland\", \"Ghana\", \"Greece\", \"Hong Kong\", \"Croatia\", \"Hungary\", \"Indonesia\", \"Ireland\", \"Israel\", \"India\", \"Iraq\", \"Iceland\", \"Italy\", \"Jamaica\", \"Japan\", \"Kenya\", \"Cambodia\", \"Korea, Republic of\", \"Kuwait\", \"Kazakhstan\", \"Sri Lanka\", \"Lithuania\", \"Luxembourg\", \"Latvia\", \"Morocco\", \"Malta\", \"Mauritius\", \"Mexico\", \"Malaysia\", \"Nigeria\", \"Nicaragua\", \"Netherlands\", \"Norway\", \"New Zealand\", \"Panama\", \"Peru\", \"Philippines\", \"Pakistan\", \"Poland\", \"Portugal\", \"Qatar\", \"Romania\", \"Serbia\", \"Russian Federation\", \"Saudi Arabia\", \"Sudan\", \"Sweden\", \"Singapore\", \"Slovenia\", \"Slovakia\", \"El Salvador\", \"Thailand\", \"Tunisia\", \"Turkey\", \"Trinidad and Tobago\", \"Taiwan, Province of China\", \"Ukraine\", \"Uganda\", \"United States of America\", \"Virgin Islands, U.S.\", \"Viet Nam\", \"South Africa\", \"Zambia\"], \"locations\": [\"ARE\", \"ALB\", \"ARM\", \"ARG\", \"AUT\", \"AUS\", \"BGD\", \"BEL\", \"BGR\", \"BHR\", \"BRA\", \"BLR\", \"CAN\", \"CHE\", \"CHL\", \"CMR\", \"CHN\", \"COL\", \"CYP\", \"CZE\", \"DEU\", \"DNK\", \"EST\", \"EGY\", \"ESP\", \"FIN\", \"FRA\", \"GBR\", \"GHA\", \"GRC\", \"HKG\", \"HRV\", \"HUN\", \"IDN\", \"IRL\", \"ISR\", \"IND\", \"IRQ\", \"ISL\", \"ITA\", \"JAM\", \"JPN\", \"KEN\", \"KHM\", \"KOR\", \"KWT\", \"KAZ\", \"LKA\", \"LTU\", \"LUX\", \"LVA\", \"MAR\", \"MLT\", \"MUS\", \"MEX\", \"MYS\", \"NGA\", \"NIC\", \"NLD\", \"NOR\", \"NZL\", \"PAN\", \"PER\", \"PHL\", \"PAK\", \"POL\", \"PRT\", \"QAT\", \"ROU\", \"SRB\", \"RUS\", \"SAU\", \"SDN\", \"SWE\", \"SGP\", \"SVN\", \"SVK\", \"SLV\", \"THA\", \"TUN\", \"TUR\", \"TTO\", \"TWN\", \"UKR\", \"UGA\", \"USA\", \"VIR\", \"VNM\", \"ZAF\", \"ZMB\"], \"name\": \"\", \"type\": \"choropleth\", \"z\": [54, 1, 2, 9, 14, 214, 2, 117, 17, 9, 36, 9, 457, 15, 2, 1, 15, 1, 11, 6, 383, 42, 72, 52, 66, 29, 70, 2384, 1, 940, 77, 1, 14, 13, 114, 72, 276, 10, 2, 31, 1, 20, 7, 1, 10, 2, 1, 2, 23, 9, 6, 1, 13, 14, 18, 21, 10, 4, 127, 8, 333, 9, 1, 132, 27, 76, 18, 21, 46, 7, 20, 15, 1, 49, 80, 1, 2, 1, 10, 2, 17, 4, 4, 13, 1, 10656, 3, 4, 40, 2]}],\n",
       "                        {\"coloraxis\": {\"colorbar\": {\"title\": {\"text\": \"Job Count\"}}, \"colorscale\": [[0.0, \"rgb(36, 86, 104)\"], [0.16666666666666666, \"rgb(15, 114, 121)\"], [0.3333333333333333, \"rgb(13, 143, 129)\"], [0.5, \"rgb(57, 171, 126)\"], [0.6666666666666666, \"rgb(110, 197, 116)\"], [0.8333333333333334, \"rgb(169, 220, 103)\"], [1.0, \"rgb(237, 239, 93)\"]]}, \"geo\": {\"center\": {}, \"domain\": {\"x\": [0.0, 1.0], \"y\": [0.0, 1.0]}}, \"legend\": {\"tracegroupgap\": 0}, \"margin\": {\"t\": 60}, \"template\": {\"data\": {\"bar\": [{\"error_x\": {\"color\": \"#2a3f5f\"}, \"error_y\": {\"color\": \"#2a3f5f\"}, \"marker\": {\"line\": {\"color\": \"#E5ECF6\", \"width\": 0.5}}, \"type\": \"bar\"}], \"barpolar\": [{\"marker\": {\"line\": {\"color\": \"#E5ECF6\", \"width\": 0.5}}, \"type\": \"barpolar\"}], \"carpet\": [{\"aaxis\": {\"endlinecolor\": \"#2a3f5f\", \"gridcolor\": \"white\", \"linecolor\": \"white\", \"minorgridcolor\": \"white\", \"startlinecolor\": \"#2a3f5f\"}, \"baxis\": {\"endlinecolor\": \"#2a3f5f\", \"gridcolor\": \"white\", \"linecolor\": \"white\", \"minorgridcolor\": \"white\", \"startlinecolor\": \"#2a3f5f\"}, \"type\": \"carpet\"}], \"choropleth\": [{\"colorbar\": {\"outlinewidth\": 0, \"ticks\": \"\"}, \"type\": \"choropleth\"}], \"contour\": [{\"colorbar\": {\"outlinewidth\": 0, \"ticks\": \"\"}, \"colorscale\": [[0.0, \"#0d0887\"], [0.1111111111111111, \"#46039f\"], [0.2222222222222222, \"#7201a8\"], [0.3333333333333333, \"#9c179e\"], [0.4444444444444444, \"#bd3786\"], [0.5555555555555556, \"#d8576b\"], [0.6666666666666666, \"#ed7953\"], [0.7777777777777778, \"#fb9f3a\"], [0.8888888888888888, \"#fdca26\"], [1.0, \"#f0f921\"]], \"type\": \"contour\"}], \"contourcarpet\": [{\"colorbar\": {\"outlinewidth\": 0, \"ticks\": \"\"}, \"type\": \"contourcarpet\"}], \"heatmap\": [{\"colorbar\": {\"outlinewidth\": 0, \"ticks\": \"\"}, \"colorscale\": [[0.0, \"#0d0887\"], [0.1111111111111111, \"#46039f\"], [0.2222222222222222, \"#7201a8\"], [0.3333333333333333, \"#9c179e\"], [0.4444444444444444, \"#bd3786\"], [0.5555555555555556, \"#d8576b\"], [0.6666666666666666, \"#ed7953\"], [0.7777777777777778, \"#fb9f3a\"], [0.8888888888888888, \"#fdca26\"], [1.0, \"#f0f921\"]], \"type\": \"heatmap\"}], \"heatmapgl\": [{\"colorbar\": {\"outlinewidth\": 0, \"ticks\": \"\"}, \"colorscale\": [[0.0, \"#0d0887\"], [0.1111111111111111, \"#46039f\"], [0.2222222222222222, \"#7201a8\"], [0.3333333333333333, \"#9c179e\"], [0.4444444444444444, \"#bd3786\"], [0.5555555555555556, \"#d8576b\"], [0.6666666666666666, \"#ed7953\"], [0.7777777777777778, \"#fb9f3a\"], [0.8888888888888888, \"#fdca26\"], [1.0, \"#f0f921\"]], \"type\": \"heatmapgl\"}], \"histogram\": [{\"marker\": {\"colorbar\": {\"outlinewidth\": 0, \"ticks\": \"\"}}, \"type\": \"histogram\"}], \"histogram2d\": [{\"colorbar\": {\"outlinewidth\": 0, \"ticks\": \"\"}, \"colorscale\": [[0.0, \"#0d0887\"], [0.1111111111111111, \"#46039f\"], [0.2222222222222222, \"#7201a8\"], [0.3333333333333333, \"#9c179e\"], [0.4444444444444444, \"#bd3786\"], [0.5555555555555556, \"#d8576b\"], [0.6666666666666666, \"#ed7953\"], [0.7777777777777778, \"#fb9f3a\"], [0.8888888888888888, \"#fdca26\"], [1.0, \"#f0f921\"]], \"type\": \"histogram2d\"}], \"histogram2dcontour\": [{\"colorbar\": {\"outlinewidth\": 0, \"ticks\": \"\"}, \"colorscale\": [[0.0, \"#0d0887\"], [0.1111111111111111, \"#46039f\"], [0.2222222222222222, \"#7201a8\"], [0.3333333333333333, \"#9c179e\"], [0.4444444444444444, \"#bd3786\"], [0.5555555555555556, \"#d8576b\"], [0.6666666666666666, \"#ed7953\"], [0.7777777777777778, \"#fb9f3a\"], [0.8888888888888888, \"#fdca26\"], [1.0, \"#f0f921\"]], \"type\": \"histogram2dcontour\"}], \"mesh3d\": [{\"colorbar\": {\"outlinewidth\": 0, \"ticks\": \"\"}, \"type\": \"mesh3d\"}], \"parcoords\": [{\"line\": {\"colorbar\": {\"outlinewidth\": 0, \"ticks\": \"\"}}, \"type\": \"parcoords\"}], \"pie\": [{\"automargin\": true, \"type\": \"pie\"}], \"scatter\": [{\"marker\": {\"colorbar\": {\"outlinewidth\": 0, \"ticks\": \"\"}}, \"type\": \"scatter\"}], \"scatter3d\": [{\"line\": {\"colorbar\": {\"outlinewidth\": 0, \"ticks\": \"\"}}, \"marker\": {\"colorbar\": {\"outlinewidth\": 0, \"ticks\": \"\"}}, \"type\": \"scatter3d\"}], \"scattercarpet\": [{\"marker\": {\"colorbar\": {\"outlinewidth\": 0, \"ticks\": \"\"}}, \"type\": \"scattercarpet\"}], \"scattergeo\": [{\"marker\": {\"colorbar\": {\"outlinewidth\": 0, \"ticks\": \"\"}}, \"type\": \"scattergeo\"}], \"scattergl\": [{\"marker\": {\"colorbar\": {\"outlinewidth\": 0, \"ticks\": \"\"}}, \"type\": \"scattergl\"}], \"scattermapbox\": [{\"marker\": {\"colorbar\": {\"outlinewidth\": 0, \"ticks\": \"\"}}, \"type\": \"scattermapbox\"}], \"scatterpolar\": [{\"marker\": {\"colorbar\": {\"outlinewidth\": 0, \"ticks\": \"\"}}, \"type\": \"scatterpolar\"}], \"scatterpolargl\": [{\"marker\": {\"colorbar\": {\"outlinewidth\": 0, \"ticks\": \"\"}}, \"type\": \"scatterpolargl\"}], \"scatterternary\": [{\"marker\": {\"colorbar\": {\"outlinewidth\": 0, \"ticks\": \"\"}}, \"type\": \"scatterternary\"}], \"surface\": [{\"colorbar\": {\"outlinewidth\": 0, \"ticks\": \"\"}, \"colorscale\": [[0.0, \"#0d0887\"], [0.1111111111111111, \"#46039f\"], [0.2222222222222222, \"#7201a8\"], [0.3333333333333333, \"#9c179e\"], [0.4444444444444444, \"#bd3786\"], [0.5555555555555556, \"#d8576b\"], [0.6666666666666666, \"#ed7953\"], [0.7777777777777778, \"#fb9f3a\"], [0.8888888888888888, \"#fdca26\"], [1.0, \"#f0f921\"]], \"type\": \"surface\"}], \"table\": [{\"cells\": {\"fill\": {\"color\": \"#EBF0F8\"}, \"line\": {\"color\": \"white\"}}, \"header\": {\"fill\": {\"color\": \"#C8D4E3\"}, \"line\": {\"color\": \"white\"}}, \"type\": \"table\"}]}, \"layout\": {\"annotationdefaults\": {\"arrowcolor\": \"#2a3f5f\", \"arrowhead\": 0, \"arrowwidth\": 1}, \"coloraxis\": {\"colorbar\": {\"outlinewidth\": 0, \"ticks\": \"\"}}, \"colorscale\": {\"diverging\": [[0, \"#8e0152\"], [0.1, \"#c51b7d\"], [0.2, \"#de77ae\"], [0.3, \"#f1b6da\"], [0.4, \"#fde0ef\"], [0.5, \"#f7f7f7\"], [0.6, \"#e6f5d0\"], [0.7, \"#b8e186\"], [0.8, \"#7fbc41\"], [0.9, \"#4d9221\"], [1, \"#276419\"]], \"sequential\": [[0.0, \"#0d0887\"], [0.1111111111111111, \"#46039f\"], [0.2222222222222222, \"#7201a8\"], [0.3333333333333333, \"#9c179e\"], [0.4444444444444444, \"#bd3786\"], [0.5555555555555556, \"#d8576b\"], [0.6666666666666666, \"#ed7953\"], [0.7777777777777778, \"#fb9f3a\"], [0.8888888888888888, \"#fdca26\"], [1.0, \"#f0f921\"]], \"sequentialminus\": [[0.0, \"#0d0887\"], [0.1111111111111111, \"#46039f\"], [0.2222222222222222, \"#7201a8\"], [0.3333333333333333, \"#9c179e\"], [0.4444444444444444, \"#bd3786\"], [0.5555555555555556, \"#d8576b\"], [0.6666666666666666, \"#ed7953\"], [0.7777777777777778, \"#fb9f3a\"], [0.8888888888888888, \"#fdca26\"], [1.0, \"#f0f921\"]]}, \"colorway\": [\"#636efa\", \"#EF553B\", \"#00cc96\", \"#ab63fa\", \"#FFA15A\", \"#19d3f3\", \"#FF6692\", \"#B6E880\", \"#FF97FF\", \"#FECB52\"], \"font\": {\"color\": \"#2a3f5f\"}, \"geo\": {\"bgcolor\": \"white\", \"lakecolor\": \"white\", \"landcolor\": \"#E5ECF6\", \"showlakes\": true, \"showland\": true, \"subunitcolor\": \"white\"}, \"hoverlabel\": {\"align\": \"left\"}, \"hovermode\": \"closest\", \"mapbox\": {\"style\": \"light\"}, \"paper_bgcolor\": \"white\", \"plot_bgcolor\": \"#E5ECF6\", \"polar\": {\"angularaxis\": {\"gridcolor\": \"white\", \"linecolor\": \"white\", \"ticks\": \"\"}, \"bgcolor\": \"#E5ECF6\", \"radialaxis\": {\"gridcolor\": \"white\", \"linecolor\": \"white\", \"ticks\": \"\"}}, \"scene\": {\"xaxis\": {\"backgroundcolor\": \"#E5ECF6\", \"gridcolor\": \"white\", \"gridwidth\": 2, \"linecolor\": \"white\", \"showbackground\": true, \"ticks\": \"\", \"zerolinecolor\": \"white\"}, \"yaxis\": {\"backgroundcolor\": \"#E5ECF6\", \"gridcolor\": \"white\", \"gridwidth\": 2, \"linecolor\": \"white\", \"showbackground\": true, \"ticks\": \"\", \"zerolinecolor\": \"white\"}, \"zaxis\": {\"backgroundcolor\": \"#E5ECF6\", \"gridcolor\": \"white\", \"gridwidth\": 2, \"linecolor\": \"white\", \"showbackground\": true, \"ticks\": \"\", \"zerolinecolor\": \"white\"}}, \"shapedefaults\": {\"line\": {\"color\": \"#2a3f5f\"}}, \"ternary\": {\"aaxis\": {\"gridcolor\": \"white\", \"linecolor\": \"white\", \"ticks\": \"\"}, \"baxis\": {\"gridcolor\": \"white\", \"linecolor\": \"white\", \"ticks\": \"\"}, \"bgcolor\": \"#E5ECF6\", \"caxis\": {\"gridcolor\": \"white\", \"linecolor\": \"white\", \"ticks\": \"\"}}, \"title\": {\"x\": 0.05}, \"xaxis\": {\"automargin\": true, \"gridcolor\": \"white\", \"linecolor\": \"white\", \"ticks\": \"\", \"title\": {\"standoff\": 15}, \"zerolinecolor\": \"white\", \"zerolinewidth\": 2}, \"yaxis\": {\"automargin\": true, \"gridcolor\": \"white\", \"linecolor\": \"white\", \"ticks\": \"\", \"title\": {\"standoff\": 15}, \"zerolinecolor\": \"white\", \"zerolinewidth\": 2}}}},\n",
       "                        {\"responsive\": true}\n",
       "                    ).then(function(){\n",
       "                            \n",
       "var gd = document.getElementById('2aa8e73a-932d-4e5a-9f9c-069235e5dbc2');\n",
       "var x = new MutationObserver(function (mutations, observer) {{\n",
       "        var display = window.getComputedStyle(gd).display;\n",
       "        if (!display || display === 'none') {{\n",
       "            console.log([gd, 'removed!']);\n",
       "            Plotly.purge(gd);\n",
       "            observer.disconnect();\n",
       "        }}\n",
       "}});\n",
       "\n",
       "// Listen for the removal of the full notebook cells\n",
       "var notebookContainer = gd.closest('#notebook-container');\n",
       "if (notebookContainer) {{\n",
       "    x.observe(notebookContainer, {childList: true});\n",
       "}}\n",
       "\n",
       "// Listen for the clearing of the current output cell\n",
       "var outputEl = gd.closest('.output');\n",
       "if (outputEl) {{\n",
       "    x.observe(outputEl, {childList: true});\n",
       "}}\n",
       "\n",
       "                        })\n",
       "                };\n",
       "                });\n",
       "            </script>\n",
       "        </div>"
      ]
     },
     "metadata": {},
     "output_type": "display_data"
    }
   ],
   "source": [
    "\n",
    "fig = px.choropleth(country_job_df, locations=\"three letter country\",\n",
    "                    color=\"Job Count\", # lifeExp is a column of gapminder\n",
    "                    hover_name=\"country name\", # column to add to hover information\n",
    "                    color_continuous_scale=px.colors.sequential.Aggrnyl)\n",
    "fig.show()"
   ]
  },
  {
   "cell_type": "code",
   "execution_count": 88,
   "metadata": {},
   "outputs": [
    {
     "data": {
      "text/html": [
       "<div>\n",
       "<style scoped>\n",
       "    .dataframe tbody tr th:only-of-type {\n",
       "        vertical-align: middle;\n",
       "    }\n",
       "\n",
       "    .dataframe tbody tr th {\n",
       "        vertical-align: top;\n",
       "    }\n",
       "\n",
       "    .dataframe thead th {\n",
       "        text-align: right;\n",
       "    }\n",
       "</style>\n",
       "<table border=\"1\" class=\"dataframe\">\n",
       "  <thead>\n",
       "    <tr style=\"text-align: right;\">\n",
       "      <th></th>\n",
       "      <th>Country</th>\n",
       "      <th>State</th>\n",
       "      <th>City</th>\n",
       "    </tr>\n",
       "  </thead>\n",
       "  <tbody>\n",
       "    <tr>\n",
       "      <td>0</td>\n",
       "      <td>US,</td>\n",
       "      <td>NY,</td>\n",
       "      <td>New York</td>\n",
       "    </tr>\n",
       "    <tr>\n",
       "      <td>1</td>\n",
       "      <td>NZ,</td>\n",
       "      <td>,</td>\n",
       "      <td>Auckland</td>\n",
       "    </tr>\n",
       "    <tr>\n",
       "      <td>2</td>\n",
       "      <td>US,</td>\n",
       "      <td>IA,</td>\n",
       "      <td>Wever</td>\n",
       "    </tr>\n",
       "    <tr>\n",
       "      <td>3</td>\n",
       "      <td>US,</td>\n",
       "      <td>DC,</td>\n",
       "      <td>Washington</td>\n",
       "    </tr>\n",
       "    <tr>\n",
       "      <td>4</td>\n",
       "      <td>US,</td>\n",
       "      <td>FL,</td>\n",
       "      <td>Fort Worth</td>\n",
       "    </tr>\n",
       "    <tr>\n",
       "      <td>...</td>\n",
       "      <td>...</td>\n",
       "      <td>...</td>\n",
       "      <td>...</td>\n",
       "    </tr>\n",
       "    <tr>\n",
       "      <td>17875</td>\n",
       "      <td>CA,</td>\n",
       "      <td>ON,</td>\n",
       "      <td>Toronto</td>\n",
       "    </tr>\n",
       "    <tr>\n",
       "      <td>17876</td>\n",
       "      <td>US,</td>\n",
       "      <td>PA,</td>\n",
       "      <td>Philadelphia</td>\n",
       "    </tr>\n",
       "    <tr>\n",
       "      <td>17877</td>\n",
       "      <td>US,</td>\n",
       "      <td>TX,</td>\n",
       "      <td>Houston</td>\n",
       "    </tr>\n",
       "    <tr>\n",
       "      <td>17878</td>\n",
       "      <td>NG,</td>\n",
       "      <td>LA,</td>\n",
       "      <td>Lagos</td>\n",
       "    </tr>\n",
       "    <tr>\n",
       "      <td>17879</td>\n",
       "      <td>NZ,</td>\n",
       "      <td>N,</td>\n",
       "      <td>Wellington</td>\n",
       "    </tr>\n",
       "  </tbody>\n",
       "</table>\n",
       "<p>17534 rows × 3 columns</p>\n",
       "</div>"
      ],
      "text/plain": [
       "      Country State          City\n",
       "0         US,   NY,      New York\n",
       "1         NZ,     ,      Auckland\n",
       "2         US,   IA,         Wever\n",
       "3         US,   DC,    Washington\n",
       "4         US,   FL,    Fort Worth\n",
       "...       ...   ...           ...\n",
       "17875     CA,   ON,       Toronto\n",
       "17876     US,   PA,  Philadelphia\n",
       "17877     US,   TX,       Houston\n",
       "17878     NG,   LA,         Lagos\n",
       "17879     NZ,    N,    Wellington\n",
       "\n",
       "[17534 rows x 3 columns]"
      ]
     },
     "execution_count": 88,
     "metadata": {},
     "output_type": "execute_result"
    }
   ],
   "source": [
    "df2"
   ]
  },
  {
   "cell_type": "code",
   "execution_count": 89,
   "metadata": {},
   "outputs": [
    {
     "data": {
      "text/html": [
       "<div>\n",
       "<style scoped>\n",
       "    .dataframe tbody tr th:only-of-type {\n",
       "        vertical-align: middle;\n",
       "    }\n",
       "\n",
       "    .dataframe tbody tr th {\n",
       "        vertical-align: top;\n",
       "    }\n",
       "\n",
       "    .dataframe thead th {\n",
       "        text-align: right;\n",
       "    }\n",
       "</style>\n",
       "<table border=\"1\" class=\"dataframe\">\n",
       "  <thead>\n",
       "    <tr style=\"text-align: right;\">\n",
       "      <th></th>\n",
       "      <th>Country</th>\n",
       "      <th>State</th>\n",
       "      <th>City</th>\n",
       "    </tr>\n",
       "  </thead>\n",
       "  <tbody>\n",
       "    <tr>\n",
       "      <td>0</td>\n",
       "      <td>US,</td>\n",
       "      <td>NY,</td>\n",
       "      <td>New York</td>\n",
       "    </tr>\n",
       "    <tr>\n",
       "      <td>2</td>\n",
       "      <td>US,</td>\n",
       "      <td>IA,</td>\n",
       "      <td>Wever</td>\n",
       "    </tr>\n",
       "    <tr>\n",
       "      <td>3</td>\n",
       "      <td>US,</td>\n",
       "      <td>DC,</td>\n",
       "      <td>Washington</td>\n",
       "    </tr>\n",
       "    <tr>\n",
       "      <td>4</td>\n",
       "      <td>US,</td>\n",
       "      <td>FL,</td>\n",
       "      <td>Fort Worth</td>\n",
       "    </tr>\n",
       "    <tr>\n",
       "      <td>5</td>\n",
       "      <td>US,</td>\n",
       "      <td>MD,</td>\n",
       "      <td></td>\n",
       "    </tr>\n",
       "    <tr>\n",
       "      <td>...</td>\n",
       "      <td>...</td>\n",
       "      <td>...</td>\n",
       "      <td>...</td>\n",
       "    </tr>\n",
       "    <tr>\n",
       "      <td>17872</td>\n",
       "      <td>US,</td>\n",
       "      <td>CA,</td>\n",
       "      <td>San Francisco</td>\n",
       "    </tr>\n",
       "    <tr>\n",
       "      <td>17873</td>\n",
       "      <td>US,</td>\n",
       "      <td>NC,</td>\n",
       "      <td>Charlotte</td>\n",
       "    </tr>\n",
       "    <tr>\n",
       "      <td>17874</td>\n",
       "      <td>US,</td>\n",
       "      <td>,</td>\n",
       "      <td></td>\n",
       "    </tr>\n",
       "    <tr>\n",
       "      <td>17876</td>\n",
       "      <td>US,</td>\n",
       "      <td>PA,</td>\n",
       "      <td>Philadelphia</td>\n",
       "    </tr>\n",
       "    <tr>\n",
       "      <td>17877</td>\n",
       "      <td>US,</td>\n",
       "      <td>TX,</td>\n",
       "      <td>Houston</td>\n",
       "    </tr>\n",
       "  </tbody>\n",
       "</table>\n",
       "<p>10593 rows × 3 columns</p>\n",
       "</div>"
      ],
      "text/plain": [
       "      Country State           City\n",
       "0         US,   NY,       New York\n",
       "2         US,   IA,          Wever\n",
       "3         US,   DC,     Washington\n",
       "4         US,   FL,     Fort Worth\n",
       "5         US,   MD,               \n",
       "...       ...   ...            ...\n",
       "17872     US,   CA,  San Francisco\n",
       "17873     US,   NC,      Charlotte\n",
       "17874     US,     ,               \n",
       "17876     US,   PA,   Philadelphia\n",
       "17877     US,   TX,        Houston\n",
       "\n",
       "[10593 rows x 3 columns]"
      ]
     },
     "execution_count": 89,
     "metadata": {},
     "output_type": "execute_result"
    }
   ],
   "source": [
    "us_df = df2[df2[\"Country\"] == \"US,\"]\n",
    "us_df"
   ]
  },
  {
   "cell_type": "code",
   "execution_count": 90,
   "metadata": {},
   "outputs": [
    {
     "name": "stderr",
     "output_type": "stream",
     "text": [
      "C:\\Users\\lugor\\Anaconda3\\lib\\site-packages\\ipykernel_launcher.py:1: SettingWithCopyWarning:\n",
      "\n",
      "\n",
      "A value is trying to be set on a copy of a slice from a DataFrame.\n",
      "Try using .loc[row_indexer,col_indexer] = value instead\n",
      "\n",
      "See the caveats in the documentation: http://pandas.pydata.org/pandas-docs/stable/user_guide/indexing.html#returning-a-view-versus-a-copy\n",
      "\n",
      "C:\\Users\\lugor\\Anaconda3\\lib\\site-packages\\ipykernel_launcher.py:2: SettingWithCopyWarning:\n",
      "\n",
      "\n",
      "A value is trying to be set on a copy of a slice from a DataFrame.\n",
      "Try using .loc[row_indexer,col_indexer] = value instead\n",
      "\n",
      "See the caveats in the documentation: http://pandas.pydata.org/pandas-docs/stable/user_guide/indexing.html#returning-a-view-versus-a-copy\n",
      "\n"
     ]
    },
    {
     "data": {
      "text/html": [
       "<div>\n",
       "<style scoped>\n",
       "    .dataframe tbody tr th:only-of-type {\n",
       "        vertical-align: middle;\n",
       "    }\n",
       "\n",
       "    .dataframe tbody tr th {\n",
       "        vertical-align: top;\n",
       "    }\n",
       "\n",
       "    .dataframe thead th {\n",
       "        text-align: right;\n",
       "    }\n",
       "</style>\n",
       "<table border=\"1\" class=\"dataframe\">\n",
       "  <thead>\n",
       "    <tr style=\"text-align: right;\">\n",
       "      <th></th>\n",
       "      <th>Country</th>\n",
       "      <th>State</th>\n",
       "      <th>City</th>\n",
       "    </tr>\n",
       "  </thead>\n",
       "  <tbody>\n",
       "    <tr>\n",
       "      <td>0</td>\n",
       "      <td>US</td>\n",
       "      <td>NY</td>\n",
       "      <td>New York</td>\n",
       "    </tr>\n",
       "    <tr>\n",
       "      <td>2</td>\n",
       "      <td>US</td>\n",
       "      <td>IA</td>\n",
       "      <td>Wever</td>\n",
       "    </tr>\n",
       "    <tr>\n",
       "      <td>3</td>\n",
       "      <td>US</td>\n",
       "      <td>DC</td>\n",
       "      <td>Washington</td>\n",
       "    </tr>\n",
       "    <tr>\n",
       "      <td>4</td>\n",
       "      <td>US</td>\n",
       "      <td>FL</td>\n",
       "      <td>Fort Worth</td>\n",
       "    </tr>\n",
       "    <tr>\n",
       "      <td>5</td>\n",
       "      <td>US</td>\n",
       "      <td>MD</td>\n",
       "      <td></td>\n",
       "    </tr>\n",
       "    <tr>\n",
       "      <td>...</td>\n",
       "      <td>...</td>\n",
       "      <td>...</td>\n",
       "      <td>...</td>\n",
       "    </tr>\n",
       "    <tr>\n",
       "      <td>17872</td>\n",
       "      <td>US</td>\n",
       "      <td>CA</td>\n",
       "      <td>San Francisco</td>\n",
       "    </tr>\n",
       "    <tr>\n",
       "      <td>17873</td>\n",
       "      <td>US</td>\n",
       "      <td>NC</td>\n",
       "      <td>Charlotte</td>\n",
       "    </tr>\n",
       "    <tr>\n",
       "      <td>17874</td>\n",
       "      <td>US</td>\n",
       "      <td></td>\n",
       "      <td></td>\n",
       "    </tr>\n",
       "    <tr>\n",
       "      <td>17876</td>\n",
       "      <td>US</td>\n",
       "      <td>PA</td>\n",
       "      <td>Philadelphia</td>\n",
       "    </tr>\n",
       "    <tr>\n",
       "      <td>17877</td>\n",
       "      <td>US</td>\n",
       "      <td>TX</td>\n",
       "      <td>Houston</td>\n",
       "    </tr>\n",
       "  </tbody>\n",
       "</table>\n",
       "<p>10593 rows × 3 columns</p>\n",
       "</div>"
      ],
      "text/plain": [
       "      Country State           City\n",
       "0          US    NY       New York\n",
       "2          US    IA          Wever\n",
       "3          US    DC     Washington\n",
       "4          US    FL     Fort Worth\n",
       "5          US    MD               \n",
       "...       ...   ...            ...\n",
       "17872      US    CA  San Francisco\n",
       "17873      US    NC      Charlotte\n",
       "17874      US                     \n",
       "17876      US    PA   Philadelphia\n",
       "17877      US    TX        Houston\n",
       "\n",
       "[10593 rows x 3 columns]"
      ]
     },
     "execution_count": 90,
     "metadata": {},
     "output_type": "execute_result"
    }
   ],
   "source": [
    "us_df['Country'] = us_df['Country'].str.replace(',', '').astype(str)\n",
    "us_df['State'] = us_df['State'].str.replace(',', '').astype(str)\n",
    "us_df"
   ]
  },
  {
   "cell_type": "code",
   "execution_count": 91,
   "metadata": {},
   "outputs": [
    {
     "data": {
      "text/plain": [
       "State\n",
       "        \n",
       "AK    AK\n",
       "AL    AL\n",
       "AR    AR\n",
       "AZ    AZ\n",
       "CA    CA\n",
       "CO    CO\n",
       "CT    CT\n",
       "DC    DC\n",
       "DE    DE\n",
       "FL    FL\n",
       "GA    GA\n",
       "HI    HI\n",
       "IA    IA\n",
       "ID    ID\n",
       "IL    IL\n",
       "IN    IN\n",
       "KS    KS\n",
       "KY    KY\n",
       "LA    LA\n",
       "MA    MA\n",
       "MD    MD\n",
       "ME    ME\n",
       "MI    MI\n",
       "MN    MN\n",
       "MO    MO\n",
       "MS    MS\n",
       "MT    MT\n",
       "NC    NC\n",
       "ND    ND\n",
       "NE    NE\n",
       "NH    NH\n",
       "NJ    NJ\n",
       "NM    NM\n",
       "NV    NV\n",
       "NY    NY\n",
       "OH    OH\n",
       "OK    OK\n",
       "OR    OR\n",
       "PA    PA\n",
       "RI    RI\n",
       "SC    SC\n",
       "SD    SD\n",
       "TN    TN\n",
       "TX    TX\n",
       "UT    UT\n",
       "VA    VA\n",
       "VT    VT\n",
       "WA    WA\n",
       "WI    WI\n",
       "WV    WV\n",
       "WY    WY\n",
       "Name: State, dtype: object"
      ]
     },
     "execution_count": 91,
     "metadata": {},
     "output_type": "execute_result"
    }
   ],
   "source": [
    "us_groupby = us_df.groupby(\"State\")\n",
    "us_list = us_groupby[\"State\"].first()\n",
    "us_list"
   ]
  },
  {
   "cell_type": "code",
   "execution_count": 92,
   "metadata": {},
   "outputs": [
    {
     "data": {
      "text/plain": [
       "[455,\n",
       " 9,\n",
       " 65,\n",
       " 17,\n",
       " 151,\n",
       " 2051,\n",
       " 134,\n",
       " 104,\n",
       " 276,\n",
       " 19,\n",
       " 415,\n",
       " 238,\n",
       " 4,\n",
       " 85,\n",
       " 30,\n",
       " 424,\n",
       " 119,\n",
       " 40,\n",
       " 92,\n",
       " 34,\n",
       " 313,\n",
       " 107,\n",
       " 8,\n",
       " 285,\n",
       " 179,\n",
       " 160,\n",
       " 17,\n",
       " 10,\n",
       " 225,\n",
       " 23,\n",
       " 31,\n",
       " 21,\n",
       " 193,\n",
       " 16,\n",
       " 113,\n",
       " 1259,\n",
       " 372,\n",
       " 69,\n",
       " 186,\n",
       " 316,\n",
       " 14,\n",
       " 79,\n",
       " 16,\n",
       " 84,\n",
       " 975,\n",
       " 69,\n",
       " 332,\n",
       " 5,\n",
       " 167,\n",
       " 152,\n",
       " 27,\n",
       " 8]"
      ]
     },
     "execution_count": 92,
     "metadata": {},
     "output_type": "execute_result"
    }
   ],
   "source": [
    "state_groups = us_groupby.groups\n",
    "\n",
    "state_counts = []\n",
    "\n",
    "for i in us_list:\n",
    "    state_counts.append(len(state_groups[i]))\n",
    "state_counts\n",
    "    "
   ]
  },
  {
   "cell_type": "code",
   "execution_count": 93,
   "metadata": {},
   "outputs": [
    {
     "data": {
      "text/html": [
       "<div>\n",
       "<style scoped>\n",
       "    .dataframe tbody tr th:only-of-type {\n",
       "        vertical-align: middle;\n",
       "    }\n",
       "\n",
       "    .dataframe tbody tr th {\n",
       "        vertical-align: top;\n",
       "    }\n",
       "\n",
       "    .dataframe thead th {\n",
       "        text-align: right;\n",
       "    }\n",
       "</style>\n",
       "<table border=\"1\" class=\"dataframe\">\n",
       "  <thead>\n",
       "    <tr style=\"text-align: right;\">\n",
       "      <th></th>\n",
       "      <th>Country</th>\n",
       "      <th>State</th>\n",
       "      <th>City</th>\n",
       "    </tr>\n",
       "  </thead>\n",
       "  <tbody>\n",
       "    <tr>\n",
       "      <td>0</td>\n",
       "      <td>US,</td>\n",
       "      <td>NY,</td>\n",
       "      <td>New York</td>\n",
       "    </tr>\n",
       "    <tr>\n",
       "      <td>2</td>\n",
       "      <td>US,</td>\n",
       "      <td>IA,</td>\n",
       "      <td>Wever</td>\n",
       "    </tr>\n",
       "    <tr>\n",
       "      <td>3</td>\n",
       "      <td>US,</td>\n",
       "      <td>DC,</td>\n",
       "      <td>Washington</td>\n",
       "    </tr>\n",
       "    <tr>\n",
       "      <td>4</td>\n",
       "      <td>US,</td>\n",
       "      <td>FL,</td>\n",
       "      <td>Fort Worth</td>\n",
       "    </tr>\n",
       "    <tr>\n",
       "      <td>5</td>\n",
       "      <td>US,</td>\n",
       "      <td>MD,</td>\n",
       "      <td></td>\n",
       "    </tr>\n",
       "    <tr>\n",
       "      <td>...</td>\n",
       "      <td>...</td>\n",
       "      <td>...</td>\n",
       "      <td>...</td>\n",
       "    </tr>\n",
       "    <tr>\n",
       "      <td>17872</td>\n",
       "      <td>US,</td>\n",
       "      <td>CA,</td>\n",
       "      <td>San Francisco</td>\n",
       "    </tr>\n",
       "    <tr>\n",
       "      <td>17873</td>\n",
       "      <td>US,</td>\n",
       "      <td>NC,</td>\n",
       "      <td>Charlotte</td>\n",
       "    </tr>\n",
       "    <tr>\n",
       "      <td>17874</td>\n",
       "      <td>US,</td>\n",
       "      <td>,</td>\n",
       "      <td></td>\n",
       "    </tr>\n",
       "    <tr>\n",
       "      <td>17876</td>\n",
       "      <td>US,</td>\n",
       "      <td>PA,</td>\n",
       "      <td>Philadelphia</td>\n",
       "    </tr>\n",
       "    <tr>\n",
       "      <td>17877</td>\n",
       "      <td>US,</td>\n",
       "      <td>TX,</td>\n",
       "      <td>Houston</td>\n",
       "    </tr>\n",
       "  </tbody>\n",
       "</table>\n",
       "<p>10593 rows × 3 columns</p>\n",
       "</div>"
      ],
      "text/plain": [
       "      Country State           City\n",
       "0         US,   NY,       New York\n",
       "2         US,   IA,          Wever\n",
       "3         US,   DC,     Washington\n",
       "4         US,   FL,     Fort Worth\n",
       "5         US,   MD,               \n",
       "...       ...   ...            ...\n",
       "17872     US,   CA,  San Francisco\n",
       "17873     US,   NC,      Charlotte\n",
       "17874     US,     ,               \n",
       "17876     US,   PA,   Philadelphia\n",
       "17877     US,   TX,        Houston\n",
       "\n",
       "[10593 rows x 3 columns]"
      ]
     },
     "execution_count": 93,
     "metadata": {},
     "output_type": "execute_result"
    }
   ],
   "source": [
    "state_counts_df = pd.DataFrame({\"States\":us_list,\"Job Count\":state_counts})\n",
    "us_df = df2[df2[\"Country\"] == \"US,\"]\n",
    "us_df"
   ]
  },
  {
   "cell_type": "code",
   "execution_count": 94,
   "metadata": {
    "scrolled": false
   },
   "outputs": [
    {
     "data": {
      "application/vnd.plotly.v1+json": {
       "config": {
        "plotlyServerURL": "https://plot.ly"
       },
       "data": [
        {
         "colorbar": {
          "title": {
           "text": "Job Count"
          }
         },
         "colorscale": [
          [
           0,
           "rgb(247,252,245)"
          ],
          [
           0.125,
           "rgb(229,245,224)"
          ],
          [
           0.25,
           "rgb(199,233,192)"
          ],
          [
           0.375,
           "rgb(161,217,155)"
          ],
          [
           0.5,
           "rgb(116,196,118)"
          ],
          [
           0.625,
           "rgb(65,171,93)"
          ],
          [
           0.75,
           "rgb(35,139,69)"
          ],
          [
           0.875,
           "rgb(0,109,44)"
          ],
          [
           1,
           "rgb(0,68,27)"
          ]
         ],
         "locationmode": "USA-states",
         "locations": [
          "",
          "AK",
          "AL",
          "AR",
          "AZ",
          "CA",
          "CO",
          "CT",
          "DC",
          "DE",
          "FL",
          "GA",
          "HI",
          "IA",
          "ID",
          "IL",
          "IN",
          "KS",
          "KY",
          "LA",
          "MA",
          "MD",
          "ME",
          "MI",
          "MN",
          "MO",
          "MS",
          "MT",
          "NC",
          "ND",
          "NE",
          "NH",
          "NJ",
          "NM",
          "NV",
          "NY",
          "OH",
          "OK",
          "OR",
          "PA",
          "RI",
          "SC",
          "SD",
          "TN",
          "TX",
          "UT",
          "VA",
          "VT",
          "WA",
          "WI",
          "WV",
          "WY"
         ],
         "type": "choropleth",
         "z": [
          455,
          9,
          65,
          17,
          151,
          2051,
          134,
          104,
          276,
          19,
          415,
          238,
          4,
          85,
          30,
          424,
          119,
          40,
          92,
          34,
          313,
          107,
          8,
          285,
          179,
          160,
          17,
          10,
          225,
          23,
          31,
          21,
          193,
          16,
          113,
          1259,
          372,
          69,
          186,
          316,
          14,
          79,
          16,
          84,
          975,
          69,
          332,
          5,
          167,
          152,
          27,
          8
         ]
        }
       ],
       "layout": {
        "geo": {
         "scope": "usa"
        },
        "template": {
         "data": {
          "bar": [
           {
            "error_x": {
             "color": "#2a3f5f"
            },
            "error_y": {
             "color": "#2a3f5f"
            },
            "marker": {
             "line": {
              "color": "#E5ECF6",
              "width": 0.5
             }
            },
            "type": "bar"
           }
          ],
          "barpolar": [
           {
            "marker": {
             "line": {
              "color": "#E5ECF6",
              "width": 0.5
             }
            },
            "type": "barpolar"
           }
          ],
          "carpet": [
           {
            "aaxis": {
             "endlinecolor": "#2a3f5f",
             "gridcolor": "white",
             "linecolor": "white",
             "minorgridcolor": "white",
             "startlinecolor": "#2a3f5f"
            },
            "baxis": {
             "endlinecolor": "#2a3f5f",
             "gridcolor": "white",
             "linecolor": "white",
             "minorgridcolor": "white",
             "startlinecolor": "#2a3f5f"
            },
            "type": "carpet"
           }
          ],
          "choropleth": [
           {
            "colorbar": {
             "outlinewidth": 0,
             "ticks": ""
            },
            "type": "choropleth"
           }
          ],
          "contour": [
           {
            "colorbar": {
             "outlinewidth": 0,
             "ticks": ""
            },
            "colorscale": [
             [
              0,
              "#0d0887"
             ],
             [
              0.1111111111111111,
              "#46039f"
             ],
             [
              0.2222222222222222,
              "#7201a8"
             ],
             [
              0.3333333333333333,
              "#9c179e"
             ],
             [
              0.4444444444444444,
              "#bd3786"
             ],
             [
              0.5555555555555556,
              "#d8576b"
             ],
             [
              0.6666666666666666,
              "#ed7953"
             ],
             [
              0.7777777777777778,
              "#fb9f3a"
             ],
             [
              0.8888888888888888,
              "#fdca26"
             ],
             [
              1,
              "#f0f921"
             ]
            ],
            "type": "contour"
           }
          ],
          "contourcarpet": [
           {
            "colorbar": {
             "outlinewidth": 0,
             "ticks": ""
            },
            "type": "contourcarpet"
           }
          ],
          "heatmap": [
           {
            "colorbar": {
             "outlinewidth": 0,
             "ticks": ""
            },
            "colorscale": [
             [
              0,
              "#0d0887"
             ],
             [
              0.1111111111111111,
              "#46039f"
             ],
             [
              0.2222222222222222,
              "#7201a8"
             ],
             [
              0.3333333333333333,
              "#9c179e"
             ],
             [
              0.4444444444444444,
              "#bd3786"
             ],
             [
              0.5555555555555556,
              "#d8576b"
             ],
             [
              0.6666666666666666,
              "#ed7953"
             ],
             [
              0.7777777777777778,
              "#fb9f3a"
             ],
             [
              0.8888888888888888,
              "#fdca26"
             ],
             [
              1,
              "#f0f921"
             ]
            ],
            "type": "heatmap"
           }
          ],
          "heatmapgl": [
           {
            "colorbar": {
             "outlinewidth": 0,
             "ticks": ""
            },
            "colorscale": [
             [
              0,
              "#0d0887"
             ],
             [
              0.1111111111111111,
              "#46039f"
             ],
             [
              0.2222222222222222,
              "#7201a8"
             ],
             [
              0.3333333333333333,
              "#9c179e"
             ],
             [
              0.4444444444444444,
              "#bd3786"
             ],
             [
              0.5555555555555556,
              "#d8576b"
             ],
             [
              0.6666666666666666,
              "#ed7953"
             ],
             [
              0.7777777777777778,
              "#fb9f3a"
             ],
             [
              0.8888888888888888,
              "#fdca26"
             ],
             [
              1,
              "#f0f921"
             ]
            ],
            "type": "heatmapgl"
           }
          ],
          "histogram": [
           {
            "marker": {
             "colorbar": {
              "outlinewidth": 0,
              "ticks": ""
             }
            },
            "type": "histogram"
           }
          ],
          "histogram2d": [
           {
            "colorbar": {
             "outlinewidth": 0,
             "ticks": ""
            },
            "colorscale": [
             [
              0,
              "#0d0887"
             ],
             [
              0.1111111111111111,
              "#46039f"
             ],
             [
              0.2222222222222222,
              "#7201a8"
             ],
             [
              0.3333333333333333,
              "#9c179e"
             ],
             [
              0.4444444444444444,
              "#bd3786"
             ],
             [
              0.5555555555555556,
              "#d8576b"
             ],
             [
              0.6666666666666666,
              "#ed7953"
             ],
             [
              0.7777777777777778,
              "#fb9f3a"
             ],
             [
              0.8888888888888888,
              "#fdca26"
             ],
             [
              1,
              "#f0f921"
             ]
            ],
            "type": "histogram2d"
           }
          ],
          "histogram2dcontour": [
           {
            "colorbar": {
             "outlinewidth": 0,
             "ticks": ""
            },
            "colorscale": [
             [
              0,
              "#0d0887"
             ],
             [
              0.1111111111111111,
              "#46039f"
             ],
             [
              0.2222222222222222,
              "#7201a8"
             ],
             [
              0.3333333333333333,
              "#9c179e"
             ],
             [
              0.4444444444444444,
              "#bd3786"
             ],
             [
              0.5555555555555556,
              "#d8576b"
             ],
             [
              0.6666666666666666,
              "#ed7953"
             ],
             [
              0.7777777777777778,
              "#fb9f3a"
             ],
             [
              0.8888888888888888,
              "#fdca26"
             ],
             [
              1,
              "#f0f921"
             ]
            ],
            "type": "histogram2dcontour"
           }
          ],
          "mesh3d": [
           {
            "colorbar": {
             "outlinewidth": 0,
             "ticks": ""
            },
            "type": "mesh3d"
           }
          ],
          "parcoords": [
           {
            "line": {
             "colorbar": {
              "outlinewidth": 0,
              "ticks": ""
             }
            },
            "type": "parcoords"
           }
          ],
          "pie": [
           {
            "automargin": true,
            "type": "pie"
           }
          ],
          "scatter": [
           {
            "marker": {
             "colorbar": {
              "outlinewidth": 0,
              "ticks": ""
             }
            },
            "type": "scatter"
           }
          ],
          "scatter3d": [
           {
            "line": {
             "colorbar": {
              "outlinewidth": 0,
              "ticks": ""
             }
            },
            "marker": {
             "colorbar": {
              "outlinewidth": 0,
              "ticks": ""
             }
            },
            "type": "scatter3d"
           }
          ],
          "scattercarpet": [
           {
            "marker": {
             "colorbar": {
              "outlinewidth": 0,
              "ticks": ""
             }
            },
            "type": "scattercarpet"
           }
          ],
          "scattergeo": [
           {
            "marker": {
             "colorbar": {
              "outlinewidth": 0,
              "ticks": ""
             }
            },
            "type": "scattergeo"
           }
          ],
          "scattergl": [
           {
            "marker": {
             "colorbar": {
              "outlinewidth": 0,
              "ticks": ""
             }
            },
            "type": "scattergl"
           }
          ],
          "scattermapbox": [
           {
            "marker": {
             "colorbar": {
              "outlinewidth": 0,
              "ticks": ""
             }
            },
            "type": "scattermapbox"
           }
          ],
          "scatterpolar": [
           {
            "marker": {
             "colorbar": {
              "outlinewidth": 0,
              "ticks": ""
             }
            },
            "type": "scatterpolar"
           }
          ],
          "scatterpolargl": [
           {
            "marker": {
             "colorbar": {
              "outlinewidth": 0,
              "ticks": ""
             }
            },
            "type": "scatterpolargl"
           }
          ],
          "scatterternary": [
           {
            "marker": {
             "colorbar": {
              "outlinewidth": 0,
              "ticks": ""
             }
            },
            "type": "scatterternary"
           }
          ],
          "surface": [
           {
            "colorbar": {
             "outlinewidth": 0,
             "ticks": ""
            },
            "colorscale": [
             [
              0,
              "#0d0887"
             ],
             [
              0.1111111111111111,
              "#46039f"
             ],
             [
              0.2222222222222222,
              "#7201a8"
             ],
             [
              0.3333333333333333,
              "#9c179e"
             ],
             [
              0.4444444444444444,
              "#bd3786"
             ],
             [
              0.5555555555555556,
              "#d8576b"
             ],
             [
              0.6666666666666666,
              "#ed7953"
             ],
             [
              0.7777777777777778,
              "#fb9f3a"
             ],
             [
              0.8888888888888888,
              "#fdca26"
             ],
             [
              1,
              "#f0f921"
             ]
            ],
            "type": "surface"
           }
          ],
          "table": [
           {
            "cells": {
             "fill": {
              "color": "#EBF0F8"
             },
             "line": {
              "color": "white"
             }
            },
            "header": {
             "fill": {
              "color": "#C8D4E3"
             },
             "line": {
              "color": "white"
             }
            },
            "type": "table"
           }
          ]
         },
         "layout": {
          "annotationdefaults": {
           "arrowcolor": "#2a3f5f",
           "arrowhead": 0,
           "arrowwidth": 1
          },
          "coloraxis": {
           "colorbar": {
            "outlinewidth": 0,
            "ticks": ""
           }
          },
          "colorscale": {
           "diverging": [
            [
             0,
             "#8e0152"
            ],
            [
             0.1,
             "#c51b7d"
            ],
            [
             0.2,
             "#de77ae"
            ],
            [
             0.3,
             "#f1b6da"
            ],
            [
             0.4,
             "#fde0ef"
            ],
            [
             0.5,
             "#f7f7f7"
            ],
            [
             0.6,
             "#e6f5d0"
            ],
            [
             0.7,
             "#b8e186"
            ],
            [
             0.8,
             "#7fbc41"
            ],
            [
             0.9,
             "#4d9221"
            ],
            [
             1,
             "#276419"
            ]
           ],
           "sequential": [
            [
             0,
             "#0d0887"
            ],
            [
             0.1111111111111111,
             "#46039f"
            ],
            [
             0.2222222222222222,
             "#7201a8"
            ],
            [
             0.3333333333333333,
             "#9c179e"
            ],
            [
             0.4444444444444444,
             "#bd3786"
            ],
            [
             0.5555555555555556,
             "#d8576b"
            ],
            [
             0.6666666666666666,
             "#ed7953"
            ],
            [
             0.7777777777777778,
             "#fb9f3a"
            ],
            [
             0.8888888888888888,
             "#fdca26"
            ],
            [
             1,
             "#f0f921"
            ]
           ],
           "sequentialminus": [
            [
             0,
             "#0d0887"
            ],
            [
             0.1111111111111111,
             "#46039f"
            ],
            [
             0.2222222222222222,
             "#7201a8"
            ],
            [
             0.3333333333333333,
             "#9c179e"
            ],
            [
             0.4444444444444444,
             "#bd3786"
            ],
            [
             0.5555555555555556,
             "#d8576b"
            ],
            [
             0.6666666666666666,
             "#ed7953"
            ],
            [
             0.7777777777777778,
             "#fb9f3a"
            ],
            [
             0.8888888888888888,
             "#fdca26"
            ],
            [
             1,
             "#f0f921"
            ]
           ]
          },
          "colorway": [
           "#636efa",
           "#EF553B",
           "#00cc96",
           "#ab63fa",
           "#FFA15A",
           "#19d3f3",
           "#FF6692",
           "#B6E880",
           "#FF97FF",
           "#FECB52"
          ],
          "font": {
           "color": "#2a3f5f"
          },
          "geo": {
           "bgcolor": "white",
           "lakecolor": "white",
           "landcolor": "#E5ECF6",
           "showlakes": true,
           "showland": true,
           "subunitcolor": "white"
          },
          "hoverlabel": {
           "align": "left"
          },
          "hovermode": "closest",
          "mapbox": {
           "style": "light"
          },
          "paper_bgcolor": "white",
          "plot_bgcolor": "#E5ECF6",
          "polar": {
           "angularaxis": {
            "gridcolor": "white",
            "linecolor": "white",
            "ticks": ""
           },
           "bgcolor": "#E5ECF6",
           "radialaxis": {
            "gridcolor": "white",
            "linecolor": "white",
            "ticks": ""
           }
          },
          "scene": {
           "xaxis": {
            "backgroundcolor": "#E5ECF6",
            "gridcolor": "white",
            "gridwidth": 2,
            "linecolor": "white",
            "showbackground": true,
            "ticks": "",
            "zerolinecolor": "white"
           },
           "yaxis": {
            "backgroundcolor": "#E5ECF6",
            "gridcolor": "white",
            "gridwidth": 2,
            "linecolor": "white",
            "showbackground": true,
            "ticks": "",
            "zerolinecolor": "white"
           },
           "zaxis": {
            "backgroundcolor": "#E5ECF6",
            "gridcolor": "white",
            "gridwidth": 2,
            "linecolor": "white",
            "showbackground": true,
            "ticks": "",
            "zerolinecolor": "white"
           }
          },
          "shapedefaults": {
           "line": {
            "color": "#2a3f5f"
           }
          },
          "ternary": {
           "aaxis": {
            "gridcolor": "white",
            "linecolor": "white",
            "ticks": ""
           },
           "baxis": {
            "gridcolor": "white",
            "linecolor": "white",
            "ticks": ""
           },
           "bgcolor": "#E5ECF6",
           "caxis": {
            "gridcolor": "white",
            "linecolor": "white",
            "ticks": ""
           }
          },
          "title": {
           "x": 0.05
          },
          "xaxis": {
           "automargin": true,
           "gridcolor": "white",
           "linecolor": "white",
           "ticks": "",
           "title": {
            "standoff": 15
           },
           "zerolinecolor": "white",
           "zerolinewidth": 2
          },
          "yaxis": {
           "automargin": true,
           "gridcolor": "white",
           "linecolor": "white",
           "ticks": "",
           "title": {
            "standoff": 15
           },
           "zerolinecolor": "white",
           "zerolinewidth": 2
          }
         }
        },
        "title": {
         "text": "Jobs Per State"
        }
       }
      },
      "text/html": [
       "<div>\n",
       "        \n",
       "        \n",
       "            <div id=\"9a0da706-85fa-494f-be7a-fb0841da9734\" class=\"plotly-graph-div\" style=\"height:525px; width:100%;\"></div>\n",
       "            <script type=\"text/javascript\">\n",
       "                require([\"plotly\"], function(Plotly) {\n",
       "                    window.PLOTLYENV=window.PLOTLYENV || {};\n",
       "                    \n",
       "                if (document.getElementById(\"9a0da706-85fa-494f-be7a-fb0841da9734\")) {\n",
       "                    Plotly.newPlot(\n",
       "                        '9a0da706-85fa-494f-be7a-fb0841da9734',\n",
       "                        [{\"colorbar\": {\"title\": {\"text\": \"Job Count\"}}, \"colorscale\": [[0.0, \"rgb(247,252,245)\"], [0.125, \"rgb(229,245,224)\"], [0.25, \"rgb(199,233,192)\"], [0.375, \"rgb(161,217,155)\"], [0.5, \"rgb(116,196,118)\"], [0.625, \"rgb(65,171,93)\"], [0.75, \"rgb(35,139,69)\"], [0.875, \"rgb(0,109,44)\"], [1.0, \"rgb(0,68,27)\"]], \"locationmode\": \"USA-states\", \"locations\": [\"\", \"AK\", \"AL\", \"AR\", \"AZ\", \"CA\", \"CO\", \"CT\", \"DC\", \"DE\", \"FL\", \"GA\", \"HI\", \"IA\", \"ID\", \"IL\", \"IN\", \"KS\", \"KY\", \"LA\", \"MA\", \"MD\", \"ME\", \"MI\", \"MN\", \"MO\", \"MS\", \"MT\", \"NC\", \"ND\", \"NE\", \"NH\", \"NJ\", \"NM\", \"NV\", \"NY\", \"OH\", \"OK\", \"OR\", \"PA\", \"RI\", \"SC\", \"SD\", \"TN\", \"TX\", \"UT\", \"VA\", \"VT\", \"WA\", \"WI\", \"WV\", \"WY\"], \"type\": \"choropleth\", \"z\": [455.0, 9.0, 65.0, 17.0, 151.0, 2051.0, 134.0, 104.0, 276.0, 19.0, 415.0, 238.0, 4.0, 85.0, 30.0, 424.0, 119.0, 40.0, 92.0, 34.0, 313.0, 107.0, 8.0, 285.0, 179.0, 160.0, 17.0, 10.0, 225.0, 23.0, 31.0, 21.0, 193.0, 16.0, 113.0, 1259.0, 372.0, 69.0, 186.0, 316.0, 14.0, 79.0, 16.0, 84.0, 975.0, 69.0, 332.0, 5.0, 167.0, 152.0, 27.0, 8.0]}],\n",
       "                        {\"geo\": {\"scope\": \"usa\"}, \"template\": {\"data\": {\"bar\": [{\"error_x\": {\"color\": \"#2a3f5f\"}, \"error_y\": {\"color\": \"#2a3f5f\"}, \"marker\": {\"line\": {\"color\": \"#E5ECF6\", \"width\": 0.5}}, \"type\": \"bar\"}], \"barpolar\": [{\"marker\": {\"line\": {\"color\": \"#E5ECF6\", \"width\": 0.5}}, \"type\": \"barpolar\"}], \"carpet\": [{\"aaxis\": {\"endlinecolor\": \"#2a3f5f\", \"gridcolor\": \"white\", \"linecolor\": \"white\", \"minorgridcolor\": \"white\", \"startlinecolor\": \"#2a3f5f\"}, \"baxis\": {\"endlinecolor\": \"#2a3f5f\", \"gridcolor\": \"white\", \"linecolor\": \"white\", \"minorgridcolor\": \"white\", \"startlinecolor\": \"#2a3f5f\"}, \"type\": \"carpet\"}], \"choropleth\": [{\"colorbar\": {\"outlinewidth\": 0, \"ticks\": \"\"}, \"type\": \"choropleth\"}], \"contour\": [{\"colorbar\": {\"outlinewidth\": 0, \"ticks\": \"\"}, \"colorscale\": [[0.0, \"#0d0887\"], [0.1111111111111111, \"#46039f\"], [0.2222222222222222, \"#7201a8\"], [0.3333333333333333, \"#9c179e\"], [0.4444444444444444, \"#bd3786\"], [0.5555555555555556, \"#d8576b\"], [0.6666666666666666, \"#ed7953\"], [0.7777777777777778, \"#fb9f3a\"], [0.8888888888888888, \"#fdca26\"], [1.0, \"#f0f921\"]], \"type\": \"contour\"}], \"contourcarpet\": [{\"colorbar\": {\"outlinewidth\": 0, \"ticks\": \"\"}, \"type\": \"contourcarpet\"}], \"heatmap\": [{\"colorbar\": {\"outlinewidth\": 0, \"ticks\": \"\"}, \"colorscale\": [[0.0, \"#0d0887\"], [0.1111111111111111, \"#46039f\"], [0.2222222222222222, \"#7201a8\"], [0.3333333333333333, \"#9c179e\"], [0.4444444444444444, \"#bd3786\"], [0.5555555555555556, \"#d8576b\"], [0.6666666666666666, \"#ed7953\"], [0.7777777777777778, \"#fb9f3a\"], [0.8888888888888888, \"#fdca26\"], [1.0, \"#f0f921\"]], \"type\": \"heatmap\"}], \"heatmapgl\": [{\"colorbar\": {\"outlinewidth\": 0, \"ticks\": \"\"}, \"colorscale\": [[0.0, \"#0d0887\"], [0.1111111111111111, \"#46039f\"], [0.2222222222222222, \"#7201a8\"], [0.3333333333333333, \"#9c179e\"], [0.4444444444444444, \"#bd3786\"], [0.5555555555555556, \"#d8576b\"], [0.6666666666666666, \"#ed7953\"], [0.7777777777777778, \"#fb9f3a\"], [0.8888888888888888, \"#fdca26\"], [1.0, \"#f0f921\"]], \"type\": \"heatmapgl\"}], \"histogram\": [{\"marker\": {\"colorbar\": {\"outlinewidth\": 0, \"ticks\": \"\"}}, \"type\": \"histogram\"}], \"histogram2d\": [{\"colorbar\": {\"outlinewidth\": 0, \"ticks\": \"\"}, \"colorscale\": [[0.0, \"#0d0887\"], [0.1111111111111111, \"#46039f\"], [0.2222222222222222, \"#7201a8\"], [0.3333333333333333, \"#9c179e\"], [0.4444444444444444, \"#bd3786\"], [0.5555555555555556, \"#d8576b\"], [0.6666666666666666, \"#ed7953\"], [0.7777777777777778, \"#fb9f3a\"], [0.8888888888888888, \"#fdca26\"], [1.0, \"#f0f921\"]], \"type\": \"histogram2d\"}], \"histogram2dcontour\": [{\"colorbar\": {\"outlinewidth\": 0, \"ticks\": \"\"}, \"colorscale\": [[0.0, \"#0d0887\"], [0.1111111111111111, \"#46039f\"], [0.2222222222222222, \"#7201a8\"], [0.3333333333333333, \"#9c179e\"], [0.4444444444444444, \"#bd3786\"], [0.5555555555555556, \"#d8576b\"], [0.6666666666666666, \"#ed7953\"], [0.7777777777777778, \"#fb9f3a\"], [0.8888888888888888, \"#fdca26\"], [1.0, \"#f0f921\"]], \"type\": \"histogram2dcontour\"}], \"mesh3d\": [{\"colorbar\": {\"outlinewidth\": 0, \"ticks\": \"\"}, \"type\": \"mesh3d\"}], \"parcoords\": [{\"line\": {\"colorbar\": {\"outlinewidth\": 0, \"ticks\": \"\"}}, \"type\": \"parcoords\"}], \"pie\": [{\"automargin\": true, \"type\": \"pie\"}], \"scatter\": [{\"marker\": {\"colorbar\": {\"outlinewidth\": 0, \"ticks\": \"\"}}, \"type\": \"scatter\"}], \"scatter3d\": [{\"line\": {\"colorbar\": {\"outlinewidth\": 0, \"ticks\": \"\"}}, \"marker\": {\"colorbar\": {\"outlinewidth\": 0, \"ticks\": \"\"}}, \"type\": \"scatter3d\"}], \"scattercarpet\": [{\"marker\": {\"colorbar\": {\"outlinewidth\": 0, \"ticks\": \"\"}}, \"type\": \"scattercarpet\"}], \"scattergeo\": [{\"marker\": {\"colorbar\": {\"outlinewidth\": 0, \"ticks\": \"\"}}, \"type\": \"scattergeo\"}], \"scattergl\": [{\"marker\": {\"colorbar\": {\"outlinewidth\": 0, \"ticks\": \"\"}}, \"type\": \"scattergl\"}], \"scattermapbox\": [{\"marker\": {\"colorbar\": {\"outlinewidth\": 0, \"ticks\": \"\"}}, \"type\": \"scattermapbox\"}], \"scatterpolar\": [{\"marker\": {\"colorbar\": {\"outlinewidth\": 0, \"ticks\": \"\"}}, \"type\": \"scatterpolar\"}], \"scatterpolargl\": [{\"marker\": {\"colorbar\": {\"outlinewidth\": 0, \"ticks\": \"\"}}, \"type\": \"scatterpolargl\"}], \"scatterternary\": [{\"marker\": {\"colorbar\": {\"outlinewidth\": 0, \"ticks\": \"\"}}, \"type\": \"scatterternary\"}], \"surface\": [{\"colorbar\": {\"outlinewidth\": 0, \"ticks\": \"\"}, \"colorscale\": [[0.0, \"#0d0887\"], [0.1111111111111111, \"#46039f\"], [0.2222222222222222, \"#7201a8\"], [0.3333333333333333, \"#9c179e\"], [0.4444444444444444, \"#bd3786\"], [0.5555555555555556, \"#d8576b\"], [0.6666666666666666, \"#ed7953\"], [0.7777777777777778, \"#fb9f3a\"], [0.8888888888888888, \"#fdca26\"], [1.0, \"#f0f921\"]], \"type\": \"surface\"}], \"table\": [{\"cells\": {\"fill\": {\"color\": \"#EBF0F8\"}, \"line\": {\"color\": \"white\"}}, \"header\": {\"fill\": {\"color\": \"#C8D4E3\"}, \"line\": {\"color\": \"white\"}}, \"type\": \"table\"}]}, \"layout\": {\"annotationdefaults\": {\"arrowcolor\": \"#2a3f5f\", \"arrowhead\": 0, \"arrowwidth\": 1}, \"coloraxis\": {\"colorbar\": {\"outlinewidth\": 0, \"ticks\": \"\"}}, \"colorscale\": {\"diverging\": [[0, \"#8e0152\"], [0.1, \"#c51b7d\"], [0.2, \"#de77ae\"], [0.3, \"#f1b6da\"], [0.4, \"#fde0ef\"], [0.5, \"#f7f7f7\"], [0.6, \"#e6f5d0\"], [0.7, \"#b8e186\"], [0.8, \"#7fbc41\"], [0.9, \"#4d9221\"], [1, \"#276419\"]], \"sequential\": [[0.0, \"#0d0887\"], [0.1111111111111111, \"#46039f\"], [0.2222222222222222, \"#7201a8\"], [0.3333333333333333, \"#9c179e\"], [0.4444444444444444, \"#bd3786\"], [0.5555555555555556, \"#d8576b\"], [0.6666666666666666, \"#ed7953\"], [0.7777777777777778, \"#fb9f3a\"], [0.8888888888888888, \"#fdca26\"], [1.0, \"#f0f921\"]], \"sequentialminus\": [[0.0, \"#0d0887\"], [0.1111111111111111, \"#46039f\"], [0.2222222222222222, \"#7201a8\"], [0.3333333333333333, \"#9c179e\"], [0.4444444444444444, \"#bd3786\"], [0.5555555555555556, \"#d8576b\"], [0.6666666666666666, \"#ed7953\"], [0.7777777777777778, \"#fb9f3a\"], [0.8888888888888888, \"#fdca26\"], [1.0, \"#f0f921\"]]}, \"colorway\": [\"#636efa\", \"#EF553B\", \"#00cc96\", \"#ab63fa\", \"#FFA15A\", \"#19d3f3\", \"#FF6692\", \"#B6E880\", \"#FF97FF\", \"#FECB52\"], \"font\": {\"color\": \"#2a3f5f\"}, \"geo\": {\"bgcolor\": \"white\", \"lakecolor\": \"white\", \"landcolor\": \"#E5ECF6\", \"showlakes\": true, \"showland\": true, \"subunitcolor\": \"white\"}, \"hoverlabel\": {\"align\": \"left\"}, \"hovermode\": \"closest\", \"mapbox\": {\"style\": \"light\"}, \"paper_bgcolor\": \"white\", \"plot_bgcolor\": \"#E5ECF6\", \"polar\": {\"angularaxis\": {\"gridcolor\": \"white\", \"linecolor\": \"white\", \"ticks\": \"\"}, \"bgcolor\": \"#E5ECF6\", \"radialaxis\": {\"gridcolor\": \"white\", \"linecolor\": \"white\", \"ticks\": \"\"}}, \"scene\": {\"xaxis\": {\"backgroundcolor\": \"#E5ECF6\", \"gridcolor\": \"white\", \"gridwidth\": 2, \"linecolor\": \"white\", \"showbackground\": true, \"ticks\": \"\", \"zerolinecolor\": \"white\"}, \"yaxis\": {\"backgroundcolor\": \"#E5ECF6\", \"gridcolor\": \"white\", \"gridwidth\": 2, \"linecolor\": \"white\", \"showbackground\": true, \"ticks\": \"\", \"zerolinecolor\": \"white\"}, \"zaxis\": {\"backgroundcolor\": \"#E5ECF6\", \"gridcolor\": \"white\", \"gridwidth\": 2, \"linecolor\": \"white\", \"showbackground\": true, \"ticks\": \"\", \"zerolinecolor\": \"white\"}}, \"shapedefaults\": {\"line\": {\"color\": \"#2a3f5f\"}}, \"ternary\": {\"aaxis\": {\"gridcolor\": \"white\", \"linecolor\": \"white\", \"ticks\": \"\"}, \"baxis\": {\"gridcolor\": \"white\", \"linecolor\": \"white\", \"ticks\": \"\"}, \"bgcolor\": \"#E5ECF6\", \"caxis\": {\"gridcolor\": \"white\", \"linecolor\": \"white\", \"ticks\": \"\"}}, \"title\": {\"x\": 0.05}, \"xaxis\": {\"automargin\": true, \"gridcolor\": \"white\", \"linecolor\": \"white\", \"ticks\": \"\", \"title\": {\"standoff\": 15}, \"zerolinecolor\": \"white\", \"zerolinewidth\": 2}, \"yaxis\": {\"automargin\": true, \"gridcolor\": \"white\", \"linecolor\": \"white\", \"ticks\": \"\", \"title\": {\"standoff\": 15}, \"zerolinecolor\": \"white\", \"zerolinewidth\": 2}}}, \"title\": {\"text\": \"Jobs Per State\"}},\n",
       "                        {\"responsive\": true}\n",
       "                    ).then(function(){\n",
       "                            \n",
       "var gd = document.getElementById('9a0da706-85fa-494f-be7a-fb0841da9734');\n",
       "var x = new MutationObserver(function (mutations, observer) {{\n",
       "        var display = window.getComputedStyle(gd).display;\n",
       "        if (!display || display === 'none') {{\n",
       "            console.log([gd, 'removed!']);\n",
       "            Plotly.purge(gd);\n",
       "            observer.disconnect();\n",
       "        }}\n",
       "}});\n",
       "\n",
       "// Listen for the removal of the full notebook cells\n",
       "var notebookContainer = gd.closest('#notebook-container');\n",
       "if (notebookContainer) {{\n",
       "    x.observe(notebookContainer, {childList: true});\n",
       "}}\n",
       "\n",
       "// Listen for the clearing of the current output cell\n",
       "var outputEl = gd.closest('.output');\n",
       "if (outputEl) {{\n",
       "    x.observe(outputEl, {childList: true});\n",
       "}}\n",
       "\n",
       "                        })\n",
       "                };\n",
       "                });\n",
       "            </script>\n",
       "        </div>"
      ]
     },
     "metadata": {},
     "output_type": "display_data"
    }
   ],
   "source": [
    "fig = go.Figure(data=go.Choropleth(\n",
    "    locations=state_counts_df['States'], # Spatial coordinates\n",
    "    z = state_counts_df['Job Count'].astype(float), # Data to be color-coded\n",
    "    locationmode = 'USA-states', # set of locations match entries in `locations`\n",
    "    colorscale = 'greens',\n",
    "    colorbar_title = \"Job Count\",\n",
    "))\n",
    "\n",
    "fig.update_layout(\n",
    "    title_text = 'Jobs Per State',\n",
    "    geo_scope='usa', # limite map scope to USA\n",
    ")\n",
    "\n",
    "fig.show()"
   ]
  },
  {
   "cell_type": "code",
   "execution_count": 95,
   "metadata": {},
   "outputs": [],
   "source": [
    "ca_count = state_counts_df[state_counts_df['States'] == \"CA\"]['Job Count'][0]\n",
    "tx_count = state_counts_df[state_counts_df['States'] == \"TX\"]['Job Count'][0]\n",
    "ny_count = state_counts_df[state_counts_df['States'] == \"NY\"]['Job Count'][0]\n"
   ]
  },
  {
   "cell_type": "code",
   "execution_count": 96,
   "metadata": {},
   "outputs": [
    {
     "data": {
      "application/vnd.plotly.v1+json": {
       "config": {
        "plotlyServerURL": "https://plot.ly"
       },
       "data": [
        {
         "coloraxis": "coloraxis",
         "geo": "geo",
         "hoverlabel": {
          "namelength": 0
         },
         "hovertemplate": "locations=%{location}<br>color=%{z}",
         "locationmode": "USA-states",
         "locations": [
          "CA",
          "TX",
          "NY"
         ],
         "name": "",
         "type": "choropleth",
         "z": [
          2051,
          975,
          1259
         ]
        }
       ],
       "layout": {
        "coloraxis": {
         "colorbar": {
          "title": {
           "text": "color"
          }
         },
         "colorscale": [
          [
           0,
           "#0d0887"
          ],
          [
           0.1111111111111111,
           "#46039f"
          ],
          [
           0.2222222222222222,
           "#7201a8"
          ],
          [
           0.3333333333333333,
           "#9c179e"
          ],
          [
           0.4444444444444444,
           "#bd3786"
          ],
          [
           0.5555555555555556,
           "#d8576b"
          ],
          [
           0.6666666666666666,
           "#ed7953"
          ],
          [
           0.7777777777777778,
           "#fb9f3a"
          ],
          [
           0.8888888888888888,
           "#fdca26"
          ],
          [
           1,
           "#f0f921"
          ]
         ]
        },
        "geo": {
         "center": {},
         "domain": {
          "x": [
           0,
           1
          ],
          "y": [
           0,
           1
          ]
         },
         "scope": "usa"
        },
        "legend": {
         "tracegroupgap": 0
        },
        "margin": {
         "t": 60
        },
        "template": {
         "data": {
          "bar": [
           {
            "error_x": {
             "color": "#2a3f5f"
            },
            "error_y": {
             "color": "#2a3f5f"
            },
            "marker": {
             "line": {
              "color": "#E5ECF6",
              "width": 0.5
             }
            },
            "type": "bar"
           }
          ],
          "barpolar": [
           {
            "marker": {
             "line": {
              "color": "#E5ECF6",
              "width": 0.5
             }
            },
            "type": "barpolar"
           }
          ],
          "carpet": [
           {
            "aaxis": {
             "endlinecolor": "#2a3f5f",
             "gridcolor": "white",
             "linecolor": "white",
             "minorgridcolor": "white",
             "startlinecolor": "#2a3f5f"
            },
            "baxis": {
             "endlinecolor": "#2a3f5f",
             "gridcolor": "white",
             "linecolor": "white",
             "minorgridcolor": "white",
             "startlinecolor": "#2a3f5f"
            },
            "type": "carpet"
           }
          ],
          "choropleth": [
           {
            "colorbar": {
             "outlinewidth": 0,
             "ticks": ""
            },
            "type": "choropleth"
           }
          ],
          "contour": [
           {
            "colorbar": {
             "outlinewidth": 0,
             "ticks": ""
            },
            "colorscale": [
             [
              0,
              "#0d0887"
             ],
             [
              0.1111111111111111,
              "#46039f"
             ],
             [
              0.2222222222222222,
              "#7201a8"
             ],
             [
              0.3333333333333333,
              "#9c179e"
             ],
             [
              0.4444444444444444,
              "#bd3786"
             ],
             [
              0.5555555555555556,
              "#d8576b"
             ],
             [
              0.6666666666666666,
              "#ed7953"
             ],
             [
              0.7777777777777778,
              "#fb9f3a"
             ],
             [
              0.8888888888888888,
              "#fdca26"
             ],
             [
              1,
              "#f0f921"
             ]
            ],
            "type": "contour"
           }
          ],
          "contourcarpet": [
           {
            "colorbar": {
             "outlinewidth": 0,
             "ticks": ""
            },
            "type": "contourcarpet"
           }
          ],
          "heatmap": [
           {
            "colorbar": {
             "outlinewidth": 0,
             "ticks": ""
            },
            "colorscale": [
             [
              0,
              "#0d0887"
             ],
             [
              0.1111111111111111,
              "#46039f"
             ],
             [
              0.2222222222222222,
              "#7201a8"
             ],
             [
              0.3333333333333333,
              "#9c179e"
             ],
             [
              0.4444444444444444,
              "#bd3786"
             ],
             [
              0.5555555555555556,
              "#d8576b"
             ],
             [
              0.6666666666666666,
              "#ed7953"
             ],
             [
              0.7777777777777778,
              "#fb9f3a"
             ],
             [
              0.8888888888888888,
              "#fdca26"
             ],
             [
              1,
              "#f0f921"
             ]
            ],
            "type": "heatmap"
           }
          ],
          "heatmapgl": [
           {
            "colorbar": {
             "outlinewidth": 0,
             "ticks": ""
            },
            "colorscale": [
             [
              0,
              "#0d0887"
             ],
             [
              0.1111111111111111,
              "#46039f"
             ],
             [
              0.2222222222222222,
              "#7201a8"
             ],
             [
              0.3333333333333333,
              "#9c179e"
             ],
             [
              0.4444444444444444,
              "#bd3786"
             ],
             [
              0.5555555555555556,
              "#d8576b"
             ],
             [
              0.6666666666666666,
              "#ed7953"
             ],
             [
              0.7777777777777778,
              "#fb9f3a"
             ],
             [
              0.8888888888888888,
              "#fdca26"
             ],
             [
              1,
              "#f0f921"
             ]
            ],
            "type": "heatmapgl"
           }
          ],
          "histogram": [
           {
            "marker": {
             "colorbar": {
              "outlinewidth": 0,
              "ticks": ""
             }
            },
            "type": "histogram"
           }
          ],
          "histogram2d": [
           {
            "colorbar": {
             "outlinewidth": 0,
             "ticks": ""
            },
            "colorscale": [
             [
              0,
              "#0d0887"
             ],
             [
              0.1111111111111111,
              "#46039f"
             ],
             [
              0.2222222222222222,
              "#7201a8"
             ],
             [
              0.3333333333333333,
              "#9c179e"
             ],
             [
              0.4444444444444444,
              "#bd3786"
             ],
             [
              0.5555555555555556,
              "#d8576b"
             ],
             [
              0.6666666666666666,
              "#ed7953"
             ],
             [
              0.7777777777777778,
              "#fb9f3a"
             ],
             [
              0.8888888888888888,
              "#fdca26"
             ],
             [
              1,
              "#f0f921"
             ]
            ],
            "type": "histogram2d"
           }
          ],
          "histogram2dcontour": [
           {
            "colorbar": {
             "outlinewidth": 0,
             "ticks": ""
            },
            "colorscale": [
             [
              0,
              "#0d0887"
             ],
             [
              0.1111111111111111,
              "#46039f"
             ],
             [
              0.2222222222222222,
              "#7201a8"
             ],
             [
              0.3333333333333333,
              "#9c179e"
             ],
             [
              0.4444444444444444,
              "#bd3786"
             ],
             [
              0.5555555555555556,
              "#d8576b"
             ],
             [
              0.6666666666666666,
              "#ed7953"
             ],
             [
              0.7777777777777778,
              "#fb9f3a"
             ],
             [
              0.8888888888888888,
              "#fdca26"
             ],
             [
              1,
              "#f0f921"
             ]
            ],
            "type": "histogram2dcontour"
           }
          ],
          "mesh3d": [
           {
            "colorbar": {
             "outlinewidth": 0,
             "ticks": ""
            },
            "type": "mesh3d"
           }
          ],
          "parcoords": [
           {
            "line": {
             "colorbar": {
              "outlinewidth": 0,
              "ticks": ""
             }
            },
            "type": "parcoords"
           }
          ],
          "pie": [
           {
            "automargin": true,
            "type": "pie"
           }
          ],
          "scatter": [
           {
            "marker": {
             "colorbar": {
              "outlinewidth": 0,
              "ticks": ""
             }
            },
            "type": "scatter"
           }
          ],
          "scatter3d": [
           {
            "line": {
             "colorbar": {
              "outlinewidth": 0,
              "ticks": ""
             }
            },
            "marker": {
             "colorbar": {
              "outlinewidth": 0,
              "ticks": ""
             }
            },
            "type": "scatter3d"
           }
          ],
          "scattercarpet": [
           {
            "marker": {
             "colorbar": {
              "outlinewidth": 0,
              "ticks": ""
             }
            },
            "type": "scattercarpet"
           }
          ],
          "scattergeo": [
           {
            "marker": {
             "colorbar": {
              "outlinewidth": 0,
              "ticks": ""
             }
            },
            "type": "scattergeo"
           }
          ],
          "scattergl": [
           {
            "marker": {
             "colorbar": {
              "outlinewidth": 0,
              "ticks": ""
             }
            },
            "type": "scattergl"
           }
          ],
          "scattermapbox": [
           {
            "marker": {
             "colorbar": {
              "outlinewidth": 0,
              "ticks": ""
             }
            },
            "type": "scattermapbox"
           }
          ],
          "scatterpolar": [
           {
            "marker": {
             "colorbar": {
              "outlinewidth": 0,
              "ticks": ""
             }
            },
            "type": "scatterpolar"
           }
          ],
          "scatterpolargl": [
           {
            "marker": {
             "colorbar": {
              "outlinewidth": 0,
              "ticks": ""
             }
            },
            "type": "scatterpolargl"
           }
          ],
          "scatterternary": [
           {
            "marker": {
             "colorbar": {
              "outlinewidth": 0,
              "ticks": ""
             }
            },
            "type": "scatterternary"
           }
          ],
          "surface": [
           {
            "colorbar": {
             "outlinewidth": 0,
             "ticks": ""
            },
            "colorscale": [
             [
              0,
              "#0d0887"
             ],
             [
              0.1111111111111111,
              "#46039f"
             ],
             [
              0.2222222222222222,
              "#7201a8"
             ],
             [
              0.3333333333333333,
              "#9c179e"
             ],
             [
              0.4444444444444444,
              "#bd3786"
             ],
             [
              0.5555555555555556,
              "#d8576b"
             ],
             [
              0.6666666666666666,
              "#ed7953"
             ],
             [
              0.7777777777777778,
              "#fb9f3a"
             ],
             [
              0.8888888888888888,
              "#fdca26"
             ],
             [
              1,
              "#f0f921"
             ]
            ],
            "type": "surface"
           }
          ],
          "table": [
           {
            "cells": {
             "fill": {
              "color": "#EBF0F8"
             },
             "line": {
              "color": "white"
             }
            },
            "header": {
             "fill": {
              "color": "#C8D4E3"
             },
             "line": {
              "color": "white"
             }
            },
            "type": "table"
           }
          ]
         },
         "layout": {
          "annotationdefaults": {
           "arrowcolor": "#2a3f5f",
           "arrowhead": 0,
           "arrowwidth": 1
          },
          "coloraxis": {
           "colorbar": {
            "outlinewidth": 0,
            "ticks": ""
           }
          },
          "colorscale": {
           "diverging": [
            [
             0,
             "#8e0152"
            ],
            [
             0.1,
             "#c51b7d"
            ],
            [
             0.2,
             "#de77ae"
            ],
            [
             0.3,
             "#f1b6da"
            ],
            [
             0.4,
             "#fde0ef"
            ],
            [
             0.5,
             "#f7f7f7"
            ],
            [
             0.6,
             "#e6f5d0"
            ],
            [
             0.7,
             "#b8e186"
            ],
            [
             0.8,
             "#7fbc41"
            ],
            [
             0.9,
             "#4d9221"
            ],
            [
             1,
             "#276419"
            ]
           ],
           "sequential": [
            [
             0,
             "#0d0887"
            ],
            [
             0.1111111111111111,
             "#46039f"
            ],
            [
             0.2222222222222222,
             "#7201a8"
            ],
            [
             0.3333333333333333,
             "#9c179e"
            ],
            [
             0.4444444444444444,
             "#bd3786"
            ],
            [
             0.5555555555555556,
             "#d8576b"
            ],
            [
             0.6666666666666666,
             "#ed7953"
            ],
            [
             0.7777777777777778,
             "#fb9f3a"
            ],
            [
             0.8888888888888888,
             "#fdca26"
            ],
            [
             1,
             "#f0f921"
            ]
           ],
           "sequentialminus": [
            [
             0,
             "#0d0887"
            ],
            [
             0.1111111111111111,
             "#46039f"
            ],
            [
             0.2222222222222222,
             "#7201a8"
            ],
            [
             0.3333333333333333,
             "#9c179e"
            ],
            [
             0.4444444444444444,
             "#bd3786"
            ],
            [
             0.5555555555555556,
             "#d8576b"
            ],
            [
             0.6666666666666666,
             "#ed7953"
            ],
            [
             0.7777777777777778,
             "#fb9f3a"
            ],
            [
             0.8888888888888888,
             "#fdca26"
            ],
            [
             1,
             "#f0f921"
            ]
           ]
          },
          "colorway": [
           "#636efa",
           "#EF553B",
           "#00cc96",
           "#ab63fa",
           "#FFA15A",
           "#19d3f3",
           "#FF6692",
           "#B6E880",
           "#FF97FF",
           "#FECB52"
          ],
          "font": {
           "color": "#2a3f5f"
          },
          "geo": {
           "bgcolor": "white",
           "lakecolor": "white",
           "landcolor": "#E5ECF6",
           "showlakes": true,
           "showland": true,
           "subunitcolor": "white"
          },
          "hoverlabel": {
           "align": "left"
          },
          "hovermode": "closest",
          "mapbox": {
           "style": "light"
          },
          "paper_bgcolor": "white",
          "plot_bgcolor": "#E5ECF6",
          "polar": {
           "angularaxis": {
            "gridcolor": "white",
            "linecolor": "white",
            "ticks": ""
           },
           "bgcolor": "#E5ECF6",
           "radialaxis": {
            "gridcolor": "white",
            "linecolor": "white",
            "ticks": ""
           }
          },
          "scene": {
           "xaxis": {
            "backgroundcolor": "#E5ECF6",
            "gridcolor": "white",
            "gridwidth": 2,
            "linecolor": "white",
            "showbackground": true,
            "ticks": "",
            "zerolinecolor": "white"
           },
           "yaxis": {
            "backgroundcolor": "#E5ECF6",
            "gridcolor": "white",
            "gridwidth": 2,
            "linecolor": "white",
            "showbackground": true,
            "ticks": "",
            "zerolinecolor": "white"
           },
           "zaxis": {
            "backgroundcolor": "#E5ECF6",
            "gridcolor": "white",
            "gridwidth": 2,
            "linecolor": "white",
            "showbackground": true,
            "ticks": "",
            "zerolinecolor": "white"
           }
          },
          "shapedefaults": {
           "line": {
            "color": "#2a3f5f"
           }
          },
          "ternary": {
           "aaxis": {
            "gridcolor": "white",
            "linecolor": "white",
            "ticks": ""
           },
           "baxis": {
            "gridcolor": "white",
            "linecolor": "white",
            "ticks": ""
           },
           "bgcolor": "#E5ECF6",
           "caxis": {
            "gridcolor": "white",
            "linecolor": "white",
            "ticks": ""
           }
          },
          "title": {
           "x": 0.05
          },
          "xaxis": {
           "automargin": true,
           "gridcolor": "white",
           "linecolor": "white",
           "ticks": "",
           "title": {
            "standoff": 15
           },
           "zerolinecolor": "white",
           "zerolinewidth": 2
          },
          "yaxis": {
           "automargin": true,
           "gridcolor": "white",
           "linecolor": "white",
           "ticks": "",
           "title": {
            "standoff": 15
           },
           "zerolinecolor": "white",
           "zerolinewidth": 2
          }
         }
        }
       }
      },
      "text/html": [
       "<div>\n",
       "        \n",
       "        \n",
       "            <div id=\"2deaf14a-1618-419b-8899-896c688a4f86\" class=\"plotly-graph-div\" style=\"height:525px; width:100%;\"></div>\n",
       "            <script type=\"text/javascript\">\n",
       "                require([\"plotly\"], function(Plotly) {\n",
       "                    window.PLOTLYENV=window.PLOTLYENV || {};\n",
       "                    \n",
       "                if (document.getElementById(\"2deaf14a-1618-419b-8899-896c688a4f86\")) {\n",
       "                    Plotly.newPlot(\n",
       "                        '2deaf14a-1618-419b-8899-896c688a4f86',\n",
       "                        [{\"coloraxis\": \"coloraxis\", \"geo\": \"geo\", \"hoverlabel\": {\"namelength\": 0}, \"hovertemplate\": \"locations=%{location}<br>color=%{z}\", \"locationmode\": \"USA-states\", \"locations\": [\"CA\", \"TX\", \"NY\"], \"name\": \"\", \"type\": \"choropleth\", \"z\": [2051, 975, 1259]}],\n",
       "                        {\"coloraxis\": {\"colorbar\": {\"title\": {\"text\": \"color\"}}, \"colorscale\": [[0.0, \"#0d0887\"], [0.1111111111111111, \"#46039f\"], [0.2222222222222222, \"#7201a8\"], [0.3333333333333333, \"#9c179e\"], [0.4444444444444444, \"#bd3786\"], [0.5555555555555556, \"#d8576b\"], [0.6666666666666666, \"#ed7953\"], [0.7777777777777778, \"#fb9f3a\"], [0.8888888888888888, \"#fdca26\"], [1.0, \"#f0f921\"]]}, \"geo\": {\"center\": {}, \"domain\": {\"x\": [0.0, 1.0], \"y\": [0.0, 1.0]}, \"scope\": \"usa\"}, \"legend\": {\"tracegroupgap\": 0}, \"margin\": {\"t\": 60}, \"template\": {\"data\": {\"bar\": [{\"error_x\": {\"color\": \"#2a3f5f\"}, \"error_y\": {\"color\": \"#2a3f5f\"}, \"marker\": {\"line\": {\"color\": \"#E5ECF6\", \"width\": 0.5}}, \"type\": \"bar\"}], \"barpolar\": [{\"marker\": {\"line\": {\"color\": \"#E5ECF6\", \"width\": 0.5}}, \"type\": \"barpolar\"}], \"carpet\": [{\"aaxis\": {\"endlinecolor\": \"#2a3f5f\", \"gridcolor\": \"white\", \"linecolor\": \"white\", \"minorgridcolor\": \"white\", \"startlinecolor\": \"#2a3f5f\"}, \"baxis\": {\"endlinecolor\": \"#2a3f5f\", \"gridcolor\": \"white\", \"linecolor\": \"white\", \"minorgridcolor\": \"white\", \"startlinecolor\": \"#2a3f5f\"}, \"type\": \"carpet\"}], \"choropleth\": [{\"colorbar\": {\"outlinewidth\": 0, \"ticks\": \"\"}, \"type\": \"choropleth\"}], \"contour\": [{\"colorbar\": {\"outlinewidth\": 0, \"ticks\": \"\"}, \"colorscale\": [[0.0, \"#0d0887\"], [0.1111111111111111, \"#46039f\"], [0.2222222222222222, \"#7201a8\"], [0.3333333333333333, \"#9c179e\"], [0.4444444444444444, \"#bd3786\"], [0.5555555555555556, \"#d8576b\"], [0.6666666666666666, \"#ed7953\"], [0.7777777777777778, \"#fb9f3a\"], [0.8888888888888888, \"#fdca26\"], [1.0, \"#f0f921\"]], \"type\": \"contour\"}], \"contourcarpet\": [{\"colorbar\": {\"outlinewidth\": 0, \"ticks\": \"\"}, \"type\": \"contourcarpet\"}], \"heatmap\": [{\"colorbar\": {\"outlinewidth\": 0, \"ticks\": \"\"}, \"colorscale\": [[0.0, \"#0d0887\"], [0.1111111111111111, \"#46039f\"], [0.2222222222222222, \"#7201a8\"], [0.3333333333333333, \"#9c179e\"], [0.4444444444444444, \"#bd3786\"], [0.5555555555555556, \"#d8576b\"], [0.6666666666666666, \"#ed7953\"], [0.7777777777777778, \"#fb9f3a\"], [0.8888888888888888, \"#fdca26\"], [1.0, \"#f0f921\"]], \"type\": \"heatmap\"}], \"heatmapgl\": [{\"colorbar\": {\"outlinewidth\": 0, \"ticks\": \"\"}, \"colorscale\": [[0.0, \"#0d0887\"], [0.1111111111111111, \"#46039f\"], [0.2222222222222222, \"#7201a8\"], [0.3333333333333333, \"#9c179e\"], [0.4444444444444444, \"#bd3786\"], [0.5555555555555556, \"#d8576b\"], [0.6666666666666666, \"#ed7953\"], [0.7777777777777778, \"#fb9f3a\"], [0.8888888888888888, \"#fdca26\"], [1.0, \"#f0f921\"]], \"type\": \"heatmapgl\"}], \"histogram\": [{\"marker\": {\"colorbar\": {\"outlinewidth\": 0, \"ticks\": \"\"}}, \"type\": \"histogram\"}], \"histogram2d\": [{\"colorbar\": {\"outlinewidth\": 0, \"ticks\": \"\"}, \"colorscale\": [[0.0, \"#0d0887\"], [0.1111111111111111, \"#46039f\"], [0.2222222222222222, \"#7201a8\"], [0.3333333333333333, \"#9c179e\"], [0.4444444444444444, \"#bd3786\"], [0.5555555555555556, \"#d8576b\"], [0.6666666666666666, \"#ed7953\"], [0.7777777777777778, \"#fb9f3a\"], [0.8888888888888888, \"#fdca26\"], [1.0, \"#f0f921\"]], \"type\": \"histogram2d\"}], \"histogram2dcontour\": [{\"colorbar\": {\"outlinewidth\": 0, \"ticks\": \"\"}, \"colorscale\": [[0.0, \"#0d0887\"], [0.1111111111111111, \"#46039f\"], [0.2222222222222222, \"#7201a8\"], [0.3333333333333333, \"#9c179e\"], [0.4444444444444444, \"#bd3786\"], [0.5555555555555556, \"#d8576b\"], [0.6666666666666666, \"#ed7953\"], [0.7777777777777778, \"#fb9f3a\"], [0.8888888888888888, \"#fdca26\"], [1.0, \"#f0f921\"]], \"type\": \"histogram2dcontour\"}], \"mesh3d\": [{\"colorbar\": {\"outlinewidth\": 0, \"ticks\": \"\"}, \"type\": \"mesh3d\"}], \"parcoords\": [{\"line\": {\"colorbar\": {\"outlinewidth\": 0, \"ticks\": \"\"}}, \"type\": \"parcoords\"}], \"pie\": [{\"automargin\": true, \"type\": \"pie\"}], \"scatter\": [{\"marker\": {\"colorbar\": {\"outlinewidth\": 0, \"ticks\": \"\"}}, \"type\": \"scatter\"}], \"scatter3d\": [{\"line\": {\"colorbar\": {\"outlinewidth\": 0, \"ticks\": \"\"}}, \"marker\": {\"colorbar\": {\"outlinewidth\": 0, \"ticks\": \"\"}}, \"type\": \"scatter3d\"}], \"scattercarpet\": [{\"marker\": {\"colorbar\": {\"outlinewidth\": 0, \"ticks\": \"\"}}, \"type\": \"scattercarpet\"}], \"scattergeo\": [{\"marker\": {\"colorbar\": {\"outlinewidth\": 0, \"ticks\": \"\"}}, \"type\": \"scattergeo\"}], \"scattergl\": [{\"marker\": {\"colorbar\": {\"outlinewidth\": 0, \"ticks\": \"\"}}, \"type\": \"scattergl\"}], \"scattermapbox\": [{\"marker\": {\"colorbar\": {\"outlinewidth\": 0, \"ticks\": \"\"}}, \"type\": \"scattermapbox\"}], \"scatterpolar\": [{\"marker\": {\"colorbar\": {\"outlinewidth\": 0, \"ticks\": \"\"}}, \"type\": \"scatterpolar\"}], \"scatterpolargl\": [{\"marker\": {\"colorbar\": {\"outlinewidth\": 0, \"ticks\": \"\"}}, \"type\": \"scatterpolargl\"}], \"scatterternary\": [{\"marker\": {\"colorbar\": {\"outlinewidth\": 0, \"ticks\": \"\"}}, \"type\": \"scatterternary\"}], \"surface\": [{\"colorbar\": {\"outlinewidth\": 0, \"ticks\": \"\"}, \"colorscale\": [[0.0, \"#0d0887\"], [0.1111111111111111, \"#46039f\"], [0.2222222222222222, \"#7201a8\"], [0.3333333333333333, \"#9c179e\"], [0.4444444444444444, \"#bd3786\"], [0.5555555555555556, \"#d8576b\"], [0.6666666666666666, \"#ed7953\"], [0.7777777777777778, \"#fb9f3a\"], [0.8888888888888888, \"#fdca26\"], [1.0, \"#f0f921\"]], \"type\": \"surface\"}], \"table\": [{\"cells\": {\"fill\": {\"color\": \"#EBF0F8\"}, \"line\": {\"color\": \"white\"}}, \"header\": {\"fill\": {\"color\": \"#C8D4E3\"}, \"line\": {\"color\": \"white\"}}, \"type\": \"table\"}]}, \"layout\": {\"annotationdefaults\": {\"arrowcolor\": \"#2a3f5f\", \"arrowhead\": 0, \"arrowwidth\": 1}, \"coloraxis\": {\"colorbar\": {\"outlinewidth\": 0, \"ticks\": \"\"}}, \"colorscale\": {\"diverging\": [[0, \"#8e0152\"], [0.1, \"#c51b7d\"], [0.2, \"#de77ae\"], [0.3, \"#f1b6da\"], [0.4, \"#fde0ef\"], [0.5, \"#f7f7f7\"], [0.6, \"#e6f5d0\"], [0.7, \"#b8e186\"], [0.8, \"#7fbc41\"], [0.9, \"#4d9221\"], [1, \"#276419\"]], \"sequential\": [[0.0, \"#0d0887\"], [0.1111111111111111, \"#46039f\"], [0.2222222222222222, \"#7201a8\"], [0.3333333333333333, \"#9c179e\"], [0.4444444444444444, \"#bd3786\"], [0.5555555555555556, \"#d8576b\"], [0.6666666666666666, \"#ed7953\"], [0.7777777777777778, \"#fb9f3a\"], [0.8888888888888888, \"#fdca26\"], [1.0, \"#f0f921\"]], \"sequentialminus\": [[0.0, \"#0d0887\"], [0.1111111111111111, \"#46039f\"], [0.2222222222222222, \"#7201a8\"], [0.3333333333333333, \"#9c179e\"], [0.4444444444444444, \"#bd3786\"], [0.5555555555555556, \"#d8576b\"], [0.6666666666666666, \"#ed7953\"], [0.7777777777777778, \"#fb9f3a\"], [0.8888888888888888, \"#fdca26\"], [1.0, \"#f0f921\"]]}, \"colorway\": [\"#636efa\", \"#EF553B\", \"#00cc96\", \"#ab63fa\", \"#FFA15A\", \"#19d3f3\", \"#FF6692\", \"#B6E880\", \"#FF97FF\", \"#FECB52\"], \"font\": {\"color\": \"#2a3f5f\"}, \"geo\": {\"bgcolor\": \"white\", \"lakecolor\": \"white\", \"landcolor\": \"#E5ECF6\", \"showlakes\": true, \"showland\": true, \"subunitcolor\": \"white\"}, \"hoverlabel\": {\"align\": \"left\"}, \"hovermode\": \"closest\", \"mapbox\": {\"style\": \"light\"}, \"paper_bgcolor\": \"white\", \"plot_bgcolor\": \"#E5ECF6\", \"polar\": {\"angularaxis\": {\"gridcolor\": \"white\", \"linecolor\": \"white\", \"ticks\": \"\"}, \"bgcolor\": \"#E5ECF6\", \"radialaxis\": {\"gridcolor\": \"white\", \"linecolor\": \"white\", \"ticks\": \"\"}}, \"scene\": {\"xaxis\": {\"backgroundcolor\": \"#E5ECF6\", \"gridcolor\": \"white\", \"gridwidth\": 2, \"linecolor\": \"white\", \"showbackground\": true, \"ticks\": \"\", \"zerolinecolor\": \"white\"}, \"yaxis\": {\"backgroundcolor\": \"#E5ECF6\", \"gridcolor\": \"white\", \"gridwidth\": 2, \"linecolor\": \"white\", \"showbackground\": true, \"ticks\": \"\", \"zerolinecolor\": \"white\"}, \"zaxis\": {\"backgroundcolor\": \"#E5ECF6\", \"gridcolor\": \"white\", \"gridwidth\": 2, \"linecolor\": \"white\", \"showbackground\": true, \"ticks\": \"\", \"zerolinecolor\": \"white\"}}, \"shapedefaults\": {\"line\": {\"color\": \"#2a3f5f\"}}, \"ternary\": {\"aaxis\": {\"gridcolor\": \"white\", \"linecolor\": \"white\", \"ticks\": \"\"}, \"baxis\": {\"gridcolor\": \"white\", \"linecolor\": \"white\", \"ticks\": \"\"}, \"bgcolor\": \"#E5ECF6\", \"caxis\": {\"gridcolor\": \"white\", \"linecolor\": \"white\", \"ticks\": \"\"}}, \"title\": {\"x\": 0.05}, \"xaxis\": {\"automargin\": true, \"gridcolor\": \"white\", \"linecolor\": \"white\", \"ticks\": \"\", \"title\": {\"standoff\": 15}, \"zerolinecolor\": \"white\", \"zerolinewidth\": 2}, \"yaxis\": {\"automargin\": true, \"gridcolor\": \"white\", \"linecolor\": \"white\", \"ticks\": \"\", \"title\": {\"standoff\": 15}, \"zerolinecolor\": \"white\", \"zerolinewidth\": 2}}}},\n",
       "                        {\"responsive\": true}\n",
       "                    ).then(function(){\n",
       "                            \n",
       "var gd = document.getElementById('2deaf14a-1618-419b-8899-896c688a4f86');\n",
       "var x = new MutationObserver(function (mutations, observer) {{\n",
       "        var display = window.getComputedStyle(gd).display;\n",
       "        if (!display || display === 'none') {{\n",
       "            console.log([gd, 'removed!']);\n",
       "            Plotly.purge(gd);\n",
       "            observer.disconnect();\n",
       "        }}\n",
       "}});\n",
       "\n",
       "// Listen for the removal of the full notebook cells\n",
       "var notebookContainer = gd.closest('#notebook-container');\n",
       "if (notebookContainer) {{\n",
       "    x.observe(notebookContainer, {childList: true});\n",
       "}}\n",
       "\n",
       "// Listen for the clearing of the current output cell\n",
       "var outputEl = gd.closest('.output');\n",
       "if (outputEl) {{\n",
       "    x.observe(outputEl, {childList: true});\n",
       "}}\n",
       "\n",
       "                        })\n",
       "                };\n",
       "                });\n",
       "            </script>\n",
       "        </div>"
      ]
     },
     "metadata": {},
     "output_type": "display_data"
    }
   ],
   "source": [
    "fig = px.choropleth(locations=[\"CA\", \"TX\", \"NY\"], locationmode=\"USA-states\", color=[ca_count,tx_count,ny_count], scope=\"usa\")\n",
    "fig.show()"
   ]
  },
  {
   "cell_type": "code",
   "execution_count": 52,
   "metadata": {},
   "outputs": [
    {
     "ename": "AttributeError",
     "evalue": "module 'pandas' has no attribute 'Data'",
     "output_type": "error",
     "traceback": [
      "\u001b[1;31m---------------------------------------------------------------------------\u001b[0m",
      "\u001b[1;31mAttributeError\u001b[0m                            Traceback (most recent call last)",
      "\u001b[1;32m<ipython-input-52-dbe412b999ed>\u001b[0m in \u001b[0;36m<module>\u001b[1;34m\u001b[0m\n\u001b[1;32m----> 1\u001b[1;33m \u001b[0mjob_postings\u001b[0m \u001b[1;33m=\u001b[0m \u001b[0mpd\u001b[0m\u001b[1;33m.\u001b[0m\u001b[0mData\u001b[0m\u001b[1;33m\u001b[0m\u001b[1;33m\u001b[0m\u001b[0m\n\u001b[0m",
      "\u001b[1;32m~\\Anaconda3\\lib\\site-packages\\pandas\\__init__.py\u001b[0m in \u001b[0;36m__getattr__\u001b[1;34m(name)\u001b[0m\n\u001b[0;32m    212\u001b[0m \u001b[1;33m\u001b[0m\u001b[0m\n\u001b[0;32m    213\u001b[0m             \u001b[1;32mreturn\u001b[0m \u001b[0mPanel\u001b[0m\u001b[1;33m\u001b[0m\u001b[1;33m\u001b[0m\u001b[0m\n\u001b[1;32m--> 214\u001b[1;33m         \u001b[1;32mraise\u001b[0m \u001b[0mAttributeError\u001b[0m\u001b[1;33m(\u001b[0m\u001b[1;34m\"module 'pandas' has no attribute '{}'\"\u001b[0m\u001b[1;33m.\u001b[0m\u001b[0mformat\u001b[0m\u001b[1;33m(\u001b[0m\u001b[0mname\u001b[0m\u001b[1;33m)\u001b[0m\u001b[1;33m)\u001b[0m\u001b[1;33m\u001b[0m\u001b[1;33m\u001b[0m\u001b[0m\n\u001b[0m\u001b[0;32m    215\u001b[0m \u001b[1;33m\u001b[0m\u001b[0m\n\u001b[0;32m    216\u001b[0m \u001b[1;33m\u001b[0m\u001b[0m\n",
      "\u001b[1;31mAttributeError\u001b[0m: module 'pandas' has no attribute 'Data'"
     ]
    }
   ],
   "source": [
    "job_postings = pd.Data"
   ]
  },
  {
   "cell_type": "code",
   "execution_count": null,
   "metadata": {},
   "outputs": [],
   "source": []
  },
  {
   "cell_type": "code",
   "execution_count": null,
   "metadata": {},
   "outputs": [],
   "source": []
  },
  {
   "cell_type": "code",
   "execution_count": null,
   "metadata": {},
   "outputs": [],
   "source": []
  }
 ],
 "metadata": {
  "celltoolbar": "Slideshow",
  "kernelspec": {
   "display_name": "Python 3",
   "language": "python",
   "name": "python3"
  },
  "language_info": {
   "codemirror_mode": {
    "name": "ipython",
    "version": 3
   },
   "file_extension": ".py",
   "mimetype": "text/x-python",
   "name": "python",
   "nbconvert_exporter": "python",
   "pygments_lexer": "ipython3",
   "version": "3.7.4"
  }
 },
 "nbformat": 4,
 "nbformat_minor": 2
}
