{
 "cells": [
  {
   "cell_type": "code",
   "execution_count": 36,
   "metadata": {},
   "outputs": [],
   "source": [
    "%matplotlib notebook"
   ]
  },
  {
   "cell_type": "code",
   "execution_count": 37,
   "metadata": {},
   "outputs": [],
   "source": [
    "# Dependencies and Setup\n",
    "import matplotlib.pyplot as plt\n",
    "import pandas as pd\n",
    "import numpy as np\n",
    "from iso3166 import countries\n",
    "import plotly.express as px\n"
   ]
  },
  {
   "cell_type": "code",
   "execution_count": 38,
   "metadata": {},
   "outputs": [
    {
     "data": {
      "text/html": [
       "<div>\n",
       "<style scoped>\n",
       "    .dataframe tbody tr th:only-of-type {\n",
       "        vertical-align: middle;\n",
       "    }\n",
       "\n",
       "    .dataframe tbody tr th {\n",
       "        vertical-align: top;\n",
       "    }\n",
       "\n",
       "    .dataframe thead th {\n",
       "        text-align: right;\n",
       "    }\n",
       "</style>\n",
       "<table border=\"1\" class=\"dataframe\">\n",
       "  <thead>\n",
       "    <tr style=\"text-align: right;\">\n",
       "      <th></th>\n",
       "      <th>job_id</th>\n",
       "      <th>title</th>\n",
       "      <th>location</th>\n",
       "      <th>department</th>\n",
       "      <th>salary_range</th>\n",
       "      <th>company_profile</th>\n",
       "      <th>description</th>\n",
       "      <th>requirements</th>\n",
       "      <th>benefits</th>\n",
       "      <th>telecommuting</th>\n",
       "      <th>has_company_logo</th>\n",
       "      <th>has_questions</th>\n",
       "      <th>employment_type</th>\n",
       "      <th>required_experience</th>\n",
       "      <th>required_education</th>\n",
       "      <th>industry</th>\n",
       "      <th>function</th>\n",
       "      <th>fraudulent</th>\n",
       "    </tr>\n",
       "  </thead>\n",
       "  <tbody>\n",
       "    <tr>\n",
       "      <td>0</td>\n",
       "      <td>1</td>\n",
       "      <td>Marketing Intern</td>\n",
       "      <td>US, NY, New York</td>\n",
       "      <td>Marketing</td>\n",
       "      <td>NaN</td>\n",
       "      <td>We're Food52, and we've created a groundbreaki...</td>\n",
       "      <td>Food52, a fast-growing, James Beard Award-winn...</td>\n",
       "      <td>Experience with content management systems a m...</td>\n",
       "      <td>NaN</td>\n",
       "      <td>0</td>\n",
       "      <td>1</td>\n",
       "      <td>0</td>\n",
       "      <td>Other</td>\n",
       "      <td>Internship</td>\n",
       "      <td>NaN</td>\n",
       "      <td>NaN</td>\n",
       "      <td>Marketing</td>\n",
       "      <td>0</td>\n",
       "    </tr>\n",
       "    <tr>\n",
       "      <td>1</td>\n",
       "      <td>2</td>\n",
       "      <td>Customer Service - Cloud Video Production</td>\n",
       "      <td>NZ, , Auckland</td>\n",
       "      <td>Success</td>\n",
       "      <td>NaN</td>\n",
       "      <td>90 Seconds, the worlds Cloud Video Production ...</td>\n",
       "      <td>Organised - Focused - Vibrant - Awesome!Do you...</td>\n",
       "      <td>What we expect from you:Your key responsibilit...</td>\n",
       "      <td>What you will get from usThrough being part of...</td>\n",
       "      <td>0</td>\n",
       "      <td>1</td>\n",
       "      <td>0</td>\n",
       "      <td>Full-time</td>\n",
       "      <td>Not Applicable</td>\n",
       "      <td>NaN</td>\n",
       "      <td>Marketing and Advertising</td>\n",
       "      <td>Customer Service</td>\n",
       "      <td>0</td>\n",
       "    </tr>\n",
       "    <tr>\n",
       "      <td>2</td>\n",
       "      <td>3</td>\n",
       "      <td>Commissioning Machinery Assistant (CMA)</td>\n",
       "      <td>US, IA, Wever</td>\n",
       "      <td>NaN</td>\n",
       "      <td>NaN</td>\n",
       "      <td>Valor Services provides Workforce Solutions th...</td>\n",
       "      <td>Our client, located in Houston, is actively se...</td>\n",
       "      <td>Implement pre-commissioning and commissioning ...</td>\n",
       "      <td>NaN</td>\n",
       "      <td>0</td>\n",
       "      <td>1</td>\n",
       "      <td>0</td>\n",
       "      <td>NaN</td>\n",
       "      <td>NaN</td>\n",
       "      <td>NaN</td>\n",
       "      <td>NaN</td>\n",
       "      <td>NaN</td>\n",
       "      <td>0</td>\n",
       "    </tr>\n",
       "    <tr>\n",
       "      <td>3</td>\n",
       "      <td>4</td>\n",
       "      <td>Account Executive - Washington DC</td>\n",
       "      <td>US, DC, Washington</td>\n",
       "      <td>Sales</td>\n",
       "      <td>NaN</td>\n",
       "      <td>Our passion for improving quality of life thro...</td>\n",
       "      <td>THE COMPANY: ESRI – Environmental Systems Rese...</td>\n",
       "      <td>EDUCATION: Bachelor’s or Master’s in GIS, busi...</td>\n",
       "      <td>Our culture is anything but corporate—we have ...</td>\n",
       "      <td>0</td>\n",
       "      <td>1</td>\n",
       "      <td>0</td>\n",
       "      <td>Full-time</td>\n",
       "      <td>Mid-Senior level</td>\n",
       "      <td>Bachelor's Degree</td>\n",
       "      <td>Computer Software</td>\n",
       "      <td>Sales</td>\n",
       "      <td>0</td>\n",
       "    </tr>\n",
       "    <tr>\n",
       "      <td>4</td>\n",
       "      <td>5</td>\n",
       "      <td>Bill Review Manager</td>\n",
       "      <td>US, FL, Fort Worth</td>\n",
       "      <td>NaN</td>\n",
       "      <td>NaN</td>\n",
       "      <td>SpotSource Solutions LLC is a Global Human Cap...</td>\n",
       "      <td>JOB TITLE: Itemization Review ManagerLOCATION:...</td>\n",
       "      <td>QUALIFICATIONS:RN license in the State of Texa...</td>\n",
       "      <td>Full Benefits Offered</td>\n",
       "      <td>0</td>\n",
       "      <td>1</td>\n",
       "      <td>1</td>\n",
       "      <td>Full-time</td>\n",
       "      <td>Mid-Senior level</td>\n",
       "      <td>Bachelor's Degree</td>\n",
       "      <td>Hospital &amp; Health Care</td>\n",
       "      <td>Health Care Provider</td>\n",
       "      <td>0</td>\n",
       "    </tr>\n",
       "  </tbody>\n",
       "</table>\n",
       "</div>"
      ],
      "text/plain": [
       "   job_id                                      title            location  \\\n",
       "0       1                           Marketing Intern    US, NY, New York   \n",
       "1       2  Customer Service - Cloud Video Production      NZ, , Auckland   \n",
       "2       3    Commissioning Machinery Assistant (CMA)       US, IA, Wever   \n",
       "3       4          Account Executive - Washington DC  US, DC, Washington   \n",
       "4       5                        Bill Review Manager  US, FL, Fort Worth   \n",
       "\n",
       "  department salary_range                                    company_profile  \\\n",
       "0  Marketing          NaN  We're Food52, and we've created a groundbreaki...   \n",
       "1    Success          NaN  90 Seconds, the worlds Cloud Video Production ...   \n",
       "2        NaN          NaN  Valor Services provides Workforce Solutions th...   \n",
       "3      Sales          NaN  Our passion for improving quality of life thro...   \n",
       "4        NaN          NaN  SpotSource Solutions LLC is a Global Human Cap...   \n",
       "\n",
       "                                         description  \\\n",
       "0  Food52, a fast-growing, James Beard Award-winn...   \n",
       "1  Organised - Focused - Vibrant - Awesome!Do you...   \n",
       "2  Our client, located in Houston, is actively se...   \n",
       "3  THE COMPANY: ESRI – Environmental Systems Rese...   \n",
       "4  JOB TITLE: Itemization Review ManagerLOCATION:...   \n",
       "\n",
       "                                        requirements  \\\n",
       "0  Experience with content management systems a m...   \n",
       "1  What we expect from you:Your key responsibilit...   \n",
       "2  Implement pre-commissioning and commissioning ...   \n",
       "3  EDUCATION: Bachelor’s or Master’s in GIS, busi...   \n",
       "4  QUALIFICATIONS:RN license in the State of Texa...   \n",
       "\n",
       "                                            benefits  telecommuting  \\\n",
       "0                                                NaN              0   \n",
       "1  What you will get from usThrough being part of...              0   \n",
       "2                                                NaN              0   \n",
       "3  Our culture is anything but corporate—we have ...              0   \n",
       "4                              Full Benefits Offered              0   \n",
       "\n",
       "   has_company_logo  has_questions employment_type required_experience  \\\n",
       "0                 1              0           Other          Internship   \n",
       "1                 1              0       Full-time      Not Applicable   \n",
       "2                 1              0             NaN                 NaN   \n",
       "3                 1              0       Full-time    Mid-Senior level   \n",
       "4                 1              1       Full-time    Mid-Senior level   \n",
       "\n",
       "  required_education                   industry              function  \\\n",
       "0                NaN                        NaN             Marketing   \n",
       "1                NaN  Marketing and Advertising      Customer Service   \n",
       "2                NaN                        NaN                   NaN   \n",
       "3  Bachelor's Degree          Computer Software                 Sales   \n",
       "4  Bachelor's Degree     Hospital & Health Care  Health Care Provider   \n",
       "\n",
       "   fraudulent  \n",
       "0           0  \n",
       "1           0  \n",
       "2           0  \n",
       "3           0  \n",
       "4           0  "
      ]
     },
     "execution_count": 38,
     "metadata": {},
     "output_type": "execute_result"
    }
   ],
   "source": [
    "#read \n",
    "job_postings = pd.read_csv('Resources/job_postings.csv')\n",
    "job_postings.head()"
   ]
  },
  {
   "cell_type": "code",
   "execution_count": 39,
   "metadata": {},
   "outputs": [
    {
     "data": {
      "text/plain": [
       "(17880, 18)"
      ]
     },
     "execution_count": 39,
     "metadata": {},
     "output_type": "execute_result"
    }
   ],
   "source": [
    "#verify that columns and rows \n",
    "job_postings.shape"
   ]
  },
  {
   "cell_type": "code",
   "execution_count": 40,
   "metadata": {},
   "outputs": [],
   "source": [
    "#drop if the job posting is fraudulent\n",
    "#job_postings = job_postings[~job_postings['fraudulent'].isin(['1'])]\n",
    "#job_postings.head()"
   ]
  },
  {
   "cell_type": "code",
   "execution_count": 41,
   "metadata": {},
   "outputs": [
    {
     "data": {
      "text/plain": [
       "(17880, 18)"
      ]
     },
     "execution_count": 41,
     "metadata": {},
     "output_type": "execute_result"
    }
   ],
   "source": [
    "#verify that fraudulent data has been dropped\n",
    "job_postings.shape"
   ]
  },
  {
   "cell_type": "code",
   "execution_count": 42,
   "metadata": {},
   "outputs": [
    {
     "data": {
      "text/plain": [
       "(17534, 18)"
      ]
     },
     "execution_count": 42,
     "metadata": {},
     "output_type": "execute_result"
    }
   ],
   "source": [
    "# dropping null value rows in location to avoid errors \n",
    "job_postings = job_postings[pd.notnull(job_postings['location'])]\n",
    "\n",
    "#verify that null data has been dropped\n",
    "job_postings.shape\n"
   ]
  },
  {
   "cell_type": "code",
   "execution_count": 43,
   "metadata": {},
   "outputs": [
    {
     "data": {
      "text/plain": [
       "<bound method NDFrame.head of          0    1             2\n",
       "0      US,  NY,      New York\n",
       "1      NZ,    ,      Auckland\n",
       "2      US,  IA,         Wever\n",
       "3      US,  DC,    Washington\n",
       "4      US,  FL,    Fort Worth\n",
       "...    ...  ...           ...\n",
       "17875  CA,  ON,       Toronto\n",
       "17876  US,  PA,  Philadelphia\n",
       "17877  US,  TX,       Houston\n",
       "17878  NG,  LA,         Lagos\n",
       "17879  NZ,   N,    Wellington\n",
       "\n",
       "[17534 rows x 3 columns]>"
      ]
     },
     "execution_count": 43,
     "metadata": {},
     "output_type": "execute_result"
    }
   ],
   "source": [
    "# new data frame with split value columns \n",
    "df2 = job_postings[\"location\"].str.split(\" \", n = 2, expand = True) \n",
    "df2.head"
   ]
  },
  {
   "cell_type": "code",
   "execution_count": 44,
   "metadata": {},
   "outputs": [
    {
     "data": {
      "text/html": [
       "<div>\n",
       "<style scoped>\n",
       "    .dataframe tbody tr th:only-of-type {\n",
       "        vertical-align: middle;\n",
       "    }\n",
       "\n",
       "    .dataframe tbody tr th {\n",
       "        vertical-align: top;\n",
       "    }\n",
       "\n",
       "    .dataframe thead th {\n",
       "        text-align: right;\n",
       "    }\n",
       "</style>\n",
       "<table border=\"1\" class=\"dataframe\">\n",
       "  <thead>\n",
       "    <tr style=\"text-align: right;\">\n",
       "      <th></th>\n",
       "      <th>0</th>\n",
       "      <th>1</th>\n",
       "      <th>2</th>\n",
       "    </tr>\n",
       "  </thead>\n",
       "  <tbody>\n",
       "    <tr>\n",
       "      <td>0</td>\n",
       "      <td>US,</td>\n",
       "      <td>NY,</td>\n",
       "      <td>New York</td>\n",
       "    </tr>\n",
       "    <tr>\n",
       "      <td>1</td>\n",
       "      <td>NZ,</td>\n",
       "      <td>,</td>\n",
       "      <td>Auckland</td>\n",
       "    </tr>\n",
       "    <tr>\n",
       "      <td>2</td>\n",
       "      <td>US,</td>\n",
       "      <td>IA,</td>\n",
       "      <td>Wever</td>\n",
       "    </tr>\n",
       "    <tr>\n",
       "      <td>3</td>\n",
       "      <td>US,</td>\n",
       "      <td>DC,</td>\n",
       "      <td>Washington</td>\n",
       "    </tr>\n",
       "    <tr>\n",
       "      <td>4</td>\n",
       "      <td>US,</td>\n",
       "      <td>FL,</td>\n",
       "      <td>Fort Worth</td>\n",
       "    </tr>\n",
       "    <tr>\n",
       "      <td>...</td>\n",
       "      <td>...</td>\n",
       "      <td>...</td>\n",
       "      <td>...</td>\n",
       "    </tr>\n",
       "    <tr>\n",
       "      <td>17875</td>\n",
       "      <td>CA,</td>\n",
       "      <td>ON,</td>\n",
       "      <td>Toronto</td>\n",
       "    </tr>\n",
       "    <tr>\n",
       "      <td>17876</td>\n",
       "      <td>US,</td>\n",
       "      <td>PA,</td>\n",
       "      <td>Philadelphia</td>\n",
       "    </tr>\n",
       "    <tr>\n",
       "      <td>17877</td>\n",
       "      <td>US,</td>\n",
       "      <td>TX,</td>\n",
       "      <td>Houston</td>\n",
       "    </tr>\n",
       "    <tr>\n",
       "      <td>17878</td>\n",
       "      <td>NG,</td>\n",
       "      <td>LA,</td>\n",
       "      <td>Lagos</td>\n",
       "    </tr>\n",
       "    <tr>\n",
       "      <td>17879</td>\n",
       "      <td>NZ,</td>\n",
       "      <td>N,</td>\n",
       "      <td>Wellington</td>\n",
       "    </tr>\n",
       "  </tbody>\n",
       "</table>\n",
       "<p>17534 rows × 3 columns</p>\n",
       "</div>"
      ],
      "text/plain": [
       "         0    1             2\n",
       "0      US,  NY,      New York\n",
       "1      NZ,    ,      Auckland\n",
       "2      US,  IA,         Wever\n",
       "3      US,  DC,    Washington\n",
       "4      US,  FL,    Fort Worth\n",
       "...    ...  ...           ...\n",
       "17875  CA,  ON,       Toronto\n",
       "17876  US,  PA,  Philadelphia\n",
       "17877  US,  TX,       Houston\n",
       "17878  NG,  LA,         Lagos\n",
       "17879  NZ,   N,    Wellington\n",
       "\n",
       "[17534 rows x 3 columns]"
      ]
     },
     "execution_count": 44,
     "metadata": {},
     "output_type": "execute_result"
    }
   ],
   "source": [
    "#display names of new columns\n",
    "list(df2.columns) \n",
    "df2"
   ]
  },
  {
   "cell_type": "code",
   "execution_count": 45,
   "metadata": {},
   "outputs": [],
   "source": [
    "# change names of new columns\n",
    "df2.rename(columns={0:\"Country\", 1:\"State\", 2:\"City\"}, inplace=True)"
   ]
  },
  {
   "cell_type": "code",
   "execution_count": 46,
   "metadata": {},
   "outputs": [
    {
     "data": {
      "text/html": [
       "<div>\n",
       "<style scoped>\n",
       "    .dataframe tbody tr th:only-of-type {\n",
       "        vertical-align: middle;\n",
       "    }\n",
       "\n",
       "    .dataframe tbody tr th {\n",
       "        vertical-align: top;\n",
       "    }\n",
       "\n",
       "    .dataframe thead th {\n",
       "        text-align: right;\n",
       "    }\n",
       "</style>\n",
       "<table border=\"1\" class=\"dataframe\">\n",
       "  <thead>\n",
       "    <tr style=\"text-align: right;\">\n",
       "      <th></th>\n",
       "      <th>job_id</th>\n",
       "      <th>title</th>\n",
       "      <th>location</th>\n",
       "      <th>department</th>\n",
       "      <th>salary_range</th>\n",
       "      <th>company_profile</th>\n",
       "      <th>description</th>\n",
       "      <th>requirements</th>\n",
       "      <th>benefits</th>\n",
       "      <th>telecommuting</th>\n",
       "      <th>...</th>\n",
       "      <th>has_questions</th>\n",
       "      <th>employment_type</th>\n",
       "      <th>required_experience</th>\n",
       "      <th>required_education</th>\n",
       "      <th>industry</th>\n",
       "      <th>function</th>\n",
       "      <th>fraudulent</th>\n",
       "      <th>City</th>\n",
       "      <th>State</th>\n",
       "      <th>Country</th>\n",
       "    </tr>\n",
       "  </thead>\n",
       "  <tbody>\n",
       "    <tr>\n",
       "      <td>0</td>\n",
       "      <td>1</td>\n",
       "      <td>Marketing Intern</td>\n",
       "      <td>US, NY, New York</td>\n",
       "      <td>Marketing</td>\n",
       "      <td>NaN</td>\n",
       "      <td>We're Food52, and we've created a groundbreaki...</td>\n",
       "      <td>Food52, a fast-growing, James Beard Award-winn...</td>\n",
       "      <td>Experience with content management systems a m...</td>\n",
       "      <td>NaN</td>\n",
       "      <td>0</td>\n",
       "      <td>...</td>\n",
       "      <td>0</td>\n",
       "      <td>Other</td>\n",
       "      <td>Internship</td>\n",
       "      <td>NaN</td>\n",
       "      <td>NaN</td>\n",
       "      <td>Marketing</td>\n",
       "      <td>0</td>\n",
       "      <td>New York</td>\n",
       "      <td>NY,</td>\n",
       "      <td>US,</td>\n",
       "    </tr>\n",
       "    <tr>\n",
       "      <td>1</td>\n",
       "      <td>2</td>\n",
       "      <td>Customer Service - Cloud Video Production</td>\n",
       "      <td>NZ, , Auckland</td>\n",
       "      <td>Success</td>\n",
       "      <td>NaN</td>\n",
       "      <td>90 Seconds, the worlds Cloud Video Production ...</td>\n",
       "      <td>Organised - Focused - Vibrant - Awesome!Do you...</td>\n",
       "      <td>What we expect from you:Your key responsibilit...</td>\n",
       "      <td>What you will get from usThrough being part of...</td>\n",
       "      <td>0</td>\n",
       "      <td>...</td>\n",
       "      <td>0</td>\n",
       "      <td>Full-time</td>\n",
       "      <td>Not Applicable</td>\n",
       "      <td>NaN</td>\n",
       "      <td>Marketing and Advertising</td>\n",
       "      <td>Customer Service</td>\n",
       "      <td>0</td>\n",
       "      <td>Auckland</td>\n",
       "      <td>,</td>\n",
       "      <td>NZ,</td>\n",
       "    </tr>\n",
       "    <tr>\n",
       "      <td>2</td>\n",
       "      <td>3</td>\n",
       "      <td>Commissioning Machinery Assistant (CMA)</td>\n",
       "      <td>US, IA, Wever</td>\n",
       "      <td>NaN</td>\n",
       "      <td>NaN</td>\n",
       "      <td>Valor Services provides Workforce Solutions th...</td>\n",
       "      <td>Our client, located in Houston, is actively se...</td>\n",
       "      <td>Implement pre-commissioning and commissioning ...</td>\n",
       "      <td>NaN</td>\n",
       "      <td>0</td>\n",
       "      <td>...</td>\n",
       "      <td>0</td>\n",
       "      <td>NaN</td>\n",
       "      <td>NaN</td>\n",
       "      <td>NaN</td>\n",
       "      <td>NaN</td>\n",
       "      <td>NaN</td>\n",
       "      <td>0</td>\n",
       "      <td>Wever</td>\n",
       "      <td>IA,</td>\n",
       "      <td>US,</td>\n",
       "    </tr>\n",
       "    <tr>\n",
       "      <td>3</td>\n",
       "      <td>4</td>\n",
       "      <td>Account Executive - Washington DC</td>\n",
       "      <td>US, DC, Washington</td>\n",
       "      <td>Sales</td>\n",
       "      <td>NaN</td>\n",
       "      <td>Our passion for improving quality of life thro...</td>\n",
       "      <td>THE COMPANY: ESRI – Environmental Systems Rese...</td>\n",
       "      <td>EDUCATION: Bachelor’s or Master’s in GIS, busi...</td>\n",
       "      <td>Our culture is anything but corporate—we have ...</td>\n",
       "      <td>0</td>\n",
       "      <td>...</td>\n",
       "      <td>0</td>\n",
       "      <td>Full-time</td>\n",
       "      <td>Mid-Senior level</td>\n",
       "      <td>Bachelor's Degree</td>\n",
       "      <td>Computer Software</td>\n",
       "      <td>Sales</td>\n",
       "      <td>0</td>\n",
       "      <td>Washington</td>\n",
       "      <td>DC,</td>\n",
       "      <td>US,</td>\n",
       "    </tr>\n",
       "    <tr>\n",
       "      <td>4</td>\n",
       "      <td>5</td>\n",
       "      <td>Bill Review Manager</td>\n",
       "      <td>US, FL, Fort Worth</td>\n",
       "      <td>NaN</td>\n",
       "      <td>NaN</td>\n",
       "      <td>SpotSource Solutions LLC is a Global Human Cap...</td>\n",
       "      <td>JOB TITLE: Itemization Review ManagerLOCATION:...</td>\n",
       "      <td>QUALIFICATIONS:RN license in the State of Texa...</td>\n",
       "      <td>Full Benefits Offered</td>\n",
       "      <td>0</td>\n",
       "      <td>...</td>\n",
       "      <td>1</td>\n",
       "      <td>Full-time</td>\n",
       "      <td>Mid-Senior level</td>\n",
       "      <td>Bachelor's Degree</td>\n",
       "      <td>Hospital &amp; Health Care</td>\n",
       "      <td>Health Care Provider</td>\n",
       "      <td>0</td>\n",
       "      <td>Fort Worth</td>\n",
       "      <td>FL,</td>\n",
       "      <td>US,</td>\n",
       "    </tr>\n",
       "    <tr>\n",
       "      <td>...</td>\n",
       "      <td>...</td>\n",
       "      <td>...</td>\n",
       "      <td>...</td>\n",
       "      <td>...</td>\n",
       "      <td>...</td>\n",
       "      <td>...</td>\n",
       "      <td>...</td>\n",
       "      <td>...</td>\n",
       "      <td>...</td>\n",
       "      <td>...</td>\n",
       "      <td>...</td>\n",
       "      <td>...</td>\n",
       "      <td>...</td>\n",
       "      <td>...</td>\n",
       "      <td>...</td>\n",
       "      <td>...</td>\n",
       "      <td>...</td>\n",
       "      <td>...</td>\n",
       "      <td>...</td>\n",
       "      <td>...</td>\n",
       "      <td>...</td>\n",
       "    </tr>\n",
       "    <tr>\n",
       "      <td>17875</td>\n",
       "      <td>17876</td>\n",
       "      <td>Account Director - Distribution</td>\n",
       "      <td>CA, ON, Toronto</td>\n",
       "      <td>Sales</td>\n",
       "      <td>NaN</td>\n",
       "      <td>Vend is looking for some awesome new talent to...</td>\n",
       "      <td>Just in case this is the first time you’ve vis...</td>\n",
       "      <td>To ace this role you:Will eat comprehensive St...</td>\n",
       "      <td>What can you expect from us?We have an open cu...</td>\n",
       "      <td>0</td>\n",
       "      <td>...</td>\n",
       "      <td>1</td>\n",
       "      <td>Full-time</td>\n",
       "      <td>Mid-Senior level</td>\n",
       "      <td>NaN</td>\n",
       "      <td>Computer Software</td>\n",
       "      <td>Sales</td>\n",
       "      <td>0</td>\n",
       "      <td>Toronto</td>\n",
       "      <td>ON,</td>\n",
       "      <td>CA,</td>\n",
       "    </tr>\n",
       "    <tr>\n",
       "      <td>17876</td>\n",
       "      <td>17877</td>\n",
       "      <td>Payroll Accountant</td>\n",
       "      <td>US, PA, Philadelphia</td>\n",
       "      <td>Accounting</td>\n",
       "      <td>NaN</td>\n",
       "      <td>WebLinc is the e-commerce platform and service...</td>\n",
       "      <td>The Payroll Accountant will focus primarily on...</td>\n",
       "      <td>- B.A. or B.S. in Accounting- Desire to have f...</td>\n",
       "      <td>Health &amp;amp; WellnessMedical planPrescription ...</td>\n",
       "      <td>0</td>\n",
       "      <td>...</td>\n",
       "      <td>1</td>\n",
       "      <td>Full-time</td>\n",
       "      <td>Mid-Senior level</td>\n",
       "      <td>Bachelor's Degree</td>\n",
       "      <td>Internet</td>\n",
       "      <td>Accounting/Auditing</td>\n",
       "      <td>0</td>\n",
       "      <td>Philadelphia</td>\n",
       "      <td>PA,</td>\n",
       "      <td>US,</td>\n",
       "    </tr>\n",
       "    <tr>\n",
       "      <td>17877</td>\n",
       "      <td>17878</td>\n",
       "      <td>Project Cost Control Staff Engineer - Cost Con...</td>\n",
       "      <td>US, TX, Houston</td>\n",
       "      <td>NaN</td>\n",
       "      <td>NaN</td>\n",
       "      <td>We Provide Full Time Permanent Positions for m...</td>\n",
       "      <td>Experienced Project Cost Control Staff Enginee...</td>\n",
       "      <td>At least 12 years professional experience.Abil...</td>\n",
       "      <td>NaN</td>\n",
       "      <td>0</td>\n",
       "      <td>...</td>\n",
       "      <td>0</td>\n",
       "      <td>Full-time</td>\n",
       "      <td>NaN</td>\n",
       "      <td>NaN</td>\n",
       "      <td>NaN</td>\n",
       "      <td>NaN</td>\n",
       "      <td>0</td>\n",
       "      <td>Houston</td>\n",
       "      <td>TX,</td>\n",
       "      <td>US,</td>\n",
       "    </tr>\n",
       "    <tr>\n",
       "      <td>17878</td>\n",
       "      <td>17879</td>\n",
       "      <td>Graphic Designer</td>\n",
       "      <td>NG, LA, Lagos</td>\n",
       "      <td>NaN</td>\n",
       "      <td>NaN</td>\n",
       "      <td>NaN</td>\n",
       "      <td>Nemsia Studios is looking for an experienced v...</td>\n",
       "      <td>1. Must be fluent in the latest versions of Co...</td>\n",
       "      <td>Competitive salary (compensation will be based...</td>\n",
       "      <td>0</td>\n",
       "      <td>...</td>\n",
       "      <td>1</td>\n",
       "      <td>Contract</td>\n",
       "      <td>Not Applicable</td>\n",
       "      <td>Professional</td>\n",
       "      <td>Graphic Design</td>\n",
       "      <td>Design</td>\n",
       "      <td>0</td>\n",
       "      <td>Lagos</td>\n",
       "      <td>LA,</td>\n",
       "      <td>NG,</td>\n",
       "    </tr>\n",
       "    <tr>\n",
       "      <td>17879</td>\n",
       "      <td>17880</td>\n",
       "      <td>Web Application Developers</td>\n",
       "      <td>NZ, N, Wellington</td>\n",
       "      <td>Engineering</td>\n",
       "      <td>NaN</td>\n",
       "      <td>Vend is looking for some awesome new talent to...</td>\n",
       "      <td>Who are we?Vend is an award winning web based ...</td>\n",
       "      <td>We want to hear from you if:You have an in-dep...</td>\n",
       "      <td>NaN</td>\n",
       "      <td>0</td>\n",
       "      <td>...</td>\n",
       "      <td>1</td>\n",
       "      <td>Full-time</td>\n",
       "      <td>Mid-Senior level</td>\n",
       "      <td>NaN</td>\n",
       "      <td>Computer Software</td>\n",
       "      <td>Engineering</td>\n",
       "      <td>0</td>\n",
       "      <td>Wellington</td>\n",
       "      <td>N,</td>\n",
       "      <td>NZ,</td>\n",
       "    </tr>\n",
       "  </tbody>\n",
       "</table>\n",
       "<p>17534 rows × 21 columns</p>\n",
       "</div>"
      ],
      "text/plain": [
       "       job_id                                              title  \\\n",
       "0           1                                   Marketing Intern   \n",
       "1           2          Customer Service - Cloud Video Production   \n",
       "2           3            Commissioning Machinery Assistant (CMA)   \n",
       "3           4                  Account Executive - Washington DC   \n",
       "4           5                                Bill Review Manager   \n",
       "...       ...                                                ...   \n",
       "17875   17876                   Account Director - Distribution    \n",
       "17876   17877                                 Payroll Accountant   \n",
       "17877   17878  Project Cost Control Staff Engineer - Cost Con...   \n",
       "17878   17879                                   Graphic Designer   \n",
       "17879   17880                         Web Application Developers   \n",
       "\n",
       "                   location   department salary_range  \\\n",
       "0          US, NY, New York    Marketing          NaN   \n",
       "1            NZ, , Auckland      Success          NaN   \n",
       "2             US, IA, Wever          NaN          NaN   \n",
       "3        US, DC, Washington        Sales          NaN   \n",
       "4        US, FL, Fort Worth          NaN          NaN   \n",
       "...                     ...          ...          ...   \n",
       "17875       CA, ON, Toronto        Sales          NaN   \n",
       "17876  US, PA, Philadelphia   Accounting          NaN   \n",
       "17877       US, TX, Houston          NaN          NaN   \n",
       "17878         NG, LA, Lagos          NaN          NaN   \n",
       "17879     NZ, N, Wellington  Engineering          NaN   \n",
       "\n",
       "                                         company_profile  \\\n",
       "0      We're Food52, and we've created a groundbreaki...   \n",
       "1      90 Seconds, the worlds Cloud Video Production ...   \n",
       "2      Valor Services provides Workforce Solutions th...   \n",
       "3      Our passion for improving quality of life thro...   \n",
       "4      SpotSource Solutions LLC is a Global Human Cap...   \n",
       "...                                                  ...   \n",
       "17875  Vend is looking for some awesome new talent to...   \n",
       "17876  WebLinc is the e-commerce platform and service...   \n",
       "17877  We Provide Full Time Permanent Positions for m...   \n",
       "17878                                                NaN   \n",
       "17879  Vend is looking for some awesome new talent to...   \n",
       "\n",
       "                                             description  \\\n",
       "0      Food52, a fast-growing, James Beard Award-winn...   \n",
       "1      Organised - Focused - Vibrant - Awesome!Do you...   \n",
       "2      Our client, located in Houston, is actively se...   \n",
       "3      THE COMPANY: ESRI – Environmental Systems Rese...   \n",
       "4      JOB TITLE: Itemization Review ManagerLOCATION:...   \n",
       "...                                                  ...   \n",
       "17875  Just in case this is the first time you’ve vis...   \n",
       "17876  The Payroll Accountant will focus primarily on...   \n",
       "17877  Experienced Project Cost Control Staff Enginee...   \n",
       "17878  Nemsia Studios is looking for an experienced v...   \n",
       "17879  Who are we?Vend is an award winning web based ...   \n",
       "\n",
       "                                            requirements  \\\n",
       "0      Experience with content management systems a m...   \n",
       "1      What we expect from you:Your key responsibilit...   \n",
       "2      Implement pre-commissioning and commissioning ...   \n",
       "3      EDUCATION: Bachelor’s or Master’s in GIS, busi...   \n",
       "4      QUALIFICATIONS:RN license in the State of Texa...   \n",
       "...                                                  ...   \n",
       "17875  To ace this role you:Will eat comprehensive St...   \n",
       "17876  - B.A. or B.S. in Accounting- Desire to have f...   \n",
       "17877  At least 12 years professional experience.Abil...   \n",
       "17878  1. Must be fluent in the latest versions of Co...   \n",
       "17879  We want to hear from you if:You have an in-dep...   \n",
       "\n",
       "                                                benefits  telecommuting  ...  \\\n",
       "0                                                    NaN              0  ...   \n",
       "1      What you will get from usThrough being part of...              0  ...   \n",
       "2                                                    NaN              0  ...   \n",
       "3      Our culture is anything but corporate—we have ...              0  ...   \n",
       "4                                  Full Benefits Offered              0  ...   \n",
       "...                                                  ...            ...  ...   \n",
       "17875  What can you expect from us?We have an open cu...              0  ...   \n",
       "17876  Health &amp; WellnessMedical planPrescription ...              0  ...   \n",
       "17877                                                NaN              0  ...   \n",
       "17878  Competitive salary (compensation will be based...              0  ...   \n",
       "17879                                                NaN              0  ...   \n",
       "\n",
       "       has_questions  employment_type required_experience required_education  \\\n",
       "0                  0            Other          Internship                NaN   \n",
       "1                  0        Full-time      Not Applicable                NaN   \n",
       "2                  0              NaN                 NaN                NaN   \n",
       "3                  0        Full-time    Mid-Senior level  Bachelor's Degree   \n",
       "4                  1        Full-time    Mid-Senior level  Bachelor's Degree   \n",
       "...              ...              ...                 ...                ...   \n",
       "17875              1        Full-time    Mid-Senior level                NaN   \n",
       "17876              1        Full-time    Mid-Senior level  Bachelor's Degree   \n",
       "17877              0        Full-time                 NaN                NaN   \n",
       "17878              1         Contract      Not Applicable       Professional   \n",
       "17879              1        Full-time    Mid-Senior level                NaN   \n",
       "\n",
       "                        industry              function fraudulent  \\\n",
       "0                            NaN             Marketing          0   \n",
       "1      Marketing and Advertising      Customer Service          0   \n",
       "2                            NaN                   NaN          0   \n",
       "3              Computer Software                 Sales          0   \n",
       "4         Hospital & Health Care  Health Care Provider          0   \n",
       "...                          ...                   ...        ...   \n",
       "17875          Computer Software                 Sales          0   \n",
       "17876                   Internet   Accounting/Auditing          0   \n",
       "17877                        NaN                   NaN          0   \n",
       "17878             Graphic Design                Design          0   \n",
       "17879          Computer Software           Engineering          0   \n",
       "\n",
       "               City State Country  \n",
       "0          New York   NY,     US,  \n",
       "1          Auckland     ,     NZ,  \n",
       "2             Wever   IA,     US,  \n",
       "3        Washington   DC,     US,  \n",
       "4        Fort Worth   FL,     US,  \n",
       "...             ...   ...     ...  \n",
       "17875       Toronto   ON,     CA,  \n",
       "17876  Philadelphia   PA,     US,  \n",
       "17877       Houston   TX,     US,  \n",
       "17878         Lagos   LA,     NG,  \n",
       "17879    Wellington    N,     NZ,  \n",
       "\n",
       "[17534 rows x 21 columns]"
      ]
     },
     "execution_count": 46,
     "metadata": {},
     "output_type": "execute_result"
    }
   ],
   "source": [
    "# add columns from df2 to the job postings data \n",
    "job_postings['City'], job_postings['State'], job_postings['Country'] = df2['City'], df2['State'], df2['Country']\n",
    "job_postings"
   ]
  },
  {
   "cell_type": "code",
   "execution_count": 47,
   "metadata": {},
   "outputs": [],
   "source": [
    "# drop the location column \n",
    "job_postings.drop('location', axis=1, inplace=True)"
   ]
  },
  {
   "cell_type": "code",
   "execution_count": 48,
   "metadata": {},
   "outputs": [
    {
     "data": {
      "text/html": [
       "<div>\n",
       "<style scoped>\n",
       "    .dataframe tbody tr th:only-of-type {\n",
       "        vertical-align: middle;\n",
       "    }\n",
       "\n",
       "    .dataframe tbody tr th {\n",
       "        vertical-align: top;\n",
       "    }\n",
       "\n",
       "    .dataframe thead th {\n",
       "        text-align: right;\n",
       "    }\n",
       "</style>\n",
       "<table border=\"1\" class=\"dataframe\">\n",
       "  <thead>\n",
       "    <tr style=\"text-align: right;\">\n",
       "      <th></th>\n",
       "      <th>JOB ID</th>\n",
       "      <th>TITLE</th>\n",
       "      <th>DEPARTMENT</th>\n",
       "      <th>SALARY RANGE</th>\n",
       "      <th>COMPANY PROFILE</th>\n",
       "      <th>DESCRIPTION</th>\n",
       "      <th>REQUIREMENTS</th>\n",
       "      <th>BENEFITS</th>\n",
       "      <th>TELECOMMUTING</th>\n",
       "      <th>HAS COMPANY LOGO</th>\n",
       "      <th>HAS QUESTIONS</th>\n",
       "      <th>EMPLOYMENT TYPE</th>\n",
       "      <th>REQUIRED EXPERIENCE</th>\n",
       "      <th>REQUIRED EDUCATION</th>\n",
       "      <th>INDUSTRY</th>\n",
       "      <th>FUNCTION</th>\n",
       "      <th>FRAUDULENT</th>\n",
       "      <th>CITY</th>\n",
       "      <th>STATE</th>\n",
       "      <th>COUNTRY</th>\n",
       "    </tr>\n",
       "  </thead>\n",
       "  <tbody>\n",
       "    <tr>\n",
       "      <td>0</td>\n",
       "      <td>1</td>\n",
       "      <td>Marketing Intern</td>\n",
       "      <td>Marketing</td>\n",
       "      <td>NaN</td>\n",
       "      <td>We're Food52, and we've created a groundbreaki...</td>\n",
       "      <td>Food52, a fast-growing, James Beard Award-winn...</td>\n",
       "      <td>Experience with content management systems a m...</td>\n",
       "      <td>NaN</td>\n",
       "      <td>0</td>\n",
       "      <td>1</td>\n",
       "      <td>0</td>\n",
       "      <td>Other</td>\n",
       "      <td>Internship</td>\n",
       "      <td>NaN</td>\n",
       "      <td>NaN</td>\n",
       "      <td>Marketing</td>\n",
       "      <td>0</td>\n",
       "      <td>New York</td>\n",
       "      <td>NY,</td>\n",
       "      <td>US,</td>\n",
       "    </tr>\n",
       "    <tr>\n",
       "      <td>1</td>\n",
       "      <td>2</td>\n",
       "      <td>Customer Service - Cloud Video Production</td>\n",
       "      <td>Success</td>\n",
       "      <td>NaN</td>\n",
       "      <td>90 Seconds, the worlds Cloud Video Production ...</td>\n",
       "      <td>Organised - Focused - Vibrant - Awesome!Do you...</td>\n",
       "      <td>What we expect from you:Your key responsibilit...</td>\n",
       "      <td>What you will get from usThrough being part of...</td>\n",
       "      <td>0</td>\n",
       "      <td>1</td>\n",
       "      <td>0</td>\n",
       "      <td>Full-time</td>\n",
       "      <td>Not Applicable</td>\n",
       "      <td>NaN</td>\n",
       "      <td>Marketing and Advertising</td>\n",
       "      <td>Customer Service</td>\n",
       "      <td>0</td>\n",
       "      <td>Auckland</td>\n",
       "      <td>,</td>\n",
       "      <td>NZ,</td>\n",
       "    </tr>\n",
       "    <tr>\n",
       "      <td>2</td>\n",
       "      <td>3</td>\n",
       "      <td>Commissioning Machinery Assistant (CMA)</td>\n",
       "      <td>NaN</td>\n",
       "      <td>NaN</td>\n",
       "      <td>Valor Services provides Workforce Solutions th...</td>\n",
       "      <td>Our client, located in Houston, is actively se...</td>\n",
       "      <td>Implement pre-commissioning and commissioning ...</td>\n",
       "      <td>NaN</td>\n",
       "      <td>0</td>\n",
       "      <td>1</td>\n",
       "      <td>0</td>\n",
       "      <td>NaN</td>\n",
       "      <td>NaN</td>\n",
       "      <td>NaN</td>\n",
       "      <td>NaN</td>\n",
       "      <td>NaN</td>\n",
       "      <td>0</td>\n",
       "      <td>Wever</td>\n",
       "      <td>IA,</td>\n",
       "      <td>US,</td>\n",
       "    </tr>\n",
       "    <tr>\n",
       "      <td>3</td>\n",
       "      <td>4</td>\n",
       "      <td>Account Executive - Washington DC</td>\n",
       "      <td>Sales</td>\n",
       "      <td>NaN</td>\n",
       "      <td>Our passion for improving quality of life thro...</td>\n",
       "      <td>THE COMPANY: ESRI – Environmental Systems Rese...</td>\n",
       "      <td>EDUCATION: Bachelor’s or Master’s in GIS, busi...</td>\n",
       "      <td>Our culture is anything but corporate—we have ...</td>\n",
       "      <td>0</td>\n",
       "      <td>1</td>\n",
       "      <td>0</td>\n",
       "      <td>Full-time</td>\n",
       "      <td>Mid-Senior level</td>\n",
       "      <td>Bachelor's Degree</td>\n",
       "      <td>Computer Software</td>\n",
       "      <td>Sales</td>\n",
       "      <td>0</td>\n",
       "      <td>Washington</td>\n",
       "      <td>DC,</td>\n",
       "      <td>US,</td>\n",
       "    </tr>\n",
       "    <tr>\n",
       "      <td>4</td>\n",
       "      <td>5</td>\n",
       "      <td>Bill Review Manager</td>\n",
       "      <td>NaN</td>\n",
       "      <td>NaN</td>\n",
       "      <td>SpotSource Solutions LLC is a Global Human Cap...</td>\n",
       "      <td>JOB TITLE: Itemization Review ManagerLOCATION:...</td>\n",
       "      <td>QUALIFICATIONS:RN license in the State of Texa...</td>\n",
       "      <td>Full Benefits Offered</td>\n",
       "      <td>0</td>\n",
       "      <td>1</td>\n",
       "      <td>1</td>\n",
       "      <td>Full-time</td>\n",
       "      <td>Mid-Senior level</td>\n",
       "      <td>Bachelor's Degree</td>\n",
       "      <td>Hospital &amp; Health Care</td>\n",
       "      <td>Health Care Provider</td>\n",
       "      <td>0</td>\n",
       "      <td>Fort Worth</td>\n",
       "      <td>FL,</td>\n",
       "      <td>US,</td>\n",
       "    </tr>\n",
       "    <tr>\n",
       "      <td>...</td>\n",
       "      <td>...</td>\n",
       "      <td>...</td>\n",
       "      <td>...</td>\n",
       "      <td>...</td>\n",
       "      <td>...</td>\n",
       "      <td>...</td>\n",
       "      <td>...</td>\n",
       "      <td>...</td>\n",
       "      <td>...</td>\n",
       "      <td>...</td>\n",
       "      <td>...</td>\n",
       "      <td>...</td>\n",
       "      <td>...</td>\n",
       "      <td>...</td>\n",
       "      <td>...</td>\n",
       "      <td>...</td>\n",
       "      <td>...</td>\n",
       "      <td>...</td>\n",
       "      <td>...</td>\n",
       "      <td>...</td>\n",
       "    </tr>\n",
       "    <tr>\n",
       "      <td>17875</td>\n",
       "      <td>17876</td>\n",
       "      <td>Account Director - Distribution</td>\n",
       "      <td>Sales</td>\n",
       "      <td>NaN</td>\n",
       "      <td>Vend is looking for some awesome new talent to...</td>\n",
       "      <td>Just in case this is the first time you’ve vis...</td>\n",
       "      <td>To ace this role you:Will eat comprehensive St...</td>\n",
       "      <td>What can you expect from us?We have an open cu...</td>\n",
       "      <td>0</td>\n",
       "      <td>1</td>\n",
       "      <td>1</td>\n",
       "      <td>Full-time</td>\n",
       "      <td>Mid-Senior level</td>\n",
       "      <td>NaN</td>\n",
       "      <td>Computer Software</td>\n",
       "      <td>Sales</td>\n",
       "      <td>0</td>\n",
       "      <td>Toronto</td>\n",
       "      <td>ON,</td>\n",
       "      <td>CA,</td>\n",
       "    </tr>\n",
       "    <tr>\n",
       "      <td>17876</td>\n",
       "      <td>17877</td>\n",
       "      <td>Payroll Accountant</td>\n",
       "      <td>Accounting</td>\n",
       "      <td>NaN</td>\n",
       "      <td>WebLinc is the e-commerce platform and service...</td>\n",
       "      <td>The Payroll Accountant will focus primarily on...</td>\n",
       "      <td>- B.A. or B.S. in Accounting- Desire to have f...</td>\n",
       "      <td>Health &amp;amp; WellnessMedical planPrescription ...</td>\n",
       "      <td>0</td>\n",
       "      <td>1</td>\n",
       "      <td>1</td>\n",
       "      <td>Full-time</td>\n",
       "      <td>Mid-Senior level</td>\n",
       "      <td>Bachelor's Degree</td>\n",
       "      <td>Internet</td>\n",
       "      <td>Accounting/Auditing</td>\n",
       "      <td>0</td>\n",
       "      <td>Philadelphia</td>\n",
       "      <td>PA,</td>\n",
       "      <td>US,</td>\n",
       "    </tr>\n",
       "    <tr>\n",
       "      <td>17877</td>\n",
       "      <td>17878</td>\n",
       "      <td>Project Cost Control Staff Engineer - Cost Con...</td>\n",
       "      <td>NaN</td>\n",
       "      <td>NaN</td>\n",
       "      <td>We Provide Full Time Permanent Positions for m...</td>\n",
       "      <td>Experienced Project Cost Control Staff Enginee...</td>\n",
       "      <td>At least 12 years professional experience.Abil...</td>\n",
       "      <td>NaN</td>\n",
       "      <td>0</td>\n",
       "      <td>0</td>\n",
       "      <td>0</td>\n",
       "      <td>Full-time</td>\n",
       "      <td>NaN</td>\n",
       "      <td>NaN</td>\n",
       "      <td>NaN</td>\n",
       "      <td>NaN</td>\n",
       "      <td>0</td>\n",
       "      <td>Houston</td>\n",
       "      <td>TX,</td>\n",
       "      <td>US,</td>\n",
       "    </tr>\n",
       "    <tr>\n",
       "      <td>17878</td>\n",
       "      <td>17879</td>\n",
       "      <td>Graphic Designer</td>\n",
       "      <td>NaN</td>\n",
       "      <td>NaN</td>\n",
       "      <td>NaN</td>\n",
       "      <td>Nemsia Studios is looking for an experienced v...</td>\n",
       "      <td>1. Must be fluent in the latest versions of Co...</td>\n",
       "      <td>Competitive salary (compensation will be based...</td>\n",
       "      <td>0</td>\n",
       "      <td>0</td>\n",
       "      <td>1</td>\n",
       "      <td>Contract</td>\n",
       "      <td>Not Applicable</td>\n",
       "      <td>Professional</td>\n",
       "      <td>Graphic Design</td>\n",
       "      <td>Design</td>\n",
       "      <td>0</td>\n",
       "      <td>Lagos</td>\n",
       "      <td>LA,</td>\n",
       "      <td>NG,</td>\n",
       "    </tr>\n",
       "    <tr>\n",
       "      <td>17879</td>\n",
       "      <td>17880</td>\n",
       "      <td>Web Application Developers</td>\n",
       "      <td>Engineering</td>\n",
       "      <td>NaN</td>\n",
       "      <td>Vend is looking for some awesome new talent to...</td>\n",
       "      <td>Who are we?Vend is an award winning web based ...</td>\n",
       "      <td>We want to hear from you if:You have an in-dep...</td>\n",
       "      <td>NaN</td>\n",
       "      <td>0</td>\n",
       "      <td>1</td>\n",
       "      <td>1</td>\n",
       "      <td>Full-time</td>\n",
       "      <td>Mid-Senior level</td>\n",
       "      <td>NaN</td>\n",
       "      <td>Computer Software</td>\n",
       "      <td>Engineering</td>\n",
       "      <td>0</td>\n",
       "      <td>Wellington</td>\n",
       "      <td>N,</td>\n",
       "      <td>NZ,</td>\n",
       "    </tr>\n",
       "  </tbody>\n",
       "</table>\n",
       "<p>17534 rows × 20 columns</p>\n",
       "</div>"
      ],
      "text/plain": [
       "       JOB ID                                              TITLE   DEPARTMENT  \\\n",
       "0           1                                   Marketing Intern    Marketing   \n",
       "1           2          Customer Service - Cloud Video Production      Success   \n",
       "2           3            Commissioning Machinery Assistant (CMA)          NaN   \n",
       "3           4                  Account Executive - Washington DC        Sales   \n",
       "4           5                                Bill Review Manager          NaN   \n",
       "...       ...                                                ...          ...   \n",
       "17875   17876                   Account Director - Distribution         Sales   \n",
       "17876   17877                                 Payroll Accountant   Accounting   \n",
       "17877   17878  Project Cost Control Staff Engineer - Cost Con...          NaN   \n",
       "17878   17879                                   Graphic Designer          NaN   \n",
       "17879   17880                         Web Application Developers  Engineering   \n",
       "\n",
       "      SALARY RANGE                                    COMPANY PROFILE  \\\n",
       "0              NaN  We're Food52, and we've created a groundbreaki...   \n",
       "1              NaN  90 Seconds, the worlds Cloud Video Production ...   \n",
       "2              NaN  Valor Services provides Workforce Solutions th...   \n",
       "3              NaN  Our passion for improving quality of life thro...   \n",
       "4              NaN  SpotSource Solutions LLC is a Global Human Cap...   \n",
       "...            ...                                                ...   \n",
       "17875          NaN  Vend is looking for some awesome new talent to...   \n",
       "17876          NaN  WebLinc is the e-commerce platform and service...   \n",
       "17877          NaN  We Provide Full Time Permanent Positions for m...   \n",
       "17878          NaN                                                NaN   \n",
       "17879          NaN  Vend is looking for some awesome new talent to...   \n",
       "\n",
       "                                             DESCRIPTION  \\\n",
       "0      Food52, a fast-growing, James Beard Award-winn...   \n",
       "1      Organised - Focused - Vibrant - Awesome!Do you...   \n",
       "2      Our client, located in Houston, is actively se...   \n",
       "3      THE COMPANY: ESRI – Environmental Systems Rese...   \n",
       "4      JOB TITLE: Itemization Review ManagerLOCATION:...   \n",
       "...                                                  ...   \n",
       "17875  Just in case this is the first time you’ve vis...   \n",
       "17876  The Payroll Accountant will focus primarily on...   \n",
       "17877  Experienced Project Cost Control Staff Enginee...   \n",
       "17878  Nemsia Studios is looking for an experienced v...   \n",
       "17879  Who are we?Vend is an award winning web based ...   \n",
       "\n",
       "                                            REQUIREMENTS  \\\n",
       "0      Experience with content management systems a m...   \n",
       "1      What we expect from you:Your key responsibilit...   \n",
       "2      Implement pre-commissioning and commissioning ...   \n",
       "3      EDUCATION: Bachelor’s or Master’s in GIS, busi...   \n",
       "4      QUALIFICATIONS:RN license in the State of Texa...   \n",
       "...                                                  ...   \n",
       "17875  To ace this role you:Will eat comprehensive St...   \n",
       "17876  - B.A. or B.S. in Accounting- Desire to have f...   \n",
       "17877  At least 12 years professional experience.Abil...   \n",
       "17878  1. Must be fluent in the latest versions of Co...   \n",
       "17879  We want to hear from you if:You have an in-dep...   \n",
       "\n",
       "                                                BENEFITS  TELECOMMUTING  \\\n",
       "0                                                    NaN              0   \n",
       "1      What you will get from usThrough being part of...              0   \n",
       "2                                                    NaN              0   \n",
       "3      Our culture is anything but corporate—we have ...              0   \n",
       "4                                  Full Benefits Offered              0   \n",
       "...                                                  ...            ...   \n",
       "17875  What can you expect from us?We have an open cu...              0   \n",
       "17876  Health &amp; WellnessMedical planPrescription ...              0   \n",
       "17877                                                NaN              0   \n",
       "17878  Competitive salary (compensation will be based...              0   \n",
       "17879                                                NaN              0   \n",
       "\n",
       "       HAS COMPANY LOGO  HAS QUESTIONS EMPLOYMENT TYPE REQUIRED EXPERIENCE  \\\n",
       "0                     1              0           Other          Internship   \n",
       "1                     1              0       Full-time      Not Applicable   \n",
       "2                     1              0             NaN                 NaN   \n",
       "3                     1              0       Full-time    Mid-Senior level   \n",
       "4                     1              1       Full-time    Mid-Senior level   \n",
       "...                 ...            ...             ...                 ...   \n",
       "17875                 1              1       Full-time    Mid-Senior level   \n",
       "17876                 1              1       Full-time    Mid-Senior level   \n",
       "17877                 0              0       Full-time                 NaN   \n",
       "17878                 0              1        Contract      Not Applicable   \n",
       "17879                 1              1       Full-time    Mid-Senior level   \n",
       "\n",
       "      REQUIRED EDUCATION                   INDUSTRY              FUNCTION  \\\n",
       "0                    NaN                        NaN             Marketing   \n",
       "1                    NaN  Marketing and Advertising      Customer Service   \n",
       "2                    NaN                        NaN                   NaN   \n",
       "3      Bachelor's Degree          Computer Software                 Sales   \n",
       "4      Bachelor's Degree     Hospital & Health Care  Health Care Provider   \n",
       "...                  ...                        ...                   ...   \n",
       "17875                NaN          Computer Software                 Sales   \n",
       "17876  Bachelor's Degree                   Internet   Accounting/Auditing   \n",
       "17877                NaN                        NaN                   NaN   \n",
       "17878       Professional             Graphic Design                Design   \n",
       "17879                NaN          Computer Software           Engineering   \n",
       "\n",
       "       FRAUDULENT          CITY STATE COUNTRY  \n",
       "0               0      New York   NY,     US,  \n",
       "1               0      Auckland     ,     NZ,  \n",
       "2               0         Wever   IA,     US,  \n",
       "3               0    Washington   DC,     US,  \n",
       "4               0    Fort Worth   FL,     US,  \n",
       "...           ...           ...   ...     ...  \n",
       "17875           0       Toronto   ON,     CA,  \n",
       "17876           0  Philadelphia   PA,     US,  \n",
       "17877           0       Houston   TX,     US,  \n",
       "17878           0         Lagos   LA,     NG,  \n",
       "17879           0    Wellington    N,     NZ,  \n",
       "\n",
       "[17534 rows x 20 columns]"
      ]
     },
     "execution_count": 48,
     "metadata": {},
     "output_type": "execute_result"
    }
   ],
   "source": [
    "# remove underscores from columns\n",
    "job_postings.columns = job_postings.columns.str.replace('_', ' ')\n",
    "# uppercase all columns titles\n",
    "job_postings.columns = job_postings.columns.str.upper()\n",
    "job_postings"
   ]
  },
  {
   "cell_type": "code",
   "execution_count": 49,
   "metadata": {},
   "outputs": [
    {
     "data": {
      "text/html": [
       "<div>\n",
       "<style scoped>\n",
       "    .dataframe tbody tr th:only-of-type {\n",
       "        vertical-align: middle;\n",
       "    }\n",
       "\n",
       "    .dataframe tbody tr th {\n",
       "        vertical-align: top;\n",
       "    }\n",
       "\n",
       "    .dataframe thead th {\n",
       "        text-align: right;\n",
       "    }\n",
       "</style>\n",
       "<table border=\"1\" class=\"dataframe\">\n",
       "  <thead>\n",
       "    <tr style=\"text-align: right;\">\n",
       "      <th></th>\n",
       "      <th>JOB ID</th>\n",
       "      <th>TITLE</th>\n",
       "      <th>DEPARTMENT</th>\n",
       "      <th>SALARY RANGE</th>\n",
       "      <th>COMPANY PROFILE</th>\n",
       "      <th>DESCRIPTION</th>\n",
       "      <th>REQUIREMENTS</th>\n",
       "      <th>BENEFITS</th>\n",
       "      <th>TELECOMMUTING</th>\n",
       "      <th>HAS COMPANY LOGO</th>\n",
       "      <th>HAS QUESTIONS</th>\n",
       "      <th>EMPLOYMENT TYPE</th>\n",
       "      <th>REQUIRED EXPERIENCE</th>\n",
       "      <th>REQUIRED EDUCATION</th>\n",
       "      <th>INDUSTRY</th>\n",
       "      <th>FUNCTION</th>\n",
       "      <th>FRAUDULENT</th>\n",
       "      <th>CITY</th>\n",
       "      <th>STATE</th>\n",
       "      <th>COUNTRY</th>\n",
       "    </tr>\n",
       "  </thead>\n",
       "  <tbody>\n",
       "    <tr>\n",
       "      <td>0</td>\n",
       "      <td>1</td>\n",
       "      <td>Marketing Intern</td>\n",
       "      <td>Marketing</td>\n",
       "      <td>NaN</td>\n",
       "      <td>We're Food52, and we've created a groundbreaki...</td>\n",
       "      <td>Food52, a fast-growing, James Beard Award-winn...</td>\n",
       "      <td>Experience with content management systems a m...</td>\n",
       "      <td>NaN</td>\n",
       "      <td>0</td>\n",
       "      <td>1</td>\n",
       "      <td>0</td>\n",
       "      <td>Other</td>\n",
       "      <td>Internship</td>\n",
       "      <td>NaN</td>\n",
       "      <td>NaN</td>\n",
       "      <td>Marketing</td>\n",
       "      <td>0</td>\n",
       "      <td>New York</td>\n",
       "      <td>NY</td>\n",
       "      <td>US</td>\n",
       "    </tr>\n",
       "    <tr>\n",
       "      <td>1</td>\n",
       "      <td>2</td>\n",
       "      <td>Customer Service - Cloud Video Production</td>\n",
       "      <td>Success</td>\n",
       "      <td>NaN</td>\n",
       "      <td>90 Seconds, the worlds Cloud Video Production ...</td>\n",
       "      <td>Organised - Focused - Vibrant - Awesome!Do you...</td>\n",
       "      <td>What we expect from you:Your key responsibilit...</td>\n",
       "      <td>What you will get from usThrough being part of...</td>\n",
       "      <td>0</td>\n",
       "      <td>1</td>\n",
       "      <td>0</td>\n",
       "      <td>Full-time</td>\n",
       "      <td>Not Applicable</td>\n",
       "      <td>NaN</td>\n",
       "      <td>Marketing and Advertising</td>\n",
       "      <td>Customer Service</td>\n",
       "      <td>0</td>\n",
       "      <td>Auckland</td>\n",
       "      <td></td>\n",
       "      <td>NZ</td>\n",
       "    </tr>\n",
       "    <tr>\n",
       "      <td>2</td>\n",
       "      <td>3</td>\n",
       "      <td>Commissioning Machinery Assistant (CMA)</td>\n",
       "      <td>NaN</td>\n",
       "      <td>NaN</td>\n",
       "      <td>Valor Services provides Workforce Solutions th...</td>\n",
       "      <td>Our client, located in Houston, is actively se...</td>\n",
       "      <td>Implement pre-commissioning and commissioning ...</td>\n",
       "      <td>NaN</td>\n",
       "      <td>0</td>\n",
       "      <td>1</td>\n",
       "      <td>0</td>\n",
       "      <td>NaN</td>\n",
       "      <td>NaN</td>\n",
       "      <td>NaN</td>\n",
       "      <td>NaN</td>\n",
       "      <td>NaN</td>\n",
       "      <td>0</td>\n",
       "      <td>Wever</td>\n",
       "      <td>IA</td>\n",
       "      <td>US</td>\n",
       "    </tr>\n",
       "    <tr>\n",
       "      <td>3</td>\n",
       "      <td>4</td>\n",
       "      <td>Account Executive - Washington DC</td>\n",
       "      <td>Sales</td>\n",
       "      <td>NaN</td>\n",
       "      <td>Our passion for improving quality of life thro...</td>\n",
       "      <td>THE COMPANY: ESRI – Environmental Systems Rese...</td>\n",
       "      <td>EDUCATION: Bachelor’s or Master’s in GIS, busi...</td>\n",
       "      <td>Our culture is anything but corporate—we have ...</td>\n",
       "      <td>0</td>\n",
       "      <td>1</td>\n",
       "      <td>0</td>\n",
       "      <td>Full-time</td>\n",
       "      <td>Mid-Senior level</td>\n",
       "      <td>Bachelor's Degree</td>\n",
       "      <td>Computer Software</td>\n",
       "      <td>Sales</td>\n",
       "      <td>0</td>\n",
       "      <td>Washington</td>\n",
       "      <td>DC</td>\n",
       "      <td>US</td>\n",
       "    </tr>\n",
       "    <tr>\n",
       "      <td>4</td>\n",
       "      <td>5</td>\n",
       "      <td>Bill Review Manager</td>\n",
       "      <td>NaN</td>\n",
       "      <td>NaN</td>\n",
       "      <td>SpotSource Solutions LLC is a Global Human Cap...</td>\n",
       "      <td>JOB TITLE: Itemization Review ManagerLOCATION:...</td>\n",
       "      <td>QUALIFICATIONS:RN license in the State of Texa...</td>\n",
       "      <td>Full Benefits Offered</td>\n",
       "      <td>0</td>\n",
       "      <td>1</td>\n",
       "      <td>1</td>\n",
       "      <td>Full-time</td>\n",
       "      <td>Mid-Senior level</td>\n",
       "      <td>Bachelor's Degree</td>\n",
       "      <td>Hospital &amp; Health Care</td>\n",
       "      <td>Health Care Provider</td>\n",
       "      <td>0</td>\n",
       "      <td>Fort Worth</td>\n",
       "      <td>FL</td>\n",
       "      <td>US</td>\n",
       "    </tr>\n",
       "    <tr>\n",
       "      <td>...</td>\n",
       "      <td>...</td>\n",
       "      <td>...</td>\n",
       "      <td>...</td>\n",
       "      <td>...</td>\n",
       "      <td>...</td>\n",
       "      <td>...</td>\n",
       "      <td>...</td>\n",
       "      <td>...</td>\n",
       "      <td>...</td>\n",
       "      <td>...</td>\n",
       "      <td>...</td>\n",
       "      <td>...</td>\n",
       "      <td>...</td>\n",
       "      <td>...</td>\n",
       "      <td>...</td>\n",
       "      <td>...</td>\n",
       "      <td>...</td>\n",
       "      <td>...</td>\n",
       "      <td>...</td>\n",
       "      <td>...</td>\n",
       "    </tr>\n",
       "    <tr>\n",
       "      <td>17875</td>\n",
       "      <td>17876</td>\n",
       "      <td>Account Director - Distribution</td>\n",
       "      <td>Sales</td>\n",
       "      <td>NaN</td>\n",
       "      <td>Vend is looking for some awesome new talent to...</td>\n",
       "      <td>Just in case this is the first time you’ve vis...</td>\n",
       "      <td>To ace this role you:Will eat comprehensive St...</td>\n",
       "      <td>What can you expect from us?We have an open cu...</td>\n",
       "      <td>0</td>\n",
       "      <td>1</td>\n",
       "      <td>1</td>\n",
       "      <td>Full-time</td>\n",
       "      <td>Mid-Senior level</td>\n",
       "      <td>NaN</td>\n",
       "      <td>Computer Software</td>\n",
       "      <td>Sales</td>\n",
       "      <td>0</td>\n",
       "      <td>Toronto</td>\n",
       "      <td>ON</td>\n",
       "      <td>CA</td>\n",
       "    </tr>\n",
       "    <tr>\n",
       "      <td>17876</td>\n",
       "      <td>17877</td>\n",
       "      <td>Payroll Accountant</td>\n",
       "      <td>Accounting</td>\n",
       "      <td>NaN</td>\n",
       "      <td>WebLinc is the e-commerce platform and service...</td>\n",
       "      <td>The Payroll Accountant will focus primarily on...</td>\n",
       "      <td>- B.A. or B.S. in Accounting- Desire to have f...</td>\n",
       "      <td>Health &amp;amp; WellnessMedical planPrescription ...</td>\n",
       "      <td>0</td>\n",
       "      <td>1</td>\n",
       "      <td>1</td>\n",
       "      <td>Full-time</td>\n",
       "      <td>Mid-Senior level</td>\n",
       "      <td>Bachelor's Degree</td>\n",
       "      <td>Internet</td>\n",
       "      <td>Accounting/Auditing</td>\n",
       "      <td>0</td>\n",
       "      <td>Philadelphia</td>\n",
       "      <td>PA</td>\n",
       "      <td>US</td>\n",
       "    </tr>\n",
       "    <tr>\n",
       "      <td>17877</td>\n",
       "      <td>17878</td>\n",
       "      <td>Project Cost Control Staff Engineer - Cost Con...</td>\n",
       "      <td>NaN</td>\n",
       "      <td>NaN</td>\n",
       "      <td>We Provide Full Time Permanent Positions for m...</td>\n",
       "      <td>Experienced Project Cost Control Staff Enginee...</td>\n",
       "      <td>At least 12 years professional experience.Abil...</td>\n",
       "      <td>NaN</td>\n",
       "      <td>0</td>\n",
       "      <td>0</td>\n",
       "      <td>0</td>\n",
       "      <td>Full-time</td>\n",
       "      <td>NaN</td>\n",
       "      <td>NaN</td>\n",
       "      <td>NaN</td>\n",
       "      <td>NaN</td>\n",
       "      <td>0</td>\n",
       "      <td>Houston</td>\n",
       "      <td>TX</td>\n",
       "      <td>US</td>\n",
       "    </tr>\n",
       "    <tr>\n",
       "      <td>17878</td>\n",
       "      <td>17879</td>\n",
       "      <td>Graphic Designer</td>\n",
       "      <td>NaN</td>\n",
       "      <td>NaN</td>\n",
       "      <td>NaN</td>\n",
       "      <td>Nemsia Studios is looking for an experienced v...</td>\n",
       "      <td>1. Must be fluent in the latest versions of Co...</td>\n",
       "      <td>Competitive salary (compensation will be based...</td>\n",
       "      <td>0</td>\n",
       "      <td>0</td>\n",
       "      <td>1</td>\n",
       "      <td>Contract</td>\n",
       "      <td>Not Applicable</td>\n",
       "      <td>Professional</td>\n",
       "      <td>Graphic Design</td>\n",
       "      <td>Design</td>\n",
       "      <td>0</td>\n",
       "      <td>Lagos</td>\n",
       "      <td>LA</td>\n",
       "      <td>NG</td>\n",
       "    </tr>\n",
       "    <tr>\n",
       "      <td>17879</td>\n",
       "      <td>17880</td>\n",
       "      <td>Web Application Developers</td>\n",
       "      <td>Engineering</td>\n",
       "      <td>NaN</td>\n",
       "      <td>Vend is looking for some awesome new talent to...</td>\n",
       "      <td>Who are we?Vend is an award winning web based ...</td>\n",
       "      <td>We want to hear from you if:You have an in-dep...</td>\n",
       "      <td>NaN</td>\n",
       "      <td>0</td>\n",
       "      <td>1</td>\n",
       "      <td>1</td>\n",
       "      <td>Full-time</td>\n",
       "      <td>Mid-Senior level</td>\n",
       "      <td>NaN</td>\n",
       "      <td>Computer Software</td>\n",
       "      <td>Engineering</td>\n",
       "      <td>0</td>\n",
       "      <td>Wellington</td>\n",
       "      <td>N</td>\n",
       "      <td>NZ</td>\n",
       "    </tr>\n",
       "  </tbody>\n",
       "</table>\n",
       "<p>17534 rows × 20 columns</p>\n",
       "</div>"
      ],
      "text/plain": [
       "       JOB ID                                              TITLE   DEPARTMENT  \\\n",
       "0           1                                   Marketing Intern    Marketing   \n",
       "1           2          Customer Service - Cloud Video Production      Success   \n",
       "2           3            Commissioning Machinery Assistant (CMA)          NaN   \n",
       "3           4                  Account Executive - Washington DC        Sales   \n",
       "4           5                                Bill Review Manager          NaN   \n",
       "...       ...                                                ...          ...   \n",
       "17875   17876                   Account Director - Distribution         Sales   \n",
       "17876   17877                                 Payroll Accountant   Accounting   \n",
       "17877   17878  Project Cost Control Staff Engineer - Cost Con...          NaN   \n",
       "17878   17879                                   Graphic Designer          NaN   \n",
       "17879   17880                         Web Application Developers  Engineering   \n",
       "\n",
       "      SALARY RANGE                                    COMPANY PROFILE  \\\n",
       "0              NaN  We're Food52, and we've created a groundbreaki...   \n",
       "1              NaN  90 Seconds, the worlds Cloud Video Production ...   \n",
       "2              NaN  Valor Services provides Workforce Solutions th...   \n",
       "3              NaN  Our passion for improving quality of life thro...   \n",
       "4              NaN  SpotSource Solutions LLC is a Global Human Cap...   \n",
       "...            ...                                                ...   \n",
       "17875          NaN  Vend is looking for some awesome new talent to...   \n",
       "17876          NaN  WebLinc is the e-commerce platform and service...   \n",
       "17877          NaN  We Provide Full Time Permanent Positions for m...   \n",
       "17878          NaN                                                NaN   \n",
       "17879          NaN  Vend is looking for some awesome new talent to...   \n",
       "\n",
       "                                             DESCRIPTION  \\\n",
       "0      Food52, a fast-growing, James Beard Award-winn...   \n",
       "1      Organised - Focused - Vibrant - Awesome!Do you...   \n",
       "2      Our client, located in Houston, is actively se...   \n",
       "3      THE COMPANY: ESRI – Environmental Systems Rese...   \n",
       "4      JOB TITLE: Itemization Review ManagerLOCATION:...   \n",
       "...                                                  ...   \n",
       "17875  Just in case this is the first time you’ve vis...   \n",
       "17876  The Payroll Accountant will focus primarily on...   \n",
       "17877  Experienced Project Cost Control Staff Enginee...   \n",
       "17878  Nemsia Studios is looking for an experienced v...   \n",
       "17879  Who are we?Vend is an award winning web based ...   \n",
       "\n",
       "                                            REQUIREMENTS  \\\n",
       "0      Experience with content management systems a m...   \n",
       "1      What we expect from you:Your key responsibilit...   \n",
       "2      Implement pre-commissioning and commissioning ...   \n",
       "3      EDUCATION: Bachelor’s or Master’s in GIS, busi...   \n",
       "4      QUALIFICATIONS:RN license in the State of Texa...   \n",
       "...                                                  ...   \n",
       "17875  To ace this role you:Will eat comprehensive St...   \n",
       "17876  - B.A. or B.S. in Accounting- Desire to have f...   \n",
       "17877  At least 12 years professional experience.Abil...   \n",
       "17878  1. Must be fluent in the latest versions of Co...   \n",
       "17879  We want to hear from you if:You have an in-dep...   \n",
       "\n",
       "                                                BENEFITS  TELECOMMUTING  \\\n",
       "0                                                    NaN              0   \n",
       "1      What you will get from usThrough being part of...              0   \n",
       "2                                                    NaN              0   \n",
       "3      Our culture is anything but corporate—we have ...              0   \n",
       "4                                  Full Benefits Offered              0   \n",
       "...                                                  ...            ...   \n",
       "17875  What can you expect from us?We have an open cu...              0   \n",
       "17876  Health &amp; WellnessMedical planPrescription ...              0   \n",
       "17877                                                NaN              0   \n",
       "17878  Competitive salary (compensation will be based...              0   \n",
       "17879                                                NaN              0   \n",
       "\n",
       "       HAS COMPANY LOGO  HAS QUESTIONS EMPLOYMENT TYPE REQUIRED EXPERIENCE  \\\n",
       "0                     1              0           Other          Internship   \n",
       "1                     1              0       Full-time      Not Applicable   \n",
       "2                     1              0             NaN                 NaN   \n",
       "3                     1              0       Full-time    Mid-Senior level   \n",
       "4                     1              1       Full-time    Mid-Senior level   \n",
       "...                 ...            ...             ...                 ...   \n",
       "17875                 1              1       Full-time    Mid-Senior level   \n",
       "17876                 1              1       Full-time    Mid-Senior level   \n",
       "17877                 0              0       Full-time                 NaN   \n",
       "17878                 0              1        Contract      Not Applicable   \n",
       "17879                 1              1       Full-time    Mid-Senior level   \n",
       "\n",
       "      REQUIRED EDUCATION                   INDUSTRY              FUNCTION  \\\n",
       "0                    NaN                        NaN             Marketing   \n",
       "1                    NaN  Marketing and Advertising      Customer Service   \n",
       "2                    NaN                        NaN                   NaN   \n",
       "3      Bachelor's Degree          Computer Software                 Sales   \n",
       "4      Bachelor's Degree     Hospital & Health Care  Health Care Provider   \n",
       "...                  ...                        ...                   ...   \n",
       "17875                NaN          Computer Software                 Sales   \n",
       "17876  Bachelor's Degree                   Internet   Accounting/Auditing   \n",
       "17877                NaN                        NaN                   NaN   \n",
       "17878       Professional             Graphic Design                Design   \n",
       "17879                NaN          Computer Software           Engineering   \n",
       "\n",
       "       FRAUDULENT          CITY STATE COUNTRY  \n",
       "0               0      New York    NY      US  \n",
       "1               0      Auckland            NZ  \n",
       "2               0         Wever    IA      US  \n",
       "3               0    Washington    DC      US  \n",
       "4               0    Fort Worth    FL      US  \n",
       "...           ...           ...   ...     ...  \n",
       "17875           0       Toronto    ON      CA  \n",
       "17876           0  Philadelphia    PA      US  \n",
       "17877           0       Houston    TX      US  \n",
       "17878           0         Lagos    LA      NG  \n",
       "17879           0    Wellington     N      NZ  \n",
       "\n",
       "[17534 rows x 20 columns]"
      ]
     },
     "execution_count": 49,
     "metadata": {},
     "output_type": "execute_result"
    }
   ],
   "source": [
    "# remove , in the Country and State columns\n",
    "job_postings['COUNTRY'] = job_postings['COUNTRY'].str.replace(',', '').astype(str)\n",
    "job_postings['STATE'] = job_postings['STATE'].str.replace(',', '').astype(str)\n",
    "job_postings"
   ]
  },
  {
   "cell_type": "code",
   "execution_count": 50,
   "metadata": {},
   "outputs": [
    {
     "data": {
      "text/plain": [
       "JOB ID                     0\n",
       "TITLE                      0\n",
       "DEPARTMENT             11252\n",
       "SALARY RANGE           14688\n",
       "COMPANY PROFILE         3246\n",
       "DESCRIPTION                1\n",
       "REQUIREMENTS            2519\n",
       "BENEFITS                6960\n",
       "TELECOMMUTING              0\n",
       "HAS COMPANY LOGO           0\n",
       "HAS QUESTIONS              0\n",
       "EMPLOYMENT TYPE         3257\n",
       "REQUIRED EXPERIENCE     6797\n",
       "REQUIRED EDUCATION      7821\n",
       "INDUSTRY                4655\n",
       "FUNCTION                6193\n",
       "FRAUDULENT                 0\n",
       "CITY                      94\n",
       "STATE                      0\n",
       "COUNTRY                    0\n",
       "dtype: int64"
      ]
     },
     "execution_count": 50,
     "metadata": {},
     "output_type": "execute_result"
    }
   ],
   "source": [
    "# counting all the nans in each column\n",
    "job_postings.isnull().sum(axis = 0)"
   ]
  },
  {
   "cell_type": "code",
   "execution_count": 51,
   "metadata": {},
   "outputs": [
    {
     "ename": "PermissionError",
     "evalue": "[Errno 13] Permission denied: 'job_postings_clean.csv'",
     "output_type": "error",
     "traceback": [
      "\u001b[1;31m---------------------------------------------------------------------------\u001b[0m",
      "\u001b[1;31mPermissionError\u001b[0m                           Traceback (most recent call last)",
      "\u001b[1;32m<ipython-input-51-dff28a4c16ff>\u001b[0m in \u001b[0;36m<module>\u001b[1;34m\u001b[0m\n\u001b[0;32m      1\u001b[0m \u001b[1;31m# save dataframe csv file with no index to folder jupyter notebook is working out of\u001b[0m\u001b[1;33m\u001b[0m\u001b[1;33m\u001b[0m\u001b[1;33m\u001b[0m\u001b[0m\n\u001b[1;32m----> 2\u001b[1;33m \u001b[0mjob_postings\u001b[0m\u001b[1;33m.\u001b[0m\u001b[0mto_csv\u001b[0m\u001b[1;33m(\u001b[0m\u001b[1;34m'job_postings_clean.csv'\u001b[0m\u001b[1;33m,\u001b[0m \u001b[0mindex\u001b[0m \u001b[1;33m=\u001b[0m \u001b[1;32mFalse\u001b[0m\u001b[1;33m)\u001b[0m\u001b[1;33m\u001b[0m\u001b[1;33m\u001b[0m\u001b[0m\n\u001b[0m",
      "\u001b[1;32m~\\Anaconda3\\lib\\site-packages\\pandas\\core\\generic.py\u001b[0m in \u001b[0;36mto_csv\u001b[1;34m(self, path_or_buf, sep, na_rep, float_format, columns, header, index, index_label, mode, encoding, compression, quoting, quotechar, line_terminator, chunksize, date_format, doublequote, escapechar, decimal)\u001b[0m\n\u001b[0;32m   3226\u001b[0m             \u001b[0mdecimal\u001b[0m\u001b[1;33m=\u001b[0m\u001b[0mdecimal\u001b[0m\u001b[1;33m,\u001b[0m\u001b[1;33m\u001b[0m\u001b[1;33m\u001b[0m\u001b[0m\n\u001b[0;32m   3227\u001b[0m         )\n\u001b[1;32m-> 3228\u001b[1;33m         \u001b[0mformatter\u001b[0m\u001b[1;33m.\u001b[0m\u001b[0msave\u001b[0m\u001b[1;33m(\u001b[0m\u001b[1;33m)\u001b[0m\u001b[1;33m\u001b[0m\u001b[1;33m\u001b[0m\u001b[0m\n\u001b[0m\u001b[0;32m   3229\u001b[0m \u001b[1;33m\u001b[0m\u001b[0m\n\u001b[0;32m   3230\u001b[0m         \u001b[1;32mif\u001b[0m \u001b[0mpath_or_buf\u001b[0m \u001b[1;32mis\u001b[0m \u001b[1;32mNone\u001b[0m\u001b[1;33m:\u001b[0m\u001b[1;33m\u001b[0m\u001b[1;33m\u001b[0m\u001b[0m\n",
      "\u001b[1;32m~\\Anaconda3\\lib\\site-packages\\pandas\\io\\formats\\csvs.py\u001b[0m in \u001b[0;36msave\u001b[1;34m(self)\u001b[0m\n\u001b[0;32m    181\u001b[0m                 \u001b[0mself\u001b[0m\u001b[1;33m.\u001b[0m\u001b[0mmode\u001b[0m\u001b[1;33m,\u001b[0m\u001b[1;33m\u001b[0m\u001b[1;33m\u001b[0m\u001b[0m\n\u001b[0;32m    182\u001b[0m                 \u001b[0mencoding\u001b[0m\u001b[1;33m=\u001b[0m\u001b[0mself\u001b[0m\u001b[1;33m.\u001b[0m\u001b[0mencoding\u001b[0m\u001b[1;33m,\u001b[0m\u001b[1;33m\u001b[0m\u001b[1;33m\u001b[0m\u001b[0m\n\u001b[1;32m--> 183\u001b[1;33m                 \u001b[0mcompression\u001b[0m\u001b[1;33m=\u001b[0m\u001b[0mself\u001b[0m\u001b[1;33m.\u001b[0m\u001b[0mcompression\u001b[0m\u001b[1;33m,\u001b[0m\u001b[1;33m\u001b[0m\u001b[1;33m\u001b[0m\u001b[0m\n\u001b[0m\u001b[0;32m    184\u001b[0m             )\n\u001b[0;32m    185\u001b[0m             \u001b[0mclose\u001b[0m \u001b[1;33m=\u001b[0m \u001b[1;32mTrue\u001b[0m\u001b[1;33m\u001b[0m\u001b[1;33m\u001b[0m\u001b[0m\n",
      "\u001b[1;32m~\\Anaconda3\\lib\\site-packages\\pandas\\io\\common.py\u001b[0m in \u001b[0;36m_get_handle\u001b[1;34m(path_or_buf, mode, encoding, compression, memory_map, is_text)\u001b[0m\n\u001b[0;32m    397\u001b[0m         \u001b[1;32mif\u001b[0m \u001b[0mencoding\u001b[0m\u001b[1;33m:\u001b[0m\u001b[1;33m\u001b[0m\u001b[1;33m\u001b[0m\u001b[0m\n\u001b[0;32m    398\u001b[0m             \u001b[1;31m# Encoding\u001b[0m\u001b[1;33m\u001b[0m\u001b[1;33m\u001b[0m\u001b[1;33m\u001b[0m\u001b[0m\n\u001b[1;32m--> 399\u001b[1;33m             \u001b[0mf\u001b[0m \u001b[1;33m=\u001b[0m \u001b[0mopen\u001b[0m\u001b[1;33m(\u001b[0m\u001b[0mpath_or_buf\u001b[0m\u001b[1;33m,\u001b[0m \u001b[0mmode\u001b[0m\u001b[1;33m,\u001b[0m \u001b[0mencoding\u001b[0m\u001b[1;33m=\u001b[0m\u001b[0mencoding\u001b[0m\u001b[1;33m,\u001b[0m \u001b[0mnewline\u001b[0m\u001b[1;33m=\u001b[0m\u001b[1;34m\"\"\u001b[0m\u001b[1;33m)\u001b[0m\u001b[1;33m\u001b[0m\u001b[1;33m\u001b[0m\u001b[0m\n\u001b[0m\u001b[0;32m    400\u001b[0m         \u001b[1;32melif\u001b[0m \u001b[0mis_text\u001b[0m\u001b[1;33m:\u001b[0m\u001b[1;33m\u001b[0m\u001b[1;33m\u001b[0m\u001b[0m\n\u001b[0;32m    401\u001b[0m             \u001b[1;31m# No explicit encoding\u001b[0m\u001b[1;33m\u001b[0m\u001b[1;33m\u001b[0m\u001b[1;33m\u001b[0m\u001b[0m\n",
      "\u001b[1;31mPermissionError\u001b[0m: [Errno 13] Permission denied: 'job_postings_clean.csv'"
     ]
    }
   ],
   "source": [
    "# save dataframe csv file with no index to folder jupyter notebook is working out of\n",
    "job_postings.to_csv('job_postings_clean.csv', index = False)"
   ]
  },
  {
   "cell_type": "code",
   "execution_count": 52,
   "metadata": {},
   "outputs": [],
   "source": [
    "#count = job_postings.groupby(['COUNTRY']).count()\n",
    "country_groupby = job_postings.groupby(\"COUNTRY\")\n",
    "country_list = country_groupby[\"COUNTRY\"].first()\n"
   ]
  },
  {
   "cell_type": "code",
   "execution_count": 53,
   "metadata": {},
   "outputs": [],
   "source": [
    "country_groups = country_groupby.groups\n",
    "\n",
    "country_counts = []\n",
    "\n",
    "for i in country_list:\n",
    "    country_counts.append(len(country_groups[i]))\n",
    "    "
   ]
  },
  {
   "cell_type": "code",
   "execution_count": 54,
   "metadata": {},
   "outputs": [],
   "source": [
    "country_job_df = pd.DataFrame({\"Country\": country_list, \"Job Count\": country_counts})"
   ]
  },
  {
   "cell_type": "code",
   "execution_count": 55,
   "metadata": {},
   "outputs": [
    {
     "data": {
      "text/html": [
       "<div>\n",
       "<style scoped>\n",
       "    .dataframe tbody tr th:only-of-type {\n",
       "        vertical-align: middle;\n",
       "    }\n",
       "\n",
       "    .dataframe tbody tr th {\n",
       "        vertical-align: top;\n",
       "    }\n",
       "\n",
       "    .dataframe thead th {\n",
       "        text-align: right;\n",
       "    }\n",
       "</style>\n",
       "<table border=\"1\" class=\"dataframe\">\n",
       "  <thead>\n",
       "    <tr style=\"text-align: right;\">\n",
       "      <th></th>\n",
       "      <th>Country</th>\n",
       "      <th>Job Count</th>\n",
       "    </tr>\n",
       "    <tr>\n",
       "      <th>COUNTRY</th>\n",
       "      <th></th>\n",
       "      <th></th>\n",
       "    </tr>\n",
       "  </thead>\n",
       "  <tbody>\n",
       "    <tr>\n",
       "      <td>AE</td>\n",
       "      <td>AE</td>\n",
       "      <td>54</td>\n",
       "    </tr>\n",
       "    <tr>\n",
       "      <td>AL</td>\n",
       "      <td>AL</td>\n",
       "      <td>1</td>\n",
       "    </tr>\n",
       "    <tr>\n",
       "      <td>AM</td>\n",
       "      <td>AM</td>\n",
       "      <td>2</td>\n",
       "    </tr>\n",
       "    <tr>\n",
       "      <td>AR</td>\n",
       "      <td>AR</td>\n",
       "      <td>9</td>\n",
       "    </tr>\n",
       "    <tr>\n",
       "      <td>AT</td>\n",
       "      <td>AT</td>\n",
       "      <td>14</td>\n",
       "    </tr>\n",
       "    <tr>\n",
       "      <td>...</td>\n",
       "      <td>...</td>\n",
       "      <td>...</td>\n",
       "    </tr>\n",
       "    <tr>\n",
       "      <td>US</td>\n",
       "      <td>US</td>\n",
       "      <td>10656</td>\n",
       "    </tr>\n",
       "    <tr>\n",
       "      <td>VI</td>\n",
       "      <td>VI</td>\n",
       "      <td>3</td>\n",
       "    </tr>\n",
       "    <tr>\n",
       "      <td>VN</td>\n",
       "      <td>VN</td>\n",
       "      <td>4</td>\n",
       "    </tr>\n",
       "    <tr>\n",
       "      <td>ZA</td>\n",
       "      <td>ZA</td>\n",
       "      <td>40</td>\n",
       "    </tr>\n",
       "    <tr>\n",
       "      <td>ZM</td>\n",
       "      <td>ZM</td>\n",
       "      <td>2</td>\n",
       "    </tr>\n",
       "  </tbody>\n",
       "</table>\n",
       "<p>90 rows × 2 columns</p>\n",
       "</div>"
      ],
      "text/plain": [
       "        Country  Job Count\n",
       "COUNTRY                   \n",
       "AE           AE         54\n",
       "AL           AL          1\n",
       "AM           AM          2\n",
       "AR           AR          9\n",
       "AT           AT         14\n",
       "...         ...        ...\n",
       "US           US      10656\n",
       "VI           VI          3\n",
       "VN           VN          4\n",
       "ZA           ZA         40\n",
       "ZM           ZM          2\n",
       "\n",
       "[90 rows x 2 columns]"
      ]
     },
     "execution_count": 55,
     "metadata": {},
     "output_type": "execute_result"
    }
   ],
   "source": [
    "country_job_df"
   ]
  },
  {
   "cell_type": "code",
   "execution_count": 56,
   "metadata": {},
   "outputs": [],
   "source": [
    "countries.get('us')\n",
    "three_letters_list = []\n",
    "country_name = []\n",
    "for i in country_job_df['Country']:\n",
    "    three_letters_list.append(countries.get(i)[2])\n",
    "    country_name.append(countries.get(i)[0])\n",
    "    \n"
   ]
  },
  {
   "cell_type": "code",
   "execution_count": 57,
   "metadata": {
    "scrolled": true
   },
   "outputs": [
    {
     "data": {
      "text/html": [
       "<div>\n",
       "<style scoped>\n",
       "    .dataframe tbody tr th:only-of-type {\n",
       "        vertical-align: middle;\n",
       "    }\n",
       "\n",
       "    .dataframe tbody tr th {\n",
       "        vertical-align: top;\n",
       "    }\n",
       "\n",
       "    .dataframe thead th {\n",
       "        text-align: right;\n",
       "    }\n",
       "</style>\n",
       "<table border=\"1\" class=\"dataframe\">\n",
       "  <thead>\n",
       "    <tr style=\"text-align: right;\">\n",
       "      <th></th>\n",
       "      <th>Country</th>\n",
       "      <th>Job Count</th>\n",
       "      <th>three letter country</th>\n",
       "      <th>country name</th>\n",
       "    </tr>\n",
       "    <tr>\n",
       "      <th>COUNTRY</th>\n",
       "      <th></th>\n",
       "      <th></th>\n",
       "      <th></th>\n",
       "      <th></th>\n",
       "    </tr>\n",
       "  </thead>\n",
       "  <tbody>\n",
       "    <tr>\n",
       "      <td>AE</td>\n",
       "      <td>AE</td>\n",
       "      <td>54</td>\n",
       "      <td>ARE</td>\n",
       "      <td>United Arab Emirates</td>\n",
       "    </tr>\n",
       "    <tr>\n",
       "      <td>AL</td>\n",
       "      <td>AL</td>\n",
       "      <td>1</td>\n",
       "      <td>ALB</td>\n",
       "      <td>Albania</td>\n",
       "    </tr>\n",
       "    <tr>\n",
       "      <td>AM</td>\n",
       "      <td>AM</td>\n",
       "      <td>2</td>\n",
       "      <td>ARM</td>\n",
       "      <td>Armenia</td>\n",
       "    </tr>\n",
       "    <tr>\n",
       "      <td>AR</td>\n",
       "      <td>AR</td>\n",
       "      <td>9</td>\n",
       "      <td>ARG</td>\n",
       "      <td>Argentina</td>\n",
       "    </tr>\n",
       "    <tr>\n",
       "      <td>AT</td>\n",
       "      <td>AT</td>\n",
       "      <td>14</td>\n",
       "      <td>AUT</td>\n",
       "      <td>Austria</td>\n",
       "    </tr>\n",
       "    <tr>\n",
       "      <td>...</td>\n",
       "      <td>...</td>\n",
       "      <td>...</td>\n",
       "      <td>...</td>\n",
       "      <td>...</td>\n",
       "    </tr>\n",
       "    <tr>\n",
       "      <td>US</td>\n",
       "      <td>US</td>\n",
       "      <td>10656</td>\n",
       "      <td>USA</td>\n",
       "      <td>United States of America</td>\n",
       "    </tr>\n",
       "    <tr>\n",
       "      <td>VI</td>\n",
       "      <td>VI</td>\n",
       "      <td>3</td>\n",
       "      <td>VIR</td>\n",
       "      <td>Virgin Islands, U.S.</td>\n",
       "    </tr>\n",
       "    <tr>\n",
       "      <td>VN</td>\n",
       "      <td>VN</td>\n",
       "      <td>4</td>\n",
       "      <td>VNM</td>\n",
       "      <td>Viet Nam</td>\n",
       "    </tr>\n",
       "    <tr>\n",
       "      <td>ZA</td>\n",
       "      <td>ZA</td>\n",
       "      <td>40</td>\n",
       "      <td>ZAF</td>\n",
       "      <td>South Africa</td>\n",
       "    </tr>\n",
       "    <tr>\n",
       "      <td>ZM</td>\n",
       "      <td>ZM</td>\n",
       "      <td>2</td>\n",
       "      <td>ZMB</td>\n",
       "      <td>Zambia</td>\n",
       "    </tr>\n",
       "  </tbody>\n",
       "</table>\n",
       "<p>90 rows × 4 columns</p>\n",
       "</div>"
      ],
      "text/plain": [
       "        Country  Job Count three letter country              country name\n",
       "COUNTRY                                                                  \n",
       "AE           AE         54                  ARE      United Arab Emirates\n",
       "AL           AL          1                  ALB                   Albania\n",
       "AM           AM          2                  ARM                   Armenia\n",
       "AR           AR          9                  ARG                 Argentina\n",
       "AT           AT         14                  AUT                   Austria\n",
       "...         ...        ...                  ...                       ...\n",
       "US           US      10656                  USA  United States of America\n",
       "VI           VI          3                  VIR      Virgin Islands, U.S.\n",
       "VN           VN          4                  VNM                  Viet Nam\n",
       "ZA           ZA         40                  ZAF              South Africa\n",
       "ZM           ZM          2                  ZMB                    Zambia\n",
       "\n",
       "[90 rows x 4 columns]"
      ]
     },
     "execution_count": 57,
     "metadata": {},
     "output_type": "execute_result"
    }
   ],
   "source": [
    "country_job_df[\"three letter country\"] = three_letters_list\n",
    "country_job_df[\"country name\"] = country_name\n",
    "country_job_df"
   ]
  },
  {
   "cell_type": "code",
   "execution_count": 59,
   "metadata": {},
   "outputs": [
    {
     "data": {
      "application/vnd.plotly.v1+json": {
       "config": {
        "plotlyServerURL": "https://plot.ly"
       },
       "data": [
        {
         "coloraxis": "coloraxis",
         "geo": "geo",
         "hoverlabel": {
          "namelength": 0
         },
         "hovertemplate": "<b>%{hovertext}</b><br><br>three letter country=%{location}<br>Job Count=%{z}",
         "hovertext": [
          "United Arab Emirates",
          "Albania",
          "Armenia",
          "Argentina",
          "Austria",
          "Australia",
          "Bangladesh",
          "Belgium",
          "Bulgaria",
          "Bahrain",
          "Brazil",
          "Belarus",
          "Canada",
          "Switzerland",
          "Chile",
          "Cameroon",
          "China",
          "Colombia",
          "Cyprus",
          "Czechia",
          "Germany",
          "Denmark",
          "Estonia",
          "Egypt",
          "Spain",
          "Finland",
          "France",
          "United Kingdom of Great Britain and Northern Ireland",
          "Ghana",
          "Greece",
          "Hong Kong",
          "Croatia",
          "Hungary",
          "Indonesia",
          "Ireland",
          "Israel",
          "India",
          "Iraq",
          "Iceland",
          "Italy",
          "Jamaica",
          "Japan",
          "Kenya",
          "Cambodia",
          "Korea, Republic of",
          "Kuwait",
          "Kazakhstan",
          "Sri Lanka",
          "Lithuania",
          "Luxembourg",
          "Latvia",
          "Morocco",
          "Malta",
          "Mauritius",
          "Mexico",
          "Malaysia",
          "Nigeria",
          "Nicaragua",
          "Netherlands",
          "Norway",
          "New Zealand",
          "Panama",
          "Peru",
          "Philippines",
          "Pakistan",
          "Poland",
          "Portugal",
          "Qatar",
          "Romania",
          "Serbia",
          "Russian Federation",
          "Saudi Arabia",
          "Sudan",
          "Sweden",
          "Singapore",
          "Slovenia",
          "Slovakia",
          "El Salvador",
          "Thailand",
          "Tunisia",
          "Turkey",
          "Trinidad and Tobago",
          "Taiwan, Province of China",
          "Ukraine",
          "Uganda",
          "United States of America",
          "Virgin Islands, U.S.",
          "Viet Nam",
          "South Africa",
          "Zambia"
         ],
         "locations": [
          "ARE",
          "ALB",
          "ARM",
          "ARG",
          "AUT",
          "AUS",
          "BGD",
          "BEL",
          "BGR",
          "BHR",
          "BRA",
          "BLR",
          "CAN",
          "CHE",
          "CHL",
          "CMR",
          "CHN",
          "COL",
          "CYP",
          "CZE",
          "DEU",
          "DNK",
          "EST",
          "EGY",
          "ESP",
          "FIN",
          "FRA",
          "GBR",
          "GHA",
          "GRC",
          "HKG",
          "HRV",
          "HUN",
          "IDN",
          "IRL",
          "ISR",
          "IND",
          "IRQ",
          "ISL",
          "ITA",
          "JAM",
          "JPN",
          "KEN",
          "KHM",
          "KOR",
          "KWT",
          "KAZ",
          "LKA",
          "LTU",
          "LUX",
          "LVA",
          "MAR",
          "MLT",
          "MUS",
          "MEX",
          "MYS",
          "NGA",
          "NIC",
          "NLD",
          "NOR",
          "NZL",
          "PAN",
          "PER",
          "PHL",
          "PAK",
          "POL",
          "PRT",
          "QAT",
          "ROU",
          "SRB",
          "RUS",
          "SAU",
          "SDN",
          "SWE",
          "SGP",
          "SVN",
          "SVK",
          "SLV",
          "THA",
          "TUN",
          "TUR",
          "TTO",
          "TWN",
          "UKR",
          "UGA",
          "USA",
          "VIR",
          "VNM",
          "ZAF",
          "ZMB"
         ],
         "name": "",
         "type": "choropleth",
         "z": [
          54,
          1,
          2,
          9,
          14,
          214,
          2,
          117,
          17,
          9,
          36,
          9,
          457,
          15,
          2,
          1,
          15,
          1,
          11,
          6,
          383,
          42,
          72,
          52,
          66,
          29,
          70,
          2384,
          1,
          940,
          77,
          1,
          14,
          13,
          114,
          72,
          276,
          10,
          2,
          31,
          1,
          20,
          7,
          1,
          10,
          2,
          1,
          2,
          23,
          9,
          6,
          1,
          13,
          14,
          18,
          21,
          10,
          4,
          127,
          8,
          333,
          9,
          1,
          132,
          27,
          76,
          18,
          21,
          46,
          7,
          20,
          15,
          1,
          49,
          80,
          1,
          2,
          1,
          10,
          2,
          17,
          4,
          4,
          13,
          1,
          10656,
          3,
          4,
          40,
          2
         ]
        }
       ],
       "layout": {
        "coloraxis": {
         "colorbar": {
          "title": {
           "text": "Job Count"
          }
         },
         "colorscale": [
          [
           0,
           "#0d0887"
          ],
          [
           0.1111111111111111,
           "#46039f"
          ],
          [
           0.2222222222222222,
           "#7201a8"
          ],
          [
           0.3333333333333333,
           "#9c179e"
          ],
          [
           0.4444444444444444,
           "#bd3786"
          ],
          [
           0.5555555555555556,
           "#d8576b"
          ],
          [
           0.6666666666666666,
           "#ed7953"
          ],
          [
           0.7777777777777778,
           "#fb9f3a"
          ],
          [
           0.8888888888888888,
           "#fdca26"
          ],
          [
           1,
           "#f0f921"
          ]
         ]
        },
        "geo": {
         "center": {},
         "domain": {
          "x": [
           0,
           1
          ],
          "y": [
           0,
           1
          ]
         }
        },
        "legend": {
         "tracegroupgap": 0
        },
        "margin": {
         "t": 60
        },
        "template": {
         "data": {
          "bar": [
           {
            "error_x": {
             "color": "#2a3f5f"
            },
            "error_y": {
             "color": "#2a3f5f"
            },
            "marker": {
             "line": {
              "color": "#E5ECF6",
              "width": 0.5
             }
            },
            "type": "bar"
           }
          ],
          "barpolar": [
           {
            "marker": {
             "line": {
              "color": "#E5ECF6",
              "width": 0.5
             }
            },
            "type": "barpolar"
           }
          ],
          "carpet": [
           {
            "aaxis": {
             "endlinecolor": "#2a3f5f",
             "gridcolor": "white",
             "linecolor": "white",
             "minorgridcolor": "white",
             "startlinecolor": "#2a3f5f"
            },
            "baxis": {
             "endlinecolor": "#2a3f5f",
             "gridcolor": "white",
             "linecolor": "white",
             "minorgridcolor": "white",
             "startlinecolor": "#2a3f5f"
            },
            "type": "carpet"
           }
          ],
          "choropleth": [
           {
            "colorbar": {
             "outlinewidth": 0,
             "ticks": ""
            },
            "type": "choropleth"
           }
          ],
          "contour": [
           {
            "colorbar": {
             "outlinewidth": 0,
             "ticks": ""
            },
            "colorscale": [
             [
              0,
              "#0d0887"
             ],
             [
              0.1111111111111111,
              "#46039f"
             ],
             [
              0.2222222222222222,
              "#7201a8"
             ],
             [
              0.3333333333333333,
              "#9c179e"
             ],
             [
              0.4444444444444444,
              "#bd3786"
             ],
             [
              0.5555555555555556,
              "#d8576b"
             ],
             [
              0.6666666666666666,
              "#ed7953"
             ],
             [
              0.7777777777777778,
              "#fb9f3a"
             ],
             [
              0.8888888888888888,
              "#fdca26"
             ],
             [
              1,
              "#f0f921"
             ]
            ],
            "type": "contour"
           }
          ],
          "contourcarpet": [
           {
            "colorbar": {
             "outlinewidth": 0,
             "ticks": ""
            },
            "type": "contourcarpet"
           }
          ],
          "heatmap": [
           {
            "colorbar": {
             "outlinewidth": 0,
             "ticks": ""
            },
            "colorscale": [
             [
              0,
              "#0d0887"
             ],
             [
              0.1111111111111111,
              "#46039f"
             ],
             [
              0.2222222222222222,
              "#7201a8"
             ],
             [
              0.3333333333333333,
              "#9c179e"
             ],
             [
              0.4444444444444444,
              "#bd3786"
             ],
             [
              0.5555555555555556,
              "#d8576b"
             ],
             [
              0.6666666666666666,
              "#ed7953"
             ],
             [
              0.7777777777777778,
              "#fb9f3a"
             ],
             [
              0.8888888888888888,
              "#fdca26"
             ],
             [
              1,
              "#f0f921"
             ]
            ],
            "type": "heatmap"
           }
          ],
          "heatmapgl": [
           {
            "colorbar": {
             "outlinewidth": 0,
             "ticks": ""
            },
            "colorscale": [
             [
              0,
              "#0d0887"
             ],
             [
              0.1111111111111111,
              "#46039f"
             ],
             [
              0.2222222222222222,
              "#7201a8"
             ],
             [
              0.3333333333333333,
              "#9c179e"
             ],
             [
              0.4444444444444444,
              "#bd3786"
             ],
             [
              0.5555555555555556,
              "#d8576b"
             ],
             [
              0.6666666666666666,
              "#ed7953"
             ],
             [
              0.7777777777777778,
              "#fb9f3a"
             ],
             [
              0.8888888888888888,
              "#fdca26"
             ],
             [
              1,
              "#f0f921"
             ]
            ],
            "type": "heatmapgl"
           }
          ],
          "histogram": [
           {
            "marker": {
             "colorbar": {
              "outlinewidth": 0,
              "ticks": ""
             }
            },
            "type": "histogram"
           }
          ],
          "histogram2d": [
           {
            "colorbar": {
             "outlinewidth": 0,
             "ticks": ""
            },
            "colorscale": [
             [
              0,
              "#0d0887"
             ],
             [
              0.1111111111111111,
              "#46039f"
             ],
             [
              0.2222222222222222,
              "#7201a8"
             ],
             [
              0.3333333333333333,
              "#9c179e"
             ],
             [
              0.4444444444444444,
              "#bd3786"
             ],
             [
              0.5555555555555556,
              "#d8576b"
             ],
             [
              0.6666666666666666,
              "#ed7953"
             ],
             [
              0.7777777777777778,
              "#fb9f3a"
             ],
             [
              0.8888888888888888,
              "#fdca26"
             ],
             [
              1,
              "#f0f921"
             ]
            ],
            "type": "histogram2d"
           }
          ],
          "histogram2dcontour": [
           {
            "colorbar": {
             "outlinewidth": 0,
             "ticks": ""
            },
            "colorscale": [
             [
              0,
              "#0d0887"
             ],
             [
              0.1111111111111111,
              "#46039f"
             ],
             [
              0.2222222222222222,
              "#7201a8"
             ],
             [
              0.3333333333333333,
              "#9c179e"
             ],
             [
              0.4444444444444444,
              "#bd3786"
             ],
             [
              0.5555555555555556,
              "#d8576b"
             ],
             [
              0.6666666666666666,
              "#ed7953"
             ],
             [
              0.7777777777777778,
              "#fb9f3a"
             ],
             [
              0.8888888888888888,
              "#fdca26"
             ],
             [
              1,
              "#f0f921"
             ]
            ],
            "type": "histogram2dcontour"
           }
          ],
          "mesh3d": [
           {
            "colorbar": {
             "outlinewidth": 0,
             "ticks": ""
            },
            "type": "mesh3d"
           }
          ],
          "parcoords": [
           {
            "line": {
             "colorbar": {
              "outlinewidth": 0,
              "ticks": ""
             }
            },
            "type": "parcoords"
           }
          ],
          "pie": [
           {
            "automargin": true,
            "type": "pie"
           }
          ],
          "scatter": [
           {
            "marker": {
             "colorbar": {
              "outlinewidth": 0,
              "ticks": ""
             }
            },
            "type": "scatter"
           }
          ],
          "scatter3d": [
           {
            "line": {
             "colorbar": {
              "outlinewidth": 0,
              "ticks": ""
             }
            },
            "marker": {
             "colorbar": {
              "outlinewidth": 0,
              "ticks": ""
             }
            },
            "type": "scatter3d"
           }
          ],
          "scattercarpet": [
           {
            "marker": {
             "colorbar": {
              "outlinewidth": 0,
              "ticks": ""
             }
            },
            "type": "scattercarpet"
           }
          ],
          "scattergeo": [
           {
            "marker": {
             "colorbar": {
              "outlinewidth": 0,
              "ticks": ""
             }
            },
            "type": "scattergeo"
           }
          ],
          "scattergl": [
           {
            "marker": {
             "colorbar": {
              "outlinewidth": 0,
              "ticks": ""
             }
            },
            "type": "scattergl"
           }
          ],
          "scattermapbox": [
           {
            "marker": {
             "colorbar": {
              "outlinewidth": 0,
              "ticks": ""
             }
            },
            "type": "scattermapbox"
           }
          ],
          "scatterpolar": [
           {
            "marker": {
             "colorbar": {
              "outlinewidth": 0,
              "ticks": ""
             }
            },
            "type": "scatterpolar"
           }
          ],
          "scatterpolargl": [
           {
            "marker": {
             "colorbar": {
              "outlinewidth": 0,
              "ticks": ""
             }
            },
            "type": "scatterpolargl"
           }
          ],
          "scatterternary": [
           {
            "marker": {
             "colorbar": {
              "outlinewidth": 0,
              "ticks": ""
             }
            },
            "type": "scatterternary"
           }
          ],
          "surface": [
           {
            "colorbar": {
             "outlinewidth": 0,
             "ticks": ""
            },
            "colorscale": [
             [
              0,
              "#0d0887"
             ],
             [
              0.1111111111111111,
              "#46039f"
             ],
             [
              0.2222222222222222,
              "#7201a8"
             ],
             [
              0.3333333333333333,
              "#9c179e"
             ],
             [
              0.4444444444444444,
              "#bd3786"
             ],
             [
              0.5555555555555556,
              "#d8576b"
             ],
             [
              0.6666666666666666,
              "#ed7953"
             ],
             [
              0.7777777777777778,
              "#fb9f3a"
             ],
             [
              0.8888888888888888,
              "#fdca26"
             ],
             [
              1,
              "#f0f921"
             ]
            ],
            "type": "surface"
           }
          ],
          "table": [
           {
            "cells": {
             "fill": {
              "color": "#EBF0F8"
             },
             "line": {
              "color": "white"
             }
            },
            "header": {
             "fill": {
              "color": "#C8D4E3"
             },
             "line": {
              "color": "white"
             }
            },
            "type": "table"
           }
          ]
         },
         "layout": {
          "annotationdefaults": {
           "arrowcolor": "#2a3f5f",
           "arrowhead": 0,
           "arrowwidth": 1
          },
          "coloraxis": {
           "colorbar": {
            "outlinewidth": 0,
            "ticks": ""
           }
          },
          "colorscale": {
           "diverging": [
            [
             0,
             "#8e0152"
            ],
            [
             0.1,
             "#c51b7d"
            ],
            [
             0.2,
             "#de77ae"
            ],
            [
             0.3,
             "#f1b6da"
            ],
            [
             0.4,
             "#fde0ef"
            ],
            [
             0.5,
             "#f7f7f7"
            ],
            [
             0.6,
             "#e6f5d0"
            ],
            [
             0.7,
             "#b8e186"
            ],
            [
             0.8,
             "#7fbc41"
            ],
            [
             0.9,
             "#4d9221"
            ],
            [
             1,
             "#276419"
            ]
           ],
           "sequential": [
            [
             0,
             "#0d0887"
            ],
            [
             0.1111111111111111,
             "#46039f"
            ],
            [
             0.2222222222222222,
             "#7201a8"
            ],
            [
             0.3333333333333333,
             "#9c179e"
            ],
            [
             0.4444444444444444,
             "#bd3786"
            ],
            [
             0.5555555555555556,
             "#d8576b"
            ],
            [
             0.6666666666666666,
             "#ed7953"
            ],
            [
             0.7777777777777778,
             "#fb9f3a"
            ],
            [
             0.8888888888888888,
             "#fdca26"
            ],
            [
             1,
             "#f0f921"
            ]
           ],
           "sequentialminus": [
            [
             0,
             "#0d0887"
            ],
            [
             0.1111111111111111,
             "#46039f"
            ],
            [
             0.2222222222222222,
             "#7201a8"
            ],
            [
             0.3333333333333333,
             "#9c179e"
            ],
            [
             0.4444444444444444,
             "#bd3786"
            ],
            [
             0.5555555555555556,
             "#d8576b"
            ],
            [
             0.6666666666666666,
             "#ed7953"
            ],
            [
             0.7777777777777778,
             "#fb9f3a"
            ],
            [
             0.8888888888888888,
             "#fdca26"
            ],
            [
             1,
             "#f0f921"
            ]
           ]
          },
          "colorway": [
           "#636efa",
           "#EF553B",
           "#00cc96",
           "#ab63fa",
           "#FFA15A",
           "#19d3f3",
           "#FF6692",
           "#B6E880",
           "#FF97FF",
           "#FECB52"
          ],
          "font": {
           "color": "#2a3f5f"
          },
          "geo": {
           "bgcolor": "white",
           "lakecolor": "white",
           "landcolor": "#E5ECF6",
           "showlakes": true,
           "showland": true,
           "subunitcolor": "white"
          },
          "hoverlabel": {
           "align": "left"
          },
          "hovermode": "closest",
          "mapbox": {
           "style": "light"
          },
          "paper_bgcolor": "white",
          "plot_bgcolor": "#E5ECF6",
          "polar": {
           "angularaxis": {
            "gridcolor": "white",
            "linecolor": "white",
            "ticks": ""
           },
           "bgcolor": "#E5ECF6",
           "radialaxis": {
            "gridcolor": "white",
            "linecolor": "white",
            "ticks": ""
           }
          },
          "scene": {
           "xaxis": {
            "backgroundcolor": "#E5ECF6",
            "gridcolor": "white",
            "gridwidth": 2,
            "linecolor": "white",
            "showbackground": true,
            "ticks": "",
            "zerolinecolor": "white"
           },
           "yaxis": {
            "backgroundcolor": "#E5ECF6",
            "gridcolor": "white",
            "gridwidth": 2,
            "linecolor": "white",
            "showbackground": true,
            "ticks": "",
            "zerolinecolor": "white"
           },
           "zaxis": {
            "backgroundcolor": "#E5ECF6",
            "gridcolor": "white",
            "gridwidth": 2,
            "linecolor": "white",
            "showbackground": true,
            "ticks": "",
            "zerolinecolor": "white"
           }
          },
          "shapedefaults": {
           "line": {
            "color": "#2a3f5f"
           }
          },
          "ternary": {
           "aaxis": {
            "gridcolor": "white",
            "linecolor": "white",
            "ticks": ""
           },
           "baxis": {
            "gridcolor": "white",
            "linecolor": "white",
            "ticks": ""
           },
           "bgcolor": "#E5ECF6",
           "caxis": {
            "gridcolor": "white",
            "linecolor": "white",
            "ticks": ""
           }
          },
          "title": {
           "x": 0.05
          },
          "xaxis": {
           "automargin": true,
           "gridcolor": "white",
           "linecolor": "white",
           "ticks": "",
           "title": {
            "standoff": 15
           },
           "zerolinecolor": "white",
           "zerolinewidth": 2
          },
          "yaxis": {
           "automargin": true,
           "gridcolor": "white",
           "linecolor": "white",
           "ticks": "",
           "title": {
            "standoff": 15
           },
           "zerolinecolor": "white",
           "zerolinewidth": 2
          }
         }
        }
       }
      },
      "text/html": [
       "<div>\n",
       "        \n",
       "        \n",
       "            <div id=\"ee24d92b-325e-42df-b0c8-9600e401089e\" class=\"plotly-graph-div\" style=\"height:525px; width:100%;\"></div>\n",
       "            <script type=\"text/javascript\">\n",
       "                require([\"plotly\"], function(Plotly) {\n",
       "                    window.PLOTLYENV=window.PLOTLYENV || {};\n",
       "                    \n",
       "                if (document.getElementById(\"ee24d92b-325e-42df-b0c8-9600e401089e\")) {\n",
       "                    Plotly.newPlot(\n",
       "                        'ee24d92b-325e-42df-b0c8-9600e401089e',\n",
       "                        [{\"coloraxis\": \"coloraxis\", \"geo\": \"geo\", \"hoverlabel\": {\"namelength\": 0}, \"hovertemplate\": \"<b>%{hovertext}</b><br><br>three letter country=%{location}<br>Job Count=%{z}\", \"hovertext\": [\"United Arab Emirates\", \"Albania\", \"Armenia\", \"Argentina\", \"Austria\", \"Australia\", \"Bangladesh\", \"Belgium\", \"Bulgaria\", \"Bahrain\", \"Brazil\", \"Belarus\", \"Canada\", \"Switzerland\", \"Chile\", \"Cameroon\", \"China\", \"Colombia\", \"Cyprus\", \"Czechia\", \"Germany\", \"Denmark\", \"Estonia\", \"Egypt\", \"Spain\", \"Finland\", \"France\", \"United Kingdom of Great Britain and Northern Ireland\", \"Ghana\", \"Greece\", \"Hong Kong\", \"Croatia\", \"Hungary\", \"Indonesia\", \"Ireland\", \"Israel\", \"India\", \"Iraq\", \"Iceland\", \"Italy\", \"Jamaica\", \"Japan\", \"Kenya\", \"Cambodia\", \"Korea, Republic of\", \"Kuwait\", \"Kazakhstan\", \"Sri Lanka\", \"Lithuania\", \"Luxembourg\", \"Latvia\", \"Morocco\", \"Malta\", \"Mauritius\", \"Mexico\", \"Malaysia\", \"Nigeria\", \"Nicaragua\", \"Netherlands\", \"Norway\", \"New Zealand\", \"Panama\", \"Peru\", \"Philippines\", \"Pakistan\", \"Poland\", \"Portugal\", \"Qatar\", \"Romania\", \"Serbia\", \"Russian Federation\", \"Saudi Arabia\", \"Sudan\", \"Sweden\", \"Singapore\", \"Slovenia\", \"Slovakia\", \"El Salvador\", \"Thailand\", \"Tunisia\", \"Turkey\", \"Trinidad and Tobago\", \"Taiwan, Province of China\", \"Ukraine\", \"Uganda\", \"United States of America\", \"Virgin Islands, U.S.\", \"Viet Nam\", \"South Africa\", \"Zambia\"], \"locations\": [\"ARE\", \"ALB\", \"ARM\", \"ARG\", \"AUT\", \"AUS\", \"BGD\", \"BEL\", \"BGR\", \"BHR\", \"BRA\", \"BLR\", \"CAN\", \"CHE\", \"CHL\", \"CMR\", \"CHN\", \"COL\", \"CYP\", \"CZE\", \"DEU\", \"DNK\", \"EST\", \"EGY\", \"ESP\", \"FIN\", \"FRA\", \"GBR\", \"GHA\", \"GRC\", \"HKG\", \"HRV\", \"HUN\", \"IDN\", \"IRL\", \"ISR\", \"IND\", \"IRQ\", \"ISL\", \"ITA\", \"JAM\", \"JPN\", \"KEN\", \"KHM\", \"KOR\", \"KWT\", \"KAZ\", \"LKA\", \"LTU\", \"LUX\", \"LVA\", \"MAR\", \"MLT\", \"MUS\", \"MEX\", \"MYS\", \"NGA\", \"NIC\", \"NLD\", \"NOR\", \"NZL\", \"PAN\", \"PER\", \"PHL\", \"PAK\", \"POL\", \"PRT\", \"QAT\", \"ROU\", \"SRB\", \"RUS\", \"SAU\", \"SDN\", \"SWE\", \"SGP\", \"SVN\", \"SVK\", \"SLV\", \"THA\", \"TUN\", \"TUR\", \"TTO\", \"TWN\", \"UKR\", \"UGA\", \"USA\", \"VIR\", \"VNM\", \"ZAF\", \"ZMB\"], \"name\": \"\", \"type\": \"choropleth\", \"z\": [54, 1, 2, 9, 14, 214, 2, 117, 17, 9, 36, 9, 457, 15, 2, 1, 15, 1, 11, 6, 383, 42, 72, 52, 66, 29, 70, 2384, 1, 940, 77, 1, 14, 13, 114, 72, 276, 10, 2, 31, 1, 20, 7, 1, 10, 2, 1, 2, 23, 9, 6, 1, 13, 14, 18, 21, 10, 4, 127, 8, 333, 9, 1, 132, 27, 76, 18, 21, 46, 7, 20, 15, 1, 49, 80, 1, 2, 1, 10, 2, 17, 4, 4, 13, 1, 10656, 3, 4, 40, 2]}],\n",
       "                        {\"coloraxis\": {\"colorbar\": {\"title\": {\"text\": \"Job Count\"}}, \"colorscale\": [[0.0, \"#0d0887\"], [0.1111111111111111, \"#46039f\"], [0.2222222222222222, \"#7201a8\"], [0.3333333333333333, \"#9c179e\"], [0.4444444444444444, \"#bd3786\"], [0.5555555555555556, \"#d8576b\"], [0.6666666666666666, \"#ed7953\"], [0.7777777777777778, \"#fb9f3a\"], [0.8888888888888888, \"#fdca26\"], [1.0, \"#f0f921\"]]}, \"geo\": {\"center\": {}, \"domain\": {\"x\": [0.0, 1.0], \"y\": [0.0, 1.0]}}, \"legend\": {\"tracegroupgap\": 0}, \"margin\": {\"t\": 60}, \"template\": {\"data\": {\"bar\": [{\"error_x\": {\"color\": \"#2a3f5f\"}, \"error_y\": {\"color\": \"#2a3f5f\"}, \"marker\": {\"line\": {\"color\": \"#E5ECF6\", \"width\": 0.5}}, \"type\": \"bar\"}], \"barpolar\": [{\"marker\": {\"line\": {\"color\": \"#E5ECF6\", \"width\": 0.5}}, \"type\": \"barpolar\"}], \"carpet\": [{\"aaxis\": {\"endlinecolor\": \"#2a3f5f\", \"gridcolor\": \"white\", \"linecolor\": \"white\", \"minorgridcolor\": \"white\", \"startlinecolor\": \"#2a3f5f\"}, \"baxis\": {\"endlinecolor\": \"#2a3f5f\", \"gridcolor\": \"white\", \"linecolor\": \"white\", \"minorgridcolor\": \"white\", \"startlinecolor\": \"#2a3f5f\"}, \"type\": \"carpet\"}], \"choropleth\": [{\"colorbar\": {\"outlinewidth\": 0, \"ticks\": \"\"}, \"type\": \"choropleth\"}], \"contour\": [{\"colorbar\": {\"outlinewidth\": 0, \"ticks\": \"\"}, \"colorscale\": [[0.0, \"#0d0887\"], [0.1111111111111111, \"#46039f\"], [0.2222222222222222, \"#7201a8\"], [0.3333333333333333, \"#9c179e\"], [0.4444444444444444, \"#bd3786\"], [0.5555555555555556, \"#d8576b\"], [0.6666666666666666, \"#ed7953\"], [0.7777777777777778, \"#fb9f3a\"], [0.8888888888888888, \"#fdca26\"], [1.0, \"#f0f921\"]], \"type\": \"contour\"}], \"contourcarpet\": [{\"colorbar\": {\"outlinewidth\": 0, \"ticks\": \"\"}, \"type\": \"contourcarpet\"}], \"heatmap\": [{\"colorbar\": {\"outlinewidth\": 0, \"ticks\": \"\"}, \"colorscale\": [[0.0, \"#0d0887\"], [0.1111111111111111, \"#46039f\"], [0.2222222222222222, \"#7201a8\"], [0.3333333333333333, \"#9c179e\"], [0.4444444444444444, \"#bd3786\"], [0.5555555555555556, \"#d8576b\"], [0.6666666666666666, \"#ed7953\"], [0.7777777777777778, \"#fb9f3a\"], [0.8888888888888888, \"#fdca26\"], [1.0, \"#f0f921\"]], \"type\": \"heatmap\"}], \"heatmapgl\": [{\"colorbar\": {\"outlinewidth\": 0, \"ticks\": \"\"}, \"colorscale\": [[0.0, \"#0d0887\"], [0.1111111111111111, \"#46039f\"], [0.2222222222222222, \"#7201a8\"], [0.3333333333333333, \"#9c179e\"], [0.4444444444444444, \"#bd3786\"], [0.5555555555555556, \"#d8576b\"], [0.6666666666666666, \"#ed7953\"], [0.7777777777777778, \"#fb9f3a\"], [0.8888888888888888, \"#fdca26\"], [1.0, \"#f0f921\"]], \"type\": \"heatmapgl\"}], \"histogram\": [{\"marker\": {\"colorbar\": {\"outlinewidth\": 0, \"ticks\": \"\"}}, \"type\": \"histogram\"}], \"histogram2d\": [{\"colorbar\": {\"outlinewidth\": 0, \"ticks\": \"\"}, \"colorscale\": [[0.0, \"#0d0887\"], [0.1111111111111111, \"#46039f\"], [0.2222222222222222, \"#7201a8\"], [0.3333333333333333, \"#9c179e\"], [0.4444444444444444, \"#bd3786\"], [0.5555555555555556, \"#d8576b\"], [0.6666666666666666, \"#ed7953\"], [0.7777777777777778, \"#fb9f3a\"], [0.8888888888888888, \"#fdca26\"], [1.0, \"#f0f921\"]], \"type\": \"histogram2d\"}], \"histogram2dcontour\": [{\"colorbar\": {\"outlinewidth\": 0, \"ticks\": \"\"}, \"colorscale\": [[0.0, \"#0d0887\"], [0.1111111111111111, \"#46039f\"], [0.2222222222222222, \"#7201a8\"], [0.3333333333333333, \"#9c179e\"], [0.4444444444444444, \"#bd3786\"], [0.5555555555555556, \"#d8576b\"], [0.6666666666666666, \"#ed7953\"], [0.7777777777777778, \"#fb9f3a\"], [0.8888888888888888, \"#fdca26\"], [1.0, \"#f0f921\"]], \"type\": \"histogram2dcontour\"}], \"mesh3d\": [{\"colorbar\": {\"outlinewidth\": 0, \"ticks\": \"\"}, \"type\": \"mesh3d\"}], \"parcoords\": [{\"line\": {\"colorbar\": {\"outlinewidth\": 0, \"ticks\": \"\"}}, \"type\": \"parcoords\"}], \"pie\": [{\"automargin\": true, \"type\": \"pie\"}], \"scatter\": [{\"marker\": {\"colorbar\": {\"outlinewidth\": 0, \"ticks\": \"\"}}, \"type\": \"scatter\"}], \"scatter3d\": [{\"line\": {\"colorbar\": {\"outlinewidth\": 0, \"ticks\": \"\"}}, \"marker\": {\"colorbar\": {\"outlinewidth\": 0, \"ticks\": \"\"}}, \"type\": \"scatter3d\"}], \"scattercarpet\": [{\"marker\": {\"colorbar\": {\"outlinewidth\": 0, \"ticks\": \"\"}}, \"type\": \"scattercarpet\"}], \"scattergeo\": [{\"marker\": {\"colorbar\": {\"outlinewidth\": 0, \"ticks\": \"\"}}, \"type\": \"scattergeo\"}], \"scattergl\": [{\"marker\": {\"colorbar\": {\"outlinewidth\": 0, \"ticks\": \"\"}}, \"type\": \"scattergl\"}], \"scattermapbox\": [{\"marker\": {\"colorbar\": {\"outlinewidth\": 0, \"ticks\": \"\"}}, \"type\": \"scattermapbox\"}], \"scatterpolar\": [{\"marker\": {\"colorbar\": {\"outlinewidth\": 0, \"ticks\": \"\"}}, \"type\": \"scatterpolar\"}], \"scatterpolargl\": [{\"marker\": {\"colorbar\": {\"outlinewidth\": 0, \"ticks\": \"\"}}, \"type\": \"scatterpolargl\"}], \"scatterternary\": [{\"marker\": {\"colorbar\": {\"outlinewidth\": 0, \"ticks\": \"\"}}, \"type\": \"scatterternary\"}], \"surface\": [{\"colorbar\": {\"outlinewidth\": 0, \"ticks\": \"\"}, \"colorscale\": [[0.0, \"#0d0887\"], [0.1111111111111111, \"#46039f\"], [0.2222222222222222, \"#7201a8\"], [0.3333333333333333, \"#9c179e\"], [0.4444444444444444, \"#bd3786\"], [0.5555555555555556, \"#d8576b\"], [0.6666666666666666, \"#ed7953\"], [0.7777777777777778, \"#fb9f3a\"], [0.8888888888888888, \"#fdca26\"], [1.0, \"#f0f921\"]], \"type\": \"surface\"}], \"table\": [{\"cells\": {\"fill\": {\"color\": \"#EBF0F8\"}, \"line\": {\"color\": \"white\"}}, \"header\": {\"fill\": {\"color\": \"#C8D4E3\"}, \"line\": {\"color\": \"white\"}}, \"type\": \"table\"}]}, \"layout\": {\"annotationdefaults\": {\"arrowcolor\": \"#2a3f5f\", \"arrowhead\": 0, \"arrowwidth\": 1}, \"coloraxis\": {\"colorbar\": {\"outlinewidth\": 0, \"ticks\": \"\"}}, \"colorscale\": {\"diverging\": [[0, \"#8e0152\"], [0.1, \"#c51b7d\"], [0.2, \"#de77ae\"], [0.3, \"#f1b6da\"], [0.4, \"#fde0ef\"], [0.5, \"#f7f7f7\"], [0.6, \"#e6f5d0\"], [0.7, \"#b8e186\"], [0.8, \"#7fbc41\"], [0.9, \"#4d9221\"], [1, \"#276419\"]], \"sequential\": [[0.0, \"#0d0887\"], [0.1111111111111111, \"#46039f\"], [0.2222222222222222, \"#7201a8\"], [0.3333333333333333, \"#9c179e\"], [0.4444444444444444, \"#bd3786\"], [0.5555555555555556, \"#d8576b\"], [0.6666666666666666, \"#ed7953\"], [0.7777777777777778, \"#fb9f3a\"], [0.8888888888888888, \"#fdca26\"], [1.0, \"#f0f921\"]], \"sequentialminus\": [[0.0, \"#0d0887\"], [0.1111111111111111, \"#46039f\"], [0.2222222222222222, \"#7201a8\"], [0.3333333333333333, \"#9c179e\"], [0.4444444444444444, \"#bd3786\"], [0.5555555555555556, \"#d8576b\"], [0.6666666666666666, \"#ed7953\"], [0.7777777777777778, \"#fb9f3a\"], [0.8888888888888888, \"#fdca26\"], [1.0, \"#f0f921\"]]}, \"colorway\": [\"#636efa\", \"#EF553B\", \"#00cc96\", \"#ab63fa\", \"#FFA15A\", \"#19d3f3\", \"#FF6692\", \"#B6E880\", \"#FF97FF\", \"#FECB52\"], \"font\": {\"color\": \"#2a3f5f\"}, \"geo\": {\"bgcolor\": \"white\", \"lakecolor\": \"white\", \"landcolor\": \"#E5ECF6\", \"showlakes\": true, \"showland\": true, \"subunitcolor\": \"white\"}, \"hoverlabel\": {\"align\": \"left\"}, \"hovermode\": \"closest\", \"mapbox\": {\"style\": \"light\"}, \"paper_bgcolor\": \"white\", \"plot_bgcolor\": \"#E5ECF6\", \"polar\": {\"angularaxis\": {\"gridcolor\": \"white\", \"linecolor\": \"white\", \"ticks\": \"\"}, \"bgcolor\": \"#E5ECF6\", \"radialaxis\": {\"gridcolor\": \"white\", \"linecolor\": \"white\", \"ticks\": \"\"}}, \"scene\": {\"xaxis\": {\"backgroundcolor\": \"#E5ECF6\", \"gridcolor\": \"white\", \"gridwidth\": 2, \"linecolor\": \"white\", \"showbackground\": true, \"ticks\": \"\", \"zerolinecolor\": \"white\"}, \"yaxis\": {\"backgroundcolor\": \"#E5ECF6\", \"gridcolor\": \"white\", \"gridwidth\": 2, \"linecolor\": \"white\", \"showbackground\": true, \"ticks\": \"\", \"zerolinecolor\": \"white\"}, \"zaxis\": {\"backgroundcolor\": \"#E5ECF6\", \"gridcolor\": \"white\", \"gridwidth\": 2, \"linecolor\": \"white\", \"showbackground\": true, \"ticks\": \"\", \"zerolinecolor\": \"white\"}}, \"shapedefaults\": {\"line\": {\"color\": \"#2a3f5f\"}}, \"ternary\": {\"aaxis\": {\"gridcolor\": \"white\", \"linecolor\": \"white\", \"ticks\": \"\"}, \"baxis\": {\"gridcolor\": \"white\", \"linecolor\": \"white\", \"ticks\": \"\"}, \"bgcolor\": \"#E5ECF6\", \"caxis\": {\"gridcolor\": \"white\", \"linecolor\": \"white\", \"ticks\": \"\"}}, \"title\": {\"x\": 0.05}, \"xaxis\": {\"automargin\": true, \"gridcolor\": \"white\", \"linecolor\": \"white\", \"ticks\": \"\", \"title\": {\"standoff\": 15}, \"zerolinecolor\": \"white\", \"zerolinewidth\": 2}, \"yaxis\": {\"automargin\": true, \"gridcolor\": \"white\", \"linecolor\": \"white\", \"ticks\": \"\", \"title\": {\"standoff\": 15}, \"zerolinecolor\": \"white\", \"zerolinewidth\": 2}}}},\n",
       "                        {\"responsive\": true}\n",
       "                    ).then(function(){\n",
       "                            \n",
       "var gd = document.getElementById('ee24d92b-325e-42df-b0c8-9600e401089e');\n",
       "var x = new MutationObserver(function (mutations, observer) {{\n",
       "        var display = window.getComputedStyle(gd).display;\n",
       "        if (!display || display === 'none') {{\n",
       "            console.log([gd, 'removed!']);\n",
       "            Plotly.purge(gd);\n",
       "            observer.disconnect();\n",
       "        }}\n",
       "}});\n",
       "\n",
       "// Listen for the removal of the full notebook cells\n",
       "var notebookContainer = gd.closest('#notebook-container');\n",
       "if (notebookContainer) {{\n",
       "    x.observe(notebookContainer, {childList: true});\n",
       "}}\n",
       "\n",
       "// Listen for the clearing of the current output cell\n",
       "var outputEl = gd.closest('.output');\n",
       "if (outputEl) {{\n",
       "    x.observe(outputEl, {childList: true});\n",
       "}}\n",
       "\n",
       "                        })\n",
       "                };\n",
       "                });\n",
       "            </script>\n",
       "        </div>"
      ]
     },
     "metadata": {},
     "output_type": "display_data"
    }
   ],
   "source": [
    "\n",
    "df = px.data.gapminder().query(\"year==2007\")\n",
    "fig = px.choropleth(country_job_df, locations=\"three letter country\",\n",
    "                    color=\"Job Count\", # lifeExp is a column of gapminder\n",
    "                    hover_name=\"country name\", # column to add to hover information\n",
    "                    color_continuous_scale=px.colors.sequential.Plasma)\n",
    "fig.show()"
   ]
  }
 ],
 "metadata": {
  "celltoolbar": "Slideshow",
  "kernelspec": {
   "display_name": "Python 3",
   "language": "python",
   "name": "python3"
  },
  "language_info": {
   "codemirror_mode": {
    "name": "ipython",
    "version": 3
   },
   "file_extension": ".py",
   "mimetype": "text/x-python",
   "name": "python",
   "nbconvert_exporter": "python",
   "pygments_lexer": "ipython3",
   "version": "3.7.4"
  }
 },
 "nbformat": 4,
 "nbformat_minor": 2
}
